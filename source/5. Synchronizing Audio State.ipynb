{
 "cells": [
  {
   "cell_type": "markdown",
   "id": "5ab29fa1",
   "metadata": {},
   "source": [
    "# Synchronizing Audio State\n",
    "\n",
    "\n",
    "## Summary:\n",
    "\n",
    "In this tutorial, we'll see how to synchronize specific properties like\n",
    "an audio signal value, the transport timeline position, the playback state, etc.\n",
    "with the back-end (Python) or link them with other Jupyter widgets.\n",
    "We'll also give an overview of the audio analysis nodes available in ipytone.\n"
   ]
  },
  {
   "cell_type": "code",
   "execution_count": 1,
   "id": "57f98e11",
   "metadata": {},
   "outputs": [],
   "source": [
    "import ipytone\n",
    "import ipywidgets\n",
    "import matplotlib.pyplot as plt"
   ]
  },
  {
   "cell_type": "markdown",
   "id": "1a845b7e",
   "metadata": {},
   "source": [
    "One thing specific to audio signals (and parameters) is that their value may be\n",
    "updated continuously in the front-end (to be correct: still at discrete steps\n",
    "but at a very high rate, i.e., the audio sample rate is often set to 44.1 kHz).\n",
    "\n",
    "This makes challenging the synchronization of those widgets with the back-end\n",
    "(e.g., for handling specific events in Python) or with other elements in the\n",
    "front-end (e.g., widget linking). The common ways to handle events with Jupyter\n",
    "widgets (see Section [Widget\n",
    "Events](https://ipywidgets.readthedocs.io/en/stable/examples/Widget%20Events.html))\n",
    "won't help much here.\n",
    "\n",
    "Fortunately, ipytone provides alternative ways to deal with this issue that are\n",
    "very similar to the `observe()`, `link()` and `jslink()` functions applied to\n",
    "\"classic\" Jupyter widgets."
   ]
  },
  {
   "cell_type": "markdown",
   "id": "afa294fa",
   "metadata": {},
   "source": [
    "## Observing state from Python\n",
    "\n",
    "Very much like the `observe()` method of a Jupyter widget, Ipytone provides a\n",
    "`schedule_observe()` method that can be used for tracking special attributes\n",
    "like\n",
    "\n",
    "- the current value of a `Param`, `Signal`,\n",
    "  `Envelope` or any [analysis node](https://ipytone.readthedocs.io/en/latest/api.html#api-analysis) (see also\n",
    "  Section \"Analysis audio nodes\" of this tutorial)\n",
    "\n",
    "- the current progress and playback state of an `Event`, a\n",
    "  [source](https://ipytone.readthedocs.io/en/latest/api.html#api-source) node or the `Transport`\n",
    "  timeline.\n",
    "  \n",
    "- and more..."
   ]
  },
  {
   "cell_type": "markdown",
   "id": "dd5d66c2",
   "metadata": {},
   "source": [
    "Let's create a `Synth`:"
   ]
  },
  {
   "cell_type": "code",
   "execution_count": 2,
   "id": "6fc2a13f",
   "metadata": {},
   "outputs": [],
   "source": [
    "synth = ipytone.Synth().to_destination()"
   ]
  },
  {
   "cell_type": "markdown",
   "id": "3b83ef2b",
   "metadata": {},
   "source": [
    "For example, we would like to track the current frequency of the synth\n",
    "oscillator, which will depend on the note played.\n",
    "\n",
    "Let's first create a function that will get this value and print it in an output\n",
    "widget:"
   ]
  },
  {
   "cell_type": "code",
   "execution_count": 3,
   "id": "edd67185",
   "metadata": {},
   "outputs": [
    {
     "data": {
      "application/vnd.jupyter.widget-view+json": {
       "model_id": "9ff95e4e3b3b470d99086f13850af674",
       "version_major": 2,
       "version_minor": 0
      },
      "text/plain": [
       "Output()"
      ]
     },
     "execution_count": 3,
     "metadata": {},
     "output_type": "execute_result"
    }
   ],
   "source": [
    "output = ipywidgets.Output()\n",
    "\n",
    "def print_new_value(change):\n",
    "    widget = change[\"owner\"].observed_widget\n",
    "    with output:\n",
    "        print(widget, \" : \", change[\"new\"])\n",
    "\n",
    "output"
   ]
  },
  {
   "cell_type": "markdown",
   "id": "2580a923",
   "metadata": {},
   "source": [
    "We can then register this function on the synth oscillator frequency, using\n",
    "`schedule_observe()`:"
   ]
  },
  {
   "cell_type": "code",
   "execution_count": 4,
   "id": "36943685",
   "metadata": {},
   "outputs": [],
   "source": [
    "synth.oscillator.frequency.schedule_observe(\n",
    "    print_new_value,\n",
    "    update_interval=0.5,\n",
    "    name=\"value\",\n",
    "    transport=False,\n",
    ")"
   ]
  },
  {
   "cell_type": "markdown",
   "id": "952de7c1",
   "metadata": {},
   "source": [
    "> NOte:\n",
    "Unlike the Jupyter widget `observe()` method, `schedule_observe()` can track\n",
    "only one attribute.\n",
    "The `update_interval` option corresponds to the time\n",
    "interval between two consecutive synchronizations of the attribute with the\n",
    "back-end.\n",
    "The `transport` option controls how to schedule the synchronization\n",
    "(either using Tone.js `Transport.schedule_repeat` or using Javascript's\n",
    "`setInterval`). It is recommended to use `transport=True` if you schedule events\n",
    "along the transport timeline (see the Timeline tutorial).\n",
    "\n",
    "\n",
    "Let's trigger a couple of notes. Just after running this cell, you should see\n",
    "the oscillator frequency values printed in the output of the cell further above."
   ]
  },
  {
   "cell_type": "code",
   "execution_count": 5,
   "id": "b896a4bb",
   "metadata": {},
   "outputs": [
    {
     "data": {
      "text/plain": [
       "Synth()"
      ]
     },
     "execution_count": 5,
     "metadata": {},
     "output_type": "execute_result"
    }
   ],
   "source": [
    "synth.trigger_attack_release(\"C3\", 1)\n",
    "synth.trigger_attack_release(\"A3\", 1, time=\"+1\")"
   ]
  },
  {
   "cell_type": "markdown",
   "id": "aaa5782c",
   "metadata": {},
   "source": [
    "Let's also observe the current value of the envelope (with a slightly higher\n",
    "time resolution):"
   ]
  },
  {
   "cell_type": "code",
   "execution_count": 6,
   "id": "b0f88e5c",
   "metadata": {},
   "outputs": [],
   "source": [
    "# set a longer envelope attack\n",
    "synth.envelope.attack = 1"
   ]
  },
  {
   "cell_type": "code",
   "execution_count": 7,
   "id": "f88378e5",
   "metadata": {},
   "outputs": [],
   "source": [
    "synth.envelope.schedule_observe(print_new_value, update_interval=0.1)"
   ]
  },
  {
   "cell_type": "markdown",
   "id": "ed40239d",
   "metadata": {},
   "source": [
    "You should now also see the envelope values printed above when running the cell\n",
    "below:"
   ]
  },
  {
   "cell_type": "code",
   "execution_count": 16,
   "id": "a97c80a7",
   "metadata": {},
   "outputs": [
    {
     "data": {
      "text/plain": [
       "Synth()"
      ]
     },
     "execution_count": 16,
     "metadata": {},
     "output_type": "execute_result"
    }
   ],
   "source": [
    "synth.trigger_attack_release(\"C3\", 2)"
   ]
  },
  {
   "cell_type": "markdown",
   "id": "7a83cdc6",
   "metadata": {},
   "source": [
    "We can stop tracking those attributes with the `schedule_unobserve()` method.\n",
    "This will stop the repeated synchronizations with the back-end."
   ]
  },
  {
   "cell_type": "code",
   "execution_count": 9,
   "id": "cc973006",
   "metadata": {},
   "outputs": [],
   "source": [
    "synth.oscillator.frequency.schedule_unobserve(print_new_value)\n",
    "synth.envelope.schedule_unobserve(print_new_value)"
   ]
  },
  {
   "cell_type": "markdown",
   "id": "1b311326",
   "metadata": {},
   "source": [
    "### Observing both state and time\n",
    "\n",
    "Because the synchronization with the back-end (Python) happens with some latency\n",
    "that is is not known with precision, it might be useful to know exactly at which\n",
    "time the attribute value has been read (either the time of the Tone.js main\n",
    "audio context or the time along the Tone.js Transport timeline). By setting\n",
    "`observe_time=True`, we can get both that time and the attribute value in\n",
    "Python. For example:"
   ]
  },
  {
   "cell_type": "code",
   "execution_count": 14,
   "id": "dfa89838",
   "metadata": {},
   "outputs": [],
   "source": [
    "synth.oscillator.frequency.schedule_observe(\n",
    "    print_new_value,\n",
    "    update_interval=3,\n",
    "    observe_time=True\n",
    ")"
   ]
  },
  {
   "cell_type": "markdown",
   "id": "1f168b20",
   "metadata": {},
   "source": [
    "You should see a `(time, value)` tuple printed in the output below. Note that\n",
    "because the time is never constant, the tuple gets updated and the function is\n",
    "called at every synchronization, regardless of whether or not the value has\n",
    "changed."
   ]
  },
  {
   "cell_type": "code",
   "execution_count": 15,
   "id": "02a67db1",
   "metadata": {},
   "outputs": [
    {
     "data": {
      "application/vnd.jupyter.widget-view+json": {
       "model_id": "9ff95e4e3b3b470d99086f13850af674",
       "version_major": 2,
       "version_minor": 0
      },
      "text/plain": [
       "Output()"
      ]
     },
     "execution_count": 15,
     "metadata": {},
     "output_type": "execute_result"
    }
   ],
   "source": [
    "output.clear_output()\n",
    "output"
   ]
  },
  {
   "cell_type": "code",
   "execution_count": 17,
   "id": "4999658f",
   "metadata": {},
   "outputs": [],
   "source": [
    "synth.oscillator.frequency.schedule_unobserve(print_new_value)"
   ]
  },
  {
   "cell_type": "markdown",
   "id": "29e5ab28",
   "metadata": {},
   "source": [
    "## Linking audio widgets\n",
    "\n",
    "Similarly to `observe()` -> `schedule_observe()`, ipytone provides extra methods\n",
    "for widget linking:\n",
    "\n",
    "- `dlink()` -> `schedule_dlink()`\n",
    "- `jsdlink()` -> `schedule_jsdlink()`\n",
    "\n",
    "> note: There's no such `schedule_link()` or `schedule_jslink()` method,\n",
    "as bi-directional linking doesn't make much sense for audio signals.\n",
    "\n",
    "For example, let's connect the envelope of the synth created above to a\n",
    "`FloatProgress` widget so that we can have a better view on the evolution of the\n",
    "envelope through time. The link below is made only in the front-end (by default\n",
    "synchronizations will happen at a high frequency)."
   ]
  },
  {
   "cell_type": "code",
   "execution_count": 18,
   "id": "e3c2f4ae",
   "metadata": {},
   "outputs": [
    {
     "data": {
      "application/vnd.jupyter.widget-view+json": {
       "model_id": "c68f4d38818b4c63a30fcca1899043bc",
       "version_major": 2,
       "version_minor": 0
      },
      "text/plain": [
       "FloatProgress(value=0.0, max=1.0)"
      ]
     },
     "execution_count": 18,
     "metadata": {},
     "output_type": "execute_result"
    }
   ],
   "source": [
    "progress = ipywidgets.FloatProgress(value=0, min=0, max=1)\n",
    "\n",
    "link = synth.envelope.schedule_jsdlink((progress, \"value\"))\n",
    "\n",
    "progress"
   ]
  },
  {
   "cell_type": "markdown",
   "id": "8c4f15b3",
   "metadata": {},
   "source": [
    "Now let's play a long note:"
   ]
  },
  {
   "cell_type": "code",
   "execution_count": 19,
   "id": "1f375993",
   "metadata": {},
   "outputs": [
    {
     "data": {
      "text/plain": [
       "Synth()"
      ]
     },
     "execution_count": 19,
     "metadata": {},
     "output_type": "execute_result"
    }
   ],
   "source": [
    "synth.trigger_attack_release(\"C3\", 2)"
   ]
  },
  {
   "cell_type": "markdown",
   "id": "ed197946",
   "metadata": {},
   "source": [
    "To unlink the two widgets, use `unlink()` like below. This will stop the\n",
    "repeated attribute synchronizations between the two widgets."
   ]
  },
  {
   "cell_type": "code",
   "execution_count": 16,
   "id": "c97b389a",
   "metadata": {},
   "outputs": [],
   "source": [
    "link.unlink()"
   ]
  },
  {
   "cell_type": "code",
   "execution_count": 21,
   "id": "e14c8277",
   "metadata": {},
   "outputs": [
    {
     "data": {
      "text/plain": [
       "Synth(disposed=True)"
      ]
     },
     "execution_count": 21,
     "metadata": {},
     "output_type": "execute_result"
    }
   ],
   "source": [
    "synth.dispose()"
   ]
  },
  {
   "cell_type": "markdown",
   "id": "e6dba91b",
   "metadata": {},
   "source": [
    "## Analysis audio nodes\n",
    "\n",
    "Ipytone's [audio analysis widgets](api_analysis) are useful for synchronizing\n",
    "audio signals. Any audio node can be connected to those widgets, which can then\n",
    "be used for observing the signal value from Python or linking it with another\n",
    "widget."
   ]
  },
  {
   "cell_type": "markdown",
   "id": "e54caf46",
   "metadata": {},
   "source": [
    "### Analyser\n",
    "\n",
    "`Analyser` is a generic analysis node for getting the current\n",
    "waveform or frequency (FFT) data as a numpy array.\n",
    "\n",
    "The example below plots at a regular interval the current waveform generated by\n",
    "the synthesizer created above."
   ]
  },
  {
   "cell_type": "code",
   "execution_count": 18,
   "id": "73048557",
   "metadata": {},
   "outputs": [
    {
     "data": {
      "application/vnd.jupyter.widget-view+json": {
       "model_id": "5a7a0d3f4e054236a344258368da0025",
       "version_major": 2,
       "version_minor": 0
      },
      "text/plain": [
       "Output(layout=Layout(height='300px'))"
      ]
     },
     "execution_count": 18,
     "metadata": {},
     "output_type": "execute_result"
    }
   ],
   "source": [
    "plot_output = ipywidgets.Output(layout=ipywidgets.Layout(height=\"300px\"))\n",
    "\n",
    "def plot_change(change):\n",
    "    plot_output.clear_output()\n",
    "    with plot_output:\n",
    "        plt.plot(change[\"new\"])\n",
    "        plt.show()\n",
    "        \n",
    "plot_output"
   ]
  },
  {
   "cell_type": "code",
   "execution_count": 19,
   "id": "fa566156",
   "metadata": {},
   "outputs": [
    {
     "data": {
      "text/plain": [
       "Synth()"
      ]
     },
     "execution_count": 19,
     "metadata": {},
     "output_type": "execute_result"
    }
   ],
   "source": [
    "analyser = ipytone.Analyser(type=\"waveform\")\n",
    "synth.connect(analyser)"
   ]
  },
  {
   "cell_type": "code",
   "execution_count": 20,
   "id": "0b487542",
   "metadata": {},
   "outputs": [],
   "source": [
    "analyser.schedule_observe(plot_change, update_interval=1)"
   ]
  },
  {
   "cell_type": "markdown",
   "id": "677a6a5c",
   "metadata": {},
   "source": [
    "If you play a note, you should see the waveform drawn in the plot above:"
   ]
  },
  {
   "cell_type": "code",
   "execution_count": 21,
   "id": "91e330ca",
   "metadata": {},
   "outputs": [
    {
     "data": {
      "text/plain": [
       "Synth()"
      ]
     },
     "execution_count": 21,
     "metadata": {},
     "output_type": "execute_result"
    }
   ],
   "source": [
    "synth.trigger_attack_release(\"C3\", 2)"
   ]
  },
  {
   "cell_type": "markdown",
   "id": "d929c43d",
   "metadata": {},
   "source": [
    "Analyser has a `smoothing` attribute that controls the time window average of\n",
    "the analyzed waveform or frequency. Let's set a high value and you should see\n",
    "the waveform evolve more smoothly in the plot."
   ]
  },
  {
   "cell_type": "code",
   "execution_count": 22,
   "id": "af2d6d70",
   "metadata": {},
   "outputs": [],
   "source": [
    "analyser.smoothing = 5"
   ]
  },
  {
   "cell_type": "code",
   "execution_count": 23,
   "id": "e72c09be",
   "metadata": {},
   "outputs": [
    {
     "data": {
      "text/plain": [
       "Synth()"
      ]
     },
     "execution_count": 23,
     "metadata": {},
     "output_type": "execute_result"
    }
   ],
   "source": [
    "synth.trigger_attack_release(\"C3\", 2)"
   ]
  },
  {
   "cell_type": "code",
   "execution_count": 24,
   "id": "1b984244",
   "metadata": {},
   "outputs": [
    {
     "data": {
      "text/plain": [
       "Analyser(disposed=True)"
      ]
     },
     "execution_count": 24,
     "metadata": {},
     "output_type": "execute_result"
    }
   ],
   "source": [
    "analyser.schedule_unobserve(plot_change)\n",
    "analyser.dispose()"
   ]
  },
  {
   "cell_type": "markdown",
   "id": "ddcd237c",
   "metadata": {},
   "source": [
    "### FFT and Waveform\n",
    "\n",
    "`FFT` and `Waveform` both work very much like\n",
    "`Analyser`, with some default options and only for mono audio\n",
    "signals."
   ]
  },
  {
   "cell_type": "markdown",
   "id": "6e537834",
   "metadata": {},
   "source": [
    "### Meter and DCMeter\n",
    "\n",
    "`Meter` can be used to get the current (RMS) level of an audio\n",
    "signal either in decibels (default) or in the [0-1] range.\n",
    "\n",
    "For example, let's see the output gain of the synthesizer in real time:"
   ]
  },
  {
   "cell_type": "code",
   "execution_count": 25,
   "id": "c1586888",
   "metadata": {},
   "outputs": [
    {
     "data": {
      "application/vnd.jupyter.widget-view+json": {
       "model_id": "af3ccae36f424022a330066d56a8c703",
       "version_major": 2,
       "version_minor": 0
      },
      "text/plain": [
       "FloatProgress(value=0.0, max=1.0)"
      ]
     },
     "execution_count": 25,
     "metadata": {},
     "output_type": "execute_result"
    }
   ],
   "source": [
    "progress = ipywidgets.FloatProgress(value=0, min=0, max=1)\n",
    "\n",
    "progress"
   ]
  },
  {
   "cell_type": "code",
   "execution_count": 26,
   "id": "ef9c44ac",
   "metadata": {},
   "outputs": [],
   "source": [
    "meter = ipytone.Meter(normal_range=True)\n",
    "synth.connect(meter)\n",
    "\n",
    "link = meter.schedule_jsdlink((progress, \"value\"))"
   ]
  },
  {
   "cell_type": "code",
   "execution_count": 27,
   "id": "5e29cff8",
   "metadata": {},
   "outputs": [
    {
     "data": {
      "text/plain": [
       "Synth()"
      ]
     },
     "execution_count": 27,
     "metadata": {},
     "output_type": "execute_result"
    }
   ],
   "source": [
    "synth.trigger_attack_release(\"C3\", 2)"
   ]
  },
  {
   "cell_type": "code",
   "execution_count": 28,
   "id": "260fbbc0",
   "metadata": {},
   "outputs": [
    {
     "data": {
      "text/plain": [
       "Meter(disposed=True)"
      ]
     },
     "execution_count": 28,
     "metadata": {},
     "output_type": "execute_result"
    }
   ],
   "source": [
    "link.unlink()\n",
    "meter.dispose()"
   ]
  },
  {
   "cell_type": "markdown",
   "id": "0f0e978a",
   "metadata": {},
   "source": [
    "`DCMeter` is similar to`Meter` except that it\n",
    "outputs the raw value of the audio signal in the [-1, 1] range."
   ]
  },
  {
   "cell_type": "markdown",
   "id": "144821ee",
   "metadata": {},
   "source": [
    "End of this tutorial!"
   ]
  },
  {
   "cell_type": "code",
   "execution_count": 29,
   "id": "aee08eb5",
   "metadata": {},
   "outputs": [
    {
     "data": {
      "text/plain": [
       "Synth(disposed=True)"
      ]
     },
     "execution_count": 29,
     "metadata": {},
     "output_type": "execute_result"
    }
   ],
   "source": [
    "synth.dispose()"
   ]
  }
 ],
 "metadata": {
  "jupytext": {
   "text_representation": {
    "extension": ".md",
    "format_name": "myst",
    "format_version": 0.13,
    "jupytext_version": "1.13.8"
   }
  },
  "kernelspec": {
   "display_name": "venv",
   "language": "python",
   "name": "venv"
  },
  "language_info": {
   "codemirror_mode": {
    "name": "ipython",
    "version": 3
   },
   "file_extension": ".py",
   "mimetype": "text/x-python",
   "name": "python",
   "nbconvert_exporter": "python",
   "pygments_lexer": "ipython3",
   "version": "3.9.10"
  },
  "source_map": [
   12,
   29,
   33,
   50,
   68,
   72,
   74,
   82,
   92,
   97,
   104,
   123,
   126,
   131,
   136,
   138,
   143,
   145,
   150,
   153,
   164,
   170,
   177,
   182,
   184,
   204,
   210,
   214,
   216,
   221,
   223,
   233,
   243,
   255,
   260,
   262,
   266,
   268,
   274,
   278,
   282,
   285,
   293,
   302,
   308,
   315,
   319,
   322,
   327,
   331
  ],
  "widgets": {
   "application/vnd.jupyter.widget-state+json": {
    "state": {
     "00f26ff9594141de8cc5cdc7cb0fef67": {
      "model_module": "ipytone",
      "model_module_version": "^0.4.1",
      "model_name": "ParamModel",
      "state": {
       "_create_node": false,
       "_disposed": true,
       "_input": "IPY_MODEL_de9b28ac77ed46998a686cfcdc622b7a",
       "_max_value": null,
       "_min_value": null,
       "_model_module": "ipytone",
       "_model_module_version": "^0.4.1",
       "_model_name": "ParamModel",
       "_swappable": false,
       "_units": "frequency",
       "_view_count": null,
       "_view_module": null,
       "_view_module_version": "",
       "_view_name": null,
       "convert": true,
       "name": "",
       "overridden": false,
       "value": 440
      }
     },
     "07b2219a4a1b4096b7f0e4a4b5471d2a": {
      "model_module": "ipytone",
      "model_module_version": "^0.4.1",
      "model_name": "ParamModel",
      "state": {
       "_create_node": false,
       "_disposed": true,
       "_input": "IPY_MODEL_3a6b7778f9d94758b6bf333cb4acad7e",
       "_max_value": null,
       "_min_value": null,
       "_model_module": "ipytone",
       "_model_module_version": "^0.4.1",
       "_model_name": "ParamModel",
       "_swappable": false,
       "_units": "decibels",
       "_view_count": null,
       "_view_module": null,
       "_view_module_version": "",
       "_view_name": null,
       "convert": true,
       "name": "",
       "overridden": false,
       "value": 0
      }
     },
     "0c51c77060414e15b76fc39455e48882": {
      "model_module": "ipytone",
      "model_module_version": "^0.4.1",
      "model_name": "NativeAudioNodeModel",
      "state": {
       "_model_module": "ipytone",
       "_model_module_version": "^0.4.1",
       "_model_name": "NativeAudioNodeModel",
       "_n_inputs": 1,
       "_n_outputs": 1,
       "_view_count": null,
       "_view_module": null,
       "_view_module_version": "",
       "_view_name": null,
       "type": "GainNode"
      }
     },
     "13f7724e0cac493a976fee1c40d481ed": {
      "model_module": "ipytone",
      "model_module_version": "^0.4.1",
      "model_name": "GainModel",
      "state": {
       "_create_node": false,
       "_disposed": true,
       "_gain": "IPY_MODEL_ed039d8f79434f02a96ffc5c60798460",
       "_input": "IPY_MODEL_b863f6dcdb59424da15784ec4f9b0c19",
       "_model_module": "ipytone",
       "_model_module_version": "^0.4.1",
       "_model_name": "GainModel",
       "_output": "IPY_MODEL_b863f6dcdb59424da15784ec4f9b0c19",
       "_set_node_channels": true,
       "_view_count": null,
       "_view_module": null,
       "_view_module_version": "",
       "_view_name": null,
       "channel_count": 2,
       "channel_count_mode": "max",
       "channel_interpretation": "speakers",
       "name": ""
      }
     },
     "152e886088fe4ba2a570d209a5b6b7c1": {
      "model_module": "ipytone",
      "model_module_version": "^0.4.1",
      "model_name": "GainModel",
      "state": {
       "_create_node": false,
       "_disposed": false,
       "_gain": "IPY_MODEL_b848da06f63e4e16980d40c1b18df234",
       "_input": "IPY_MODEL_c1e1ba882fba4902ac7c6c12b4cb1cb4",
       "_model_module": "ipytone",
       "_model_module_version": "^0.4.1",
       "_model_name": "GainModel",
       "_output": "IPY_MODEL_c1e1ba882fba4902ac7c6c12b4cb1cb4",
       "_set_node_channels": true,
       "_view_count": null,
       "_view_module": null,
       "_view_module_version": "",
       "_view_name": null,
       "channel_count": 2,
       "channel_count_mode": "max",
       "channel_interpretation": "speakers",
       "name": ""
      }
     },
     "204433ddda0f4cb6883319c33cba11b1": {
      "model_module": "ipytone",
      "model_module_version": "^0.4.1",
      "model_name": "GainModel",
      "state": {
       "_create_node": false,
       "_disposed": true,
       "_gain": "IPY_MODEL_e7639e89107c4fe9b9f5a98f9c2b1348",
       "_input": "IPY_MODEL_74e3e7329faf402e9674cbd270239003",
       "_model_module": "ipytone",
       "_model_module_version": "^0.4.1",
       "_model_name": "GainModel",
       "_output": "IPY_MODEL_74e3e7329faf402e9674cbd270239003",
       "_set_node_channels": true,
       "_view_count": null,
       "_view_module": null,
       "_view_module_version": "",
       "_view_name": null,
       "channel_count": 2,
       "channel_count_mode": "max",
       "channel_interpretation": "speakers",
       "name": ""
      }
     },
     "2787ab51cc744858b03a23de185b5424": {
      "model_module": "@jupyter-widgets/controls",
      "model_module_version": "1.5.0",
      "model_name": "FloatProgressModel",
      "state": {
       "_dom_classes": [],
       "_model_module": "@jupyter-widgets/controls",
       "_model_module_version": "1.5.0",
       "_model_name": "FloatProgressModel",
       "_view_count": null,
       "_view_module": "@jupyter-widgets/controls",
       "_view_module_version": "1.5.0",
       "_view_name": "ProgressView",
       "bar_style": "",
       "description": "",
       "description_tooltip": null,
       "layout": "IPY_MODEL_2d4eaa035660432098964fefd989a103",
       "max": 1,
       "min": 0,
       "orientation": "horizontal",
       "style": "IPY_MODEL_50a798eb7a814bbf9bdb229eb4c2e34f",
       "value": 0
      }
     },
     "28076e2be71f4f1ca5fae88d982639cf": {
      "model_module": "ipytone",
      "model_module_version": "^0.4.1",
      "model_name": "ScheduleObserverModel",
      "state": {
       "_model_module": "ipytone",
       "_model_module_version": "^0.4.1",
       "_model_name": "ScheduleObserverModel",
       "_view_count": null,
       "_view_module": null,
       "_view_module_version": "",
       "_view_name": null,
       "array": null,
       "observe_time": false,
       "observed_trait": "value",
       "observed_widget": "IPY_MODEL_a87c684aa3b0496a97937b668a2a6170",
       "position": "0:0:0",
       "progress": 0,
       "seconds": 0,
       "state": "stopped",
       "ticks": 0,
       "time": 0,
       "time_value": null,
       "value": 0
      }
     },
     "2ba4e7d2417b4d339d42f9d7e834f783": {
      "model_module": "ipytone",
      "model_module_version": "^0.4.1",
      "model_name": "DestinationModel",
      "state": {
       "_create_node": true,
       "_disposed": false,
       "_input": "IPY_MODEL_9b6aba8b8a37400ab2c4f1c36858a5a7",
       "_model_module": "ipytone",
       "_model_module_version": "^0.4.1",
       "_model_name": "DestinationModel",
       "_output": "IPY_MODEL_152e886088fe4ba2a570d209a5b6b7c1",
       "_set_node_channels": true,
       "_view_count": null,
       "_view_module": null,
       "_view_module_version": "",
       "_view_name": null,
       "_volume": "IPY_MODEL_9524ba26acad40ca84fecafc400e08fa",
       "channel_count": 2,
       "channel_count_mode": "max",
       "channel_interpretation": "speakers",
       "mute": false,
       "name": "main output"
      }
     },
     "2bcd6be993ff45548d4c0ba55c9a725f": {
      "model_module": "ipytone",
      "model_module_version": "^0.4.1",
      "model_name": "NativeAudioParamModel",
      "state": {
       "_model_module": "ipytone",
       "_model_module_version": "^0.4.1",
       "_model_name": "NativeAudioParamModel",
       "_view_count": null,
       "_view_module": null,
       "_view_module_version": "",
       "_view_name": null,
       "type": ""
      }
     },
     "2c13eb35cd074963bb1831b6605fe208": {
      "model_module": "@jupyter-widgets/controls",
      "model_module_version": "1.5.0",
      "model_name": "DirectionalLinkModel",
      "state": {
       "_model_module": "@jupyter-widgets/controls",
       "_model_module_version": "1.5.0",
       "_model_name": "DirectionalLinkModel",
       "_view_count": null,
       "_view_module": "@jupyter-widgets/controls",
       "_view_module_version": "1.5.0",
       "_view_name": null,
       "source": [
        "IPY_MODEL_5244bad40255435d9289c6020521c7c0",
        "value"
       ],
       "target": [
        "IPY_MODEL_2787ab51cc744858b03a23de185b5424",
        "value"
       ]
      }
     },
     "2d4eaa035660432098964fefd989a103": {
      "model_module": "@jupyter-widgets/base",
      "model_module_version": "1.2.0",
      "model_name": "LayoutModel",
      "state": {
       "_model_module": "@jupyter-widgets/base",
       "_model_module_version": "1.2.0",
       "_model_name": "LayoutModel",
       "_view_count": null,
       "_view_module": "@jupyter-widgets/base",
       "_view_module_version": "1.2.0",
       "_view_name": "LayoutView",
       "align_content": null,
       "align_items": null,
       "align_self": null,
       "border": null,
       "bottom": null,
       "display": null,
       "flex": null,
       "flex_flow": null,
       "grid_area": null,
       "grid_auto_columns": null,
       "grid_auto_flow": null,
       "grid_auto_rows": null,
       "grid_column": null,
       "grid_gap": null,
       "grid_row": null,
       "grid_template_areas": null,
       "grid_template_columns": null,
       "grid_template_rows": null,
       "height": null,
       "justify_content": null,
       "justify_items": null,
       "left": null,
       "margin": null,
       "max_height": null,
       "max_width": null,
       "min_height": null,
       "min_width": null,
       "object_fit": null,
       "object_position": null,
       "order": null,
       "overflow": null,
       "overflow_x": null,
       "overflow_y": null,
       "padding": null,
       "right": null,
       "top": null,
       "visibility": null,
       "width": null
      }
     },
     "30c077c598f344ab94947a5462d60ca1": {
      "model_module": "ipytone",
      "model_module_version": "^0.4.1",
      "model_name": "MultiplyModel",
      "state": {
       "_create_node": false,
       "_disposed": false,
       "_factor": "IPY_MODEL_92d7f39d4fa84e30aa9667eb7dc3c620",
       "_input": "IPY_MODEL_ed25179b32d04495adc7a78ce3d34183",
       "_model_module": "ipytone",
       "_model_module_version": "^0.4.1",
       "_model_name": "MultiplyModel",
       "_output": "IPY_MODEL_ed25179b32d04495adc7a78ce3d34183",
       "_override": false,
       "_set_node_channels": true,
       "_view_count": null,
       "_view_module": null,
       "_view_module_version": "",
       "_view_name": null,
       "channel_count": 2,
       "channel_count_mode": "max",
       "channel_interpretation": "speakers",
       "name": "",
       "value": 1
      }
     },
     "315c963d53414cbda9f546a917729302": {
      "model_module": "ipytone",
      "model_module_version": "^0.4.1",
      "model_name": "NativeAudioNodeModel",
      "state": {
       "_model_module": "ipytone",
       "_model_module_version": "^0.4.1",
       "_model_name": "NativeAudioNodeModel",
       "_n_inputs": 1,
       "_n_outputs": 1,
       "_view_count": null,
       "_view_module": null,
       "_view_module_version": "",
       "_view_name": null,
       "type": "GainNode"
      }
     },
     "33f7c4d2e923451fbb6639d65bad64cc": {
      "model_module": "ipytone",
      "model_module_version": "^0.4.1",
      "model_name": "AnalyserModel",
      "state": {
       "_channels": 1,
       "_create_node": false,
       "_disposed": true,
       "_input": "IPY_MODEL_13f7724e0cac493a976fee1c40d481ed",
       "_model_module": "ipytone",
       "_model_module_version": "^0.4.1",
       "_model_name": "AnalyserModel",
       "_output": "IPY_MODEL_13f7724e0cac493a976fee1c40d481ed",
       "_set_node_channels": true,
       "_view_count": null,
       "_view_module": null,
       "_view_module_version": "",
       "_view_name": null,
       "channel_count": 2,
       "channel_count_mode": "max",
       "channel_interpretation": "speakers",
       "name": "",
       "size": 256,
       "smoothing": 0.8,
       "type": "waveform"
      }
     },
     "3947c7b2e7f1432ca8ff531050dfadeb": {
      "model_module": "ipytone",
      "model_module_version": "^0.4.1",
      "model_name": "SignalModel",
      "state": {
       "_create_node": false,
       "_disposed": true,
       "_input": "IPY_MODEL_7e3f9cfd78c245908a6dd2bf846924ad",
       "_model_module": "ipytone",
       "_model_module_version": "^0.4.1",
       "_model_name": "SignalModel",
       "_output": "IPY_MODEL_42fec3a7e73f4832a02598e5cbc54f24",
       "_override": true,
       "_set_node_channels": true,
       "_view_count": null,
       "_view_module": null,
       "_view_module_version": "",
       "_view_name": null,
       "channel_count": 2,
       "channel_count_mode": "max",
       "channel_interpretation": "speakers",
       "name": "",
       "value": 0
      }
     },
     "39d692cadbbd44a7b4867f217f3c21f2": {
      "model_module": "ipytone",
      "model_module_version": "^0.4.1",
      "model_name": "ScheduleObserverModel",
      "state": {
       "_model_module": "ipytone",
       "_model_module_version": "^0.4.1",
       "_model_name": "ScheduleObserverModel",
       "_view_count": null,
       "_view_module": null,
       "_view_module_version": "",
       "_view_name": null,
       "array": null,
       "observe_time": true,
       "observed_trait": "value",
       "observed_widget": "IPY_MODEL_7b8b69a73bad4e4a89dd89cb0f98c891",
       "position": "0:0:0",
       "progress": 0,
       "seconds": 0,
       "state": "stopped",
       "ticks": 0,
       "time": 0,
       "time_value": null,
       "value": 0
      }
     },
     "3a6b7778f9d94758b6bf333cb4acad7e": {
      "model_module": "ipytone",
      "model_module_version": "^0.4.1",
      "model_name": "NativeAudioParamModel",
      "state": {
       "_model_module": "ipytone",
       "_model_module_version": "^0.4.1",
       "_model_name": "NativeAudioParamModel",
       "_view_count": null,
       "_view_module": null,
       "_view_module_version": "",
       "_view_name": null,
       "type": ""
      }
     },
     "3f8fdc3f41204b11b85a4cc05462750a": {
      "model_module": "ipytone",
      "model_module_version": "^0.4.1",
      "model_name": "ScheduleObserverModel",
      "state": {
       "_model_module": "ipytone",
       "_model_module_version": "^0.4.1",
       "_model_name": "ScheduleObserverModel",
       "_view_count": null,
       "_view_module": null,
       "_view_module_version": "",
       "_view_name": null,
       "array": null,
       "observe_time": false,
       "observed_trait": "value",
       "observed_widget": "IPY_MODEL_a2a648e5495e40c68776346b2647b270",
       "position": "0:0:0",
       "progress": 0,
       "seconds": 0,
       "state": "stopped",
       "ticks": 0,
       "time": 0,
       "time_value": null,
       "value": 0
      }
     },
     "42fec3a7e73f4832a02598e5cbc54f24": {
      "model_module": "ipytone",
      "model_module_version": "^0.4.1",
      "model_name": "InternalAudioNodeModel",
      "state": {
       "_create_node": false,
       "_disposed": true,
       "_input": null,
       "_model_module": "ipytone",
       "_model_module_version": "^0.4.1",
       "_model_name": "InternalAudioNodeModel",
       "_n_inputs": 1,
       "_n_outputs": 1,
       "_output": null,
       "_set_node_channels": true,
       "_view_count": null,
       "_view_module": null,
       "_view_module_version": "",
       "_view_name": null,
       "channel_count": 2,
       "channel_count_mode": "max",
       "channel_interpretation": "speakers",
       "name": "",
       "type": "ToneConstantSource"
      }
     },
     "453da3ac815841e185e130c8a5105519": {
      "model_module": "ipytone",
      "model_module_version": "^0.4.1",
      "model_name": "ScheduleObserverModel",
      "state": {
       "_model_module": "ipytone",
       "_model_module_version": "^0.4.1",
       "_model_name": "ScheduleObserverModel",
       "_view_count": null,
       "_view_module": null,
       "_view_module_version": "",
       "_view_name": null,
       "array": null,
       "observe_time": false,
       "observed_trait": "value",
       "observed_widget": "IPY_MODEL_7b8b69a73bad4e4a89dd89cb0f98c891",
       "position": "0:0:0",
       "progress": 0,
       "seconds": 0,
       "state": "stopped",
       "ticks": 0,
       "time": 0,
       "time_value": null,
       "value": 0
      }
     },
     "4e6ad611b5bc4aae8164f35c4d0089f0": {
      "model_module": "ipytone",
      "model_module_version": "^0.4.1",
      "model_name": "InternalAudioNodeModel",
      "state": {
       "_create_node": false,
       "_disposed": false,
       "_input": null,
       "_model_module": "ipytone",
       "_model_module_version": "^0.4.1",
       "_model_name": "InternalAudioNodeModel",
       "_n_inputs": 1,
       "_n_outputs": 1,
       "_output": null,
       "_set_node_channels": true,
       "_view_count": null,
       "_view_module": null,
       "_view_module_version": "",
       "_view_name": null,
       "channel_count": 2,
       "channel_count_mode": "max",
       "channel_interpretation": "speakers",
       "name": "",
       "type": "ToneConstantSource"
      }
     },
     "4f25fa50408d481b806a5a81d5fbf341": {
      "model_module": "ipytone",
      "model_module_version": "^0.4.1",
      "model_name": "NativeAudioParamModel",
      "state": {
       "_model_module": "ipytone",
       "_model_module_version": "^0.4.1",
       "_model_name": "NativeAudioParamModel",
       "_view_count": null,
       "_view_module": null,
       "_view_module_version": "",
       "_view_name": null,
       "type": ""
      }
     },
     "4f8112e84e3c4957acb8884770e57e9a": {
      "model_module": "@jupyter-widgets/base",
      "model_module_version": "1.2.0",
      "model_name": "LayoutModel",
      "state": {
       "_model_module": "@jupyter-widgets/base",
       "_model_module_version": "1.2.0",
       "_model_name": "LayoutModel",
       "_view_count": null,
       "_view_module": "@jupyter-widgets/base",
       "_view_module_version": "1.2.0",
       "_view_name": "LayoutView",
       "align_content": null,
       "align_items": null,
       "align_self": null,
       "border": null,
       "bottom": null,
       "display": null,
       "flex": null,
       "flex_flow": null,
       "grid_area": null,
       "grid_auto_columns": null,
       "grid_auto_flow": null,
       "grid_auto_rows": null,
       "grid_column": null,
       "grid_gap": null,
       "grid_row": null,
       "grid_template_areas": null,
       "grid_template_columns": null,
       "grid_template_rows": null,
       "height": null,
       "justify_content": null,
       "justify_items": null,
       "left": null,
       "margin": null,
       "max_height": null,
       "max_width": null,
       "min_height": null,
       "min_width": null,
       "object_fit": null,
       "object_position": null,
       "order": null,
       "overflow": null,
       "overflow_x": null,
       "overflow_y": null,
       "padding": null,
       "right": null,
       "top": null,
       "visibility": null,
       "width": null
      }
     },
     "50a798eb7a814bbf9bdb229eb4c2e34f": {
      "model_module": "@jupyter-widgets/controls",
      "model_module_version": "1.5.0",
      "model_name": "ProgressStyleModel",
      "state": {
       "_model_module": "@jupyter-widgets/controls",
       "_model_module_version": "1.5.0",
       "_model_name": "ProgressStyleModel",
       "_view_count": null,
       "_view_module": "@jupyter-widgets/base",
       "_view_module_version": "1.2.0",
       "_view_name": "StyleView",
       "bar_color": null,
       "description_width": ""
      }
     },
     "511664cd84dc4d9c9c02f422242e97d1": {
      "model_module": "ipytone",
      "model_module_version": "^0.4.1",
      "model_name": "ParamModel",
      "state": {
       "_create_node": false,
       "_disposed": false,
       "_input": "IPY_MODEL_efcd182bb7e2441cb3bd64c62a92ced5",
       "_max_value": null,
       "_min_value": null,
       "_model_module": "ipytone",
       "_model_module_version": "^0.4.1",
       "_model_name": "ParamModel",
       "_swappable": false,
       "_units": "audioRange",
       "_view_count": null,
       "_view_module": null,
       "_view_module_version": "",
       "_view_name": null,
       "convert": true,
       "name": "",
       "overridden": false,
       "value": 0.2
      }
     },
     "5244bad40255435d9289c6020521c7c0": {
      "model_module": "ipytone",
      "model_module_version": "^0.4.1",
      "model_name": "ScheduleObserverModel",
      "state": {
       "_model_module": "ipytone",
       "_model_module_version": "^0.4.1",
       "_model_name": "ScheduleObserverModel",
       "_view_count": null,
       "_view_module": null,
       "_view_module_version": "",
       "_view_name": null,
       "array": null,
       "observe_time": false,
       "observed_trait": "value",
       "observed_widget": "IPY_MODEL_a2a648e5495e40c68776346b2647b270",
       "position": "0:0:0",
       "progress": 0,
       "seconds": 0,
       "state": "stopped",
       "ticks": 0,
       "time": 0,
       "time_value": null,
       "value": 0
      }
     },
     "558e7469836d4eab86cc7e2d952d1470": {
      "model_module": "ipytone",
      "model_module_version": "^0.4.1",
      "model_name": "NativeAudioParamModel",
      "state": {
       "_model_module": "ipytone",
       "_model_module_version": "^0.4.1",
       "_model_name": "NativeAudioParamModel",
       "_view_count": null,
       "_view_module": null,
       "_view_module_version": "",
       "_view_name": null,
       "type": ""
      }
     },
     "58201037b8144c08a1d808e1f855add8": {
      "model_module": "ipytone",
      "model_module_version": "^0.4.1",
      "model_name": "NativeAudioNodeModel",
      "state": {
       "_model_module": "ipytone",
       "_model_module_version": "^0.4.1",
       "_model_name": "NativeAudioNodeModel",
       "_n_inputs": 1,
       "_n_outputs": 1,
       "_view_count": null,
       "_view_module": null,
       "_view_module_version": "",
       "_view_name": null,
       "type": "GainNode"
      }
     },
     "5dfb4680c66345419dd98085c229b4e2": {
      "model_module": "@jupyter-widgets/base",
      "model_module_version": "1.2.0",
      "model_name": "LayoutModel",
      "state": {
       "_model_module": "@jupyter-widgets/base",
       "_model_module_version": "1.2.0",
       "_model_name": "LayoutModel",
       "_view_count": null,
       "_view_module": "@jupyter-widgets/base",
       "_view_module_version": "1.2.0",
       "_view_name": "LayoutView",
       "align_content": null,
       "align_items": null,
       "align_self": null,
       "border": null,
       "bottom": null,
       "display": null,
       "flex": null,
       "flex_flow": null,
       "grid_area": null,
       "grid_auto_columns": null,
       "grid_auto_flow": null,
       "grid_auto_rows": null,
       "grid_column": null,
       "grid_gap": null,
       "grid_row": null,
       "grid_template_areas": null,
       "grid_template_columns": null,
       "grid_template_rows": null,
       "height": "300px",
       "justify_content": null,
       "justify_items": null,
       "left": null,
       "margin": null,
       "max_height": null,
       "max_width": null,
       "min_height": null,
       "min_width": null,
       "object_fit": null,
       "object_position": null,
       "order": null,
       "overflow": null,
       "overflow_x": null,
       "overflow_y": null,
       "padding": null,
       "right": null,
       "top": null,
       "visibility": null,
       "width": null
      }
     },
     "68ac428c03c04ebbb169955ab2a25163": {
      "model_module": "ipytone",
      "model_module_version": "^0.4.1",
      "model_name": "ParamModel",
      "state": {
       "_create_node": false,
       "_disposed": false,
       "_input": "IPY_MODEL_9b58a73add944b18b578854da48533fb",
       "_max_value": null,
       "_min_value": null,
       "_model_module": "ipytone",
       "_model_module_version": "^0.4.1",
       "_model_name": "ParamModel",
       "_swappable": false,
       "_units": "number",
       "_view_count": null,
       "_view_module": null,
       "_view_module_version": "",
       "_view_name": null,
       "convert": true,
       "name": "",
       "overridden": false,
       "value": 1
      }
     },
     "6930398e57c04d59af5169f0aab582b7": {
      "model_module": "@jupyter-widgets/controls",
      "model_module_version": "1.5.0",
      "model_name": "DirectionalLinkModel",
      "state": {
       "_model_module": "@jupyter-widgets/controls",
       "_model_module_version": "1.5.0",
       "_model_name": "DirectionalLinkModel",
       "_view_count": null,
       "_view_module": "@jupyter-widgets/controls",
       "_view_module_version": "1.5.0",
       "_view_name": null,
       "source": [
        "IPY_MODEL_28076e2be71f4f1ca5fae88d982639cf",
        "value"
       ],
       "target": [
        "IPY_MODEL_c3774a8f4e0d4adeb7cb893f7c3c8c50",
        "value"
       ]
      }
     },
     "6b6bbdbd9502486696aad5bdafa769e6": {
      "model_module": "@jupyter-widgets/base",
      "model_module_version": "1.2.0",
      "model_name": "LayoutModel",
      "state": {
       "_model_module": "@jupyter-widgets/base",
       "_model_module_version": "1.2.0",
       "_model_name": "LayoutModel",
       "_view_count": null,
       "_view_module": "@jupyter-widgets/base",
       "_view_module_version": "1.2.0",
       "_view_name": "LayoutView",
       "align_content": null,
       "align_items": null,
       "align_self": null,
       "border": null,
       "bottom": null,
       "display": null,
       "flex": null,
       "flex_flow": null,
       "grid_area": null,
       "grid_auto_columns": null,
       "grid_auto_flow": null,
       "grid_auto_rows": null,
       "grid_column": null,
       "grid_gap": null,
       "grid_row": null,
       "grid_template_areas": null,
       "grid_template_columns": null,
       "grid_template_rows": null,
       "height": null,
       "justify_content": null,
       "justify_items": null,
       "left": null,
       "margin": null,
       "max_height": null,
       "max_width": null,
       "min_height": null,
       "min_width": null,
       "object_fit": null,
       "object_position": null,
       "order": null,
       "overflow": null,
       "overflow_x": null,
       "overflow_y": null,
       "padding": null,
       "right": null,
       "top": null,
       "visibility": null,
       "width": null
      }
     },
     "6c6440d39fed4dc4ade1b9c94d61adc5": {
      "model_module": "ipytone",
      "model_module_version": "^0.4.1",
      "model_name": "ParamModel",
      "state": {
       "_create_node": false,
       "_disposed": false,
       "_input": "IPY_MODEL_fc21734c95a34fbf84c639f893ab4dee",
       "_max_value": null,
       "_min_value": null,
       "_model_module": "ipytone",
       "_model_module_version": "^0.4.1",
       "_model_name": "ParamModel",
       "_swappable": false,
       "_units": "frequency",
       "_view_count": null,
       "_view_module": null,
       "_view_module_version": "",
       "_view_name": null,
       "convert": true,
       "name": "",
       "overridden": false,
       "value": 0.4
      }
     },
     "74e3e7329faf402e9674cbd270239003": {
      "model_module": "ipytone",
      "model_module_version": "^0.4.1",
      "model_name": "NativeAudioNodeModel",
      "state": {
       "_model_module": "ipytone",
       "_model_module_version": "^0.4.1",
       "_model_name": "NativeAudioNodeModel",
       "_n_inputs": 1,
       "_n_outputs": 1,
       "_view_count": null,
       "_view_module": null,
       "_view_module_version": "",
       "_view_name": null,
       "type": "GainNode"
      }
     },
     "7b8a856122704feaa4493b93b4c5b8ee": {
      "model_module": "ipytone",
      "model_module_version": "^0.4.1",
      "model_name": "NativeAudioParamModel",
      "state": {
       "_model_module": "ipytone",
       "_model_module_version": "^0.4.1",
       "_model_name": "NativeAudioParamModel",
       "_view_count": null,
       "_view_module": null,
       "_view_module_version": "",
       "_view_name": null,
       "type": ""
      }
     },
     "7b8b69a73bad4e4a89dd89cb0f98c891": {
      "model_module": "ipytone",
      "model_module_version": "^0.4.1",
      "model_name": "SignalModel",
      "state": {
       "_create_node": false,
       "_disposed": true,
       "_input": "IPY_MODEL_00f26ff9594141de8cc5cdc7cb0fef67",
       "_model_module": "ipytone",
       "_model_module_version": "^0.4.1",
       "_model_name": "SignalModel",
       "_output": "IPY_MODEL_f839e1bdecb54b7ea12b0f8cc8e44c0d",
       "_override": true,
       "_set_node_channels": true,
       "_view_count": null,
       "_view_module": null,
       "_view_module_version": "",
       "_view_name": null,
       "channel_count": 2,
       "channel_count_mode": "max",
       "channel_interpretation": "speakers",
       "name": "",
       "value": 440
      }
     },
     "7e3f9cfd78c245908a6dd2bf846924ad": {
      "model_module": "ipytone",
      "model_module_version": "^0.4.1",
      "model_name": "ParamModel",
      "state": {
       "_create_node": false,
       "_disposed": true,
       "_input": "IPY_MODEL_7b8a856122704feaa4493b93b4c5b8ee",
       "_max_value": null,
       "_min_value": null,
       "_model_module": "ipytone",
       "_model_module_version": "^0.4.1",
       "_model_name": "ParamModel",
       "_swappable": false,
       "_units": "cents",
       "_view_count": null,
       "_view_module": null,
       "_view_module_version": "",
       "_view_name": null,
       "convert": true,
       "name": "",
       "overridden": false,
       "value": 0
      }
     },
     "7f377d3c583b486c9deb70988a7d6425": {
      "model_module": "ipytone",
      "model_module_version": "^0.4.1",
      "model_name": "NativeAudioParamModel",
      "state": {
       "_model_module": "ipytone",
       "_model_module_version": "^0.4.1",
       "_model_name": "NativeAudioParamModel",
       "_view_count": null,
       "_view_module": null,
       "_view_module_version": "",
       "_view_name": null,
       "type": ""
      }
     },
     "7faaa863e088437c98c3b1705047c842": {
      "model_module": "ipytone",
      "model_module_version": "^0.4.1",
      "model_name": "GainModel",
      "state": {
       "_create_node": false,
       "_disposed": true,
       "_gain": "IPY_MODEL_07b2219a4a1b4096b7f0e4a4b5471d2a",
       "_input": "IPY_MODEL_ac0fef900db94bbf89550a33951c6869",
       "_model_module": "ipytone",
       "_model_module_version": "^0.4.1",
       "_model_name": "GainModel",
       "_output": "IPY_MODEL_ac0fef900db94bbf89550a33951c6869",
       "_set_node_channels": true,
       "_view_count": null,
       "_view_module": null,
       "_view_module_version": "",
       "_view_name": null,
       "channel_count": 2,
       "channel_count_mode": "max",
       "channel_interpretation": "speakers",
       "name": ""
      }
     },
     "800d51d0e48c4045bd8006fa2757aedd": {
      "model_module": "ipytone",
      "model_module_version": "^0.4.1",
      "model_name": "ParamModel",
      "state": {
       "_create_node": false,
       "_disposed": true,
       "_input": "IPY_MODEL_4f25fa50408d481b806a5a81d5fbf341",
       "_max_value": null,
       "_min_value": null,
       "_model_module": "ipytone",
       "_model_module_version": "^0.4.1",
       "_model_name": "ParamModel",
       "_swappable": false,
       "_units": "gain",
       "_view_count": null,
       "_view_module": null,
       "_view_module_version": "",
       "_view_name": null,
       "convert": true,
       "name": "",
       "overridden": false,
       "value": 1
      }
     },
     "80b0de2db6be49cb8c876290d0a879ed": {
      "model_module": "ipytone",
      "model_module_version": "^0.4.1",
      "model_name": "AnalyserModel",
      "state": {
       "_channels": 1,
       "_create_node": true,
       "_disposed": true,
       "_input": "IPY_MODEL_9ee47b538b484be787de0bf293647181",
       "_model_module": "ipytone",
       "_model_module_version": "^0.4.1",
       "_model_name": "AnalyserModel",
       "_output": "IPY_MODEL_9ee47b538b484be787de0bf293647181",
       "_set_node_channels": true,
       "_view_count": null,
       "_view_module": null,
       "_view_module_version": "",
       "_view_name": null,
       "channel_count": 2,
       "channel_count_mode": "max",
       "channel_interpretation": "speakers",
       "name": "",
       "size": 1024,
       "smoothing": 5,
       "type": "waveform"
      }
     },
     "81fdc6998914434dbee42e38e4684eff": {
      "model_module": "ipytone",
      "model_module_version": "^0.4.1",
      "model_name": "VolumeModel",
      "state": {
       "_create_node": false,
       "_disposed": true,
       "_input": "IPY_MODEL_7faaa863e088437c98c3b1705047c842",
       "_model_module": "ipytone",
       "_model_module_version": "^0.4.1",
       "_model_name": "VolumeModel",
       "_output": "IPY_MODEL_7faaa863e088437c98c3b1705047c842",
       "_set_node_channels": true,
       "_view_count": null,
       "_view_module": null,
       "_view_module_version": "",
       "_view_name": null,
       "_volume": "IPY_MODEL_07b2219a4a1b4096b7f0e4a4b5471d2a",
       "channel_count": 2,
       "channel_count_mode": "max",
       "channel_interpretation": "speakers",
       "mute": false,
       "name": ""
      }
     },
     "84e64790d93a4544ac324bba794496ea": {
      "model_module": "ipytone",
      "model_module_version": "^0.4.1",
      "model_name": "NativeAudioParamModel",
      "state": {
       "_model_module": "ipytone",
       "_model_module_version": "^0.4.1",
       "_model_name": "NativeAudioParamModel",
       "_view_count": null,
       "_view_module": null,
       "_view_module_version": "",
       "_view_name": null,
       "type": ""
      }
     },
     "8fffd8889b344c22999b53927c016405": {
      "model_module": "ipytone",
      "model_module_version": "^0.4.1",
      "model_name": "ParamModel",
      "state": {
       "_create_node": false,
       "_disposed": false,
       "_input": "IPY_MODEL_f4c3785c027542e4aaef78fff76df643",
       "_max_value": null,
       "_min_value": null,
       "_model_module": "ipytone",
       "_model_module_version": "^0.4.1",
       "_model_name": "ParamModel",
       "_swappable": false,
       "_units": "bpm",
       "_view_count": null,
       "_view_module": null,
       "_view_module_version": "",
       "_view_name": null,
       "convert": true,
       "name": "",
       "overridden": false,
       "value": 120
      }
     },
     "90900d53cced44a499d51d42228e3c5c": {
      "model_module": "ipytone",
      "model_module_version": "^0.4.1",
      "model_name": "InternalAudioNodeModel",
      "state": {
       "_create_node": false,
       "_disposed": false,
       "_input": null,
       "_model_module": "ipytone",
       "_model_module_version": "^0.4.1",
       "_model_name": "InternalAudioNodeModel",
       "_n_inputs": 1,
       "_n_outputs": 1,
       "_output": null,
       "_set_node_channels": true,
       "_view_count": null,
       "_view_module": null,
       "_view_module_version": "",
       "_view_name": null,
       "channel_count": 2,
       "channel_count_mode": "max",
       "channel_interpretation": "speakers",
       "name": "",
       "type": "ToneConstantSource"
      }
     },
     "9094f92b0e7d405babe1150d6c09c36e": {
      "model_module": "ipytone",
      "model_module_version": "^0.4.1",
      "model_name": "SignalModel",
      "state": {
       "_create_node": false,
       "_disposed": false,
       "_input": "IPY_MODEL_6c6440d39fed4dc4ade1b9c94d61adc5",
       "_model_module": "ipytone",
       "_model_module_version": "^0.4.1",
       "_model_name": "SignalModel",
       "_output": "IPY_MODEL_4e6ad611b5bc4aae8164f35c4d0089f0",
       "_override": true,
       "_set_node_channels": true,
       "_view_count": null,
       "_view_module": null,
       "_view_module_version": "",
       "_view_name": null,
       "channel_count": 2,
       "channel_count_mode": "max",
       "channel_interpretation": "speakers",
       "name": "",
       "value": 0.4
      }
     },
     "92bb0f2b8f664d1a863850901bdd5031": {
      "model_module": "ipytone",
      "model_module_version": "^0.4.1",
      "model_name": "NativeAudioParamModel",
      "state": {
       "_model_module": "ipytone",
       "_model_module_version": "^0.4.1",
       "_model_name": "NativeAudioParamModel",
       "_view_count": null,
       "_view_module": null,
       "_view_module_version": "",
       "_view_name": null,
       "type": ""
      }
     },
     "92d7f39d4fa84e30aa9667eb7dc3c620": {
      "model_module": "ipytone",
      "model_module_version": "^0.4.1",
      "model_name": "ParamModel",
      "state": {
       "_create_node": false,
       "_disposed": false,
       "_input": "IPY_MODEL_92bb0f2b8f664d1a863850901bdd5031",
       "_max_value": null,
       "_min_value": null,
       "_model_module": "ipytone",
       "_model_module_version": "^0.4.1",
       "_model_name": "ParamModel",
       "_swappable": false,
       "_units": "number",
       "_view_count": null,
       "_view_module": null,
       "_view_module_version": "",
       "_view_name": null,
       "convert": true,
       "name": "",
       "overridden": false,
       "value": 1
      }
     },
     "9524ba26acad40ca84fecafc400e08fa": {
      "model_module": "ipytone",
      "model_module_version": "^0.4.1",
      "model_name": "ParamModel",
      "state": {
       "_create_node": false,
       "_disposed": false,
       "_input": "IPY_MODEL_b26a79b490694abba2b8e77f30c14722",
       "_max_value": null,
       "_min_value": null,
       "_model_module": "ipytone",
       "_model_module_version": "^0.4.1",
       "_model_name": "ParamModel",
       "_swappable": false,
       "_units": "decibels",
       "_view_count": null,
       "_view_module": null,
       "_view_module_version": "",
       "_view_name": null,
       "convert": true,
       "name": "",
       "overridden": false,
       "value": 0
      }
     },
     "99e229aed1f24ed0a5e17f7f868bfd57": {
      "model_module": "ipytone",
      "model_module_version": "^0.4.1",
      "model_name": "OmniOscillatorModel",
      "state": {
       "_create_node": true,
       "_detune": "IPY_MODEL_3947c7b2e7f1432ca8ff531050dfadeb",
       "_disposed": true,
       "_frequency": "IPY_MODEL_7b8b69a73bad4e4a89dd89cb0f98c891",
       "_harmonicity": "IPY_MODEL_30c077c598f344ab94947a5462d60ca1",
       "_input": null,
       "_model_module": "ipytone",
       "_model_module_version": "^0.4.1",
       "_model_name": "OmniOscillatorModel",
       "_modulation_frequency": "IPY_MODEL_9094f92b0e7d405babe1150d6c09c36e",
       "_modulation_index": "IPY_MODEL_b9507ad8616e425c82689aa6b1fcacb3",
       "_output": "IPY_MODEL_fdc99b3b2f7944099877c9822083878c",
       "_partials": [],
       "_set_node_channels": true,
       "_view_count": null,
       "_view_module": null,
       "_view_module_version": "",
       "_view_name": null,
       "_volume": "IPY_MODEL_9f8d0c74d9844de8ad9f05108bcbe9ac",
       "_width": "IPY_MODEL_a94f4ba5105b46c286f9991769bf13fb",
       "array": null,
       "array_length": 1024,
       "channel_count": 2,
       "channel_count_mode": "max",
       "channel_interpretation": "speakers",
       "count": 3,
       "modulation_type": "square",
       "mute": false,
       "name": "",
       "phase": 0,
       "spread": 20,
       "sync_array": false,
       "type": "triangle"
      }
     },
     "9b58a73add944b18b578854da48533fb": {
      "model_module": "ipytone",
      "model_module_version": "^0.4.1",
      "model_name": "NativeAudioParamModel",
      "state": {
       "_model_module": "ipytone",
       "_model_module_version": "^0.4.1",
       "_model_name": "NativeAudioParamModel",
       "_view_count": null,
       "_view_module": null,
       "_view_module_version": "",
       "_view_name": null,
       "type": ""
      }
     },
     "9b6aba8b8a37400ab2c4f1c36858a5a7": {
      "model_module": "ipytone",
      "model_module_version": "^0.4.1",
      "model_name": "VolumeModel",
      "state": {
       "_create_node": false,
       "_disposed": false,
       "_input": "IPY_MODEL_af7ad7846de44b1c8e798aab42294928",
       "_model_module": "ipytone",
       "_model_module_version": "^0.4.1",
       "_model_name": "VolumeModel",
       "_output": "IPY_MODEL_af7ad7846de44b1c8e798aab42294928",
       "_set_node_channels": true,
       "_view_count": null,
       "_view_module": null,
       "_view_module_version": "",
       "_view_name": null,
       "_volume": "IPY_MODEL_9524ba26acad40ca84fecafc400e08fa",
       "channel_count": 2,
       "channel_count_mode": "max",
       "channel_interpretation": "speakers",
       "mute": false,
       "name": ""
      }
     },
     "9e188b2148c140ec9719df71294bcf13": {
      "model_module": "ipytone",
      "model_module_version": "^0.4.1",
      "model_name": "NativeAudioNodeModel",
      "state": {
       "_model_module": "ipytone",
       "_model_module_version": "^0.4.1",
       "_model_name": "NativeAudioNodeModel",
       "_n_inputs": 1,
       "_n_outputs": 1,
       "_view_count": null,
       "_view_module": null,
       "_view_module_version": "",
       "_view_name": null,
       "type": "GainNode"
      }
     },
     "9ee47b538b484be787de0bf293647181": {
      "model_module": "ipytone",
      "model_module_version": "^0.4.1",
      "model_name": "GainModel",
      "state": {
       "_create_node": false,
       "_disposed": true,
       "_gain": "IPY_MODEL_800d51d0e48c4045bd8006fa2757aedd",
       "_input": "IPY_MODEL_b4fa29b044504b93ac7466888e3beacc",
       "_model_module": "ipytone",
       "_model_module_version": "^0.4.1",
       "_model_name": "GainModel",
       "_output": "IPY_MODEL_b4fa29b044504b93ac7466888e3beacc",
       "_set_node_channels": true,
       "_view_count": null,
       "_view_module": null,
       "_view_module_version": "",
       "_view_name": null,
       "channel_count": 2,
       "channel_count_mode": "max",
       "channel_interpretation": "speakers",
       "name": ""
      }
     },
     "9f8d0c74d9844de8ad9f05108bcbe9ac": {
      "model_module": "ipytone",
      "model_module_version": "^0.4.1",
      "model_name": "ParamModel",
      "state": {
       "_create_node": false,
       "_disposed": true,
       "_input": "IPY_MODEL_84e64790d93a4544ac324bba794496ea",
       "_max_value": null,
       "_min_value": null,
       "_model_module": "ipytone",
       "_model_module_version": "^0.4.1",
       "_model_name": "ParamModel",
       "_swappable": false,
       "_units": "decibels",
       "_view_count": null,
       "_view_module": null,
       "_view_module_version": "",
       "_view_name": null,
       "convert": true,
       "name": "",
       "overridden": false,
       "value": 0
      }
     },
     "a2a648e5495e40c68776346b2647b270": {
      "model_module": "ipytone",
      "model_module_version": "^0.4.1",
      "model_name": "AmplitudeEnvelopeModel",
      "state": {
       "_create_node": true,
       "_disposed": true,
       "_input": "IPY_MODEL_204433ddda0f4cb6883319c33cba11b1",
       "_model_module": "ipytone",
       "_model_module_version": "^0.4.1",
       "_model_name": "AmplitudeEnvelopeModel",
       "_output": "IPY_MODEL_204433ddda0f4cb6883319c33cba11b1",
       "_set_node_channels": true,
       "_view_count": null,
       "_view_module": null,
       "_view_module_version": "",
       "_view_name": null,
       "array": null,
       "array_length": 1024,
       "attack": 1,
       "attack_curve": "linear",
       "channel_count": 2,
       "channel_count_mode": "max",
       "channel_interpretation": "speakers",
       "decay": 0.1,
       "decay_curve": "exponential",
       "name": "",
       "release": 1,
       "release_curve": "exponential",
       "sustain": 0.3,
       "sync_array": false
      }
     },
     "a7436268a8d1478994b211464534e4bd": {
      "model_module": "ipytone",
      "model_module_version": "^0.4.1",
      "model_name": "AudioGraphModel",
      "state": {
       "_connections": [],
       "_model_module": "ipytone",
       "_model_module_version": "^0.4.1",
       "_model_name": "AudioGraphModel",
       "_view_count": null,
       "_view_module": null,
       "_view_module_version": "",
       "_view_name": null
      }
     },
     "a87c684aa3b0496a97937b668a2a6170": {
      "model_module": "ipytone",
      "model_module_version": "^0.4.1",
      "model_name": "MeterModel",
      "state": {
       "_channels": 1,
       "_create_node": true,
       "_disposed": true,
       "_input": "IPY_MODEL_33f7c4d2e923451fbb6639d65bad64cc",
       "_model_module": "ipytone",
       "_model_module_version": "^0.4.1",
       "_model_name": "MeterModel",
       "_output": "IPY_MODEL_33f7c4d2e923451fbb6639d65bad64cc",
       "_set_node_channels": true,
       "_view_count": null,
       "_view_module": null,
       "_view_module_version": "",
       "_view_name": null,
       "channel_count": 2,
       "channel_count_mode": "max",
       "channel_interpretation": "speakers",
       "name": "",
       "normal_range": true,
       "smoothing": 0.8
      }
     },
     "a94f4ba5105b46c286f9991769bf13fb": {
      "model_module": "ipytone",
      "model_module_version": "^0.4.1",
      "model_name": "SignalModel",
      "state": {
       "_create_node": false,
       "_disposed": false,
       "_input": "IPY_MODEL_511664cd84dc4d9c9c02f422242e97d1",
       "_model_module": "ipytone",
       "_model_module_version": "^0.4.1",
       "_model_name": "SignalModel",
       "_output": "IPY_MODEL_90900d53cced44a499d51d42228e3c5c",
       "_override": true,
       "_set_node_channels": true,
       "_view_count": null,
       "_view_module": null,
       "_view_module_version": "",
       "_view_name": null,
       "channel_count": 2,
       "channel_count_mode": "max",
       "channel_interpretation": "speakers",
       "name": "",
       "value": 0.2
      }
     },
     "ac0fef900db94bbf89550a33951c6869": {
      "model_module": "ipytone",
      "model_module_version": "^0.4.1",
      "model_name": "NativeAudioNodeModel",
      "state": {
       "_model_module": "ipytone",
       "_model_module_version": "^0.4.1",
       "_model_name": "NativeAudioNodeModel",
       "_n_inputs": 1,
       "_n_outputs": 1,
       "_view_count": null,
       "_view_module": null,
       "_view_module_version": "",
       "_view_name": null,
       "type": "GainNode"
      }
     },
     "af7ad7846de44b1c8e798aab42294928": {
      "model_module": "ipytone",
      "model_module_version": "^0.4.1",
      "model_name": "GainModel",
      "state": {
       "_create_node": false,
       "_disposed": false,
       "_gain": "IPY_MODEL_9524ba26acad40ca84fecafc400e08fa",
       "_input": "IPY_MODEL_0c51c77060414e15b76fc39455e48882",
       "_model_module": "ipytone",
       "_model_module_version": "^0.4.1",
       "_model_name": "GainModel",
       "_output": "IPY_MODEL_0c51c77060414e15b76fc39455e48882",
       "_set_node_channels": true,
       "_view_count": null,
       "_view_module": null,
       "_view_module_version": "",
       "_view_name": null,
       "channel_count": 2,
       "channel_count_mode": "max",
       "channel_interpretation": "speakers",
       "name": ""
      }
     },
     "b26a79b490694abba2b8e77f30c14722": {
      "model_module": "ipytone",
      "model_module_version": "^0.4.1",
      "model_name": "NativeAudioParamModel",
      "state": {
       "_model_module": "ipytone",
       "_model_module_version": "^0.4.1",
       "_model_name": "NativeAudioParamModel",
       "_view_count": null,
       "_view_module": null,
       "_view_module_version": "",
       "_view_name": null,
       "type": ""
      }
     },
     "b4fa29b044504b93ac7466888e3beacc": {
      "model_module": "ipytone",
      "model_module_version": "^0.4.1",
      "model_name": "NativeAudioNodeModel",
      "state": {
       "_model_module": "ipytone",
       "_model_module_version": "^0.4.1",
       "_model_name": "NativeAudioNodeModel",
       "_n_inputs": 1,
       "_n_outputs": 1,
       "_view_count": null,
       "_view_module": null,
       "_view_module_version": "",
       "_view_name": null,
       "type": "GainNode"
      }
     },
     "b848da06f63e4e16980d40c1b18df234": {
      "model_module": "ipytone",
      "model_module_version": "^0.4.1",
      "model_name": "ParamModel",
      "state": {
       "_create_node": false,
       "_disposed": false,
       "_input": "IPY_MODEL_558e7469836d4eab86cc7e2d952d1470",
       "_max_value": null,
       "_min_value": null,
       "_model_module": "ipytone",
       "_model_module_version": "^0.4.1",
       "_model_name": "ParamModel",
       "_swappable": false,
       "_units": "gain",
       "_view_count": null,
       "_view_module": null,
       "_view_module_version": "",
       "_view_name": null,
       "convert": true,
       "name": "",
       "overridden": false,
       "value": 1
      }
     },
     "b863f6dcdb59424da15784ec4f9b0c19": {
      "model_module": "ipytone",
      "model_module_version": "^0.4.1",
      "model_name": "NativeAudioNodeModel",
      "state": {
       "_model_module": "ipytone",
       "_model_module_version": "^0.4.1",
       "_model_name": "NativeAudioNodeModel",
       "_n_inputs": 1,
       "_n_outputs": 1,
       "_view_count": null,
       "_view_module": null,
       "_view_module_version": "",
       "_view_name": null,
       "type": "GainNode"
      }
     },
     "b9507ad8616e425c82689aa6b1fcacb3": {
      "model_module": "ipytone",
      "model_module_version": "^0.4.1",
      "model_name": "MultiplyModel",
      "state": {
       "_create_node": false,
       "_disposed": false,
       "_factor": "IPY_MODEL_68ac428c03c04ebbb169955ab2a25163",
       "_input": "IPY_MODEL_b967d2f1f9ca45d0b2f204689fc3d33d",
       "_model_module": "ipytone",
       "_model_module_version": "^0.4.1",
       "_model_name": "MultiplyModel",
       "_output": "IPY_MODEL_b967d2f1f9ca45d0b2f204689fc3d33d",
       "_override": false,
       "_set_node_channels": true,
       "_view_count": null,
       "_view_module": null,
       "_view_module_version": "",
       "_view_name": null,
       "channel_count": 2,
       "channel_count_mode": "max",
       "channel_interpretation": "speakers",
       "name": "",
       "value": 2
      }
     },
     "b967d2f1f9ca45d0b2f204689fc3d33d": {
      "model_module": "ipytone",
      "model_module_version": "^0.4.1",
      "model_name": "GainModel",
      "state": {
       "_create_node": false,
       "_disposed": false,
       "_gain": "IPY_MODEL_68ac428c03c04ebbb169955ab2a25163",
       "_input": "IPY_MODEL_315c963d53414cbda9f546a917729302",
       "_model_module": "ipytone",
       "_model_module_version": "^0.4.1",
       "_model_name": "GainModel",
       "_output": "IPY_MODEL_315c963d53414cbda9f546a917729302",
       "_set_node_channels": true,
       "_view_count": null,
       "_view_module": null,
       "_view_module_version": "",
       "_view_name": null,
       "channel_count": 2,
       "channel_count_mode": "max",
       "channel_interpretation": "speakers",
       "name": ""
      }
     },
     "bfeb3335ed1a4d63ac47bf6696bf3297": {
      "model_module": "ipytone",
      "model_module_version": "^0.4.1",
      "model_name": "TransportModel",
      "state": {
       "_bpm": "IPY_MODEL_8fffd8889b344c22999b53927c016405",
       "_disposed": false,
       "_model_module": "ipytone",
       "_model_module_version": "^0.4.1",
       "_model_name": "TransportModel",
       "_view_count": null,
       "_view_module": null,
       "_view_module_version": "",
       "_view_name": null,
       "loop": false,
       "loop_end": "4m",
       "loop_start": 0,
       "position": 0,
       "progress": 0,
       "seconds": 0,
       "swing": 0,
       "swing_subdivision": "8n",
       "ticks": 0,
       "time_signature": 4
      }
     },
     "c1e1ba882fba4902ac7c6c12b4cb1cb4": {
      "model_module": "ipytone",
      "model_module_version": "^0.4.1",
      "model_name": "NativeAudioNodeModel",
      "state": {
       "_model_module": "ipytone",
       "_model_module_version": "^0.4.1",
       "_model_name": "NativeAudioNodeModel",
       "_n_inputs": 1,
       "_n_outputs": 1,
       "_view_count": null,
       "_view_module": null,
       "_view_module_version": "",
       "_view_name": null,
       "type": "GainNode"
      }
     },
     "c23c6c5ff2a14d5b882b9db29c90d2ab": {
      "model_module": "@jupyter-widgets/output",
      "model_module_version": "1.0.0",
      "model_name": "OutputModel",
      "state": {
       "_dom_classes": [],
       "_model_module": "@jupyter-widgets/output",
       "_model_module_version": "1.0.0",
       "_model_name": "OutputModel",
       "_view_count": null,
       "_view_module": "@jupyter-widgets/output",
       "_view_module_version": "1.0.0",
       "_view_name": "OutputView",
       "layout": "IPY_MODEL_5dfb4680c66345419dd98085c229b4e2",
       "msg_id": "",
       "outputs": []
      }
     },
     "c2856d4d41c141919c1c861546e8b3d4": {
      "model_module": "@jupyter-widgets/output",
      "model_module_version": "1.0.0",
      "model_name": "OutputModel",
      "state": {
       "_dom_classes": [],
       "_model_module": "@jupyter-widgets/output",
       "_model_module_version": "1.0.0",
       "_model_name": "OutputModel",
       "_view_count": null,
       "_view_module": "@jupyter-widgets/output",
       "_view_module_version": "1.0.0",
       "_view_name": "OutputView",
       "layout": "IPY_MODEL_6b6bbdbd9502486696aad5bdafa769e6",
       "msg_id": "",
       "outputs": []
      }
     },
     "c3774a8f4e0d4adeb7cb893f7c3c8c50": {
      "model_module": "@jupyter-widgets/controls",
      "model_module_version": "1.5.0",
      "model_name": "FloatProgressModel",
      "state": {
       "_dom_classes": [],
       "_model_module": "@jupyter-widgets/controls",
       "_model_module_version": "1.5.0",
       "_model_name": "FloatProgressModel",
       "_view_count": null,
       "_view_module": "@jupyter-widgets/controls",
       "_view_module_version": "1.5.0",
       "_view_name": "ProgressView",
       "bar_style": "",
       "description": "",
       "description_tooltip": null,
       "layout": "IPY_MODEL_4f8112e84e3c4957acb8884770e57e9a",
       "max": 1,
       "min": 0,
       "orientation": "horizontal",
       "style": "IPY_MODEL_f6078b5492a74a91adf5b7231e2c6a81",
       "value": 0
      }
     },
     "c3c5e1bd89524c0ca16f6dd3f4ec4d16": {
      "model_module": "ipytone",
      "model_module_version": "^0.4.1",
      "model_name": "ScheduleObserverModel",
      "state": {
       "_model_module": "ipytone",
       "_model_module_version": "^0.4.1",
       "_model_name": "ScheduleObserverModel",
       "_view_count": null,
       "_view_module": null,
       "_view_module_version": "",
       "_view_name": null,
       "array": null,
       "observe_time": false,
       "observed_trait": "array",
       "observed_widget": "IPY_MODEL_80b0de2db6be49cb8c876290d0a879ed",
       "position": "0:0:0",
       "progress": 0,
       "seconds": 0,
       "state": "stopped",
       "ticks": 0,
       "time": 0,
       "time_value": null,
       "value": 0
      }
     },
     "de9b28ac77ed46998a686cfcdc622b7a": {
      "model_module": "ipytone",
      "model_module_version": "^0.4.1",
      "model_name": "NativeAudioParamModel",
      "state": {
       "_model_module": "ipytone",
       "_model_module_version": "^0.4.1",
       "_model_name": "NativeAudioParamModel",
       "_view_count": null,
       "_view_module": null,
       "_view_module_version": "",
       "_view_name": null,
       "type": ""
      }
     },
     "e11ff49a74ac41248959bdf694da4d62": {
      "model_module": "ipytone",
      "model_module_version": "^0.4.1",
      "model_name": "GainModel",
      "state": {
       "_create_node": false,
       "_disposed": true,
       "_gain": "IPY_MODEL_9f8d0c74d9844de8ad9f05108bcbe9ac",
       "_input": "IPY_MODEL_9e188b2148c140ec9719df71294bcf13",
       "_model_module": "ipytone",
       "_model_module_version": "^0.4.1",
       "_model_name": "GainModel",
       "_output": "IPY_MODEL_9e188b2148c140ec9719df71294bcf13",
       "_set_node_channels": true,
       "_view_count": null,
       "_view_module": null,
       "_view_module_version": "",
       "_view_name": null,
       "channel_count": 2,
       "channel_count_mode": "max",
       "channel_interpretation": "speakers",
       "name": ""
      }
     },
     "e7639e89107c4fe9b9f5a98f9c2b1348": {
      "model_module": "ipytone",
      "model_module_version": "^0.4.1",
      "model_name": "ParamModel",
      "state": {
       "_create_node": false,
       "_disposed": true,
       "_input": "IPY_MODEL_7f377d3c583b486c9deb70988a7d6425",
       "_max_value": null,
       "_min_value": null,
       "_model_module": "ipytone",
       "_model_module_version": "^0.4.1",
       "_model_name": "ParamModel",
       "_swappable": false,
       "_units": "gain",
       "_view_count": null,
       "_view_module": null,
       "_view_module_version": "",
       "_view_name": null,
       "convert": true,
       "name": "",
       "overridden": false,
       "value": 0
      }
     },
     "ed039d8f79434f02a96ffc5c60798460": {
      "model_module": "ipytone",
      "model_module_version": "^0.4.1",
      "model_name": "ParamModel",
      "state": {
       "_create_node": false,
       "_disposed": true,
       "_input": "IPY_MODEL_2bcd6be993ff45548d4c0ba55c9a725f",
       "_max_value": null,
       "_min_value": null,
       "_model_module": "ipytone",
       "_model_module_version": "^0.4.1",
       "_model_name": "ParamModel",
       "_swappable": false,
       "_units": "gain",
       "_view_count": null,
       "_view_module": null,
       "_view_module_version": "",
       "_view_name": null,
       "convert": true,
       "name": "",
       "overridden": false,
       "value": 1
      }
     },
     "ed25179b32d04495adc7a78ce3d34183": {
      "model_module": "ipytone",
      "model_module_version": "^0.4.1",
      "model_name": "GainModel",
      "state": {
       "_create_node": false,
       "_disposed": false,
       "_gain": "IPY_MODEL_92d7f39d4fa84e30aa9667eb7dc3c620",
       "_input": "IPY_MODEL_58201037b8144c08a1d808e1f855add8",
       "_model_module": "ipytone",
       "_model_module_version": "^0.4.1",
       "_model_name": "GainModel",
       "_output": "IPY_MODEL_58201037b8144c08a1d808e1f855add8",
       "_set_node_channels": true,
       "_view_count": null,
       "_view_module": null,
       "_view_module_version": "",
       "_view_name": null,
       "channel_count": 2,
       "channel_count_mode": "max",
       "channel_interpretation": "speakers",
       "name": ""
      }
     },
     "ef2d894039444041a1fbc790b50e319a": {
      "model_module": "ipytone",
      "model_module_version": "^0.4.1",
      "model_name": "MonophonicModel",
      "state": {
       "_after_init": "this.getNode('oscillator').onstop = () => this.onsilence(this);this.getNode('oscillator').chain(this.getNode('envelope'), this.output);",
       "_create_node": true,
       "_disposed": true,
       "_get_level_at_time": "time = this.toSeconds(time);return this.getNode('envelope').getValueAtTime(time);",
       "_input": null,
       "_internal_nodes": {
        "envelope": "IPY_MODEL_a2a648e5495e40c68776346b2647b270",
        "oscillator": "IPY_MODEL_99e229aed1f24ed0a5e17f7f868bfd57"
       },
       "_model_module": "ipytone",
       "_model_module_version": "^0.4.1",
       "_model_name": "MonophonicModel",
       "_output": "IPY_MODEL_81fdc6998914434dbee42e38e4684eff",
       "_set_node_channels": true,
       "_set_note": "",
       "_settings": {
        "envelope": [
         "attack",
         "decay",
         "sustain",
         "release"
        ],
        "oscillator": [
         "type"
        ]
       },
       "_trigger_attack": "const envelope = this.getNode('envelope');const oscillator = this.getNode('oscillator');envelope.triggerAttack(time, velocity);oscillator.start(time);if (envelope.sustain === 0) {    const computedAttack = this.toSeconds(envelope.attack);    const computedDecay = this.toSeconds(envelope.decay);    oscillator.stop(time + computedAttack + computedDecay);}",
       "_trigger_release": "const envelope = this.getNode('envelope');const oscillator = this.getNode('oscillator');envelope.triggerRelease(time);oscillator.stop(time + this.toSeconds(envelope.release));",
       "_view_count": null,
       "_view_module": null,
       "_view_module_version": "",
       "_view_name": null,
       "channel_count": 2,
       "channel_count_mode": "max",
       "channel_interpretation": "speakers",
       "name": "",
       "portamento": 0
      }
     },
     "efcd182bb7e2441cb3bd64c62a92ced5": {
      "model_module": "ipytone",
      "model_module_version": "^0.4.1",
      "model_name": "NativeAudioParamModel",
      "state": {
       "_model_module": "ipytone",
       "_model_module_version": "^0.4.1",
       "_model_name": "NativeAudioParamModel",
       "_view_count": null,
       "_view_module": null,
       "_view_module_version": "",
       "_view_name": null,
       "type": ""
      }
     },
     "f4c3785c027542e4aaef78fff76df643": {
      "model_module": "ipytone",
      "model_module_version": "^0.4.1",
      "model_name": "NativeAudioParamModel",
      "state": {
       "_model_module": "ipytone",
       "_model_module_version": "^0.4.1",
       "_model_name": "NativeAudioParamModel",
       "_view_count": null,
       "_view_module": null,
       "_view_module_version": "",
       "_view_name": null,
       "type": ""
      }
     },
     "f6078b5492a74a91adf5b7231e2c6a81": {
      "model_module": "@jupyter-widgets/controls",
      "model_module_version": "1.5.0",
      "model_name": "ProgressStyleModel",
      "state": {
       "_model_module": "@jupyter-widgets/controls",
       "_model_module_version": "1.5.0",
       "_model_name": "ProgressStyleModel",
       "_view_count": null,
       "_view_module": "@jupyter-widgets/base",
       "_view_module_version": "1.2.0",
       "_view_name": "StyleView",
       "bar_color": null,
       "description_width": ""
      }
     },
     "f839e1bdecb54b7ea12b0f8cc8e44c0d": {
      "model_module": "ipytone",
      "model_module_version": "^0.4.1",
      "model_name": "InternalAudioNodeModel",
      "state": {
       "_create_node": false,
       "_disposed": true,
       "_input": null,
       "_model_module": "ipytone",
       "_model_module_version": "^0.4.1",
       "_model_name": "InternalAudioNodeModel",
       "_n_inputs": 1,
       "_n_outputs": 1,
       "_output": null,
       "_set_node_channels": true,
       "_view_count": null,
       "_view_module": null,
       "_view_module_version": "",
       "_view_name": null,
       "channel_count": 2,
       "channel_count_mode": "max",
       "channel_interpretation": "speakers",
       "name": "",
       "type": "ToneConstantSource"
      }
     },
     "fc21734c95a34fbf84c639f893ab4dee": {
      "model_module": "ipytone",
      "model_module_version": "^0.4.1",
      "model_name": "NativeAudioParamModel",
      "state": {
       "_model_module": "ipytone",
       "_model_module_version": "^0.4.1",
       "_model_name": "NativeAudioParamModel",
       "_view_count": null,
       "_view_module": null,
       "_view_module_version": "",
       "_view_name": null,
       "type": ""
      }
     },
     "fdc99b3b2f7944099877c9822083878c": {
      "model_module": "ipytone",
      "model_module_version": "^0.4.1",
      "model_name": "VolumeModel",
      "state": {
       "_create_node": false,
       "_disposed": true,
       "_input": "IPY_MODEL_e11ff49a74ac41248959bdf694da4d62",
       "_model_module": "ipytone",
       "_model_module_version": "^0.4.1",
       "_model_name": "VolumeModel",
       "_output": "IPY_MODEL_e11ff49a74ac41248959bdf694da4d62",
       "_set_node_channels": true,
       "_view_count": null,
       "_view_module": null,
       "_view_module_version": "",
       "_view_name": null,
       "_volume": "IPY_MODEL_9f8d0c74d9844de8ad9f05108bcbe9ac",
       "channel_count": 2,
       "channel_count_mode": "max",
       "channel_interpretation": "speakers",
       "mute": false,
       "name": ""
      }
     }
    },
    "version_major": 2,
    "version_minor": 0
   }
  }
 },
 "nbformat": 4,
 "nbformat_minor": 5
}
