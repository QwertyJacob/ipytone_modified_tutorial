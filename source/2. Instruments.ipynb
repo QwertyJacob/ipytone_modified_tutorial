{
 "cells": [
  {
   "cell_type": "markdown",
   "id": "94110b9c",
   "metadata": {
    "pycharm": {
     "name": "#%% md\n"
    }
   },
   "source": [
    "# Instruments"
   ]
  },
  {
   "cell_type": "markdown",
   "id": "3ea93969",
   "metadata": {
    "pycharm": {
     "name": "#%% md\n"
    }
   },
   "source": [
    "## Summary:\n",
    "\n",
    "In this tutorial, we'll see how to create a (very) basic synthesizer from\n",
    "stratch using oscillators and envelopes. We'll also give an overview of the\n",
    "instruments built in ipytone (copied from Tone.js)."
   ]
  },
  {
   "cell_type": "code",
   "execution_count": 1,
   "id": "0e2bd6ff",
   "metadata": {
    "pycharm": {
     "name": "#%%\n"
    }
   },
   "outputs": [],
   "source": [
    "import ipytone\n",
    "import matplotlib.pyplot as plt"
   ]
  },
  {
   "cell_type": "markdown",
   "id": "52adf4e6",
   "metadata": {
    "pycharm": {
     "name": "#%% md\n"
    }
   },
   "source": [
    "## Building a synth from scratch\n",
    "\n",
    "The most basic elements of a synthesizer are oscillators and envelopes. Let's\n",
    "build a very simple synth using one oscillator and one amplitude envelope."
   ]
  },
  {
   "cell_type": "markdown",
   "id": "5aab65dc",
   "metadata": {
    "pycharm": {
     "name": "#%% md\n"
    }
   },
   "source": [
    "### Oscillator\n",
    "\n",
    "Ipytone provides different oscillators (see Section [Source](https://ipytone.readthedocs.io/en/latest/api.html#api-source) of API\n",
    "reference) that can generate sound from basic waveforms modulated at a given\n",
    "frequency.\n",
    "\n",
    "Let's here use an `Oscillator` that we connect to the\n",
    "destination (speakers) so we can hear it."
   ]
  },
  {
   "cell_type": "code",
   "execution_count": 2,
   "id": "705125c5",
   "metadata": {
    "pycharm": {
     "name": "#%%\n"
    }
   },
   "outputs": [],
   "source": [
    "osc = ipytone.Oscillator().to_destination()"
   ]
  },
  {
   "cell_type": "markdown",
   "id": "1a793c9d",
   "metadata": {
    "pycharm": {
     "name": "#%% md\n"
    }
   },
   "source": [
    "By default, the type (shape) of the waveform is a `sine`. Ipytone Oscillators\n",
    "generally support other waveform types such as `sawtooth`, `triangle`, `square`,\n",
    "etc."
   ]
  },
  {
   "cell_type": "code",
   "execution_count": 3,
   "id": "3e8d01eb",
   "metadata": {
    "pycharm": {
     "name": "#%%\n"
    }
   },
   "outputs": [
    {
     "data": {
      "text/plain": [
       "'sine'"
      ]
     },
     "execution_count": 3,
     "metadata": {},
     "output_type": "execute_result"
    }
   ],
   "source": [
    "osc.type"
   ]
  },
  {
   "cell_type": "markdown",
   "id": "c3a185d7",
   "metadata": {
    "pycharm": {
     "name": "#%% md\n"
    }
   },
   "source": [
    "The frequency of the oscillator gives the note. It is possible to set it with a\n",
    "number (Hertz) or a string (note + octave), e.g.,"
   ]
  },
  {
   "cell_type": "code",
   "execution_count": 4,
   "id": "4bdadb2b",
   "metadata": {
    "pycharm": {
     "name": "#%%\n"
    }
   },
   "outputs": [],
   "source": [
    "osc.frequency.value = \"C4\""
   ]
  },
  {
   "cell_type": "markdown",
   "id": "31414aea",
   "metadata": {
    "pycharm": {
     "name": "#%% md\n"
    }
   },
   "source": [
    "With the `start()` and `stop()` methods, this already gives a very basic synth\n",
    "that can trigger notes (beware of the volume of your speakers):"
   ]
  },
  {
   "cell_type": "code",
   "execution_count": 7,
   "id": "1caa19f7",
   "metadata": {
    "pycharm": {
     "name": "#%%\n"
    }
   },
   "outputs": [
    {
     "data": {
      "text/plain": [
       "Oscillator()"
      ]
     },
     "execution_count": 7,
     "metadata": {},
     "output_type": "execute_result"
    }
   ],
   "source": [
    "osc.start().stop(\"+0.5\")"
   ]
  },
  {
   "cell_type": "markdown",
   "id": "c889919d",
   "metadata": {
    "pycharm": {
     "name": "#%% md\n"
    }
   },
   "source": [
    "That's not very fancy, though. The audio signal changes abruptly when starting /\n",
    "stopping the oscillator, causing unpleasant \"clicks\"."
   ]
  },
  {
   "cell_type": "markdown",
   "source": [
    "### Envelope\n",
    "\n",
    "An envelope allows to smoothly modulate a signal over time with a curve that is\n",
    "generally characterized by 4 segments: attack, decay, sustain and release.\n",
    "\n",
    "Ipytone provides such an `Envelope` as well as subclasses\n",
    "for the two most common envelopes:\n",
    "\n",
    "- `AmplitudeEnvelope` to modulate the gain of a signal\n",
    "- `FrequencyEnvelope` to modulate the frequency of a signal\n",
    "\n",
    "To prevent clicks when starting / stopping the oscillator, let's connect it to\n",
    "an `AmplitudeEnvelope`:"
   ],
   "metadata": {
    "collapsed": false,
    "pycharm": {
     "name": "#%% md\n"
    }
   }
  },
  {
   "cell_type": "code",
   "execution_count": null,
   "outputs": [],
   "source": [
    "# first disconnect the oscillator from the destination\n",
    "osc.disconnect(ipytone.destination)\n",
    "\n",
    "env = ipytone.AmplitudeEnvelope(sync_array=True)\n",
    "osc.chain(env, ipytone.destination)"
   ],
   "metadata": {
    "collapsed": false,
    "pycharm": {
     "name": "#%%\n"
    }
   }
  },
  {
   "cell_type": "markdown",
   "source": [
    "It is possible to get or set the overall shape of the envelope using its\n",
    "`attack`, `decay`, `sustain` and `release` attributes, each synchronized with\n",
    "the front-end (more attribute allows to set the shape of the curve - linear,\n",
    "exponential, etc. - of each segment):"
   ],
   "metadata": {
    "collapsed": false,
    "pycharm": {
     "name": "#%% md\n"
    }
   }
  },
  {
   "cell_type": "code",
   "execution_count": null,
   "outputs": [],
   "source": [
    "[env.attack, env.decay, env.sustain, env.release]"
   ],
   "metadata": {
    "collapsed": false,
    "pycharm": {
     "name": "#%%\n"
    }
   }
  },
  {
   "cell_type": "markdown",
   "source": [
    "Because we've set `sync_array=True` above when creating the envelope, we can get\n",
    "the whole envelope curve data in Python via its `array` attribute. It is useful\n",
    "for visualizing the envelope:"
   ],
   "metadata": {
    "collapsed": false,
    "pycharm": {
     "name": "#%% md\n"
    }
   }
  },
  {
   "cell_type": "code",
   "execution_count": null,
   "outputs": [],
   "source": [
    "plt.plot(env.array);"
   ],
   "metadata": {
    "collapsed": false,
    "pycharm": {
     "name": "#%%\n"
    }
   }
  },
  {
   "cell_type": "markdown",
   "source": [
    "Let's change the envelope shape a bit and see the result:"
   ],
   "metadata": {
    "collapsed": false,
    "pycharm": {
     "name": "#%% md\n"
    }
   }
  },
  {
   "cell_type": "code",
   "execution_count": null,
   "outputs": [],
   "source": [
    "env.attack = 0.1\n",
    "env.sustain = 0.5"
   ],
   "metadata": {
    "collapsed": false,
    "pycharm": {
     "name": "#%%\n"
    }
   }
  },
  {
   "cell_type": "code",
   "execution_count": null,
   "outputs": [],
   "source": [
    "plt.plot(env.array);"
   ],
   "metadata": {
    "collapsed": false,
    "pycharm": {
     "name": "#%%\n"
    }
   }
  },
  {
   "cell_type": "markdown",
   "source": [
    "Now that the oscillator is connected to the envelope, we shouldn't hear any sound\n",
    "when starting the oscillator:"
   ],
   "metadata": {
    "collapsed": false,
    "pycharm": {
     "name": "#%% md\n"
    }
   }
  },
  {
   "cell_type": "code",
   "execution_count": null,
   "outputs": [],
   "source": [
    "# no sound!\n",
    "osc.start()"
   ],
   "metadata": {
    "collapsed": false,
    "pycharm": {
     "name": "#%%\n"
    }
   }
  },
  {
   "cell_type": "markdown",
   "source": [
    "We need to explicitly trigger the attack part of the envelope with\n",
    "{func}`~ipytone.Envelope.trigger_attack`:"
   ],
   "metadata": {
    "collapsed": false,
    "pycharm": {
     "name": "#%% md\n"
    }
   }
  },
  {
   "cell_type": "code",
   "execution_count": null,
   "outputs": [],
   "source": [
    "env.trigger_attack()"
   ],
   "metadata": {
    "collapsed": false,
    "pycharm": {
     "name": "#%%\n"
    }
   }
  },
  {
   "cell_type": "markdown",
   "source": [
    "The oscillator signal will then modulate over the attack and decay part of the\n",
    "envelope until it reaches the sustain level.\n",
    "\n",
    "To trigger the release part of the envelope, we need to call `Envelope.trigger_release`:"
   ],
   "metadata": {
    "collapsed": false,
    "pycharm": {
     "name": "#%% md\n"
    }
   }
  },
  {
   "cell_type": "code",
   "execution_count": null,
   "outputs": [],
   "source": [
    "env.trigger_release()"
   ],
   "metadata": {
    "collapsed": false,
    "pycharm": {
     "name": "#%%\n"
    }
   }
  },
  {
   "cell_type": "markdown",
   "source": [
    "Sometimes we want to trigger the release some specific time after having the\n",
    "triggered the attack. This can be done with the `Envelope.trigger_attack_release` method:"
   ],
   "metadata": {
    "collapsed": false,
    "pycharm": {
     "name": "#%% md\n"
    }
   }
  },
  {
   "cell_type": "code",
   "execution_count": null,
   "outputs": [],
   "source": [
    "# trigger attack and trigger release after 1/2 second\n",
    "env.trigger_attack_release(0.5)"
   ],
   "metadata": {
    "collapsed": false,
    "pycharm": {
     "name": "#%%\n"
    }
   }
  },
  {
   "cell_type": "markdown",
   "source": [
    "We won't need the oscillator and the envelope below. Before moving on, let's\n",
    "dispose them"
   ],
   "metadata": {
    "collapsed": false,
    "pycharm": {
     "name": "#%% md\n"
    }
   }
  },
  {
   "cell_type": "code",
   "execution_count": null,
   "outputs": [],
   "source": [
    "osc.dispose()\n",
    "env.dispose()"
   ],
   "metadata": {
    "collapsed": false,
    "pycharm": {
     "name": "#%%\n"
    }
   }
  },
  {
   "cell_type": "markdown",
   "source": [
    "## Built-in instruments\n",
    "\n",
    "Ipytone provides a few built-in instruments (see Section\n",
    "[Instrument](https://ipytone.readthedocs.io/en/latest/api.html#api-instrument) of API reference) that perform basic or more\n",
    "advanced sound synthesis from a combination of connected nodes (oscillators,\n",
    "envelopes, etc.). Ipytone also provides a [Sampler](https://ipytone.readthedocs.io/en/latest/audio_samples.html#sampler).\n",
    "\n",
    "Let's use the `Synth` here:"
   ],
   "metadata": {
    "collapsed": false,
    "pycharm": {
     "name": "#%% md\n"
    }
   }
  },
  {
   "cell_type": "code",
   "execution_count": null,
   "outputs": [],
   "source": [
    "synth = ipytone.Synth()"
   ],
   "metadata": {
    "collapsed": false,
    "pycharm": {
     "name": "#%%\n"
    }
   }
  },
  {
   "cell_type": "markdown",
   "source": [
    "Instruments behave like audio nodes, i.e., we can connect them to other nodes:"
   ],
   "metadata": {
    "collapsed": false,
    "pycharm": {
     "name": "#%% md\n"
    }
   }
  },
  {
   "cell_type": "code",
   "execution_count": null,
   "outputs": [],
   "source": [
    "# connect synth to the speakers\n",
    "synth.connect(ipytone.destination)"
   ],
   "metadata": {
    "collapsed": false,
    "pycharm": {
     "name": "#%%\n"
    }
   }
  },
  {
   "cell_type": "markdown",
   "source": [
    "All instruments can be played via a common interface including\n",
    "`ipytone.Instrument.trigger_attack`,\n",
    "`ipytone.Instrument.trigger_release` and\n",
    "`ipytone.Instrument.trigger_attack_release` methods, e.g,"
   ],
   "metadata": {
    "collapsed": false,
    "pycharm": {
     "name": "#%% md\n"
    }
   }
  },
  {
   "cell_type": "code",
   "execution_count": null,
   "outputs": [],
   "source": [
    "# trigger a \"C4\" note for 1/2 second\n",
    "synth.trigger_attack_release(\"C4\", 0.5)"
   ],
   "metadata": {
    "collapsed": false,
    "pycharm": {
     "name": "#%%\n"
    }
   }
  },
  {
   "cell_type": "markdown",
   "source": [
    "Each instrument may expose its own components. The `ipytone.Synth` used\n",
    "here combines an oscillator and an amplitude envelope just like we did above."
   ],
   "metadata": {
    "collapsed": false,
    "pycharm": {
     "name": "#%% md\n"
    }
   }
  },
  {
   "cell_type": "code",
   "execution_count": null,
   "outputs": [],
   "source": [
    "synth.oscillator"
   ],
   "metadata": {
    "collapsed": false,
    "pycharm": {
     "name": "#%%\n"
    }
   }
  },
  {
   "cell_type": "code",
   "execution_count": null,
   "outputs": [],
   "source": [
    "synth.envelope"
   ],
   "metadata": {
    "collapsed": false,
    "pycharm": {
     "name": "#%%\n"
    }
   }
  },
  {
   "cell_type": "code",
   "execution_count": null,
   "outputs": [],
   "source": [
    "# finished now with synth\n",
    "synth.dispose()"
   ],
   "metadata": {
    "collapsed": false,
    "pycharm": {
     "name": "#%%\n"
    }
   }
  },
  {
   "cell_type": "markdown",
   "source": [
    "### Monophonic synths\n",
    "\n",
    "`Monophonic` synthesizers can only play one note at a time. They\n",
    "all have a `portamento` attribute, which allows smoothly sliding the frequency\n",
    "between two triggered notes.\n",
    "\n",
    "Let's create a `MonoSynth` instance:"
   ],
   "metadata": {
    "collapsed": false,
    "pycharm": {
     "name": "#%% md\n"
    }
   }
  },
  {
   "cell_type": "code",
   "execution_count": null,
   "outputs": [],
   "source": [
    "msynth = ipytone.MonoSynth().to_destination()"
   ],
   "metadata": {
    "collapsed": false,
    "pycharm": {
     "name": "#%%\n"
    }
   }
  },
  {
   "cell_type": "code",
   "execution_count": null,
   "outputs": [],
   "source": [
    "# without portamento\n",
    "msynth.trigger_attack_release(\"C3\", 0.5)\n",
    "msynth.trigger_attack_release(\"C5\", 0.5, time=\"+0.25\")"
   ],
   "metadata": {
    "collapsed": false,
    "pycharm": {
     "name": "#%%\n"
    }
   }
  },
  {
   "cell_type": "code",
   "execution_count": null,
   "outputs": [],
   "source": [
    "msynth.portamento = 0.3"
   ],
   "metadata": {
    "collapsed": false,
    "pycharm": {
     "name": "#%%\n"
    }
   }
  },
  {
   "cell_type": "code",
   "execution_count": null,
   "outputs": [],
   "source": [
    "# with portamento\n",
    "msynth.trigger_attack_release(\"C3\", 0.5)\n",
    "msynth.trigger_attack_release(\"C5\", 0.5, time=\"+0.25\")"
   ],
   "metadata": {
    "collapsed": false,
    "pycharm": {
     "name": "#%%\n"
    }
   }
  },
  {
   "cell_type": "code",
   "execution_count": null,
   "outputs": [],
   "source": [
    "msynth.dispose()"
   ],
   "metadata": {
    "collapsed": false,
    "pycharm": {
     "name": "#%%\n"
    }
   }
  },
  {
   "cell_type": "markdown",
   "source": [
    "### Polyphonic synths"
   ],
   "metadata": {
    "collapsed": false,
    "pycharm": {
     "name": "#%% md\n"
    }
   }
  },
  {
   "cell_type": "markdown",
   "source": [
    "`PolySynth` allows turning any monophonic synthesizer into a\n",
    "polyphonic synthesizer, i.e., an instrument that can play multiple notes at the\n",
    "same time.\n",
    "\n",
    "Let's create a polyphonic synth from a `Synth`:"
   ],
   "metadata": {
    "collapsed": false,
    "pycharm": {
     "name": "#%% md\n"
    }
   }
  },
  {
   "cell_type": "code",
   "execution_count": null,
   "outputs": [],
   "source": [
    "psynth = ipytone.PolySynth(voice=ipytone.Synth, volume=-8).to_destination()"
   ],
   "metadata": {
    "collapsed": false,
    "pycharm": {
     "name": "#%%\n"
    }
   }
  },
  {
   "cell_type": "markdown",
   "source": [
    "A list of notes can be passed to the trigger methods to play a chord:"
   ],
   "metadata": {
    "collapsed": false,
    "pycharm": {
     "name": "#%% md\n"
    }
   }
  },
  {
   "cell_type": "code",
   "execution_count": null,
   "outputs": [],
   "source": [
    "psynth.trigger_attack_release([\"C3\", \"C4\", \"E4\", \"G4\"], 0.5)\n",
    "psynth.trigger_attack_release([\"G2\", \"G4\", \"B4\", \"D4\"], 0.5, time=\"+0.5\")\n",
    "psynth.trigger_attack_release([\"C3\", \"C5\", \"E5\", \"G5\"], 0.5, time=\"+1\")"
   ],
   "metadata": {
    "collapsed": false,
    "pycharm": {
     "name": "#%%\n"
    }
   }
  },
  {
   "cell_type": "markdown",
   "source": [
    "We can also pass a list of duration times to play the chord with some \"expression\":"
   ],
   "metadata": {
    "collapsed": false,
    "pycharm": {
     "name": "#%% md\n"
    }
   }
  },
  {
   "cell_type": "code",
   "execution_count": null,
   "outputs": [],
   "source": [
    "psynth.trigger_attack_release([\"C3\", \"C4\", \"E4\", \"G4\"], [0.5, 0.7, 0.9, 1])"
   ],
   "metadata": {
    "collapsed": false,
    "pycharm": {
     "name": "#%%\n"
    }
   }
  },
  {
   "cell_type": "markdown",
   "source": [
    "It is possible to change the parameters of the polyphonic synth via its `voice`\n",
    "property, which returns a single instance of the mono synth. This instance is\n",
    "deactivated (it doesn't make any sound), but changing the value of an attribute\n",
    "of one of its components will apply to all voices of the polyphonic synth."
   ],
   "metadata": {
    "collapsed": false,
    "pycharm": {
     "name": "#%% md\n"
    }
   }
  },
  {
   "cell_type": "code",
   "execution_count": null,
   "outputs": [],
   "source": [
    "psynth.voice.envelope.attack = 0.4"
   ],
   "metadata": {
    "collapsed": false,
    "pycharm": {
     "name": "#%%\n"
    }
   }
  },
  {
   "cell_type": "code",
   "execution_count": null,
   "outputs": [],
   "source": [
    "# play each chord with a slow attack \n",
    "psynth.trigger_attack_release([\"C3\", \"C4\", \"E4\", \"G4\"], 0.5)\n",
    "psynth.trigger_attack_release([\"G2\", \"G4\", \"B4\", \"D4\"], 0.5, time=\"+0.5\")\n",
    "psynth.trigger_attack_release([\"C3\", \"C5\", \"E5\", \"G5\"], 0.5, time=\"+1\")"
   ],
   "metadata": {
    "collapsed": false,
    "pycharm": {
     "name": "#%%\n"
    }
   }
  },
  {
   "cell_type": "markdown",
   "source": [
    "#### note:\n",
    "> Changing the settings of some components of the `PolySynth.voice` may have\n",
    "no effect. This generally works with common components like the oscillator\n",
    "and the amplitude envelope. \n",
    "\n",
    "In addition to `trigger_attack()`, `trigger_release()` and\n",
    "`trigger_attack_release()`, the `PolySynth` class provides a\n",
    "`release_all()` method that will trigger release for all the active voices"
   ],
   "metadata": {
    "collapsed": false,
    "pycharm": {
     "name": "#%% md\n"
    }
   }
  },
  {
   "cell_type": "markdown",
   "id": "3c3588c8",
   "metadata": {
    "pycharm": {
     "name": "#%% md\n"
    }
   },
   "source": [
    "The maximum number of active voices is controlled by `max_polyphony`. When\n",
    "this number is reached, additional notes won't be played."
   ]
  },
  {
   "cell_type": "code",
   "execution_count": 38,
   "id": "a6e0137d",
   "metadata": {
    "pycharm": {
     "name": "#%%\n"
    }
   },
   "outputs": [],
   "source": [
    "psynth.max_polyphony = 3"
   ]
  },
  {
   "cell_type": "code",
   "execution_count": 39,
   "id": "4d4331f3",
   "metadata": {
    "pycharm": {
     "name": "#%%\n"
    }
   },
   "outputs": [
    {
     "data": {
      "text/plain": [
       "PolySynth()"
      ]
     },
     "execution_count": 39,
     "metadata": {},
     "output_type": "execute_result"
    }
   ],
   "source": [
    "# this will play only 3 notes!\n",
    "psynth.trigger_attack_release([\"C3\", \"C4\", \"E4\", \"G4\"], 0.5)"
   ]
  },
  {
   "cell_type": "markdown",
   "id": "a414c7ca",
   "metadata": {
    "pycharm": {
     "name": "#%% md\n"
    }
   },
   "source": [
    "End of this tutorial!"
   ]
  },
  {
   "cell_type": "code",
   "execution_count": 40,
   "id": "42e3e123",
   "metadata": {
    "pycharm": {
     "name": "#%%\n"
    }
   },
   "outputs": [
    {
     "data": {
      "text/plain": [
       "PolySynth(disposed=True)"
      ]
     },
     "execution_count": 40,
     "metadata": {},
     "output_type": "execute_result"
    }
   ],
   "source": [
    "psynth.dispose()"
   ]
  }
 ],
 "metadata": {
  "jupytext": {
   "text_representation": {
    "extension": ".md",
    "format_name": "myst",
    "format_version": 0.13,
    "jupytext_version": "1.13.8"
   }
  },
  "kernelspec": {
   "display_name": "venv",
   "language": "python",
   "name": "venv"
  },
  "language_info": {
   "codemirror_mode": {
    "name": "ipython",
    "version": 3
   },
   "file_extension": ".py",
   "mimetype": "text/x-python",
   "name": "python",
   "nbconvert_exporter": "python",
   "pygments_lexer": "ipython3",
   "version": "3.9.10"
  },
  "source_map": [
   12,
   16,
   30,
   33,
   40,
   51,
   53,
   59,
   61,
   66,
   68,
   73,
   75,
   80,
   96,
   102,
   109,
   111,
   117,
   124,
   133,
   137,
   142,
   149,
   157,
   162,
   165,
   170,
   172,
   180,
   182,
   188,
   191,
   196,
   199,
   211,
   213,
   217,
   220,
   227,
   230,
   235,
   239,
   243,
   246,
   256,
   260,
   266,
   270,
   276,
   278,
   282,
   290,
   292,
   296,
   300,
   304,
   306,
   313,
   317,
   322,
   334,
   340,
   343,
   348,
   352,
   355,
   359
  ],
  "widgets": {
   "application/vnd.jupyter.widget-state+json": {
    "state": {
     "01e7fca9804541be96c36e4ba40c0e7f": {
      "model_module": "ipytone",
      "model_module_version": "^0.4.1",
      "model_name": "NativeAudioParamModel",
      "state": {
       "_model_module": "ipytone",
       "_model_module_version": "^0.4.1",
       "_model_name": "NativeAudioParamModel",
       "_view_count": null,
       "_view_module": null,
       "_view_module_version": "",
       "_view_name": null,
       "type": ""
      }
     },
     "0240bad1e43d4e50b2f5e02358c17925": {
      "model_module": "ipytone",
      "model_module_version": "^0.4.1",
      "model_name": "NativeAudioParamModel",
      "state": {
       "_model_module": "ipytone",
       "_model_module_version": "^0.4.1",
       "_model_name": "NativeAudioParamModel",
       "_view_count": null,
       "_view_module": null,
       "_view_module_version": "",
       "_view_name": null,
       "type": ""
      }
     },
     "03d9c3de95c643098383061738f38f44": {
      "model_module": "ipytone",
      "model_module_version": "^0.4.1",
      "model_name": "VolumeModel",
      "state": {
       "_create_node": false,
       "_disposed": true,
       "_input": "IPY_MODEL_473c7bb677514a8899eaee1c0552579d",
       "_model_module": "ipytone",
       "_model_module_version": "^0.4.1",
       "_model_name": "VolumeModel",
       "_output": "IPY_MODEL_473c7bb677514a8899eaee1c0552579d",
       "_set_node_channels": true,
       "_view_count": null,
       "_view_module": null,
       "_view_module_version": "",
       "_view_name": null,
       "_volume": "IPY_MODEL_bd41319856bd4d34887dbfa5453a6a84",
       "channel_count": 2,
       "channel_count_mode": "max",
       "channel_interpretation": "speakers",
       "mute": false,
       "name": ""
      }
     },
     "048a9c770b7c4aea9d38fc23f163b51c": {
      "model_module": "ipytone",
      "model_module_version": "^0.4.1",
      "model_name": "GainModel",
      "state": {
       "_create_node": false,
       "_disposed": true,
       "_gain": "IPY_MODEL_e21f0a8c0d884fe3ab37353861f9402a",
       "_input": "IPY_MODEL_0a788c08673a4fa6bfd0559c71718eac",
       "_model_module": "ipytone",
       "_model_module_version": "^0.4.1",
       "_model_name": "GainModel",
       "_output": "IPY_MODEL_0a788c08673a4fa6bfd0559c71718eac",
       "_set_node_channels": true,
       "_view_count": null,
       "_view_module": null,
       "_view_module_version": "",
       "_view_name": null,
       "channel_count": 2,
       "channel_count_mode": "max",
       "channel_interpretation": "speakers",
       "name": ""
      }
     },
     "0506f4b5506c46aa89686310a0a672d8": {
      "model_module": "ipytone",
      "model_module_version": "^0.4.1",
      "model_name": "ParamModel",
      "state": {
       "_create_node": false,
       "_disposed": false,
       "_input": "IPY_MODEL_a718d2bc5c584fddbf70519bbecd496b",
       "_max_value": null,
       "_min_value": null,
       "_model_module": "ipytone",
       "_model_module_version": "^0.4.1",
       "_model_name": "ParamModel",
       "_swappable": false,
       "_units": "audioRange",
       "_view_count": null,
       "_view_module": null,
       "_view_module_version": "",
       "_view_name": null,
       "convert": true,
       "name": "",
       "overridden": false,
       "value": 0.2
      }
     },
     "062f8ff027844131a815afdce7fbd40d": {
      "model_module": "ipytone",
      "model_module_version": "^0.4.1",
      "model_name": "ParamModel",
      "state": {
       "_create_node": false,
       "_disposed": false,
       "_input": "IPY_MODEL_535c850aefb7407185e951a5994187d2",
       "_max_value": null,
       "_min_value": null,
       "_model_module": "ipytone",
       "_model_module_version": "^0.4.1",
       "_model_name": "ParamModel",
       "_swappable": false,
       "_units": "number",
       "_view_count": null,
       "_view_module": null,
       "_view_module_version": "",
       "_view_name": null,
       "convert": true,
       "name": "",
       "overridden": false,
       "value": 1
      }
     },
     "0901916ef0874bafaf4c8b0f5ece381c": {
      "model_module": "ipytone",
      "model_module_version": "^0.4.1",
      "model_name": "NativeAudioParamModel",
      "state": {
       "_model_module": "ipytone",
       "_model_module_version": "^0.4.1",
       "_model_name": "NativeAudioParamModel",
       "_view_count": null,
       "_view_module": null,
       "_view_module_version": "",
       "_view_name": null,
       "type": ""
      }
     },
     "096ed59df345430baa3b6e21dda5c62a": {
      "model_module": "ipytone",
      "model_module_version": "^0.4.1",
      "model_name": "InternalAudioNodeModel",
      "state": {
       "_create_node": false,
       "_disposed": true,
       "_input": null,
       "_model_module": "ipytone",
       "_model_module_version": "^0.4.1",
       "_model_name": "InternalAudioNodeModel",
       "_n_inputs": 1,
       "_n_outputs": 1,
       "_output": null,
       "_set_node_channels": true,
       "_view_count": null,
       "_view_module": null,
       "_view_module_version": "",
       "_view_name": null,
       "channel_count": 2,
       "channel_count_mode": "max",
       "channel_interpretation": "speakers",
       "name": "",
       "type": "ToneConstantSource"
      }
     },
     "0a0e4a5d1c504889800068dd85254bc0": {
      "model_module": "ipytone",
      "model_module_version": "^0.4.1",
      "model_name": "SignalModel",
      "state": {
       "_create_node": false,
       "_disposed": false,
       "_input": "IPY_MODEL_a2b8e7bc845740ff945700646ab5c932",
       "_model_module": "ipytone",
       "_model_module_version": "^0.4.1",
       "_model_name": "SignalModel",
       "_output": "IPY_MODEL_ba5834cb53104a7bbed97a26355f2b67",
       "_override": true,
       "_set_node_channels": true,
       "_view_count": null,
       "_view_module": null,
       "_view_module_version": "",
       "_view_name": null,
       "channel_count": 2,
       "channel_count_mode": "max",
       "channel_interpretation": "speakers",
       "name": "",
       "value": 0.4
      }
     },
     "0a788c08673a4fa6bfd0559c71718eac": {
      "model_module": "ipytone",
      "model_module_version": "^0.4.1",
      "model_name": "NativeAudioNodeModel",
      "state": {
       "_model_module": "ipytone",
       "_model_module_version": "^0.4.1",
       "_model_name": "NativeAudioNodeModel",
       "_n_inputs": 1,
       "_n_outputs": 1,
       "_view_count": null,
       "_view_module": null,
       "_view_module_version": "",
       "_view_name": null,
       "type": "GainNode"
      }
     },
     "0ae796a6400444b1b31320147d6c8a8b": {
      "model_module": "ipytone",
      "model_module_version": "^0.4.1",
      "model_name": "SignalModel",
      "state": {
       "_create_node": false,
       "_disposed": true,
       "_input": "IPY_MODEL_533958b21fa347db9a89002a12f1796a",
       "_model_module": "ipytone",
       "_model_module_version": "^0.4.1",
       "_model_name": "SignalModel",
       "_output": "IPY_MODEL_4f221363ba80455ab1f54e17ff5bde74",
       "_override": true,
       "_set_node_channels": true,
       "_view_count": null,
       "_view_module": null,
       "_view_module_version": "",
       "_view_name": null,
       "channel_count": 2,
       "channel_count_mode": "max",
       "channel_interpretation": "speakers",
       "name": "",
       "value": 350
      }
     },
     "0c26803cc1a84c02aa7f45fc15881a4e": {
      "model_module": "ipytone",
      "model_module_version": "^0.4.1",
      "model_name": "SignalModel",
      "state": {
       "_create_node": false,
       "_disposed": true,
       "_input": "IPY_MODEL_fd25c2d6f2ca4d8f8f2028e23dc0966c",
       "_model_module": "ipytone",
       "_model_module_version": "^0.4.1",
       "_model_name": "SignalModel",
       "_output": "IPY_MODEL_74e3de8f34a54d71a7e041d26a1869a1",
       "_override": true,
       "_set_node_channels": true,
       "_view_count": null,
       "_view_module": null,
       "_view_module_version": "",
       "_view_name": null,
       "channel_count": 2,
       "channel_count_mode": "max",
       "channel_interpretation": "speakers",
       "name": "",
       "value": "C4"
      }
     },
     "102c0ea619264c358d3f55a0538c054a": {
      "model_module": "ipytone",
      "model_module_version": "^0.4.1",
      "model_name": "ParamModel",
      "state": {
       "_create_node": false,
       "_disposed": true,
       "_input": "IPY_MODEL_cb453dd8585e4c43a04eee461c9a2a5c",
       "_max_value": null,
       "_min_value": null,
       "_model_module": "ipytone",
       "_model_module_version": "^0.4.1",
       "_model_name": "ParamModel",
       "_swappable": false,
       "_units": "number",
       "_view_count": null,
       "_view_module": null,
       "_view_module_version": "",
       "_view_name": null,
       "convert": true,
       "name": "",
       "overridden": false,
       "value": 0
      }
     },
     "10f5d91f20244444900f4c457b7c984f": {
      "model_module": "ipytone",
      "model_module_version": "^0.4.1",
      "model_name": "GainModel",
      "state": {
       "_create_node": false,
       "_disposed": true,
       "_gain": "IPY_MODEL_4d6baa4fe1d84534a254a457e3cedcda",
       "_input": "IPY_MODEL_92cc3d50eac741ae94a84687f6f40346",
       "_model_module": "ipytone",
       "_model_module_version": "^0.4.1",
       "_model_name": "GainModel",
       "_output": "IPY_MODEL_92cc3d50eac741ae94a84687f6f40346",
       "_set_node_channels": true,
       "_view_count": null,
       "_view_module": null,
       "_view_module_version": "",
       "_view_name": null,
       "channel_count": 2,
       "channel_count_mode": "max",
       "channel_interpretation": "speakers",
       "name": ""
      }
     },
     "11d0695b18324acfac4311270418e7e6": {
      "model_module": "ipytone",
      "model_module_version": "^0.4.1",
      "model_name": "ParamModel",
      "state": {
       "_create_node": false,
       "_disposed": true,
       "_input": "IPY_MODEL_d26fe43672e74c27ab8d8e88d14c5b4f",
       "_max_value": null,
       "_min_value": null,
       "_model_module": "ipytone",
       "_model_module_version": "^0.4.1",
       "_model_name": "ParamModel",
       "_swappable": false,
       "_units": "gain",
       "_view_count": null,
       "_view_module": null,
       "_view_module_version": "",
       "_view_name": null,
       "convert": true,
       "name": "",
       "overridden": false,
       "value": 0
      }
     },
     "11d414e3a8d84f2b9090f56dc89ac596": {
      "model_module": "ipytone",
      "model_module_version": "^0.4.1",
      "model_name": "OmniOscillatorModel",
      "state": {
       "_create_node": true,
       "_detune": "IPY_MODEL_73e5a2a955464391bd1ca7f2d9117c38",
       "_disposed": true,
       "_frequency": "IPY_MODEL_77c0204cc421437594c4b9989cb2d839",
       "_harmonicity": "IPY_MODEL_2f07fd006bce4eafb5166862177e3a62",
       "_input": null,
       "_model_module": "ipytone",
       "_model_module_version": "^0.4.1",
       "_model_name": "OmniOscillatorModel",
       "_modulation_frequency": "IPY_MODEL_0a0e4a5d1c504889800068dd85254bc0",
       "_modulation_index": "IPY_MODEL_cc92455cb1764f6284bb614a03d30d7d",
       "_output": "IPY_MODEL_d571447b77684d7e9249acf2584e3601",
       "_partials": [],
       "_set_node_channels": true,
       "_view_count": null,
       "_view_module": null,
       "_view_module_version": "",
       "_view_name": null,
       "_volume": "IPY_MODEL_a9fb2dc3308643cdab5c7f57415880be",
       "_width": "IPY_MODEL_4655e45522ac4aaaba66f5ca3c5ada7b",
       "array": null,
       "array_length": 1024,
       "channel_count": 2,
       "channel_count_mode": "max",
       "channel_interpretation": "speakers",
       "count": 3,
       "modulation_type": "square",
       "mute": false,
       "name": "",
       "phase": 0,
       "spread": 20,
       "sync_array": false,
       "type": "sawtooth"
      }
     },
     "1211d24410754e58976946257875e122": {
      "model_module": "ipytone",
      "model_module_version": "^0.4.1",
      "model_name": "ParamModel",
      "state": {
       "_create_node": false,
       "_disposed": true,
       "_input": "IPY_MODEL_71835550ff2c4390b3d34353c6a0cb4d",
       "_max_value": null,
       "_min_value": null,
       "_model_module": "ipytone",
       "_model_module_version": "^0.4.1",
       "_model_name": "ParamModel",
       "_swappable": false,
       "_units": "gain",
       "_view_count": null,
       "_view_module": null,
       "_view_module_version": "",
       "_view_name": null,
       "convert": true,
       "name": "",
       "overridden": false,
       "value": 1
      }
     },
     "147ce04775a147ffa71960854c4afd77": {
      "model_module": "ipytone",
      "model_module_version": "^0.4.1",
      "model_name": "NativeAudioParamModel",
      "state": {
       "_model_module": "ipytone",
       "_model_module_version": "^0.4.1",
       "_model_name": "NativeAudioParamModel",
       "_view_count": null,
       "_view_module": null,
       "_view_module_version": "",
       "_view_name": null,
       "type": ""
      }
     },
     "17a6aadcd9d046e495e4c609f7fdc3c7": {
      "model_module": "ipytone",
      "model_module_version": "^0.4.1",
      "model_name": "NativeAudioNodeModel",
      "state": {
       "_model_module": "ipytone",
       "_model_module_version": "^0.4.1",
       "_model_name": "NativeAudioNodeModel",
       "_n_inputs": 1,
       "_n_outputs": 1,
       "_view_count": null,
       "_view_module": null,
       "_view_module_version": "",
       "_view_name": null,
       "type": "GainNode"
      }
     },
     "18c465823c844778b3e57c2ac5274581": {
      "model_module": "ipytone",
      "model_module_version": "^0.4.1",
      "model_name": "ParamModel",
      "state": {
       "_create_node": false,
       "_disposed": true,
       "_input": "IPY_MODEL_a1e7d604970d460da5f9dd65ad584f1a",
       "_max_value": null,
       "_min_value": null,
       "_model_module": "ipytone",
       "_model_module_version": "^0.4.1",
       "_model_name": "ParamModel",
       "_swappable": false,
       "_units": "gain",
       "_view_count": null,
       "_view_module": null,
       "_view_module_version": "",
       "_view_name": null,
       "convert": true,
       "name": "",
       "overridden": false,
       "value": 0
      }
     },
     "1afd749474ab4422b4131f262183309d": {
      "model_module": "ipytone",
      "model_module_version": "^0.4.1",
      "model_name": "DestinationModel",
      "state": {
       "_create_node": true,
       "_disposed": false,
       "_input": "IPY_MODEL_fb2edd37fb89405d9f276a718212ca9c",
       "_model_module": "ipytone",
       "_model_module_version": "^0.4.1",
       "_model_name": "DestinationModel",
       "_output": "IPY_MODEL_59372a573ce54bc9b014fdc7fdb0c36d",
       "_set_node_channels": true,
       "_view_count": null,
       "_view_module": null,
       "_view_module_version": "",
       "_view_name": null,
       "_volume": "IPY_MODEL_5e9f6fbc389d47d1b9e9863ee97d7454",
       "channel_count": 2,
       "channel_count_mode": "max",
       "channel_interpretation": "speakers",
       "mute": false,
       "name": "main output"
      }
     },
     "1b0139e4f7ae4b7fae251eded31769d5": {
      "model_module": "ipytone",
      "model_module_version": "^0.4.1",
      "model_name": "NativeAudioParamModel",
      "state": {
       "_model_module": "ipytone",
       "_model_module_version": "^0.4.1",
       "_model_name": "NativeAudioParamModel",
       "_view_count": null,
       "_view_module": null,
       "_view_module_version": "",
       "_view_name": null,
       "type": ""
      }
     },
     "1b1c035aed3446f28b245837f778687b": {
      "model_module": "ipytone",
      "model_module_version": "^0.4.1",
      "model_name": "GainModel",
      "state": {
       "_create_node": false,
       "_disposed": false,
       "_gain": "IPY_MODEL_24180d74317a4152b43fa0968625ee1e",
       "_input": "IPY_MODEL_8e2d0c4f32ae4601b80bc6fdb7ef8f4d",
       "_model_module": "ipytone",
       "_model_module_version": "^0.4.1",
       "_model_name": "GainModel",
       "_output": "IPY_MODEL_8e2d0c4f32ae4601b80bc6fdb7ef8f4d",
       "_set_node_channels": true,
       "_view_count": null,
       "_view_module": null,
       "_view_module_version": "",
       "_view_name": null,
       "channel_count": 2,
       "channel_count_mode": "max",
       "channel_interpretation": "speakers",
       "name": ""
      }
     },
     "1d00c9d4255d47c8af099f4706adff0e": {
      "model_module": "ipytone",
      "model_module_version": "^0.4.1",
      "model_name": "ParamModel",
      "state": {
       "_create_node": false,
       "_disposed": true,
       "_input": "IPY_MODEL_4ee86aba745c46a59b2d53c29b459fd6",
       "_max_value": null,
       "_min_value": null,
       "_model_module": "ipytone",
       "_model_module_version": "^0.4.1",
       "_model_name": "ParamModel",
       "_swappable": false,
       "_units": "cents",
       "_view_count": null,
       "_view_module": null,
       "_view_module_version": "",
       "_view_name": null,
       "convert": true,
       "name": "",
       "overridden": false,
       "value": 0
      }
     },
     "1da668756a2b4e3487444e648f779414": {
      "model_module": "ipytone",
      "model_module_version": "^0.4.1",
      "model_name": "ParamModel",
      "state": {
       "_create_node": false,
       "_disposed": true,
       "_input": "IPY_MODEL_31a014fd168d4e0babb4820fcc4584df",
       "_max_value": null,
       "_min_value": null,
       "_model_module": "ipytone",
       "_model_module_version": "^0.4.1",
       "_model_name": "ParamModel",
       "_swappable": false,
       "_units": "cents",
       "_view_count": null,
       "_view_module": null,
       "_view_module_version": "",
       "_view_name": null,
       "convert": true,
       "name": "",
       "overridden": false,
       "value": 0
      }
     },
     "1df8d3a0e081424da6e869149e3b6f8b": {
      "model_module": "ipytone",
      "model_module_version": "^0.4.1",
      "model_name": "NativeAudioParamModel",
      "state": {
       "_model_module": "ipytone",
       "_model_module_version": "^0.4.1",
       "_model_name": "NativeAudioParamModel",
       "_view_count": null,
       "_view_module": null,
       "_view_module_version": "",
       "_view_name": null,
       "type": ""
      }
     },
     "20501da0c3d8472799fe952c28d537cb": {
      "model_module": "ipytone",
      "model_module_version": "^0.4.1",
      "model_name": "NativeAudioParamModel",
      "state": {
       "_model_module": "ipytone",
       "_model_module_version": "^0.4.1",
       "_model_name": "NativeAudioParamModel",
       "_view_count": null,
       "_view_module": null,
       "_view_module_version": "",
       "_view_name": null,
       "type": ""
      }
     },
     "20533979d9264d928a26183750c33633": {
      "model_module": "ipytone",
      "model_module_version": "^0.4.1",
      "model_name": "NativeAudioParamModel",
      "state": {
       "_model_module": "ipytone",
       "_model_module_version": "^0.4.1",
       "_model_name": "NativeAudioParamModel",
       "_view_count": null,
       "_view_module": null,
       "_view_module_version": "",
       "_view_name": null,
       "type": ""
      }
     },
     "221fce7a61ee4367bb79d27f7b072b0e": {
      "model_module": "ipytone",
      "model_module_version": "^0.4.1",
      "model_name": "InternalAudioNodeModel",
      "state": {
       "_create_node": false,
       "_disposed": true,
       "_input": null,
       "_model_module": "ipytone",
       "_model_module_version": "^0.4.1",
       "_model_name": "InternalAudioNodeModel",
       "_n_inputs": 1,
       "_n_outputs": 1,
       "_output": null,
       "_set_node_channels": true,
       "_view_count": null,
       "_view_module": null,
       "_view_module_version": "",
       "_view_name": null,
       "channel_count": 2,
       "channel_count_mode": "max",
       "channel_interpretation": "speakers",
       "name": "",
       "type": "ToneConstantSource"
      }
     },
     "24180d74317a4152b43fa0968625ee1e": {
      "model_module": "ipytone",
      "model_module_version": "^0.4.1",
      "model_name": "ParamModel",
      "state": {
       "_create_node": false,
       "_disposed": false,
       "_input": "IPY_MODEL_37b53c19679c4f0b92b133ba12a59f7d",
       "_max_value": null,
       "_min_value": null,
       "_model_module": "ipytone",
       "_model_module_version": "^0.4.1",
       "_model_name": "ParamModel",
       "_swappable": false,
       "_units": "number",
       "_view_count": null,
       "_view_module": null,
       "_view_module_version": "",
       "_view_name": null,
       "convert": true,
       "name": "",
       "overridden": false,
       "value": 1
      }
     },
     "265c882112fa49d8819bd48eb27d86ac": {
      "model_module": "ipytone",
      "model_module_version": "^0.4.1",
      "model_name": "NativeAudioNodeModel",
      "state": {
       "_model_module": "ipytone",
       "_model_module_version": "^0.4.1",
       "_model_name": "NativeAudioNodeModel",
       "_n_inputs": 1,
       "_n_outputs": 1,
       "_view_count": null,
       "_view_module": null,
       "_view_module_version": "",
       "_view_name": null,
       "type": "GainNode"
      }
     },
     "269078a35a2e4731bb8ba4219eaf1178": {
      "model_module": "ipytone",
      "model_module_version": "^0.4.1",
      "model_name": "GainModel",
      "state": {
       "_create_node": false,
       "_disposed": true,
       "_gain": "IPY_MODEL_1211d24410754e58976946257875e122",
       "_input": "IPY_MODEL_c519bd7d707641249f6831e190a8f753",
       "_model_module": "ipytone",
       "_model_module_version": "^0.4.1",
       "_model_name": "GainModel",
       "_output": "IPY_MODEL_c519bd7d707641249f6831e190a8f753",
       "_set_node_channels": true,
       "_view_count": null,
       "_view_module": null,
       "_view_module_version": "",
       "_view_name": null,
       "channel_count": 2,
       "channel_count_mode": "max",
       "channel_interpretation": "speakers",
       "name": ""
      }
     },
     "276421ca5e574a37b18586cf05d3d18f": {
      "model_module": "ipytone",
      "model_module_version": "^0.4.1",
      "model_name": "NativeAudioParamModel",
      "state": {
       "_model_module": "ipytone",
       "_model_module_version": "^0.4.1",
       "_model_name": "NativeAudioParamModel",
       "_view_count": null,
       "_view_module": null,
       "_view_module_version": "",
       "_view_name": null,
       "type": ""
      }
     },
     "295e0d87167e4b048a87b56fa4e2894b": {
      "model_module": "ipytone",
      "model_module_version": "^0.4.1",
      "model_name": "AmplitudeEnvelopeModel",
      "state": {
       "_create_node": true,
       "_disposed": true,
       "_input": "IPY_MODEL_d2b3aa2b2a874d0a82e587e72ec90f5f",
       "_model_module": "ipytone",
       "_model_module_version": "^0.4.1",
       "_model_name": "AmplitudeEnvelopeModel",
       "_output": "IPY_MODEL_d2b3aa2b2a874d0a82e587e72ec90f5f",
       "_set_node_channels": true,
       "_view_count": null,
       "_view_module": null,
       "_view_module_version": "",
       "_view_name": null,
       "array": null,
       "array_length": 1024,
       "attack": 0.005,
       "attack_curve": "linear",
       "channel_count": 2,
       "channel_count_mode": "max",
       "channel_interpretation": "speakers",
       "decay": 0.1,
       "decay_curve": "exponential",
       "name": "",
       "release": 1,
       "release_curve": "exponential",
       "sustain": 0.9,
       "sync_array": false
      }
     },
     "2bef10a1224e42fc89ba6eb1547607b1": {
      "model_module": "ipytone",
      "model_module_version": "^0.4.1",
      "model_name": "NativeAudioParamModel",
      "state": {
       "_model_module": "ipytone",
       "_model_module_version": "^0.4.1",
       "_model_name": "NativeAudioParamModel",
       "_view_count": null,
       "_view_module": null,
       "_view_module_version": "",
       "_view_name": null,
       "type": ""
      }
     },
     "2ec7f5da472847eb97a9ea80d988e1a3": {
      "model_module": "ipytone",
      "model_module_version": "^0.4.1",
      "model_name": "MonophonicModel",
      "state": {
       "_after_init": "this.getNode('oscillator').onstop = () => this.onsilence(this);this.getNode('oscillator').chain(  this.getNode('filter'), this.getNode('envelope'), this.output);this.getNode('filter_envelope').connect(this.getNode('filter').frequency);",
       "_create_node": true,
       "_disposed": true,
       "_get_level_at_time": "time = this.toSeconds(time);return this.getNode('envelope').getValueAtTime(time);",
       "_input": null,
       "_internal_nodes": {
        "envelope": "IPY_MODEL_295e0d87167e4b048a87b56fa4e2894b",
        "filter": "IPY_MODEL_78b030f9898b425a9dd1d2e726305069",
        "filter_envelope": "IPY_MODEL_a4c6bf767e6f40dc9b52b80fcc508030",
        "oscillator": "IPY_MODEL_11d414e3a8d84f2b9090f56dc89ac596"
       },
       "_model_module": "ipytone",
       "_model_module_version": "^0.4.1",
       "_model_name": "MonophonicModel",
       "_output": "IPY_MODEL_b4454fa460374d0f86a755b94bf251e7",
       "_set_node_channels": true,
       "_set_note": "",
       "_settings": {
        "envelope": [
         "attack",
         "decay",
         "sustain",
         "release"
        ],
        "filter": [
         "type",
         "rolloff",
         "q"
        ],
        "filter_envelope": [
         "attack",
         "decay",
         "sustain",
         "release"
        ],
        "oscillator": [
         "type"
        ]
       },
       "_trigger_attack": "const envelope = this.getNode('envelope');const filterEnvelope = this.getNode('filter_envelope');const oscillator = this.getNode('oscillator');envelope.triggerAttack(time, velocity);filterEnvelope.triggerAttack(time);oscillator.start(time);if (envelope.sustain === 0) {    const computedAttack = this.toSeconds(envelope.attack);    const computedDecay = this.toSeconds(envelope.decay);    oscillator.stop(time + computedAttack + computedDecay);}",
       "_trigger_release": "const envelope = this.getNode('envelope');const filterEnvelope = this.getNode('filter_envelope');const oscillator = this.getNode('oscillator');envelope.triggerRelease(time);filterEnvelope.triggerRelease(time);oscillator.stop(time + this.toSeconds(envelope.release));",
       "_view_count": null,
       "_view_module": null,
       "_view_module_version": "",
       "_view_name": null,
       "channel_count": 2,
       "channel_count_mode": "max",
       "channel_interpretation": "speakers",
       "name": "",
       "portamento": 0.3
      }
     },
     "2f07fd006bce4eafb5166862177e3a62": {
      "model_module": "ipytone",
      "model_module_version": "^0.4.1",
      "model_name": "MultiplyModel",
      "state": {
       "_create_node": false,
       "_disposed": false,
       "_factor": "IPY_MODEL_de9f496aafc742de8e3cdb5620649ae3",
       "_input": "IPY_MODEL_8b2116da5bc64ef09bda4048a3ae2953",
       "_model_module": "ipytone",
       "_model_module_version": "^0.4.1",
       "_model_name": "MultiplyModel",
       "_output": "IPY_MODEL_8b2116da5bc64ef09bda4048a3ae2953",
       "_override": false,
       "_set_node_channels": true,
       "_view_count": null,
       "_view_module": null,
       "_view_module_version": "",
       "_view_name": null,
       "channel_count": 2,
       "channel_count_mode": "max",
       "channel_interpretation": "speakers",
       "name": "",
       "value": 1
      }
     },
     "31a014fd168d4e0babb4820fcc4584df": {
      "model_module": "ipytone",
      "model_module_version": "^0.4.1",
      "model_name": "NativeAudioParamModel",
      "state": {
       "_model_module": "ipytone",
       "_model_module_version": "^0.4.1",
       "_model_name": "NativeAudioParamModel",
       "_view_count": null,
       "_view_module": null,
       "_view_module_version": "",
       "_view_name": null,
       "type": ""
      }
     },
     "33980feb02b9422e8d64ebb3df688896": {
      "model_module": "ipytone",
      "model_module_version": "^0.4.1",
      "model_name": "InternalAudioNodeModel",
      "state": {
       "_create_node": false,
       "_disposed": false,
       "_input": null,
       "_model_module": "ipytone",
       "_model_module_version": "^0.4.1",
       "_model_name": "InternalAudioNodeModel",
       "_n_inputs": 1,
       "_n_outputs": 1,
       "_output": null,
       "_set_node_channels": true,
       "_view_count": null,
       "_view_module": null,
       "_view_module_version": "",
       "_view_name": null,
       "channel_count": 2,
       "channel_count_mode": "max",
       "channel_interpretation": "speakers",
       "name": "",
       "type": "ToneConstantSource"
      }
     },
     "363a9246606542e6b650647d23efd361": {
      "model_module": "ipytone",
      "model_module_version": "^0.4.1",
      "model_name": "VolumeModel",
      "state": {
       "_create_node": false,
       "_disposed": true,
       "_input": "IPY_MODEL_e4688702b1744b9c93d18c8d813fa29c",
       "_model_module": "ipytone",
       "_model_module_version": "^0.4.1",
       "_model_name": "VolumeModel",
       "_output": "IPY_MODEL_e4688702b1744b9c93d18c8d813fa29c",
       "_set_node_channels": true,
       "_view_count": null,
       "_view_module": null,
       "_view_module_version": "",
       "_view_name": null,
       "_volume": "IPY_MODEL_3ec35a2f5bca417b96d7b83ec67ca0de",
       "channel_count": 2,
       "channel_count_mode": "max",
       "channel_interpretation": "speakers",
       "mute": false,
       "name": ""
      }
     },
     "37b53c19679c4f0b92b133ba12a59f7d": {
      "model_module": "ipytone",
      "model_module_version": "^0.4.1",
      "model_name": "NativeAudioParamModel",
      "state": {
       "_model_module": "ipytone",
       "_model_module_version": "^0.4.1",
       "_model_name": "NativeAudioParamModel",
       "_view_count": null,
       "_view_module": null,
       "_view_module_version": "",
       "_view_name": null,
       "type": ""
      }
     },
     "382608809acd46e588e1229bfb26f604": {
      "model_module": "ipytone",
      "model_module_version": "^0.4.1",
      "model_name": "InternalAudioNodeModel",
      "state": {
       "_create_node": false,
       "_disposed": true,
       "_input": null,
       "_model_module": "ipytone",
       "_model_module_version": "^0.4.1",
       "_model_name": "InternalAudioNodeModel",
       "_n_inputs": 1,
       "_n_outputs": 1,
       "_output": null,
       "_set_node_channels": true,
       "_view_count": null,
       "_view_module": null,
       "_view_module_version": "",
       "_view_name": null,
       "channel_count": 2,
       "channel_count_mode": "max",
       "channel_interpretation": "speakers",
       "name": "",
       "type": "ToneConstantSource"
      }
     },
     "38c9186b98164aa9b0f88d1de1a2afe2": {
      "model_module": "ipytone",
      "model_module_version": "^0.4.1",
      "model_name": "ScaleModel",
      "state": {
       "_create_node": true,
       "_disposed": true,
       "_input": "IPY_MODEL_fa2ce3e18c1a46f183a6f87a52366c96",
       "_model_module": "ipytone",
       "_model_module_version": "^0.4.1",
       "_model_name": "ScaleModel",
       "_output": "IPY_MODEL_e3dd02fb206a4debaa135d92587d24ad",
       "_set_node_channels": true,
       "_view_count": null,
       "_view_module": null,
       "_view_module_version": "",
       "_view_name": null,
       "channel_count": 2,
       "channel_count_mode": "max",
       "channel_interpretation": "speakers",
       "max_out": 1600,
       "min_out": 200,
       "name": ""
      }
     },
     "3a5c0b97e9974cdc98af095457e4f864": {
      "model_module": "ipytone",
      "model_module_version": "^0.4.1",
      "model_name": "ParamModel",
      "state": {
       "_create_node": false,
       "_disposed": true,
       "_input": "IPY_MODEL_0901916ef0874bafaf4c8b0f5ece381c",
       "_max_value": null,
       "_min_value": null,
       "_model_module": "ipytone",
       "_model_module_version": "^0.4.1",
       "_model_name": "ParamModel",
       "_swappable": false,
       "_units": "decibels",
       "_view_count": null,
       "_view_module": null,
       "_view_module_version": "",
       "_view_name": null,
       "convert": true,
       "name": "",
       "overridden": false,
       "value": 0
      }
     },
     "3d58085e340b49529f5bbc7917bbf30f": {
      "model_module": "ipytone",
      "model_module_version": "^0.4.1",
      "model_name": "InternalAudioNodeModel",
      "state": {
       "_create_node": false,
       "_disposed": true,
       "_input": null,
       "_model_module": "ipytone",
       "_model_module_version": "^0.4.1",
       "_model_name": "InternalAudioNodeModel",
       "_n_inputs": 1,
       "_n_outputs": 1,
       "_output": null,
       "_set_node_channels": true,
       "_view_count": null,
       "_view_module": null,
       "_view_module_version": "",
       "_view_name": null,
       "channel_count": 2,
       "channel_count_mode": "max",
       "channel_interpretation": "speakers",
       "name": "",
       "type": "WaveShaper"
      }
     },
     "3ec35a2f5bca417b96d7b83ec67ca0de": {
      "model_module": "ipytone",
      "model_module_version": "^0.4.1",
      "model_name": "ParamModel",
      "state": {
       "_create_node": false,
       "_disposed": true,
       "_input": "IPY_MODEL_2bef10a1224e42fc89ba6eb1547607b1",
       "_max_value": null,
       "_min_value": null,
       "_model_module": "ipytone",
       "_model_module_version": "^0.4.1",
       "_model_name": "ParamModel",
       "_swappable": false,
       "_units": "decibels",
       "_view_count": null,
       "_view_module": null,
       "_view_module_version": "",
       "_view_name": null,
       "convert": true,
       "name": "",
       "overridden": false,
       "value": -8
      }
     },
     "3fafb2836a4f449f892ef0ec925f8d7a": {
      "model_module": "ipytone",
      "model_module_version": "^0.4.1",
      "model_name": "MultiplyModel",
      "state": {
       "_create_node": false,
       "_disposed": false,
       "_factor": "IPY_MODEL_f7683a971d85471aa1f60ed8a3b2b84e",
       "_input": "IPY_MODEL_89a077518ffb4b37925d2d536734d7fe",
       "_model_module": "ipytone",
       "_model_module_version": "^0.4.1",
       "_model_name": "MultiplyModel",
       "_output": "IPY_MODEL_89a077518ffb4b37925d2d536734d7fe",
       "_override": false,
       "_set_node_channels": true,
       "_view_count": null,
       "_view_module": null,
       "_view_module_version": "",
       "_view_name": null,
       "channel_count": 2,
       "channel_count_mode": "max",
       "channel_interpretation": "speakers",
       "name": "",
       "value": 2
      }
     },
     "3fc67a14867a41588399151c220100bc": {
      "model_module": "ipytone",
      "model_module_version": "^0.4.1",
      "model_name": "GainModel",
      "state": {
       "_create_node": false,
       "_disposed": true,
       "_gain": "IPY_MODEL_df021b314bcd4d40854c514df3235a1a",
       "_input": "IPY_MODEL_c82d8d7629834c5a810a1f093ae0ba97",
       "_model_module": "ipytone",
       "_model_module_version": "^0.4.1",
       "_model_name": "GainModel",
       "_output": "IPY_MODEL_c82d8d7629834c5a810a1f093ae0ba97",
       "_set_node_channels": true,
       "_view_count": null,
       "_view_module": null,
       "_view_module_version": "",
       "_view_name": null,
       "channel_count": 2,
       "channel_count_mode": "max",
       "channel_interpretation": "speakers",
       "name": ""
      }
     },
     "41fe93cad8b24351961d8108401b344d": {
      "model_module": "ipytone",
      "model_module_version": "^0.4.1",
      "model_name": "NativeAudioParamModel",
      "state": {
       "_model_module": "ipytone",
       "_model_module_version": "^0.4.1",
       "_model_name": "NativeAudioParamModel",
       "_view_count": null,
       "_view_module": null,
       "_view_module_version": "",
       "_view_name": null,
       "type": ""
      }
     },
     "458f033b14224ef19ab766ca885d1c7a": {
      "model_module": "ipytone",
      "model_module_version": "^0.4.1",
      "model_name": "ParamModel",
      "state": {
       "_create_node": false,
       "_disposed": true,
       "_input": "IPY_MODEL_d6f88d8e208d48808366c35a28adcabc",
       "_max_value": null,
       "_min_value": null,
       "_model_module": "ipytone",
       "_model_module_version": "^0.4.1",
       "_model_name": "ParamModel",
       "_swappable": false,
       "_units": "decibels",
       "_view_count": null,
       "_view_module": null,
       "_view_module_version": "",
       "_view_name": null,
       "convert": true,
       "name": "",
       "overridden": false,
       "value": 0
      }
     },
     "4655e45522ac4aaaba66f5ca3c5ada7b": {
      "model_module": "ipytone",
      "model_module_version": "^0.4.1",
      "model_name": "SignalModel",
      "state": {
       "_create_node": false,
       "_disposed": false,
       "_input": "IPY_MODEL_7564fe6fa4d34459972caa07679b1587",
       "_model_module": "ipytone",
       "_model_module_version": "^0.4.1",
       "_model_name": "SignalModel",
       "_output": "IPY_MODEL_33980feb02b9422e8d64ebb3df688896",
       "_override": true,
       "_set_node_channels": true,
       "_view_count": null,
       "_view_module": null,
       "_view_module_version": "",
       "_view_name": null,
       "channel_count": 2,
       "channel_count_mode": "max",
       "channel_interpretation": "speakers",
       "name": "",
       "value": 0.2
      }
     },
     "473c7bb677514a8899eaee1c0552579d": {
      "model_module": "ipytone",
      "model_module_version": "^0.4.1",
      "model_name": "GainModel",
      "state": {
       "_create_node": false,
       "_disposed": true,
       "_gain": "IPY_MODEL_bd41319856bd4d34887dbfa5453a6a84",
       "_input": "IPY_MODEL_aaef9c8a976a4a39bdf2f512a17ecaa4",
       "_model_module": "ipytone",
       "_model_module_version": "^0.4.1",
       "_model_name": "GainModel",
       "_output": "IPY_MODEL_aaef9c8a976a4a39bdf2f512a17ecaa4",
       "_set_node_channels": true,
       "_view_count": null,
       "_view_module": null,
       "_view_module_version": "",
       "_view_name": null,
       "channel_count": 2,
       "channel_count_mode": "max",
       "channel_interpretation": "speakers",
       "name": ""
      }
     },
     "48d6ac54581b4a3496746a4e3d070c39": {
      "model_module": "ipytone",
      "model_module_version": "^0.4.1",
      "model_name": "TransportModel",
      "state": {
       "_bpm": "IPY_MODEL_dbcc0a1fed954bd6a41b1261953fe740",
       "_disposed": false,
       "_model_module": "ipytone",
       "_model_module_version": "^0.4.1",
       "_model_name": "TransportModel",
       "_view_count": null,
       "_view_module": null,
       "_view_module_version": "",
       "_view_name": null,
       "loop": false,
       "loop_end": "4m",
       "loop_start": 0,
       "position": 0,
       "progress": 0,
       "seconds": 0,
       "swing": 0,
       "swing_subdivision": "8n",
       "ticks": 0,
       "time_signature": 4
      }
     },
     "498c7040e5a941fbbeab386ccba27011": {
      "model_module": "ipytone",
      "model_module_version": "^0.4.1",
      "model_name": "NativeAudioParamModel",
      "state": {
       "_model_module": "ipytone",
       "_model_module_version": "^0.4.1",
       "_model_name": "NativeAudioParamModel",
       "_view_count": null,
       "_view_module": null,
       "_view_module_version": "",
       "_view_name": null,
       "type": ""
      }
     },
     "4ce56f2a75a94689ab30c6691a9b39dd": {
      "model_module": "ipytone",
      "model_module_version": "^0.4.1",
      "model_name": "NativeAudioParamModel",
      "state": {
       "_model_module": "ipytone",
       "_model_module_version": "^0.4.1",
       "_model_name": "NativeAudioParamModel",
       "_view_count": null,
       "_view_module": null,
       "_view_module_version": "",
       "_view_name": null,
       "type": ""
      }
     },
     "4d6baa4fe1d84534a254a457e3cedcda": {
      "model_module": "ipytone",
      "model_module_version": "^0.4.1",
      "model_name": "ParamModel",
      "state": {
       "_create_node": false,
       "_disposed": true,
       "_input": "IPY_MODEL_498c7040e5a941fbbeab386ccba27011",
       "_max_value": null,
       "_min_value": null,
       "_model_module": "ipytone",
       "_model_module_version": "^0.4.1",
       "_model_name": "ParamModel",
       "_swappable": false,
       "_units": "gain",
       "_view_count": null,
       "_view_module": null,
       "_view_module_version": "",
       "_view_name": null,
       "convert": true,
       "name": "",
       "overridden": false,
       "value": 0
      }
     },
     "4d751ae4aedd4e5aa0303c97dfe524d4": {
      "model_module": "ipytone",
      "model_module_version": "^0.4.1",
      "model_name": "InternalAudioNodeModel",
      "state": {
       "_create_node": false,
       "_disposed": true,
       "_input": null,
       "_model_module": "ipytone",
       "_model_module_version": "^0.4.1",
       "_model_name": "InternalAudioNodeModel",
       "_n_inputs": 1,
       "_n_outputs": 1,
       "_output": null,
       "_set_node_channels": true,
       "_view_count": null,
       "_view_module": null,
       "_view_module_version": "",
       "_view_name": null,
       "channel_count": 2,
       "channel_count_mode": "max",
       "channel_interpretation": "speakers",
       "name": "",
       "type": "ToneConstantSource"
      }
     },
     "4df81322516246fbb895e67529d1af27": {
      "model_module": "ipytone",
      "model_module_version": "^0.4.1",
      "model_name": "ParamModel",
      "state": {
       "_create_node": false,
       "_disposed": true,
       "_input": "IPY_MODEL_1df8d3a0e081424da6e869149e3b6f8b",
       "_max_value": null,
       "_min_value": null,
       "_model_module": "ipytone",
       "_model_module_version": "^0.4.1",
       "_model_name": "ParamModel",
       "_swappable": false,
       "_units": "cents",
       "_view_count": null,
       "_view_module": null,
       "_view_module_version": "",
       "_view_name": null,
       "convert": true,
       "name": "",
       "overridden": false,
       "value": 0
      }
     },
     "4e0579fb4d3c4f9b9ec155f2bb70029f": {
      "model_module": "ipytone",
      "model_module_version": "^0.4.1",
      "model_name": "GainModel",
      "state": {
       "_create_node": false,
       "_disposed": false,
       "_gain": "IPY_MODEL_8fd1f58abfd448588058d4a50b5aceeb",
       "_input": "IPY_MODEL_89f5eabdce874831a7cd76c3bbaf5005",
       "_model_module": "ipytone",
       "_model_module_version": "^0.4.1",
       "_model_name": "GainModel",
       "_output": "IPY_MODEL_89f5eabdce874831a7cd76c3bbaf5005",
       "_set_node_channels": true,
       "_view_count": null,
       "_view_module": null,
       "_view_module_version": "",
       "_view_name": null,
       "channel_count": 2,
       "channel_count_mode": "max",
       "channel_interpretation": "speakers",
       "name": ""
      }
     },
     "4ee86aba745c46a59b2d53c29b459fd6": {
      "model_module": "ipytone",
      "model_module_version": "^0.4.1",
      "model_name": "NativeAudioParamModel",
      "state": {
       "_model_module": "ipytone",
       "_model_module_version": "^0.4.1",
       "_model_name": "NativeAudioParamModel",
       "_view_count": null,
       "_view_module": null,
       "_view_module_version": "",
       "_view_name": null,
       "type": ""
      }
     },
     "4f221363ba80455ab1f54e17ff5bde74": {
      "model_module": "ipytone",
      "model_module_version": "^0.4.1",
      "model_name": "InternalAudioNodeModel",
      "state": {
       "_create_node": false,
       "_disposed": true,
       "_input": null,
       "_model_module": "ipytone",
       "_model_module_version": "^0.4.1",
       "_model_name": "InternalAudioNodeModel",
       "_n_inputs": 1,
       "_n_outputs": 1,
       "_output": null,
       "_set_node_channels": true,
       "_view_count": null,
       "_view_module": null,
       "_view_module_version": "",
       "_view_name": null,
       "channel_count": 2,
       "channel_count_mode": "max",
       "channel_interpretation": "speakers",
       "name": "",
       "type": "ToneConstantSource"
      }
     },
     "519cb61253da42d0ac015a563392f8f4": {
      "model_module": "ipytone",
      "model_module_version": "^0.4.1",
      "model_name": "NativeAudioParamModel",
      "state": {
       "_model_module": "ipytone",
       "_model_module_version": "^0.4.1",
       "_model_name": "NativeAudioParamModel",
       "_view_count": null,
       "_view_module": null,
       "_view_module_version": "",
       "_view_name": null,
       "type": ""
      }
     },
     "51ace677d7d74fbdabc4573709e36b1d": {
      "model_module": "ipytone",
      "model_module_version": "^0.4.1",
      "model_name": "AmplitudeEnvelopeModel",
      "state": {
       "_create_node": true,
       "_disposed": true,
       "_input": "IPY_MODEL_10f5d91f20244444900f4c457b7c984f",
       "_model_module": "ipytone",
       "_model_module_version": "^0.4.1",
       "_model_name": "AmplitudeEnvelopeModel",
       "_output": "IPY_MODEL_10f5d91f20244444900f4c457b7c984f",
       "_set_node_channels": true,
       "_view_count": null,
       "_view_module": null,
       "_view_module_version": "",
       "_view_name": null,
       "array": null,
       "array_length": 1024,
       "attack": 0.1,
       "attack_curve": "linear",
       "channel_count": 2,
       "channel_count_mode": "max",
       "channel_interpretation": "speakers",
       "decay": 0.1,
       "decay_curve": "exponential",
       "name": "",
       "release": 0.5,
       "release_curve": "exponential",
       "sustain": 0.5,
       "sync_array": true
      }
     },
     "52e1a2c35a674b3c80d3b2a6250786b5": {
      "model_module": "ipytone",
      "model_module_version": "^0.4.1",
      "model_name": "NativeAudioNodeModel",
      "state": {
       "_model_module": "ipytone",
       "_model_module_version": "^0.4.1",
       "_model_name": "NativeAudioNodeModel",
       "_n_inputs": 1,
       "_n_outputs": 1,
       "_view_count": null,
       "_view_module": null,
       "_view_module_version": "",
       "_view_name": null,
       "type": "GainNode"
      }
     },
     "533958b21fa347db9a89002a12f1796a": {
      "model_module": "ipytone",
      "model_module_version": "^0.4.1",
      "model_name": "ParamModel",
      "state": {
       "_create_node": false,
       "_disposed": true,
       "_input": "IPY_MODEL_d332e603e8e5459e942d3bbf18fe2870",
       "_max_value": null,
       "_min_value": null,
       "_model_module": "ipytone",
       "_model_module_version": "^0.4.1",
       "_model_name": "ParamModel",
       "_swappable": false,
       "_units": "frequency",
       "_view_count": null,
       "_view_module": null,
       "_view_module_version": "",
       "_view_name": null,
       "convert": true,
       "name": "",
       "overridden": false,
       "value": 350
      }
     },
     "535c850aefb7407185e951a5994187d2": {
      "model_module": "ipytone",
      "model_module_version": "^0.4.1",
      "model_name": "NativeAudioParamModel",
      "state": {
       "_model_module": "ipytone",
       "_model_module_version": "^0.4.1",
       "_model_name": "NativeAudioParamModel",
       "_view_count": null,
       "_view_module": null,
       "_view_module_version": "",
       "_view_name": null,
       "type": ""
      }
     },
     "5447f6422efe416aa084d3af6061b065": {
      "model_module": "ipytone",
      "model_module_version": "^0.4.1",
      "model_name": "VolumeModel",
      "state": {
       "_create_node": false,
       "_disposed": true,
       "_input": "IPY_MODEL_048a9c770b7c4aea9d38fc23f163b51c",
       "_model_module": "ipytone",
       "_model_module_version": "^0.4.1",
       "_model_name": "VolumeModel",
       "_output": "IPY_MODEL_048a9c770b7c4aea9d38fc23f163b51c",
       "_set_node_channels": true,
       "_view_count": null,
       "_view_module": null,
       "_view_module_version": "",
       "_view_name": null,
       "_volume": "IPY_MODEL_e21f0a8c0d884fe3ab37353861f9402a",
       "channel_count": 2,
       "channel_count_mode": "max",
       "channel_interpretation": "speakers",
       "mute": false,
       "name": ""
      }
     },
     "545567f2eb9b4d2a9f06100ac3b1ce51": {
      "model_module": "ipytone",
      "model_module_version": "^0.4.1",
      "model_name": "ParamModel",
      "state": {
       "_create_node": false,
       "_disposed": true,
       "_input": "IPY_MODEL_276421ca5e574a37b18586cf05d3d18f",
       "_max_value": null,
       "_min_value": null,
       "_model_module": "ipytone",
       "_model_module_version": "^0.4.1",
       "_model_name": "ParamModel",
       "_swappable": false,
       "_units": "frequency",
       "_view_count": null,
       "_view_module": null,
       "_view_module_version": "",
       "_view_name": null,
       "convert": true,
       "name": "",
       "overridden": false,
       "value": 440
      }
     },
     "5461de5c430540e9bf6c2aa80ead31bb": {
      "model_module": "ipytone",
      "model_module_version": "^0.4.1",
      "model_name": "NativeAudioNodeModel",
      "state": {
       "_model_module": "ipytone",
       "_model_module_version": "^0.4.1",
       "_model_name": "NativeAudioNodeModel",
       "_n_inputs": 1,
       "_n_outputs": 1,
       "_view_count": null,
       "_view_module": null,
       "_view_module_version": "",
       "_view_name": null,
       "type": "GainNode"
      }
     },
     "56077d4cc3d04dfbb5057dbf859ccde7": {
      "model_module": "ipytone",
      "model_module_version": "^0.4.1",
      "model_name": "NativeAudioNodeModel",
      "state": {
       "_model_module": "ipytone",
       "_model_module_version": "^0.4.1",
       "_model_name": "NativeAudioNodeModel",
       "_n_inputs": 1,
       "_n_outputs": 1,
       "_view_count": null,
       "_view_module": null,
       "_view_module_version": "",
       "_view_name": null,
       "type": "GainNode"
      }
     },
     "570ccdecf6f0468a90d8890d2b1ae4b5": {
      "model_module": "ipytone",
      "model_module_version": "^0.4.1",
      "model_name": "NativeAudioParamModel",
      "state": {
       "_model_module": "ipytone",
       "_model_module_version": "^0.4.1",
       "_model_name": "NativeAudioParamModel",
       "_view_count": null,
       "_view_module": null,
       "_view_module_version": "",
       "_view_name": null,
       "type": ""
      }
     },
     "578b2db0c724447a9c17a5e7e04d5ba7": {
      "model_module": "ipytone",
      "model_module_version": "^0.4.1",
      "model_name": "ParamModel",
      "state": {
       "_create_node": false,
       "_disposed": false,
       "_input": "IPY_MODEL_0240bad1e43d4e50b2f5e02358c17925",
       "_max_value": null,
       "_min_value": null,
       "_model_module": "ipytone",
       "_model_module_version": "^0.4.1",
       "_model_name": "ParamModel",
       "_swappable": false,
       "_units": "gain",
       "_view_count": null,
       "_view_module": null,
       "_view_module_version": "",
       "_view_name": null,
       "convert": true,
       "name": "",
       "overridden": false,
       "value": 1
      }
     },
     "57af5ca517ff4529b14a7e4ade6e1dd5": {
      "model_module": "ipytone",
      "model_module_version": "^0.4.1",
      "model_name": "InternalAudioNodeModel",
      "state": {
       "_create_node": false,
       "_disposed": false,
       "_input": null,
       "_model_module": "ipytone",
       "_model_module_version": "^0.4.1",
       "_model_name": "InternalAudioNodeModel",
       "_n_inputs": 1,
       "_n_outputs": 1,
       "_output": null,
       "_set_node_channels": true,
       "_view_count": null,
       "_view_module": null,
       "_view_module_version": "",
       "_view_name": null,
       "channel_count": 2,
       "channel_count_mode": "max",
       "channel_interpretation": "speakers",
       "name": "",
       "type": "ToneConstantSource"
      }
     },
     "57b54fdb36cf463cb4d082285f30f48c": {
      "model_module": "ipytone",
      "model_module_version": "^0.4.1",
      "model_name": "NativeAudioParamModel",
      "state": {
       "_model_module": "ipytone",
       "_model_module_version": "^0.4.1",
       "_model_name": "NativeAudioParamModel",
       "_view_count": null,
       "_view_module": null,
       "_view_module_version": "",
       "_view_name": null,
       "type": ""
      }
     },
     "59372a573ce54bc9b014fdc7fdb0c36d": {
      "model_module": "ipytone",
      "model_module_version": "^0.4.1",
      "model_name": "GainModel",
      "state": {
       "_create_node": false,
       "_disposed": false,
       "_gain": "IPY_MODEL_578b2db0c724447a9c17a5e7e04d5ba7",
       "_input": "IPY_MODEL_b88eee3660844366a465dce2adebcbad",
       "_model_module": "ipytone",
       "_model_module_version": "^0.4.1",
       "_model_name": "GainModel",
       "_output": "IPY_MODEL_b88eee3660844366a465dce2adebcbad",
       "_set_node_channels": true,
       "_view_count": null,
       "_view_module": null,
       "_view_module_version": "",
       "_view_name": null,
       "channel_count": 2,
       "channel_count_mode": "max",
       "channel_interpretation": "speakers",
       "name": ""
      }
     },
     "5b4c9398fc624eb78ec4062fd04f7e53": {
      "model_module": "ipytone",
      "model_module_version": "^0.4.1",
      "model_name": "MultiplyModel",
      "state": {
       "_create_node": false,
       "_disposed": false,
       "_factor": "IPY_MODEL_24180d74317a4152b43fa0968625ee1e",
       "_input": "IPY_MODEL_1b1c035aed3446f28b245837f778687b",
       "_model_module": "ipytone",
       "_model_module_version": "^0.4.1",
       "_model_name": "MultiplyModel",
       "_output": "IPY_MODEL_1b1c035aed3446f28b245837f778687b",
       "_override": false,
       "_set_node_channels": true,
       "_view_count": null,
       "_view_module": null,
       "_view_module_version": "",
       "_view_name": null,
       "channel_count": 2,
       "channel_count_mode": "max",
       "channel_interpretation": "speakers",
       "name": "",
       "value": 1
      }
     },
     "5c5654e4ccef4071a0d03b04d6099f7d": {
      "model_module": "ipytone",
      "model_module_version": "^0.4.1",
      "model_name": "MultiplyModel",
      "state": {
       "_create_node": false,
       "_disposed": false,
       "_factor": "IPY_MODEL_f86370add6324893bf6216f6cdbfc5c6",
       "_input": "IPY_MODEL_d3c73c2870d444deabc3ee84a1e7c7f5",
       "_model_module": "ipytone",
       "_model_module_version": "^0.4.1",
       "_model_name": "MultiplyModel",
       "_output": "IPY_MODEL_d3c73c2870d444deabc3ee84a1e7c7f5",
       "_override": false,
       "_set_node_channels": true,
       "_view_count": null,
       "_view_module": null,
       "_view_module_version": "",
       "_view_name": null,
       "channel_count": 2,
       "channel_count_mode": "max",
       "channel_interpretation": "speakers",
       "name": "",
       "value": 2
      }
     },
     "5cac732a16294824ba639137a761e3a2": {
      "model_module": "ipytone",
      "model_module_version": "^0.4.1",
      "model_name": "GainModel",
      "state": {
       "_create_node": false,
       "_disposed": true,
       "_gain": "IPY_MODEL_e5a4093ac72a437db420219ac09597f2",
       "_input": "IPY_MODEL_d3136da2cabe4140941fabd705c00617",
       "_model_module": "ipytone",
       "_model_module_version": "^0.4.1",
       "_model_name": "GainModel",
       "_output": "IPY_MODEL_d3136da2cabe4140941fabd705c00617",
       "_set_node_channels": true,
       "_view_count": null,
       "_view_module": null,
       "_view_module_version": "",
       "_view_name": null,
       "channel_count": 2,
       "channel_count_mode": "max",
       "channel_interpretation": "speakers",
       "name": ""
      }
     },
     "5e9f6fbc389d47d1b9e9863ee97d7454": {
      "model_module": "ipytone",
      "model_module_version": "^0.4.1",
      "model_name": "ParamModel",
      "state": {
       "_create_node": false,
       "_disposed": false,
       "_input": "IPY_MODEL_519cb61253da42d0ac015a563392f8f4",
       "_max_value": null,
       "_min_value": null,
       "_model_module": "ipytone",
       "_model_module_version": "^0.4.1",
       "_model_name": "ParamModel",
       "_swappable": false,
       "_units": "decibels",
       "_view_count": null,
       "_view_module": null,
       "_view_module_version": "",
       "_view_name": null,
       "convert": true,
       "name": "",
       "overridden": false,
       "value": 0
      }
     },
     "613facf8b6ad4066a4a96c683b5c5ebf": {
      "model_module": "ipytone",
      "model_module_version": "^0.4.1",
      "model_name": "GainModel",
      "state": {
       "_create_node": false,
       "_disposed": true,
       "_gain": "IPY_MODEL_c78a5ec292684229b7e2bf736306a172",
       "_input": "IPY_MODEL_d69370b398ea43b99ddd39ee1a637649",
       "_model_module": "ipytone",
       "_model_module_version": "^0.4.1",
       "_model_name": "GainModel",
       "_output": "IPY_MODEL_d69370b398ea43b99ddd39ee1a637649",
       "_set_node_channels": true,
       "_view_count": null,
       "_view_module": null,
       "_view_module_version": "",
       "_view_name": null,
       "channel_count": 2,
       "channel_count_mode": "max",
       "channel_interpretation": "speakers",
       "name": ""
      }
     },
     "62e3038cbfc84ffc886a2356cf8f650e": {
      "model_module": "ipytone",
      "model_module_version": "^0.4.1",
      "model_name": "ParamModel",
      "state": {
       "_create_node": false,
       "_disposed": true,
       "_input": "IPY_MODEL_949364c0501a4392bab08370f57759c2",
       "_max_value": null,
       "_min_value": null,
       "_model_module": "ipytone",
       "_model_module_version": "^0.4.1",
       "_model_name": "ParamModel",
       "_swappable": false,
       "_units": "cents",
       "_view_count": null,
       "_view_module": null,
       "_view_module_version": "",
       "_view_name": null,
       "convert": true,
       "name": "",
       "overridden": false,
       "value": 0
      }
     },
     "6338599c5a8d475b874ea32d16ce0eba": {
      "model_module": "ipytone",
      "model_module_version": "^0.4.1",
      "model_name": "GainModel",
      "state": {
       "_create_node": false,
       "_disposed": true,
       "_gain": "IPY_MODEL_fac6c6f4675049178036a7c66add2839",
       "_input": "IPY_MODEL_52e1a2c35a674b3c80d3b2a6250786b5",
       "_model_module": "ipytone",
       "_model_module_version": "^0.4.1",
       "_model_name": "GainModel",
       "_output": "IPY_MODEL_52e1a2c35a674b3c80d3b2a6250786b5",
       "_set_node_channels": true,
       "_view_count": null,
       "_view_module": null,
       "_view_module_version": "",
       "_view_name": null,
       "channel_count": 2,
       "channel_count_mode": "max",
       "channel_interpretation": "speakers",
       "name": ""
      }
     },
     "658f473735a94da985b5a419c3782e0d": {
      "model_module": "ipytone",
      "model_module_version": "^0.4.1",
      "model_name": "NativeAudioNodeModel",
      "state": {
       "_model_module": "ipytone",
       "_model_module_version": "^0.4.1",
       "_model_name": "NativeAudioNodeModel",
       "_n_inputs": 1,
       "_n_outputs": 1,
       "_view_count": null,
       "_view_module": null,
       "_view_module_version": "",
       "_view_name": null,
       "type": "GainNode"
      }
     },
     "669a63dd43174dfd95d61380a0bca252": {
      "model_module": "ipytone",
      "model_module_version": "^0.4.1",
      "model_name": "NativeAudioNodeModel",
      "state": {
       "_model_module": "ipytone",
       "_model_module_version": "^0.4.1",
       "_model_name": "NativeAudioNodeModel",
       "_n_inputs": 1,
       "_n_outputs": 1,
       "_view_count": null,
       "_view_module": null,
       "_view_module_version": "",
       "_view_name": null,
       "type": "GainNode"
      }
     },
     "67104436634d4e239e7e09de4773b0bb": {
      "model_module": "ipytone",
      "model_module_version": "^0.4.1",
      "model_name": "ParamModel",
      "state": {
       "_create_node": false,
       "_disposed": true,
       "_input": "IPY_MODEL_20501da0c3d8472799fe952c28d537cb",
       "_max_value": null,
       "_min_value": null,
       "_model_module": "ipytone",
       "_model_module_version": "^0.4.1",
       "_model_name": "ParamModel",
       "_swappable": false,
       "_units": "decibels",
       "_view_count": null,
       "_view_module": null,
       "_view_module_version": "",
       "_view_name": null,
       "convert": true,
       "name": "",
       "overridden": false,
       "value": 0
      }
     },
     "6b40f11a7a624b81aac83c28e3b4399b": {
      "model_module": "ipytone",
      "model_module_version": "^0.4.1",
      "model_name": "VolumeModel",
      "state": {
       "_create_node": false,
       "_disposed": true,
       "_input": "IPY_MODEL_9d62207dda304031b3c937e44dad1a20",
       "_model_module": "ipytone",
       "_model_module_version": "^0.4.1",
       "_model_name": "VolumeModel",
       "_output": "IPY_MODEL_9d62207dda304031b3c937e44dad1a20",
       "_set_node_channels": true,
       "_view_count": null,
       "_view_module": null,
       "_view_module_version": "",
       "_view_name": null,
       "_volume": "IPY_MODEL_458f033b14224ef19ab766ca885d1c7a",
       "channel_count": 2,
       "channel_count_mode": "max",
       "channel_interpretation": "speakers",
       "mute": false,
       "name": ""
      }
     },
     "6cfef42de284402490e421445b104a12": {
      "model_module": "ipytone",
      "model_module_version": "^0.4.1",
      "model_name": "SignalModel",
      "state": {
       "_create_node": false,
       "_disposed": true,
       "_input": "IPY_MODEL_8eda526f051140d68f1eee231004b854",
       "_model_module": "ipytone",
       "_model_module_version": "^0.4.1",
       "_model_name": "SignalModel",
       "_output": "IPY_MODEL_e361e43c61104c82a846eadea243d5dc",
       "_override": true,
       "_set_node_channels": true,
       "_view_count": null,
       "_view_module": null,
       "_view_module_version": "",
       "_view_name": null,
       "channel_count": 2,
       "channel_count_mode": "max",
       "channel_interpretation": "speakers",
       "name": "",
       "value": 0
      }
     },
     "70b70ac8234d469ab5787cd85662dadb": {
      "model_module": "ipytone",
      "model_module_version": "^0.4.1",
      "model_name": "SignalModel",
      "state": {
       "_create_node": false,
       "_disposed": true,
       "_input": "IPY_MODEL_545567f2eb9b4d2a9f06100ac3b1ce51",
       "_model_module": "ipytone",
       "_model_module_version": "^0.4.1",
       "_model_name": "SignalModel",
       "_output": "IPY_MODEL_7c4cfba1cb204c3f97d4671bcf3c0fd8",
       "_override": true,
       "_set_node_channels": true,
       "_view_count": null,
       "_view_module": null,
       "_view_module_version": "",
       "_view_name": null,
       "channel_count": 2,
       "channel_count_mode": "max",
       "channel_interpretation": "speakers",
       "name": "",
       "value": 440
      }
     },
     "7105f78c08c64dd08eb2ed74c3410b7f": {
      "model_module": "ipytone",
      "model_module_version": "^0.4.1",
      "model_name": "NativeAudioNodeModel",
      "state": {
       "_model_module": "ipytone",
       "_model_module_version": "^0.4.1",
       "_model_name": "NativeAudioNodeModel",
       "_n_inputs": 1,
       "_n_outputs": 1,
       "_view_count": null,
       "_view_module": null,
       "_view_module_version": "",
       "_view_name": null,
       "type": "GainNode"
      }
     },
     "71835550ff2c4390b3d34353c6a0cb4d": {
      "model_module": "ipytone",
      "model_module_version": "^0.4.1",
      "model_name": "NativeAudioParamModel",
      "state": {
       "_model_module": "ipytone",
       "_model_module_version": "^0.4.1",
       "_model_name": "NativeAudioParamModel",
       "_view_count": null,
       "_view_module": null,
       "_view_module_version": "",
       "_view_name": null,
       "type": ""
      }
     },
     "73e5a2a955464391bd1ca7f2d9117c38": {
      "model_module": "ipytone",
      "model_module_version": "^0.4.1",
      "model_name": "SignalModel",
      "state": {
       "_create_node": false,
       "_disposed": true,
       "_input": "IPY_MODEL_4df81322516246fbb895e67529d1af27",
       "_model_module": "ipytone",
       "_model_module_version": "^0.4.1",
       "_model_name": "SignalModel",
       "_output": "IPY_MODEL_e7ad1ade37dd4f12ba95cc443b5c0375",
       "_override": true,
       "_set_node_channels": true,
       "_view_count": null,
       "_view_module": null,
       "_view_module_version": "",
       "_view_name": null,
       "channel_count": 2,
       "channel_count_mode": "max",
       "channel_interpretation": "speakers",
       "name": "",
       "value": 0
      }
     },
     "74c49005cd804d278265c9f34c15128e": {
      "model_module": "ipytone",
      "model_module_version": "^0.4.1",
      "model_name": "SignalModel",
      "state": {
       "_create_node": false,
       "_disposed": false,
       "_input": "IPY_MODEL_ae3ea637011d4b2e9e5ee8f030cdaf66",
       "_model_module": "ipytone",
       "_model_module_version": "^0.4.1",
       "_model_name": "SignalModel",
       "_output": "IPY_MODEL_b1e1f6c4f590407694fcfdc6f7f9f209",
       "_override": true,
       "_set_node_channels": true,
       "_view_count": null,
       "_view_module": null,
       "_view_module_version": "",
       "_view_name": null,
       "channel_count": 2,
       "channel_count_mode": "max",
       "channel_interpretation": "speakers",
       "name": "",
       "value": 0.2
      }
     },
     "74e3de8f34a54d71a7e041d26a1869a1": {
      "model_module": "ipytone",
      "model_module_version": "^0.4.1",
      "model_name": "InternalAudioNodeModel",
      "state": {
       "_create_node": false,
       "_disposed": true,
       "_input": null,
       "_model_module": "ipytone",
       "_model_module_version": "^0.4.1",
       "_model_name": "InternalAudioNodeModel",
       "_n_inputs": 1,
       "_n_outputs": 1,
       "_output": null,
       "_set_node_channels": true,
       "_view_count": null,
       "_view_module": null,
       "_view_module_version": "",
       "_view_name": null,
       "channel_count": 2,
       "channel_count_mode": "max",
       "channel_interpretation": "speakers",
       "name": "",
       "type": "ToneConstantSource"
      }
     },
     "7564fe6fa4d34459972caa07679b1587": {
      "model_module": "ipytone",
      "model_module_version": "^0.4.1",
      "model_name": "ParamModel",
      "state": {
       "_create_node": false,
       "_disposed": false,
       "_input": "IPY_MODEL_f75c3fc8e91a4a81a55e5e45635cf596",
       "_max_value": null,
       "_min_value": null,
       "_model_module": "ipytone",
       "_model_module_version": "^0.4.1",
       "_model_name": "ParamModel",
       "_swappable": false,
       "_units": "audioRange",
       "_view_count": null,
       "_view_module": null,
       "_view_module_version": "",
       "_view_name": null,
       "convert": true,
       "name": "",
       "overridden": false,
       "value": 0.2
      }
     },
     "7596db85ddd949758a2a6201561ac100": {
      "model_module": "ipytone",
      "model_module_version": "^0.4.1",
      "model_name": "GainModel",
      "state": {
       "_create_node": false,
       "_disposed": true,
       "_gain": "IPY_MODEL_a9fb2dc3308643cdab5c7f57415880be",
       "_input": "IPY_MODEL_b5c3932d5c594f7c89811b178386c19d",
       "_model_module": "ipytone",
       "_model_module_version": "^0.4.1",
       "_model_name": "GainModel",
       "_output": "IPY_MODEL_b5c3932d5c594f7c89811b178386c19d",
       "_set_node_channels": true,
       "_view_count": null,
       "_view_module": null,
       "_view_module_version": "",
       "_view_name": null,
       "channel_count": 2,
       "channel_count_mode": "max",
       "channel_interpretation": "speakers",
       "name": ""
      }
     },
     "760e2fd8da0e4e7db158527660555a7d": {
      "model_module": "ipytone",
      "model_module_version": "^0.4.1",
      "model_name": "GainModel",
      "state": {
       "_create_node": false,
       "_disposed": false,
       "_gain": "IPY_MODEL_062f8ff027844131a815afdce7fbd40d",
       "_input": "IPY_MODEL_658f473735a94da985b5a419c3782e0d",
       "_model_module": "ipytone",
       "_model_module_version": "^0.4.1",
       "_model_name": "GainModel",
       "_output": "IPY_MODEL_658f473735a94da985b5a419c3782e0d",
       "_set_node_channels": true,
       "_view_count": null,
       "_view_module": null,
       "_view_module_version": "",
       "_view_name": null,
       "channel_count": 2,
       "channel_count_mode": "max",
       "channel_interpretation": "speakers",
       "name": ""
      }
     },
     "765b14274c4a4d46a8dac4ce2d8114b6": {
      "model_module": "ipytone",
      "model_module_version": "^0.4.1",
      "model_name": "AmplitudeEnvelopeModel",
      "state": {
       "_create_node": true,
       "_disposed": true,
       "_input": "IPY_MODEL_d04184cf00544f2a84a236e189601de8",
       "_model_module": "ipytone",
       "_model_module_version": "^0.4.1",
       "_model_name": "AmplitudeEnvelopeModel",
       "_output": "IPY_MODEL_d04184cf00544f2a84a236e189601de8",
       "_set_node_channels": true,
       "_view_count": null,
       "_view_module": null,
       "_view_module_version": "",
       "_view_name": null,
       "array": null,
       "array_length": 1024,
       "attack": 0.4,
       "attack_curve": "linear",
       "channel_count": 2,
       "channel_count_mode": "max",
       "channel_interpretation": "speakers",
       "decay": 0.1,
       "decay_curve": "exponential",
       "name": "",
       "release": 1,
       "release_curve": "exponential",
       "sustain": 0.3,
       "sync_array": false
      }
     },
     "77a0daaeab98438a857bb067b7c806e7": {
      "model_module": "ipytone",
      "model_module_version": "^0.4.1",
      "model_name": "GainModel",
      "state": {
       "_create_node": false,
       "_disposed": true,
       "_gain": "IPY_MODEL_e639248ff316483ea1c3f0352e77b8c1",
       "_input": "IPY_MODEL_265c882112fa49d8819bd48eb27d86ac",
       "_model_module": "ipytone",
       "_model_module_version": "^0.4.1",
       "_model_name": "GainModel",
       "_output": "IPY_MODEL_265c882112fa49d8819bd48eb27d86ac",
       "_set_node_channels": true,
       "_view_count": null,
       "_view_module": null,
       "_view_module_version": "",
       "_view_name": null,
       "channel_count": 2,
       "channel_count_mode": "max",
       "channel_interpretation": "speakers",
       "name": ""
      }
     },
     "77c0204cc421437594c4b9989cb2d839": {
      "model_module": "ipytone",
      "model_module_version": "^0.4.1",
      "model_name": "SignalModel",
      "state": {
       "_create_node": false,
       "_disposed": true,
       "_input": "IPY_MODEL_b4140f56106541c0a47eecfd9d2a0e8f",
       "_model_module": "ipytone",
       "_model_module_version": "^0.4.1",
       "_model_name": "SignalModel",
       "_output": "IPY_MODEL_ae8fd2c5087f4a9ab109e94df50e3fe8",
       "_override": true,
       "_set_node_channels": true,
       "_view_count": null,
       "_view_module": null,
       "_view_module_version": "",
       "_view_name": null,
       "channel_count": 2,
       "channel_count_mode": "max",
       "channel_interpretation": "speakers",
       "name": "",
       "value": 440
      }
     },
     "78b030f9898b425a9dd1d2e726305069": {
      "model_module": "ipytone",
      "model_module_version": "^0.4.1",
      "model_name": "FilterModel",
      "state": {
       "_create_node": true,
       "_detune": "IPY_MODEL_6cfef42de284402490e421445b104a12",
       "_disposed": true,
       "_frequency": "IPY_MODEL_0ae796a6400444b1b31320147d6c8a8b",
       "_gain": "IPY_MODEL_8990394e42a045238b4dd026a2a11d67",
       "_input": "IPY_MODEL_6338599c5a8d475b874ea32d16ce0eba",
       "_model_module": "ipytone",
       "_model_module_version": "^0.4.1",
       "_model_name": "FilterModel",
       "_output": "IPY_MODEL_613facf8b6ad4066a4a96c683b5c5ebf",
       "_q": "IPY_MODEL_e5941c070dc14c719b79b889a45e8b4a",
       "_set_node_channels": true,
       "_view_count": null,
       "_view_module": null,
       "_view_module_version": "",
       "_view_name": null,
       "array": null,
       "array_length": 128,
       "channel_count": 2,
       "channel_count_mode": "max",
       "channel_interpretation": "speakers",
       "name": "",
       "rolloff": -12,
       "sync_array": false,
       "type": "lowpass"
      }
     },
     "7c4cfba1cb204c3f97d4671bcf3c0fd8": {
      "model_module": "ipytone",
      "model_module_version": "^0.4.1",
      "model_name": "InternalAudioNodeModel",
      "state": {
       "_create_node": false,
       "_disposed": true,
       "_input": null,
       "_model_module": "ipytone",
       "_model_module_version": "^0.4.1",
       "_model_name": "InternalAudioNodeModel",
       "_n_inputs": 1,
       "_n_outputs": 1,
       "_output": null,
       "_set_node_channels": true,
       "_view_count": null,
       "_view_module": null,
       "_view_module_version": "",
       "_view_name": null,
       "channel_count": 2,
       "channel_count_mode": "max",
       "channel_interpretation": "speakers",
       "name": "",
       "type": "ToneConstantSource"
      }
     },
     "7d676893351345c99c5520715523ca49": {
      "model_module": "ipytone",
      "model_module_version": "^0.4.1",
      "model_name": "InternalAudioNodeModel",
      "state": {
       "_create_node": false,
       "_disposed": false,
       "_input": null,
       "_model_module": "ipytone",
       "_model_module_version": "^0.4.1",
       "_model_name": "InternalAudioNodeModel",
       "_n_inputs": 1,
       "_n_outputs": 1,
       "_output": null,
       "_set_node_channels": true,
       "_view_count": null,
       "_view_module": null,
       "_view_module_version": "",
       "_view_name": null,
       "channel_count": 2,
       "channel_count_mode": "max",
       "channel_interpretation": "speakers",
       "name": "",
       "type": "ToneConstantSource"
      }
     },
     "7fc6d421bd7344c294c064de847d7fea": {
      "model_module": "ipytone",
      "model_module_version": "^0.4.1",
      "model_name": "NativeAudioParamModel",
      "state": {
       "_model_module": "ipytone",
       "_model_module_version": "^0.4.1",
       "_model_name": "NativeAudioParamModel",
       "_view_count": null,
       "_view_module": null,
       "_view_module_version": "",
       "_view_name": null,
       "type": ""
      }
     },
     "83f447bb1ff74ebf98c72fb937cfa0f4": {
      "model_module": "ipytone",
      "model_module_version": "^0.4.1",
      "model_name": "InternalAudioNodeModel",
      "state": {
       "_create_node": false,
       "_disposed": true,
       "_input": null,
       "_model_module": "ipytone",
       "_model_module_version": "^0.4.1",
       "_model_name": "InternalAudioNodeModel",
       "_n_inputs": 1,
       "_n_outputs": 1,
       "_output": null,
       "_set_node_channels": true,
       "_view_count": null,
       "_view_module": null,
       "_view_module_version": "",
       "_view_name": null,
       "channel_count": 2,
       "channel_count_mode": "max",
       "channel_interpretation": "speakers",
       "name": "",
       "type": "ToneConstantSource"
      }
     },
     "848ea36fe7cf471f99ff01446ce61fe7": {
      "model_module": "ipytone",
      "model_module_version": "^0.4.1",
      "model_name": "NativeAudioParamModel",
      "state": {
       "_model_module": "ipytone",
       "_model_module_version": "^0.4.1",
       "_model_name": "NativeAudioParamModel",
       "_view_count": null,
       "_view_module": null,
       "_view_module_version": "",
       "_view_name": null,
       "type": ""
      }
     },
     "86a14e5d68e44bdaa4df9c5b2329c043": {
      "model_module": "ipytone",
      "model_module_version": "^0.4.1",
      "model_name": "NativeAudioParamModel",
      "state": {
       "_model_module": "ipytone",
       "_model_module_version": "^0.4.1",
       "_model_name": "NativeAudioParamModel",
       "_view_count": null,
       "_view_module": null,
       "_view_module_version": "",
       "_view_name": null,
       "type": ""
      }
     },
     "8990394e42a045238b4dd026a2a11d67": {
      "model_module": "ipytone",
      "model_module_version": "^0.4.1",
      "model_name": "SignalModel",
      "state": {
       "_create_node": false,
       "_disposed": true,
       "_input": "IPY_MODEL_67104436634d4e239e7e09de4773b0bb",
       "_model_module": "ipytone",
       "_model_module_version": "^0.4.1",
       "_model_name": "SignalModel",
       "_output": "IPY_MODEL_382608809acd46e588e1229bfb26f604",
       "_override": true,
       "_set_node_channels": true,
       "_view_count": null,
       "_view_module": null,
       "_view_module_version": "",
       "_view_name": null,
       "channel_count": 2,
       "channel_count_mode": "max",
       "channel_interpretation": "speakers",
       "name": "",
       "value": 0
      }
     },
     "89a077518ffb4b37925d2d536734d7fe": {
      "model_module": "ipytone",
      "model_module_version": "^0.4.1",
      "model_name": "GainModel",
      "state": {
       "_create_node": false,
       "_disposed": false,
       "_gain": "IPY_MODEL_f7683a971d85471aa1f60ed8a3b2b84e",
       "_input": "IPY_MODEL_ae641451f6cf458ea71a84bccc6a86b8",
       "_model_module": "ipytone",
       "_model_module_version": "^0.4.1",
       "_model_name": "GainModel",
       "_output": "IPY_MODEL_ae641451f6cf458ea71a84bccc6a86b8",
       "_set_node_channels": true,
       "_view_count": null,
       "_view_module": null,
       "_view_module_version": "",
       "_view_name": null,
       "channel_count": 2,
       "channel_count_mode": "max",
       "channel_interpretation": "speakers",
       "name": ""
      }
     },
     "89f5eabdce874831a7cd76c3bbaf5005": {
      "model_module": "ipytone",
      "model_module_version": "^0.4.1",
      "model_name": "NativeAudioNodeModel",
      "state": {
       "_model_module": "ipytone",
       "_model_module_version": "^0.4.1",
       "_model_name": "NativeAudioNodeModel",
       "_n_inputs": 1,
       "_n_outputs": 1,
       "_view_count": null,
       "_view_module": null,
       "_view_module_version": "",
       "_view_name": null,
       "type": "GainNode"
      }
     },
     "8b2116da5bc64ef09bda4048a3ae2953": {
      "model_module": "ipytone",
      "model_module_version": "^0.4.1",
      "model_name": "GainModel",
      "state": {
       "_create_node": false,
       "_disposed": false,
       "_gain": "IPY_MODEL_de9f496aafc742de8e3cdb5620649ae3",
       "_input": "IPY_MODEL_7105f78c08c64dd08eb2ed74c3410b7f",
       "_model_module": "ipytone",
       "_model_module_version": "^0.4.1",
       "_model_name": "GainModel",
       "_output": "IPY_MODEL_7105f78c08c64dd08eb2ed74c3410b7f",
       "_set_node_channels": true,
       "_view_count": null,
       "_view_module": null,
       "_view_module_version": "",
       "_view_name": null,
       "channel_count": 2,
       "channel_count_mode": "max",
       "channel_interpretation": "speakers",
       "name": ""
      }
     },
     "8b70b5ee29af4d8b862dd4fddadbd186": {
      "model_module": "ipytone",
      "model_module_version": "^0.4.1",
      "model_name": "InternalAudioNodeModel",
      "state": {
       "_create_node": false,
       "_disposed": false,
       "_input": null,
       "_model_module": "ipytone",
       "_model_module_version": "^0.4.1",
       "_model_name": "InternalAudioNodeModel",
       "_n_inputs": 1,
       "_n_outputs": 1,
       "_output": null,
       "_set_node_channels": true,
       "_view_count": null,
       "_view_module": null,
       "_view_module_version": "",
       "_view_name": null,
       "channel_count": 2,
       "channel_count_mode": "max",
       "channel_interpretation": "speakers",
       "name": "",
       "type": "ToneConstantSource"
      }
     },
     "8e2d0c4f32ae4601b80bc6fdb7ef8f4d": {
      "model_module": "ipytone",
      "model_module_version": "^0.4.1",
      "model_name": "NativeAudioNodeModel",
      "state": {
       "_model_module": "ipytone",
       "_model_module_version": "^0.4.1",
       "_model_name": "NativeAudioNodeModel",
       "_n_inputs": 1,
       "_n_outputs": 1,
       "_view_count": null,
       "_view_module": null,
       "_view_module_version": "",
       "_view_name": null,
       "type": "GainNode"
      }
     },
     "8eda526f051140d68f1eee231004b854": {
      "model_module": "ipytone",
      "model_module_version": "^0.4.1",
      "model_name": "ParamModel",
      "state": {
       "_create_node": false,
       "_disposed": true,
       "_input": "IPY_MODEL_4ce56f2a75a94689ab30c6691a9b39dd",
       "_max_value": null,
       "_min_value": null,
       "_model_module": "ipytone",
       "_model_module_version": "^0.4.1",
       "_model_name": "ParamModel",
       "_swappable": false,
       "_units": "cents",
       "_view_count": null,
       "_view_module": null,
       "_view_module_version": "",
       "_view_name": null,
       "convert": true,
       "name": "",
       "overridden": false,
       "value": 0
      }
     },
     "8fd1f58abfd448588058d4a50b5aceeb": {
      "model_module": "ipytone",
      "model_module_version": "^0.4.1",
      "model_name": "ParamModel",
      "state": {
       "_create_node": false,
       "_disposed": false,
       "_input": "IPY_MODEL_570ccdecf6f0468a90d8890d2b1ae4b5",
       "_max_value": null,
       "_min_value": null,
       "_model_module": "ipytone",
       "_model_module_version": "^0.4.1",
       "_model_name": "ParamModel",
       "_swappable": false,
       "_units": "number",
       "_view_count": null,
       "_view_module": null,
       "_view_module_version": "",
       "_view_name": null,
       "convert": true,
       "name": "",
       "overridden": false,
       "value": 1
      }
     },
     "92bf59963b674cef8774e92cf08857c5": {
      "model_module": "ipytone",
      "model_module_version": "^0.4.1",
      "model_name": "NativeAudioParamModel",
      "state": {
       "_model_module": "ipytone",
       "_model_module_version": "^0.4.1",
       "_model_name": "NativeAudioParamModel",
       "_view_count": null,
       "_view_module": null,
       "_view_module_version": "",
       "_view_name": null,
       "type": ""
      }
     },
     "92cc3d50eac741ae94a84687f6f40346": {
      "model_module": "ipytone",
      "model_module_version": "^0.4.1",
      "model_name": "NativeAudioNodeModel",
      "state": {
       "_model_module": "ipytone",
       "_model_module_version": "^0.4.1",
       "_model_name": "NativeAudioNodeModel",
       "_n_inputs": 1,
       "_n_outputs": 1,
       "_view_count": null,
       "_view_module": null,
       "_view_module_version": "",
       "_view_name": null,
       "type": "GainNode"
      }
     },
     "92d229401a5442a59b92caa57ea3f16e": {
      "model_module": "ipytone",
      "model_module_version": "^0.4.1",
      "model_name": "VolumeModel",
      "state": {
       "_create_node": false,
       "_disposed": true,
       "_input": "IPY_MODEL_3fc67a14867a41588399151c220100bc",
       "_model_module": "ipytone",
       "_model_module_version": "^0.4.1",
       "_model_name": "VolumeModel",
       "_output": "IPY_MODEL_3fc67a14867a41588399151c220100bc",
       "_set_node_channels": true,
       "_view_count": null,
       "_view_module": null,
       "_view_module_version": "",
       "_view_name": null,
       "_volume": "IPY_MODEL_df021b314bcd4d40854c514df3235a1a",
       "channel_count": 2,
       "channel_count_mode": "max",
       "channel_interpretation": "speakers",
       "mute": false,
       "name": ""
      }
     },
     "9332a014eb114f6c99233b7f54fcde2a": {
      "model_module": "ipytone",
      "model_module_version": "^0.4.1",
      "model_name": "NativeAudioNodeModel",
      "state": {
       "_model_module": "ipytone",
       "_model_module_version": "^0.4.1",
       "_model_name": "NativeAudioNodeModel",
       "_n_inputs": 1,
       "_n_outputs": 1,
       "_view_count": null,
       "_view_module": null,
       "_view_module_version": "",
       "_view_name": null,
       "type": "GainNode"
      }
     },
     "936692a3c6154686b62e270148218e35": {
      "model_module": "ipytone",
      "model_module_version": "^0.4.1",
      "model_name": "MonophonicModel",
      "state": {
       "_after_init": "this.getNode('oscillator').onstop = () => this.onsilence(this);this.getNode('oscillator').chain(this.getNode('envelope'), this.output);",
       "_create_node": true,
       "_disposed": true,
       "_get_level_at_time": "time = this.toSeconds(time);return this.getNode('envelope').getValueAtTime(time);",
       "_input": null,
       "_internal_nodes": {
        "envelope": "IPY_MODEL_e36b0057ec164f3090b7498b60abcec6",
        "oscillator": "IPY_MODEL_c452e8a26d824665a73ae95022f9b0f8"
       },
       "_model_module": "ipytone",
       "_model_module_version": "^0.4.1",
       "_model_name": "MonophonicModel",
       "_output": "IPY_MODEL_6b40f11a7a624b81aac83c28e3b4399b",
       "_set_node_channels": true,
       "_set_note": "",
       "_settings": {
        "envelope": [
         "attack",
         "decay",
         "sustain",
         "release"
        ],
        "oscillator": [
         "type"
        ]
       },
       "_trigger_attack": "const envelope = this.getNode('envelope');const oscillator = this.getNode('oscillator');envelope.triggerAttack(time, velocity);oscillator.start(time);if (envelope.sustain === 0) {    const computedAttack = this.toSeconds(envelope.attack);    const computedDecay = this.toSeconds(envelope.decay);    oscillator.stop(time + computedAttack + computedDecay);}",
       "_trigger_release": "const envelope = this.getNode('envelope');const oscillator = this.getNode('oscillator');envelope.triggerRelease(time);oscillator.stop(time + this.toSeconds(envelope.release));",
       "_view_count": null,
       "_view_module": null,
       "_view_module_version": "",
       "_view_name": null,
       "channel_count": 2,
       "channel_count_mode": "max",
       "channel_interpretation": "speakers",
       "name": "",
       "portamento": 0
      }
     },
     "949364c0501a4392bab08370f57759c2": {
      "model_module": "ipytone",
      "model_module_version": "^0.4.1",
      "model_name": "NativeAudioParamModel",
      "state": {
       "_model_module": "ipytone",
       "_model_module_version": "^0.4.1",
       "_model_name": "NativeAudioParamModel",
       "_view_count": null,
       "_view_module": null,
       "_view_module_version": "",
       "_view_name": null,
       "type": ""
      }
     },
     "97f035e8f6f5464d80319ee93610274f": {
      "model_module": "ipytone",
      "model_module_version": "^0.4.1",
      "model_name": "NativeAudioParamModel",
      "state": {
       "_model_module": "ipytone",
       "_model_module_version": "^0.4.1",
       "_model_name": "NativeAudioParamModel",
       "_view_count": null,
       "_view_module": null,
       "_view_module_version": "",
       "_view_name": null,
       "type": ""
      }
     },
     "9a406e27277e45d8b47d183f1babff67": {
      "model_module": "ipytone",
      "model_module_version": "^0.4.1",
      "model_name": "MonophonicModel",
      "state": {
       "_after_init": "this.getNode('oscillator').onstop = () => this.onsilence(this);this.getNode('oscillator').chain(this.getNode('envelope'), this.output);",
       "_create_node": true,
       "_disposed": true,
       "_get_level_at_time": "time = this.toSeconds(time);return this.getNode('envelope').getValueAtTime(time);",
       "_input": null,
       "_internal_nodes": {
        "envelope": "IPY_MODEL_765b14274c4a4d46a8dac4ce2d8114b6",
        "oscillator": "IPY_MODEL_c130a59eb42445d0aed88f2f9a92397f"
       },
       "_model_module": "ipytone",
       "_model_module_version": "^0.4.1",
       "_model_name": "MonophonicModel",
       "_output": "IPY_MODEL_03d9c3de95c643098383061738f38f44",
       "_set_node_channels": true,
       "_set_note": "",
       "_settings": {
        "envelope": [
         "attack",
         "decay",
         "sustain",
         "release"
        ],
        "oscillator": [
         "type"
        ]
       },
       "_trigger_attack": "const envelope = this.getNode('envelope');const oscillator = this.getNode('oscillator');envelope.triggerAttack(time, velocity);oscillator.start(time);if (envelope.sustain === 0) {    const computedAttack = this.toSeconds(envelope.attack);    const computedDecay = this.toSeconds(envelope.decay);    oscillator.stop(time + computedAttack + computedDecay);}",
       "_trigger_release": "const envelope = this.getNode('envelope');const oscillator = this.getNode('oscillator');envelope.triggerRelease(time);oscillator.stop(time + this.toSeconds(envelope.release));",
       "_view_count": null,
       "_view_module": null,
       "_view_module_version": "",
       "_view_name": null,
       "channel_count": 2,
       "channel_count_mode": "max",
       "channel_interpretation": "speakers",
       "name": "",
       "portamento": 0
      }
     },
     "9af2a3adf8f64f91a44e4e2a0d2ecbcf": {
      "model_module": "ipytone",
      "model_module_version": "^0.4.1",
      "model_name": "AudioGraphModel",
      "state": {
       "_connections": [],
       "_model_module": "ipytone",
       "_model_module_version": "^0.4.1",
       "_model_name": "AudioGraphModel",
       "_view_count": null,
       "_view_module": null,
       "_view_module_version": "",
       "_view_name": null
      }
     },
     "9bc0148268cf4e59963cf7af05c7159a": {
      "model_module": "ipytone",
      "model_module_version": "^0.4.1",
      "model_name": "NativeAudioNodeModel",
      "state": {
       "_model_module": "ipytone",
       "_model_module_version": "^0.4.1",
       "_model_name": "NativeAudioNodeModel",
       "_n_inputs": 1,
       "_n_outputs": 1,
       "_view_count": null,
       "_view_module": null,
       "_view_module_version": "",
       "_view_name": null,
       "type": "GainNode"
      }
     },
     "9c45556d6ed14452830d2062ea63ff72": {
      "model_module": "ipytone",
      "model_module_version": "^0.4.1",
      "model_name": "OscillatorModel",
      "state": {
       "_create_node": true,
       "_detune": "IPY_MODEL_cc138aca2f8d4af3a3f683e9b5f1bba1",
       "_disposed": true,
       "_frequency": "IPY_MODEL_0c26803cc1a84c02aa7f45fc15881a4e",
       "_input": null,
       "_model_module": "ipytone",
       "_model_module_version": "^0.4.1",
       "_model_name": "OscillatorModel",
       "_output": "IPY_MODEL_92d229401a5442a59b92caa57ea3f16e",
       "_partials": [],
       "_set_node_channels": true,
       "_view_count": null,
       "_view_module": null,
       "_view_module_version": "",
       "_view_name": null,
       "_volume": "IPY_MODEL_df021b314bcd4d40854c514df3235a1a",
       "array": null,
       "array_length": 1024,
       "channel_count": 2,
       "channel_count_mode": "max",
       "channel_interpretation": "speakers",
       "mute": false,
       "name": "",
       "phase": 0,
       "sync_array": false,
       "type": "sine"
      }
     },
     "9d62207dda304031b3c937e44dad1a20": {
      "model_module": "ipytone",
      "model_module_version": "^0.4.1",
      "model_name": "GainModel",
      "state": {
       "_create_node": false,
       "_disposed": true,
       "_gain": "IPY_MODEL_458f033b14224ef19ab766ca885d1c7a",
       "_input": "IPY_MODEL_5461de5c430540e9bf6c2aa80ead31bb",
       "_model_module": "ipytone",
       "_model_module_version": "^0.4.1",
       "_model_name": "GainModel",
       "_output": "IPY_MODEL_5461de5c430540e9bf6c2aa80ead31bb",
       "_set_node_channels": true,
       "_view_count": null,
       "_view_module": null,
       "_view_module_version": "",
       "_view_name": null,
       "channel_count": 2,
       "channel_count_mode": "max",
       "channel_interpretation": "speakers",
       "name": ""
      }
     },
     "a08f3f31651f4553b9ef681a6a0d12b5": {
      "model_module": "ipytone",
      "model_module_version": "^0.4.1",
      "model_name": "SignalModel",
      "state": {
       "_create_node": false,
       "_disposed": true,
       "_input": "IPY_MODEL_62e3038cbfc84ffc886a2356cf8f650e",
       "_model_module": "ipytone",
       "_model_module_version": "^0.4.1",
       "_model_name": "SignalModel",
       "_output": "IPY_MODEL_096ed59df345430baa3b6e21dda5c62a",
       "_override": true,
       "_set_node_channels": true,
       "_view_count": null,
       "_view_module": null,
       "_view_module_version": "",
       "_view_name": null,
       "channel_count": 2,
       "channel_count_mode": "max",
       "channel_interpretation": "speakers",
       "name": "",
       "value": 0
      }
     },
     "a1e7d604970d460da5f9dd65ad584f1a": {
      "model_module": "ipytone",
      "model_module_version": "^0.4.1",
      "model_name": "NativeAudioParamModel",
      "state": {
       "_model_module": "ipytone",
       "_model_module_version": "^0.4.1",
       "_model_name": "NativeAudioParamModel",
       "_view_count": null,
       "_view_module": null,
       "_view_module_version": "",
       "_view_name": null,
       "type": ""
      }
     },
     "a2b8e7bc845740ff945700646ab5c932": {
      "model_module": "ipytone",
      "model_module_version": "^0.4.1",
      "model_name": "ParamModel",
      "state": {
       "_create_node": false,
       "_disposed": false,
       "_input": "IPY_MODEL_be3a56c2c58e4d7fa780d52c885c3b44",
       "_max_value": null,
       "_min_value": null,
       "_model_module": "ipytone",
       "_model_module_version": "^0.4.1",
       "_model_name": "ParamModel",
       "_swappable": false,
       "_units": "frequency",
       "_view_count": null,
       "_view_module": null,
       "_view_module_version": "",
       "_view_name": null,
       "convert": true,
       "name": "",
       "overridden": false,
       "value": 0.4
      }
     },
     "a4c6bf767e6f40dc9b52b80fcc508030": {
      "model_module": "ipytone",
      "model_module_version": "^0.4.1",
      "model_name": "FrequencyEnvelopeModel",
      "state": {
       "_create_node": true,
       "_disposed": true,
       "_input": "IPY_MODEL_f405bbcb78cd46d5a6c2763b9f61504f",
       "_model_module": "ipytone",
       "_model_module_version": "^0.4.1",
       "_model_name": "FrequencyEnvelopeModel",
       "_output": "IPY_MODEL_38c9186b98164aa9b0f88d1de1a2afe2",
       "_set_node_channels": true,
       "_view_count": null,
       "_view_module": null,
       "_view_module_version": "",
       "_view_name": null,
       "array": null,
       "array_length": 1024,
       "attack": 0.6,
       "attack_curve": "linear",
       "base_frequency": 200,
       "channel_count": 2,
       "channel_count_mode": "max",
       "channel_interpretation": "speakers",
       "decay": 0.2,
       "decay_curve": "exponential",
       "exponent": 2,
       "name": "",
       "octaves": 3,
       "release": 2,
       "release_curve": "exponential",
       "sustain": 0.5,
       "sync_array": false
      }
     },
     "a5d1760b55c34353a98224d5505fca25": {
      "model_module": "ipytone",
      "model_module_version": "^0.4.1",
      "model_name": "NativeAudioParamModel",
      "state": {
       "_model_module": "ipytone",
       "_model_module_version": "^0.4.1",
       "_model_name": "NativeAudioParamModel",
       "_view_count": null,
       "_view_module": null,
       "_view_module_version": "",
       "_view_name": null,
       "type": ""
      }
     },
     "a718d2bc5c584fddbf70519bbecd496b": {
      "model_module": "ipytone",
      "model_module_version": "^0.4.1",
      "model_name": "NativeAudioParamModel",
      "state": {
       "_model_module": "ipytone",
       "_model_module_version": "^0.4.1",
       "_model_name": "NativeAudioParamModel",
       "_view_count": null,
       "_view_module": null,
       "_view_module_version": "",
       "_view_name": null,
       "type": ""
      }
     },
     "a80faece32c544c7a4d103a1ae6b1827": {
      "model_module": "ipytone",
      "model_module_version": "^0.4.1",
      "model_name": "InternalAudioNodeModel",
      "state": {
       "_create_node": false,
       "_disposed": true,
       "_input": null,
       "_model_module": "ipytone",
       "_model_module_version": "^0.4.1",
       "_model_name": "InternalAudioNodeModel",
       "_n_inputs": 1,
       "_n_outputs": 1,
       "_output": null,
       "_set_node_channels": true,
       "_view_count": null,
       "_view_module": null,
       "_view_module_version": "",
       "_view_name": null,
       "channel_count": 2,
       "channel_count_mode": "max",
       "channel_interpretation": "speakers",
       "name": "",
       "type": "ToneConstantSource"
      }
     },
     "a9fb2dc3308643cdab5c7f57415880be": {
      "model_module": "ipytone",
      "model_module_version": "^0.4.1",
      "model_name": "ParamModel",
      "state": {
       "_create_node": false,
       "_disposed": true,
       "_input": "IPY_MODEL_bd9cfb56663e49bd971fcb1f07288b84",
       "_max_value": null,
       "_min_value": null,
       "_model_module": "ipytone",
       "_model_module_version": "^0.4.1",
       "_model_name": "ParamModel",
       "_swappable": false,
       "_units": "decibels",
       "_view_count": null,
       "_view_module": null,
       "_view_module_version": "",
       "_view_name": null,
       "convert": true,
       "name": "",
       "overridden": false,
       "value": 0
      }
     },
     "aaef9c8a976a4a39bdf2f512a17ecaa4": {
      "model_module": "ipytone",
      "model_module_version": "^0.4.1",
      "model_name": "NativeAudioNodeModel",
      "state": {
       "_model_module": "ipytone",
       "_model_module_version": "^0.4.1",
       "_model_name": "NativeAudioNodeModel",
       "_n_inputs": 1,
       "_n_outputs": 1,
       "_view_count": null,
       "_view_module": null,
       "_view_module_version": "",
       "_view_name": null,
       "type": "GainNode"
      }
     },
     "ae3ea637011d4b2e9e5ee8f030cdaf66": {
      "model_module": "ipytone",
      "model_module_version": "^0.4.1",
      "model_name": "ParamModel",
      "state": {
       "_create_node": false,
       "_disposed": false,
       "_input": "IPY_MODEL_c14685ed0bde4b8bbda1aa94598aa3dc",
       "_max_value": null,
       "_min_value": null,
       "_model_module": "ipytone",
       "_model_module_version": "^0.4.1",
       "_model_name": "ParamModel",
       "_swappable": false,
       "_units": "audioRange",
       "_view_count": null,
       "_view_module": null,
       "_view_module_version": "",
       "_view_name": null,
       "convert": true,
       "name": "",
       "overridden": false,
       "value": 0.2
      }
     },
     "ae641451f6cf458ea71a84bccc6a86b8": {
      "model_module": "ipytone",
      "model_module_version": "^0.4.1",
      "model_name": "NativeAudioNodeModel",
      "state": {
       "_model_module": "ipytone",
       "_model_module_version": "^0.4.1",
       "_model_name": "NativeAudioNodeModel",
       "_n_inputs": 1,
       "_n_outputs": 1,
       "_view_count": null,
       "_view_module": null,
       "_view_module_version": "",
       "_view_name": null,
       "type": "GainNode"
      }
     },
     "ae8fd2c5087f4a9ab109e94df50e3fe8": {
      "model_module": "ipytone",
      "model_module_version": "^0.4.1",
      "model_name": "InternalAudioNodeModel",
      "state": {
       "_create_node": false,
       "_disposed": true,
       "_input": null,
       "_model_module": "ipytone",
       "_model_module_version": "^0.4.1",
       "_model_name": "InternalAudioNodeModel",
       "_n_inputs": 1,
       "_n_outputs": 1,
       "_output": null,
       "_set_node_channels": true,
       "_view_count": null,
       "_view_module": null,
       "_view_module_version": "",
       "_view_name": null,
       "channel_count": 2,
       "channel_count_mode": "max",
       "channel_interpretation": "speakers",
       "name": "",
       "type": "ToneConstantSource"
      }
     },
     "aec0ae8ffa814457bc4e50accf59e75f": {
      "model_module": "ipytone",
      "model_module_version": "^0.4.1",
      "model_name": "SignalModel",
      "state": {
       "_create_node": false,
       "_disposed": true,
       "_input": "IPY_MODEL_b38966b6e0a8490bbbd7bbeb82d11032",
       "_model_module": "ipytone",
       "_model_module_version": "^0.4.1",
       "_model_name": "SignalModel",
       "_output": "IPY_MODEL_221fce7a61ee4367bb79d27f7b072b0e",
       "_override": true,
       "_set_node_channels": true,
       "_view_count": null,
       "_view_module": null,
       "_view_module_version": "",
       "_view_name": null,
       "channel_count": 2,
       "channel_count_mode": "max",
       "channel_interpretation": "speakers",
       "name": "",
       "value": 440
      }
     },
     "b1bca8fd74a940f8906227bcd482aa93": {
      "model_module": "ipytone",
      "model_module_version": "^0.4.1",
      "model_name": "NativeAudioNodeModel",
      "state": {
       "_model_module": "ipytone",
       "_model_module_version": "^0.4.1",
       "_model_name": "NativeAudioNodeModel",
       "_n_inputs": 1,
       "_n_outputs": 1,
       "_view_count": null,
       "_view_module": null,
       "_view_module_version": "",
       "_view_name": null,
       "type": "GainNode"
      }
     },
     "b1e1f6c4f590407694fcfdc6f7f9f209": {
      "model_module": "ipytone",
      "model_module_version": "^0.4.1",
      "model_name": "InternalAudioNodeModel",
      "state": {
       "_create_node": false,
       "_disposed": false,
       "_input": null,
       "_model_module": "ipytone",
       "_model_module_version": "^0.4.1",
       "_model_name": "InternalAudioNodeModel",
       "_n_inputs": 1,
       "_n_outputs": 1,
       "_output": null,
       "_set_node_channels": true,
       "_view_count": null,
       "_view_module": null,
       "_view_module_version": "",
       "_view_name": null,
       "channel_count": 2,
       "channel_count_mode": "max",
       "channel_interpretation": "speakers",
       "name": "",
       "type": "ToneConstantSource"
      }
     },
     "b38966b6e0a8490bbbd7bbeb82d11032": {
      "model_module": "ipytone",
      "model_module_version": "^0.4.1",
      "model_name": "ParamModel",
      "state": {
       "_create_node": false,
       "_disposed": true,
       "_input": "IPY_MODEL_7fc6d421bd7344c294c064de847d7fea",
       "_max_value": null,
       "_min_value": null,
       "_model_module": "ipytone",
       "_model_module_version": "^0.4.1",
       "_model_name": "ParamModel",
       "_swappable": false,
       "_units": "frequency",
       "_view_count": null,
       "_view_module": null,
       "_view_module_version": "",
       "_view_name": null,
       "convert": true,
       "name": "",
       "overridden": false,
       "value": 440
      }
     },
     "b4140f56106541c0a47eecfd9d2a0e8f": {
      "model_module": "ipytone",
      "model_module_version": "^0.4.1",
      "model_name": "ParamModel",
      "state": {
       "_create_node": false,
       "_disposed": true,
       "_input": "IPY_MODEL_f5bb4807010b4ab6831d025e217fc60e",
       "_max_value": null,
       "_min_value": null,
       "_model_module": "ipytone",
       "_model_module_version": "^0.4.1",
       "_model_name": "ParamModel",
       "_swappable": false,
       "_units": "frequency",
       "_view_count": null,
       "_view_module": null,
       "_view_module_version": "",
       "_view_name": null,
       "convert": true,
       "name": "",
       "overridden": false,
       "value": 440
      }
     },
     "b4454fa460374d0f86a755b94bf251e7": {
      "model_module": "ipytone",
      "model_module_version": "^0.4.1",
      "model_name": "VolumeModel",
      "state": {
       "_create_node": false,
       "_disposed": true,
       "_input": "IPY_MODEL_bcb616473e444e539fe3ceddb2b558da",
       "_model_module": "ipytone",
       "_model_module_version": "^0.4.1",
       "_model_name": "VolumeModel",
       "_output": "IPY_MODEL_bcb616473e444e539fe3ceddb2b558da",
       "_set_node_channels": true,
       "_view_count": null,
       "_view_module": null,
       "_view_module_version": "",
       "_view_name": null,
       "_volume": "IPY_MODEL_3a5c0b97e9974cdc98af095457e4f864",
       "channel_count": 2,
       "channel_count_mode": "max",
       "channel_interpretation": "speakers",
       "mute": false,
       "name": ""
      }
     },
     "b5c3932d5c594f7c89811b178386c19d": {
      "model_module": "ipytone",
      "model_module_version": "^0.4.1",
      "model_name": "NativeAudioNodeModel",
      "state": {
       "_model_module": "ipytone",
       "_model_module_version": "^0.4.1",
       "_model_name": "NativeAudioNodeModel",
       "_n_inputs": 1,
       "_n_outputs": 1,
       "_view_count": null,
       "_view_module": null,
       "_view_module_version": "",
       "_view_name": null,
       "type": "GainNode"
      }
     },
     "b5cb83b24dae4ab080268f28a270c672": {
      "model_module": "ipytone",
      "model_module_version": "^0.4.1",
      "model_name": "NativeAudioParamModel",
      "state": {
       "_model_module": "ipytone",
       "_model_module_version": "^0.4.1",
       "_model_name": "NativeAudioParamModel",
       "_view_count": null,
       "_view_module": null,
       "_view_module_version": "",
       "_view_name": null,
       "type": ""
      }
     },
     "b88eee3660844366a465dce2adebcbad": {
      "model_module": "ipytone",
      "model_module_version": "^0.4.1",
      "model_name": "NativeAudioNodeModel",
      "state": {
       "_model_module": "ipytone",
       "_model_module_version": "^0.4.1",
       "_model_name": "NativeAudioNodeModel",
       "_n_inputs": 1,
       "_n_outputs": 1,
       "_view_count": null,
       "_view_module": null,
       "_view_module_version": "",
       "_view_name": null,
       "type": "GainNode"
      }
     },
     "b8a13d0eeda44659808c321d3d07a9ee": {
      "model_module": "ipytone",
      "model_module_version": "^0.4.1",
      "model_name": "NativeAudioParamModel",
      "state": {
       "_model_module": "ipytone",
       "_model_module_version": "^0.4.1",
       "_model_name": "NativeAudioParamModel",
       "_view_count": null,
       "_view_module": null,
       "_view_module_version": "",
       "_view_name": null,
       "type": ""
      }
     },
     "ba5834cb53104a7bbed97a26355f2b67": {
      "model_module": "ipytone",
      "model_module_version": "^0.4.1",
      "model_name": "InternalAudioNodeModel",
      "state": {
       "_create_node": false,
       "_disposed": false,
       "_input": null,
       "_model_module": "ipytone",
       "_model_module_version": "^0.4.1",
       "_model_name": "InternalAudioNodeModel",
       "_n_inputs": 1,
       "_n_outputs": 1,
       "_output": null,
       "_set_node_channels": true,
       "_view_count": null,
       "_view_module": null,
       "_view_module_version": "",
       "_view_name": null,
       "channel_count": 2,
       "channel_count_mode": "max",
       "channel_interpretation": "speakers",
       "name": "",
       "type": "ToneConstantSource"
      }
     },
     "bcb616473e444e539fe3ceddb2b558da": {
      "model_module": "ipytone",
      "model_module_version": "^0.4.1",
      "model_name": "GainModel",
      "state": {
       "_create_node": false,
       "_disposed": true,
       "_gain": "IPY_MODEL_3a5c0b97e9974cdc98af095457e4f864",
       "_input": "IPY_MODEL_ef624f7fd95e42e98afa68127f5326c7",
       "_model_module": "ipytone",
       "_model_module_version": "^0.4.1",
       "_model_name": "GainModel",
       "_output": "IPY_MODEL_ef624f7fd95e42e98afa68127f5326c7",
       "_set_node_channels": true,
       "_view_count": null,
       "_view_module": null,
       "_view_module_version": "",
       "_view_name": null,
       "channel_count": 2,
       "channel_count_mode": "max",
       "channel_interpretation": "speakers",
       "name": ""
      }
     },
     "bd41319856bd4d34887dbfa5453a6a84": {
      "model_module": "ipytone",
      "model_module_version": "^0.4.1",
      "model_name": "ParamModel",
      "state": {
       "_create_node": false,
       "_disposed": true,
       "_input": "IPY_MODEL_a5d1760b55c34353a98224d5505fca25",
       "_max_value": null,
       "_min_value": null,
       "_model_module": "ipytone",
       "_model_module_version": "^0.4.1",
       "_model_name": "ParamModel",
       "_swappable": false,
       "_units": "decibels",
       "_view_count": null,
       "_view_module": null,
       "_view_module_version": "",
       "_view_name": null,
       "convert": true,
       "name": "",
       "overridden": false,
       "value": -8
      }
     },
     "bd9cfb56663e49bd971fcb1f07288b84": {
      "model_module": "ipytone",
      "model_module_version": "^0.4.1",
      "model_name": "NativeAudioParamModel",
      "state": {
       "_model_module": "ipytone",
       "_model_module_version": "^0.4.1",
       "_model_name": "NativeAudioParamModel",
       "_view_count": null,
       "_view_module": null,
       "_view_module_version": "",
       "_view_name": null,
       "type": ""
      }
     },
     "be3a56c2c58e4d7fa780d52c885c3b44": {
      "model_module": "ipytone",
      "model_module_version": "^0.4.1",
      "model_name": "NativeAudioParamModel",
      "state": {
       "_model_module": "ipytone",
       "_model_module_version": "^0.4.1",
       "_model_name": "NativeAudioParamModel",
       "_view_count": null,
       "_view_module": null,
       "_view_module_version": "",
       "_view_name": null,
       "type": ""
      }
     },
     "c130a59eb42445d0aed88f2f9a92397f": {
      "model_module": "ipytone",
      "model_module_version": "^0.4.1",
      "model_name": "OmniOscillatorModel",
      "state": {
       "_create_node": true,
       "_detune": "IPY_MODEL_a08f3f31651f4553b9ef681a6a0d12b5",
       "_disposed": true,
       "_frequency": "IPY_MODEL_aec0ae8ffa814457bc4e50accf59e75f",
       "_harmonicity": "IPY_MODEL_5b4c9398fc624eb78ec4062fd04f7e53",
       "_input": null,
       "_model_module": "ipytone",
       "_model_module_version": "^0.4.1",
       "_model_name": "OmniOscillatorModel",
       "_modulation_frequency": "IPY_MODEL_db46088773b54578920d0bb2a3b18e56",
       "_modulation_index": "IPY_MODEL_3fafb2836a4f449f892ef0ec925f8d7a",
       "_output": "IPY_MODEL_5447f6422efe416aa084d3af6061b065",
       "_partials": [],
       "_set_node_channels": true,
       "_view_count": null,
       "_view_module": null,
       "_view_module_version": "",
       "_view_name": null,
       "_volume": "IPY_MODEL_e21f0a8c0d884fe3ab37353861f9402a",
       "_width": "IPY_MODEL_d2bd149be72f4cad8899bc0e743fe952",
       "array": null,
       "array_length": 1024,
       "channel_count": 2,
       "channel_count_mode": "max",
       "channel_interpretation": "speakers",
       "count": 3,
       "modulation_type": "square",
       "mute": false,
       "name": "",
       "phase": 0,
       "spread": 20,
       "sync_array": false,
       "type": "triangle"
      }
     },
     "c14685ed0bde4b8bbda1aa94598aa3dc": {
      "model_module": "ipytone",
      "model_module_version": "^0.4.1",
      "model_name": "NativeAudioParamModel",
      "state": {
       "_model_module": "ipytone",
       "_model_module_version": "^0.4.1",
       "_model_name": "NativeAudioParamModel",
       "_view_count": null,
       "_view_module": null,
       "_view_module_version": "",
       "_view_name": null,
       "type": ""
      }
     },
     "c2785e35f80a4059aeede6939477e8b9": {
      "model_module": "ipytone",
      "model_module_version": "^0.4.1",
      "model_name": "PolySynthModel",
      "state": {
       "_create_node": true,
       "_disposed": true,
       "_dummy_voice": "IPY_MODEL_9a406e27277e45d8b47d183f1babff67",
       "_input": null,
       "_model_module": "ipytone",
       "_model_module_version": "^0.4.1",
       "_model_name": "PolySynthModel",
       "_output": "IPY_MODEL_363a9246606542e6b650647d23efd361",
       "_set_node_channels": true,
       "_view_count": null,
       "_view_module": null,
       "_view_module_version": "",
       "_view_name": null,
       "channel_count": 2,
       "channel_count_mode": "max",
       "channel_interpretation": "speakers",
       "max_polyphony": 3,
       "name": ""
      }
     },
     "c452e8a26d824665a73ae95022f9b0f8": {
      "model_module": "ipytone",
      "model_module_version": "^0.4.1",
      "model_name": "OmniOscillatorModel",
      "state": {
       "_create_node": true,
       "_detune": "IPY_MODEL_f8213929a370471d96c290ae33dcf62b",
       "_disposed": true,
       "_frequency": "IPY_MODEL_70b70ac8234d469ab5787cd85662dadb",
       "_harmonicity": "IPY_MODEL_c8d1205d042a42a380a073bd6f46f47d",
       "_input": null,
       "_model_module": "ipytone",
       "_model_module_version": "^0.4.1",
       "_model_name": "OmniOscillatorModel",
       "_modulation_frequency": "IPY_MODEL_f7fd39fe7fef49e7a050691ebfea2840",
       "_modulation_index": "IPY_MODEL_5c5654e4ccef4071a0d03b04d6099f7d",
       "_output": "IPY_MODEL_c571e36153714c6db7aa05aca7ace6d3",
       "_partials": [],
       "_set_node_channels": true,
       "_view_count": null,
       "_view_module": null,
       "_view_module_version": "",
       "_view_name": null,
       "_volume": "IPY_MODEL_e5a4093ac72a437db420219ac09597f2",
       "_width": "IPY_MODEL_74c49005cd804d278265c9f34c15128e",
       "array": null,
       "array_length": 1024,
       "channel_count": 2,
       "channel_count_mode": "max",
       "channel_interpretation": "speakers",
       "count": 3,
       "modulation_type": "square",
       "mute": false,
       "name": "",
       "phase": 0,
       "spread": 20,
       "sync_array": false,
       "type": "triangle"
      }
     },
     "c519bd7d707641249f6831e190a8f753": {
      "model_module": "ipytone",
      "model_module_version": "^0.4.1",
      "model_name": "NativeAudioNodeModel",
      "state": {
       "_model_module": "ipytone",
       "_model_module_version": "^0.4.1",
       "_model_name": "NativeAudioNodeModel",
       "_n_inputs": 1,
       "_n_outputs": 1,
       "_view_count": null,
       "_view_module": null,
       "_view_module_version": "",
       "_view_name": null,
       "type": "GainNode"
      }
     },
     "c571e36153714c6db7aa05aca7ace6d3": {
      "model_module": "ipytone",
      "model_module_version": "^0.4.1",
      "model_name": "VolumeModel",
      "state": {
       "_create_node": false,
       "_disposed": true,
       "_input": "IPY_MODEL_5cac732a16294824ba639137a761e3a2",
       "_model_module": "ipytone",
       "_model_module_version": "^0.4.1",
       "_model_name": "VolumeModel",
       "_output": "IPY_MODEL_5cac732a16294824ba639137a761e3a2",
       "_set_node_channels": true,
       "_view_count": null,
       "_view_module": null,
       "_view_module_version": "",
       "_view_name": null,
       "_volume": "IPY_MODEL_e5a4093ac72a437db420219ac09597f2",
       "channel_count": 2,
       "channel_count_mode": "max",
       "channel_interpretation": "speakers",
       "mute": false,
       "name": ""
      }
     },
     "c5addebedb2440cc95235899a4084c9e": {
      "model_module": "ipytone",
      "model_module_version": "^0.4.1",
      "model_name": "ParamModel",
      "state": {
       "_create_node": false,
       "_disposed": false,
       "_input": "IPY_MODEL_b5cb83b24dae4ab080268f28a270c672",
       "_max_value": null,
       "_min_value": null,
       "_model_module": "ipytone",
       "_model_module_version": "^0.4.1",
       "_model_name": "ParamModel",
       "_swappable": false,
       "_units": "frequency",
       "_view_count": null,
       "_view_module": null,
       "_view_module_version": "",
       "_view_name": null,
       "convert": true,
       "name": "",
       "overridden": false,
       "value": 0.4
      }
     },
     "c78a5ec292684229b7e2bf736306a172": {
      "model_module": "ipytone",
      "model_module_version": "^0.4.1",
      "model_name": "ParamModel",
      "state": {
       "_create_node": false,
       "_disposed": true,
       "_input": "IPY_MODEL_d35535ab0fde4ca2947f459a9d6a7d6a",
       "_max_value": null,
       "_min_value": null,
       "_model_module": "ipytone",
       "_model_module_version": "^0.4.1",
       "_model_name": "ParamModel",
       "_swappable": false,
       "_units": "gain",
       "_view_count": null,
       "_view_module": null,
       "_view_module_version": "",
       "_view_name": null,
       "convert": true,
       "name": "",
       "overridden": false,
       "value": 1
      }
     },
     "c82d8d7629834c5a810a1f093ae0ba97": {
      "model_module": "ipytone",
      "model_module_version": "^0.4.1",
      "model_name": "NativeAudioNodeModel",
      "state": {
       "_model_module": "ipytone",
       "_model_module_version": "^0.4.1",
       "_model_name": "NativeAudioNodeModel",
       "_n_inputs": 1,
       "_n_outputs": 1,
       "_view_count": null,
       "_view_module": null,
       "_view_module_version": "",
       "_view_name": null,
       "type": "GainNode"
      }
     },
     "c8d1205d042a42a380a073bd6f46f47d": {
      "model_module": "ipytone",
      "model_module_version": "^0.4.1",
      "model_name": "MultiplyModel",
      "state": {
       "_create_node": false,
       "_disposed": false,
       "_factor": "IPY_MODEL_8fd1f58abfd448588058d4a50b5aceeb",
       "_input": "IPY_MODEL_4e0579fb4d3c4f9b9ec155f2bb70029f",
       "_model_module": "ipytone",
       "_model_module_version": "^0.4.1",
       "_model_name": "MultiplyModel",
       "_output": "IPY_MODEL_4e0579fb4d3c4f9b9ec155f2bb70029f",
       "_override": false,
       "_set_node_channels": true,
       "_view_count": null,
       "_view_module": null,
       "_view_module_version": "",
       "_view_name": null,
       "channel_count": 2,
       "channel_count_mode": "max",
       "channel_interpretation": "speakers",
       "name": "",
       "value": 1
      }
     },
     "cb453dd8585e4c43a04eee461c9a2a5c": {
      "model_module": "ipytone",
      "model_module_version": "^0.4.1",
      "model_name": "NativeAudioParamModel",
      "state": {
       "_model_module": "ipytone",
       "_model_module_version": "^0.4.1",
       "_model_name": "NativeAudioParamModel",
       "_view_count": null,
       "_view_module": null,
       "_view_module_version": "",
       "_view_name": null,
       "type": ""
      }
     },
     "cc138aca2f8d4af3a3f683e9b5f1bba1": {
      "model_module": "ipytone",
      "model_module_version": "^0.4.1",
      "model_name": "SignalModel",
      "state": {
       "_create_node": false,
       "_disposed": true,
       "_input": "IPY_MODEL_1da668756a2b4e3487444e648f779414",
       "_model_module": "ipytone",
       "_model_module_version": "^0.4.1",
       "_model_name": "SignalModel",
       "_output": "IPY_MODEL_a80faece32c544c7a4d103a1ae6b1827",
       "_override": true,
       "_set_node_channels": true,
       "_view_count": null,
       "_view_module": null,
       "_view_module_version": "",
       "_view_name": null,
       "channel_count": 2,
       "channel_count_mode": "max",
       "channel_interpretation": "speakers",
       "name": "",
       "value": 0
      }
     },
     "cc92455cb1764f6284bb614a03d30d7d": {
      "model_module": "ipytone",
      "model_module_version": "^0.4.1",
      "model_name": "MultiplyModel",
      "state": {
       "_create_node": false,
       "_disposed": false,
       "_factor": "IPY_MODEL_062f8ff027844131a815afdce7fbd40d",
       "_input": "IPY_MODEL_760e2fd8da0e4e7db158527660555a7d",
       "_model_module": "ipytone",
       "_model_module_version": "^0.4.1",
       "_model_name": "MultiplyModel",
       "_output": "IPY_MODEL_760e2fd8da0e4e7db158527660555a7d",
       "_override": false,
       "_set_node_channels": true,
       "_view_count": null,
       "_view_module": null,
       "_view_module_version": "",
       "_view_name": null,
       "channel_count": 2,
       "channel_count_mode": "max",
       "channel_interpretation": "speakers",
       "name": "",
       "value": 2
      }
     },
     "cfb938937f734a1baa50303baedf9cb9": {
      "model_module": "ipytone",
      "model_module_version": "^0.4.1",
      "model_name": "GainModel",
      "state": {
       "_create_node": false,
       "_disposed": true,
       "_gain": "IPY_MODEL_f1407877ba294feebc7e7e2af4e8a7ac",
       "_input": "IPY_MODEL_669a63dd43174dfd95d61380a0bca252",
       "_model_module": "ipytone",
       "_model_module_version": "^0.4.1",
       "_model_name": "GainModel",
       "_output": "IPY_MODEL_669a63dd43174dfd95d61380a0bca252",
       "_set_node_channels": true,
       "_view_count": null,
       "_view_module": null,
       "_view_module_version": "",
       "_view_name": null,
       "channel_count": 2,
       "channel_count_mode": "max",
       "channel_interpretation": "speakers",
       "name": ""
      }
     },
     "d04184cf00544f2a84a236e189601de8": {
      "model_module": "ipytone",
      "model_module_version": "^0.4.1",
      "model_name": "GainModel",
      "state": {
       "_create_node": false,
       "_disposed": true,
       "_gain": "IPY_MODEL_11d0695b18324acfac4311270418e7e6",
       "_input": "IPY_MODEL_9bc0148268cf4e59963cf7af05c7159a",
       "_model_module": "ipytone",
       "_model_module_version": "^0.4.1",
       "_model_name": "GainModel",
       "_output": "IPY_MODEL_9bc0148268cf4e59963cf7af05c7159a",
       "_set_node_channels": true,
       "_view_count": null,
       "_view_module": null,
       "_view_module_version": "",
       "_view_name": null,
       "channel_count": 2,
       "channel_count_mode": "max",
       "channel_interpretation": "speakers",
       "name": ""
      }
     },
     "d26fe43672e74c27ab8d8e88d14c5b4f": {
      "model_module": "ipytone",
      "model_module_version": "^0.4.1",
      "model_name": "NativeAudioParamModel",
      "state": {
       "_model_module": "ipytone",
       "_model_module_version": "^0.4.1",
       "_model_name": "NativeAudioParamModel",
       "_view_count": null,
       "_view_module": null,
       "_view_module_version": "",
       "_view_name": null,
       "type": ""
      }
     },
     "d2b3aa2b2a874d0a82e587e72ec90f5f": {
      "model_module": "ipytone",
      "model_module_version": "^0.4.1",
      "model_name": "GainModel",
      "state": {
       "_create_node": false,
       "_disposed": true,
       "_gain": "IPY_MODEL_18c465823c844778b3e57c2ac5274581",
       "_input": "IPY_MODEL_b1bca8fd74a940f8906227bcd482aa93",
       "_model_module": "ipytone",
       "_model_module_version": "^0.4.1",
       "_model_name": "GainModel",
       "_output": "IPY_MODEL_b1bca8fd74a940f8906227bcd482aa93",
       "_set_node_channels": true,
       "_view_count": null,
       "_view_module": null,
       "_view_module_version": "",
       "_view_name": null,
       "channel_count": 2,
       "channel_count_mode": "max",
       "channel_interpretation": "speakers",
       "name": ""
      }
     },
     "d2bd149be72f4cad8899bc0e743fe952": {
      "model_module": "ipytone",
      "model_module_version": "^0.4.1",
      "model_name": "SignalModel",
      "state": {
       "_create_node": false,
       "_disposed": false,
       "_input": "IPY_MODEL_0506f4b5506c46aa89686310a0a672d8",
       "_model_module": "ipytone",
       "_model_module_version": "^0.4.1",
       "_model_name": "SignalModel",
       "_output": "IPY_MODEL_7d676893351345c99c5520715523ca49",
       "_override": true,
       "_set_node_channels": true,
       "_view_count": null,
       "_view_module": null,
       "_view_module_version": "",
       "_view_name": null,
       "channel_count": 2,
       "channel_count_mode": "max",
       "channel_interpretation": "speakers",
       "name": "",
       "value": 0.2
      }
     },
     "d3136da2cabe4140941fabd705c00617": {
      "model_module": "ipytone",
      "model_module_version": "^0.4.1",
      "model_name": "NativeAudioNodeModel",
      "state": {
       "_model_module": "ipytone",
       "_model_module_version": "^0.4.1",
       "_model_name": "NativeAudioNodeModel",
       "_n_inputs": 1,
       "_n_outputs": 1,
       "_view_count": null,
       "_view_module": null,
       "_view_module_version": "",
       "_view_name": null,
       "type": "GainNode"
      }
     },
     "d332e603e8e5459e942d3bbf18fe2870": {
      "model_module": "ipytone",
      "model_module_version": "^0.4.1",
      "model_name": "NativeAudioParamModel",
      "state": {
       "_model_module": "ipytone",
       "_model_module_version": "^0.4.1",
       "_model_name": "NativeAudioParamModel",
       "_view_count": null,
       "_view_module": null,
       "_view_module_version": "",
       "_view_name": null,
       "type": ""
      }
     },
     "d35535ab0fde4ca2947f459a9d6a7d6a": {
      "model_module": "ipytone",
      "model_module_version": "^0.4.1",
      "model_name": "NativeAudioParamModel",
      "state": {
       "_model_module": "ipytone",
       "_model_module_version": "^0.4.1",
       "_model_name": "NativeAudioParamModel",
       "_view_count": null,
       "_view_module": null,
       "_view_module_version": "",
       "_view_name": null,
       "type": ""
      }
     },
     "d3c73c2870d444deabc3ee84a1e7c7f5": {
      "model_module": "ipytone",
      "model_module_version": "^0.4.1",
      "model_name": "GainModel",
      "state": {
       "_create_node": false,
       "_disposed": false,
       "_gain": "IPY_MODEL_f86370add6324893bf6216f6cdbfc5c6",
       "_input": "IPY_MODEL_17a6aadcd9d046e495e4c609f7fdc3c7",
       "_model_module": "ipytone",
       "_model_module_version": "^0.4.1",
       "_model_name": "GainModel",
       "_output": "IPY_MODEL_17a6aadcd9d046e495e4c609f7fdc3c7",
       "_set_node_channels": true,
       "_view_count": null,
       "_view_module": null,
       "_view_module_version": "",
       "_view_name": null,
       "channel_count": 2,
       "channel_count_mode": "max",
       "channel_interpretation": "speakers",
       "name": ""
      }
     },
     "d571447b77684d7e9249acf2584e3601": {
      "model_module": "ipytone",
      "model_module_version": "^0.4.1",
      "model_name": "VolumeModel",
      "state": {
       "_create_node": false,
       "_disposed": true,
       "_input": "IPY_MODEL_7596db85ddd949758a2a6201561ac100",
       "_model_module": "ipytone",
       "_model_module_version": "^0.4.1",
       "_model_name": "VolumeModel",
       "_output": "IPY_MODEL_7596db85ddd949758a2a6201561ac100",
       "_set_node_channels": true,
       "_view_count": null,
       "_view_module": null,
       "_view_module_version": "",
       "_view_name": null,
       "_volume": "IPY_MODEL_a9fb2dc3308643cdab5c7f57415880be",
       "channel_count": 2,
       "channel_count_mode": "max",
       "channel_interpretation": "speakers",
       "mute": false,
       "name": ""
      }
     },
     "d69370b398ea43b99ddd39ee1a637649": {
      "model_module": "ipytone",
      "model_module_version": "^0.4.1",
      "model_name": "NativeAudioNodeModel",
      "state": {
       "_model_module": "ipytone",
       "_model_module_version": "^0.4.1",
       "_model_name": "NativeAudioNodeModel",
       "_n_inputs": 1,
       "_n_outputs": 1,
       "_view_count": null,
       "_view_module": null,
       "_view_module_version": "",
       "_view_name": null,
       "type": "GainNode"
      }
     },
     "d6f88d8e208d48808366c35a28adcabc": {
      "model_module": "ipytone",
      "model_module_version": "^0.4.1",
      "model_name": "NativeAudioParamModel",
      "state": {
       "_model_module": "ipytone",
       "_model_module_version": "^0.4.1",
       "_model_name": "NativeAudioParamModel",
       "_view_count": null,
       "_view_module": null,
       "_view_module_version": "",
       "_view_name": null,
       "type": ""
      }
     },
     "db46088773b54578920d0bb2a3b18e56": {
      "model_module": "ipytone",
      "model_module_version": "^0.4.1",
      "model_name": "SignalModel",
      "state": {
       "_create_node": false,
       "_disposed": false,
       "_input": "IPY_MODEL_ea4847df697f4820b4de4454ddb6148f",
       "_model_module": "ipytone",
       "_model_module_version": "^0.4.1",
       "_model_name": "SignalModel",
       "_output": "IPY_MODEL_8b70b5ee29af4d8b862dd4fddadbd186",
       "_override": true,
       "_set_node_channels": true,
       "_view_count": null,
       "_view_module": null,
       "_view_module_version": "",
       "_view_name": null,
       "channel_count": 2,
       "channel_count_mode": "max",
       "channel_interpretation": "speakers",
       "name": "",
       "value": 0.4
      }
     },
     "dbcc0a1fed954bd6a41b1261953fe740": {
      "model_module": "ipytone",
      "model_module_version": "^0.4.1",
      "model_name": "ParamModel",
      "state": {
       "_create_node": false,
       "_disposed": false,
       "_input": "IPY_MODEL_147ce04775a147ffa71960854c4afd77",
       "_max_value": null,
       "_min_value": null,
       "_model_module": "ipytone",
       "_model_module_version": "^0.4.1",
       "_model_name": "ParamModel",
       "_swappable": false,
       "_units": "bpm",
       "_view_count": null,
       "_view_module": null,
       "_view_module_version": "",
       "_view_name": null,
       "convert": true,
       "name": "",
       "overridden": false,
       "value": 120
      }
     },
     "de9f496aafc742de8e3cdb5620649ae3": {
      "model_module": "ipytone",
      "model_module_version": "^0.4.1",
      "model_name": "ParamModel",
      "state": {
       "_create_node": false,
       "_disposed": false,
       "_input": "IPY_MODEL_ef10e3920c6c459195ce5b46e9c695f4",
       "_max_value": null,
       "_min_value": null,
       "_model_module": "ipytone",
       "_model_module_version": "^0.4.1",
       "_model_name": "ParamModel",
       "_swappable": false,
       "_units": "number",
       "_view_count": null,
       "_view_module": null,
       "_view_module_version": "",
       "_view_name": null,
       "convert": true,
       "name": "",
       "overridden": false,
       "value": 1
      }
     },
     "df021b314bcd4d40854c514df3235a1a": {
      "model_module": "ipytone",
      "model_module_version": "^0.4.1",
      "model_name": "ParamModel",
      "state": {
       "_create_node": false,
       "_disposed": true,
       "_input": "IPY_MODEL_1b0139e4f7ae4b7fae251eded31769d5",
       "_max_value": null,
       "_min_value": null,
       "_model_module": "ipytone",
       "_model_module_version": "^0.4.1",
       "_model_name": "ParamModel",
       "_swappable": false,
       "_units": "decibels",
       "_view_count": null,
       "_view_module": null,
       "_view_module_version": "",
       "_view_name": null,
       "convert": true,
       "name": "",
       "overridden": false,
       "value": 0
      }
     },
     "e21f0a8c0d884fe3ab37353861f9402a": {
      "model_module": "ipytone",
      "model_module_version": "^0.4.1",
      "model_name": "ParamModel",
      "state": {
       "_create_node": false,
       "_disposed": true,
       "_input": "IPY_MODEL_86a14e5d68e44bdaa4df9c5b2329c043",
       "_max_value": null,
       "_min_value": null,
       "_model_module": "ipytone",
       "_model_module_version": "^0.4.1",
       "_model_name": "ParamModel",
       "_swappable": false,
       "_units": "decibels",
       "_view_count": null,
       "_view_module": null,
       "_view_module_version": "",
       "_view_name": null,
       "convert": true,
       "name": "",
       "overridden": false,
       "value": 0
      }
     },
     "e309f8046ffd412893ceef6f0f3fecbb": {
      "model_module": "ipytone",
      "model_module_version": "^0.4.1",
      "model_name": "GainModel",
      "state": {
       "_create_node": false,
       "_disposed": false,
       "_gain": "IPY_MODEL_5e9f6fbc389d47d1b9e9863ee97d7454",
       "_input": "IPY_MODEL_56077d4cc3d04dfbb5057dbf859ccde7",
       "_model_module": "ipytone",
       "_model_module_version": "^0.4.1",
       "_model_name": "GainModel",
       "_output": "IPY_MODEL_56077d4cc3d04dfbb5057dbf859ccde7",
       "_set_node_channels": true,
       "_view_count": null,
       "_view_module": null,
       "_view_module_version": "",
       "_view_name": null,
       "channel_count": 2,
       "channel_count_mode": "max",
       "channel_interpretation": "speakers",
       "name": ""
      }
     },
     "e361e43c61104c82a846eadea243d5dc": {
      "model_module": "ipytone",
      "model_module_version": "^0.4.1",
      "model_name": "InternalAudioNodeModel",
      "state": {
       "_create_node": false,
       "_disposed": true,
       "_input": null,
       "_model_module": "ipytone",
       "_model_module_version": "^0.4.1",
       "_model_name": "InternalAudioNodeModel",
       "_n_inputs": 1,
       "_n_outputs": 1,
       "_output": null,
       "_set_node_channels": true,
       "_view_count": null,
       "_view_module": null,
       "_view_module_version": "",
       "_view_name": null,
       "channel_count": 2,
       "channel_count_mode": "max",
       "channel_interpretation": "speakers",
       "name": "",
       "type": "ToneConstantSource"
      }
     },
     "e36b0057ec164f3090b7498b60abcec6": {
      "model_module": "ipytone",
      "model_module_version": "^0.4.1",
      "model_name": "AmplitudeEnvelopeModel",
      "state": {
       "_create_node": true,
       "_disposed": true,
       "_input": "IPY_MODEL_cfb938937f734a1baa50303baedf9cb9",
       "_model_module": "ipytone",
       "_model_module_version": "^0.4.1",
       "_model_name": "AmplitudeEnvelopeModel",
       "_output": "IPY_MODEL_cfb938937f734a1baa50303baedf9cb9",
       "_set_node_channels": true,
       "_view_count": null,
       "_view_module": null,
       "_view_module_version": "",
       "_view_name": null,
       "array": null,
       "array_length": 1024,
       "attack": 0.005,
       "attack_curve": "linear",
       "channel_count": 2,
       "channel_count_mode": "max",
       "channel_interpretation": "speakers",
       "decay": 0.1,
       "decay_curve": "exponential",
       "name": "",
       "release": 1,
       "release_curve": "exponential",
       "sustain": 0.3,
       "sync_array": false
      }
     },
     "e3a7d2be8b874a6b811933218d5c4785": {
      "model_module": "ipytone",
      "model_module_version": "^0.4.1",
      "model_name": "ParamModel",
      "state": {
       "_create_node": false,
       "_disposed": true,
       "_input": "IPY_MODEL_41fe93cad8b24351961d8108401b344d",
       "_max_value": null,
       "_min_value": null,
       "_model_module": "ipytone",
       "_model_module_version": "^0.4.1",
       "_model_name": "ParamModel",
       "_swappable": false,
       "_units": "positive",
       "_view_count": null,
       "_view_module": null,
       "_view_module_version": "",
       "_view_name": null,
       "convert": true,
       "name": "",
       "overridden": false,
       "value": 1
      }
     },
     "e3dd02fb206a4debaa135d92587d24ad": {
      "model_module": "ipytone",
      "model_module_version": "^0.4.1",
      "model_name": "AddModel",
      "state": {
       "_addend": "IPY_MODEL_102c0ea619264c358d3f55a0538c054a",
       "_create_node": false,
       "_disposed": true,
       "_input": "IPY_MODEL_269078a35a2e4731bb8ba4219eaf1178",
       "_model_module": "ipytone",
       "_model_module_version": "^0.4.1",
       "_model_name": "AddModel",
       "_output": "IPY_MODEL_269078a35a2e4731bb8ba4219eaf1178",
       "_override": false,
       "_set_node_channels": true,
       "_view_count": null,
       "_view_module": null,
       "_view_module_version": "",
       "_view_name": null,
       "channel_count": 2,
       "channel_count_mode": "max",
       "channel_interpretation": "speakers",
       "name": "",
       "value": 200
      }
     },
     "e4688702b1744b9c93d18c8d813fa29c": {
      "model_module": "ipytone",
      "model_module_version": "^0.4.1",
      "model_name": "GainModel",
      "state": {
       "_create_node": false,
       "_disposed": true,
       "_gain": "IPY_MODEL_3ec35a2f5bca417b96d7b83ec67ca0de",
       "_input": "IPY_MODEL_9332a014eb114f6c99233b7f54fcde2a",
       "_model_module": "ipytone",
       "_model_module_version": "^0.4.1",
       "_model_name": "GainModel",
       "_output": "IPY_MODEL_9332a014eb114f6c99233b7f54fcde2a",
       "_set_node_channels": true,
       "_view_count": null,
       "_view_module": null,
       "_view_module_version": "",
       "_view_name": null,
       "channel_count": 2,
       "channel_count_mode": "max",
       "channel_interpretation": "speakers",
       "name": ""
      }
     },
     "e5941c070dc14c719b79b889a45e8b4a": {
      "model_module": "ipytone",
      "model_module_version": "^0.4.1",
      "model_name": "SignalModel",
      "state": {
       "_create_node": false,
       "_disposed": true,
       "_input": "IPY_MODEL_e3a7d2be8b874a6b811933218d5c4785",
       "_model_module": "ipytone",
       "_model_module_version": "^0.4.1",
       "_model_name": "SignalModel",
       "_output": "IPY_MODEL_83f447bb1ff74ebf98c72fb937cfa0f4",
       "_override": true,
       "_set_node_channels": true,
       "_view_count": null,
       "_view_module": null,
       "_view_module_version": "",
       "_view_name": null,
       "channel_count": 2,
       "channel_count_mode": "max",
       "channel_interpretation": "speakers",
       "name": "",
       "value": 1
      }
     },
     "e5a4093ac72a437db420219ac09597f2": {
      "model_module": "ipytone",
      "model_module_version": "^0.4.1",
      "model_name": "ParamModel",
      "state": {
       "_create_node": false,
       "_disposed": true,
       "_input": "IPY_MODEL_20533979d9264d928a26183750c33633",
       "_max_value": null,
       "_min_value": null,
       "_model_module": "ipytone",
       "_model_module_version": "^0.4.1",
       "_model_name": "ParamModel",
       "_swappable": false,
       "_units": "decibels",
       "_view_count": null,
       "_view_module": null,
       "_view_module_version": "",
       "_view_name": null,
       "convert": true,
       "name": "",
       "overridden": false,
       "value": 0
      }
     },
     "e639248ff316483ea1c3f0352e77b8c1": {
      "model_module": "ipytone",
      "model_module_version": "^0.4.1",
      "model_name": "ParamModel",
      "state": {
       "_create_node": false,
       "_disposed": true,
       "_input": "IPY_MODEL_57b54fdb36cf463cb4d082285f30f48c",
       "_max_value": null,
       "_min_value": null,
       "_model_module": "ipytone",
       "_model_module_version": "^0.4.1",
       "_model_name": "ParamModel",
       "_swappable": false,
       "_units": "number",
       "_view_count": null,
       "_view_module": null,
       "_view_module_version": "",
       "_view_name": null,
       "convert": true,
       "name": "",
       "overridden": false,
       "value": 1
      }
     },
     "e7ad1ade37dd4f12ba95cc443b5c0375": {
      "model_module": "ipytone",
      "model_module_version": "^0.4.1",
      "model_name": "InternalAudioNodeModel",
      "state": {
       "_create_node": false,
       "_disposed": true,
       "_input": null,
       "_model_module": "ipytone",
       "_model_module_version": "^0.4.1",
       "_model_name": "InternalAudioNodeModel",
       "_n_inputs": 1,
       "_n_outputs": 1,
       "_output": null,
       "_set_node_channels": true,
       "_view_count": null,
       "_view_module": null,
       "_view_module_version": "",
       "_view_name": null,
       "channel_count": 2,
       "channel_count_mode": "max",
       "channel_interpretation": "speakers",
       "name": "",
       "type": "ToneConstantSource"
      }
     },
     "ea4847df697f4820b4de4454ddb6148f": {
      "model_module": "ipytone",
      "model_module_version": "^0.4.1",
      "model_name": "ParamModel",
      "state": {
       "_create_node": false,
       "_disposed": false,
       "_input": "IPY_MODEL_01e7fca9804541be96c36e4ba40c0e7f",
       "_max_value": null,
       "_min_value": null,
       "_model_module": "ipytone",
       "_model_module_version": "^0.4.1",
       "_model_name": "ParamModel",
       "_swappable": false,
       "_units": "frequency",
       "_view_count": null,
       "_view_module": null,
       "_view_module_version": "",
       "_view_name": null,
       "convert": true,
       "name": "",
       "overridden": false,
       "value": 0.4
      }
     },
     "ef10e3920c6c459195ce5b46e9c695f4": {
      "model_module": "ipytone",
      "model_module_version": "^0.4.1",
      "model_name": "NativeAudioParamModel",
      "state": {
       "_model_module": "ipytone",
       "_model_module_version": "^0.4.1",
       "_model_name": "NativeAudioParamModel",
       "_view_count": null,
       "_view_module": null,
       "_view_module_version": "",
       "_view_name": null,
       "type": ""
      }
     },
     "ef624f7fd95e42e98afa68127f5326c7": {
      "model_module": "ipytone",
      "model_module_version": "^0.4.1",
      "model_name": "NativeAudioNodeModel",
      "state": {
       "_model_module": "ipytone",
       "_model_module_version": "^0.4.1",
       "_model_name": "NativeAudioNodeModel",
       "_n_inputs": 1,
       "_n_outputs": 1,
       "_view_count": null,
       "_view_module": null,
       "_view_module_version": "",
       "_view_name": null,
       "type": "GainNode"
      }
     },
     "f119e321c59e4f50a49f8c411fe5525d": {
      "model_module": "ipytone",
      "model_module_version": "^0.4.1",
      "model_name": "NativeAudioParamModel",
      "state": {
       "_model_module": "ipytone",
       "_model_module_version": "^0.4.1",
       "_model_name": "NativeAudioParamModel",
       "_view_count": null,
       "_view_module": null,
       "_view_module_version": "",
       "_view_name": null,
       "type": ""
      }
     },
     "f1407877ba294feebc7e7e2af4e8a7ac": {
      "model_module": "ipytone",
      "model_module_version": "^0.4.1",
      "model_name": "ParamModel",
      "state": {
       "_create_node": false,
       "_disposed": true,
       "_input": "IPY_MODEL_92bf59963b674cef8774e92cf08857c5",
       "_max_value": null,
       "_min_value": null,
       "_model_module": "ipytone",
       "_model_module_version": "^0.4.1",
       "_model_name": "ParamModel",
       "_swappable": false,
       "_units": "gain",
       "_view_count": null,
       "_view_module": null,
       "_view_module_version": "",
       "_view_name": null,
       "convert": true,
       "name": "",
       "overridden": false,
       "value": 0
      }
     },
     "f405bbcb78cd46d5a6c2763b9f61504f": {
      "model_module": "ipytone",
      "model_module_version": "^0.4.1",
      "model_name": "PowModel",
      "state": {
       "_create_node": true,
       "_disposed": true,
       "_input": "IPY_MODEL_3d58085e340b49529f5bbc7917bbf30f",
       "_model_module": "ipytone",
       "_model_module_version": "^0.4.1",
       "_model_name": "PowModel",
       "_output": "IPY_MODEL_3d58085e340b49529f5bbc7917bbf30f",
       "_set_node_channels": true,
       "_view_count": null,
       "_view_module": null,
       "_view_module_version": "",
       "_view_name": null,
       "channel_count": 2,
       "channel_count_mode": "max",
       "channel_interpretation": "speakers",
       "name": "",
       "value": 2
      }
     },
     "f5bb4807010b4ab6831d025e217fc60e": {
      "model_module": "ipytone",
      "model_module_version": "^0.4.1",
      "model_name": "NativeAudioParamModel",
      "state": {
       "_model_module": "ipytone",
       "_model_module_version": "^0.4.1",
       "_model_name": "NativeAudioParamModel",
       "_view_count": null,
       "_view_module": null,
       "_view_module_version": "",
       "_view_name": null,
       "type": ""
      }
     },
     "f75c3fc8e91a4a81a55e5e45635cf596": {
      "model_module": "ipytone",
      "model_module_version": "^0.4.1",
      "model_name": "NativeAudioParamModel",
      "state": {
       "_model_module": "ipytone",
       "_model_module_version": "^0.4.1",
       "_model_name": "NativeAudioParamModel",
       "_view_count": null,
       "_view_module": null,
       "_view_module_version": "",
       "_view_name": null,
       "type": ""
      }
     },
     "f7683a971d85471aa1f60ed8a3b2b84e": {
      "model_module": "ipytone",
      "model_module_version": "^0.4.1",
      "model_name": "ParamModel",
      "state": {
       "_create_node": false,
       "_disposed": false,
       "_input": "IPY_MODEL_b8a13d0eeda44659808c321d3d07a9ee",
       "_max_value": null,
       "_min_value": null,
       "_model_module": "ipytone",
       "_model_module_version": "^0.4.1",
       "_model_name": "ParamModel",
       "_swappable": false,
       "_units": "number",
       "_view_count": null,
       "_view_module": null,
       "_view_module_version": "",
       "_view_name": null,
       "convert": true,
       "name": "",
       "overridden": false,
       "value": 1
      }
     },
     "f7fd39fe7fef49e7a050691ebfea2840": {
      "model_module": "ipytone",
      "model_module_version": "^0.4.1",
      "model_name": "SignalModel",
      "state": {
       "_create_node": false,
       "_disposed": false,
       "_input": "IPY_MODEL_c5addebedb2440cc95235899a4084c9e",
       "_model_module": "ipytone",
       "_model_module_version": "^0.4.1",
       "_model_name": "SignalModel",
       "_output": "IPY_MODEL_57af5ca517ff4529b14a7e4ade6e1dd5",
       "_override": true,
       "_set_node_channels": true,
       "_view_count": null,
       "_view_module": null,
       "_view_module_version": "",
       "_view_name": null,
       "channel_count": 2,
       "channel_count_mode": "max",
       "channel_interpretation": "speakers",
       "name": "",
       "value": 0.4
      }
     },
     "f8213929a370471d96c290ae33dcf62b": {
      "model_module": "ipytone",
      "model_module_version": "^0.4.1",
      "model_name": "SignalModel",
      "state": {
       "_create_node": false,
       "_disposed": true,
       "_input": "IPY_MODEL_1d00c9d4255d47c8af099f4706adff0e",
       "_model_module": "ipytone",
       "_model_module_version": "^0.4.1",
       "_model_name": "SignalModel",
       "_output": "IPY_MODEL_4d751ae4aedd4e5aa0303c97dfe524d4",
       "_override": true,
       "_set_node_channels": true,
       "_view_count": null,
       "_view_module": null,
       "_view_module_version": "",
       "_view_name": null,
       "channel_count": 2,
       "channel_count_mode": "max",
       "channel_interpretation": "speakers",
       "name": "",
       "value": 0
      }
     },
     "f86370add6324893bf6216f6cdbfc5c6": {
      "model_module": "ipytone",
      "model_module_version": "^0.4.1",
      "model_name": "ParamModel",
      "state": {
       "_create_node": false,
       "_disposed": false,
       "_input": "IPY_MODEL_97f035e8f6f5464d80319ee93610274f",
       "_max_value": null,
       "_min_value": null,
       "_model_module": "ipytone",
       "_model_module_version": "^0.4.1",
       "_model_name": "ParamModel",
       "_swappable": false,
       "_units": "number",
       "_view_count": null,
       "_view_module": null,
       "_view_module_version": "",
       "_view_name": null,
       "convert": true,
       "name": "",
       "overridden": false,
       "value": 1
      }
     },
     "fa2ce3e18c1a46f183a6f87a52366c96": {
      "model_module": "ipytone",
      "model_module_version": "^0.4.1",
      "model_name": "MultiplyModel",
      "state": {
       "_create_node": false,
       "_disposed": true,
       "_factor": "IPY_MODEL_e639248ff316483ea1c3f0352e77b8c1",
       "_input": "IPY_MODEL_77a0daaeab98438a857bb067b7c806e7",
       "_model_module": "ipytone",
       "_model_module_version": "^0.4.1",
       "_model_name": "MultiplyModel",
       "_output": "IPY_MODEL_77a0daaeab98438a857bb067b7c806e7",
       "_override": false,
       "_set_node_channels": true,
       "_view_count": null,
       "_view_module": null,
       "_view_module_version": "",
       "_view_name": null,
       "channel_count": 2,
       "channel_count_mode": "max",
       "channel_interpretation": "speakers",
       "name": "",
       "value": 1400
      }
     },
     "fac6c6f4675049178036a7c66add2839": {
      "model_module": "ipytone",
      "model_module_version": "^0.4.1",
      "model_name": "ParamModel",
      "state": {
       "_create_node": false,
       "_disposed": true,
       "_input": "IPY_MODEL_f119e321c59e4f50a49f8c411fe5525d",
       "_max_value": null,
       "_min_value": null,
       "_model_module": "ipytone",
       "_model_module_version": "^0.4.1",
       "_model_name": "ParamModel",
       "_swappable": false,
       "_units": "gain",
       "_view_count": null,
       "_view_module": null,
       "_view_module_version": "",
       "_view_name": null,
       "convert": true,
       "name": "",
       "overridden": false,
       "value": 1
      }
     },
     "fb2edd37fb89405d9f276a718212ca9c": {
      "model_module": "ipytone",
      "model_module_version": "^0.4.1",
      "model_name": "VolumeModel",
      "state": {
       "_create_node": false,
       "_disposed": false,
       "_input": "IPY_MODEL_e309f8046ffd412893ceef6f0f3fecbb",
       "_model_module": "ipytone",
       "_model_module_version": "^0.4.1",
       "_model_name": "VolumeModel",
       "_output": "IPY_MODEL_e309f8046ffd412893ceef6f0f3fecbb",
       "_set_node_channels": true,
       "_view_count": null,
       "_view_module": null,
       "_view_module_version": "",
       "_view_name": null,
       "_volume": "IPY_MODEL_5e9f6fbc389d47d1b9e9863ee97d7454",
       "channel_count": 2,
       "channel_count_mode": "max",
       "channel_interpretation": "speakers",
       "mute": false,
       "name": ""
      }
     },
     "fd25c2d6f2ca4d8f8f2028e23dc0966c": {
      "model_module": "ipytone",
      "model_module_version": "^0.4.1",
      "model_name": "ParamModel",
      "state": {
       "_create_node": false,
       "_disposed": true,
       "_input": "IPY_MODEL_848ea36fe7cf471f99ff01446ce61fe7",
       "_max_value": null,
       "_min_value": null,
       "_model_module": "ipytone",
       "_model_module_version": "^0.4.1",
       "_model_name": "ParamModel",
       "_swappable": false,
       "_units": "frequency",
       "_view_count": null,
       "_view_module": null,
       "_view_module_version": "",
       "_view_name": null,
       "convert": true,
       "name": "",
       "overridden": false,
       "value": 440
      }
     }
    },
    "version_major": 2,
    "version_minor": 0
   }
  }
 },
 "nbformat": 4,
 "nbformat_minor": 5
}