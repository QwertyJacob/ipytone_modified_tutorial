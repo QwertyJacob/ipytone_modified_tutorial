{
 "cells": [
  {
   "cell_type": "markdown",
   "metadata": {
    "pycharm": {
     "name": "#%% md\n"
    }
   },
   "source": [
    "# ipytone:\n",
    "_____\n"
   ]
  },
  {
   "cell_type": "markdown",
   "metadata": {
    "pycharm": {
     "name": "#%% md\n"
    }
   },
   "source": [
    "Once that we have installed our ipytone library, we can import it:\n",
    "\n",
    "Links:\n",
    "[Library](https://github.com/benbovy/ipytone)\n",
    "[Documentation](https://ipytone.readthedocs.io/en/latest/)"
   ]
  },
  {
   "cell_type": "code",
   "execution_count": 1,
   "metadata": {},
   "outputs": [],
   "source": [
    "from my_framework import *"
   ]
  },
  {
   "cell_type": "code",
   "execution_count": 2,
   "metadata": {
    "pycharm": {
     "name": "#%%\n"
    }
   },
   "outputs": [],
   "source": [
    "import ipytone\n",
    "\n",
    "# Comments in python are written with this symbol #\n",
    "# ipywidgets is going to permit us control the objects unsing some interactive widgets...\n",
    "import ipywidgets as widgets"
   ]
  },
  {
   "cell_type": "markdown",
   "metadata": {
    "pycharm": {
     "name": "#%% md\n"
    }
   },
   "source": [
    "Let's create a basic synth:"
   ]
  },
  {
   "cell_type": "code",
   "execution_count": null,
   "metadata": {
    "pycharm": {
     "name": "#%%\n"
    }
   },
   "outputs": [],
   "source": [
    "# we can specify some parameters in the constructor....\n",
    "synth = ipytone.MonoSynth(volume=-7)\n",
    "\n",
    "# we need to connect the synth to the destination also here in ipytone....\n",
    "synth.to_destination()"
   ]
  },
  {
   "cell_type": "markdown",
   "metadata": {
    "pycharm": {
     "name": "#%% md\n"
    }
   },
   "source": [
    "ipytone exports a lot of tone.js functionalities to python, permitting us to use the same objects. \n",
    "\n",
    "Remember we saw the sequence object? Here we define a sequence and a callback function:"
   ]
  },
  {
   "cell_type": "code",
   "execution_count": null,
   "metadata": {
    "pycharm": {
     "name": "#%%\n"
    }
   },
   "outputs": [],
   "source": [
    "# Notice we don't need brackets on functions anymore,\n",
    "# python works with indentation...\n",
    "def callback_whatever(time, note):\n",
    "    synth.trigger_attack_release(note, 0.2, time=time)\n",
    "\n",
    "\n",
    "sequence = ipytone.Sequence(\n",
    "    callback=callback_whatever,\n",
    "    events=[\"A0\", \"A1\", \"A0\", None, \"F#2\", \"G2\", \"G#2\", \"A2\"],\n",
    "    subdivision=\"16n\",\n",
    ")"
   ]
  },
  {
   "cell_type": "markdown",
   "metadata": {
    "pycharm": {
     "name": "#%% md\n"
    }
   },
   "source": [
    "What happens if we want to start tone? (or, in this case ipytone)?"
   ]
  },
  {
   "cell_type": "code",
   "execution_count": null,
   "metadata": {
    "pycharm": {
     "name": "#%%\n"
    }
   },
   "outputs": [],
   "source": [
    "ipytone.start()"
   ]
  },
  {
   "cell_type": "markdown",
   "metadata": {
    "pycharm": {
     "name": "#%% md\n"
    }
   },
   "source": [
    "As you see, we don't use it anymore here in ipytone. \n",
    "\n",
    "The transport instead, we continue using it.\n",
    "\n",
    "Another thing: running a notebook cell is like executing a user action, so we can just invoke the transport start function and the sequence start function on a new cell:"
   ]
  },
  {
   "cell_type": "code",
   "execution_count": null,
   "metadata": {},
   "outputs": [],
   "source": [
    "ipytone.transport.start()\n",
    "sequence.start()"
   ]
  },
  {
   "cell_type": "markdown",
   "metadata": {
    "pycharm": {
     "name": "#%% md\n"
    }
   },
   "source": [
    "We can pause the transport and our sequences will automatically be interrupted:"
   ]
  },
  {
   "cell_type": "code",
   "execution_count": null,
   "metadata": {
    "pycharm": {
     "name": "#%%\n"
    }
   },
   "outputs": [],
   "source": [
    "ipytone.transport.pause()"
   ]
  },
  {
   "cell_type": "markdown",
   "metadata": {
    "pycharm": {
     "name": "#%% md\n"
    }
   },
   "source": [
    "We always need to dispose our elements if we want to control well our objects:"
   ]
  },
  {
   "cell_type": "code",
   "execution_count": null,
   "metadata": {
    "pycharm": {
     "name": "#%%\n"
    }
   },
   "outputs": [],
   "source": [
    "synth.dispose()\n",
    "sequence.dispose()"
   ]
  },
  {
   "cell_type": "markdown",
   "metadata": {
    "pycharm": {
     "name": "#%% md\n"
    }
   },
   "source": [
    "We can also modify on the fly the values of the sequence:"
   ]
  },
  {
   "cell_type": "code",
   "execution_count": null,
   "metadata": {
    "pycharm": {
     "name": "#%%\n"
    }
   },
   "outputs": [],
   "source": [
    "sequence.events=[\"A0\", \"A1\", \"A0\", None, None, \"G2\", None, \"A2\"]"
   ]
  },
  {
   "cell_type": "code",
   "execution_count": null,
   "metadata": {},
   "outputs": [],
   "source": [
    "sequence.events=[\"A0\", \"A1\", \"A0\", None, \"F#2\", \"G2\", \"G#2\", \"A2\"]"
   ]
  },
  {
   "cell_type": "markdown",
   "metadata": {
    "pycharm": {
     "name": "#%% md\n"
    }
   },
   "source": [
    "Connecting and disconecting on the fly:"
   ]
  },
  {
   "cell_type": "code",
   "execution_count": null,
   "metadata": {
    "pycharm": {
     "name": "#%%\n"
    }
   },
   "outputs": [],
   "source": [
    "synth.disconnect(ipytone.destination)"
   ]
  },
  {
   "cell_type": "markdown",
   "metadata": {
    "pycharm": {
     "name": "#%% md\n"
    }
   },
   "source": [
    "connecting it again:"
   ]
  },
  {
   "cell_type": "code",
   "execution_count": null,
   "metadata": {
    "pycharm": {
     "name": "#%%\n"
    }
   },
   "outputs": [],
   "source": [
    "synth.to_destination()"
   ]
  },
  {
   "cell_type": "markdown",
   "metadata": {
    "pycharm": {
     "name": "#%% md\n"
    }
   },
   "source": [
    "> Note: In tone.js and in Ipytone, we have the Param class and the Signal class. To modify their values, we need the value accessor. "
   ]
  },
  {
   "cell_type": "markdown",
   "metadata": {
    "pycharm": {
     "name": "#%% md\n"
    }
   },
   "source": [
    "## Some exploration:\n",
    "___\n",
    "\n",
    "Let's first create some synth's and connect them to the speakers through some specific processing nodes:"
   ]
  },
  {
   "cell_type": "markdown",
   "metadata": {
    "pycharm": {
     "name": "#%% md\n"
    }
   },
   "source": [
    "[Channels](https://ipytone.readthedocs.io/en/latest/_api_generated/ipytone.Channel.html#ipytone.Channel) are handy to control the volume, the pan, and even mute a whole strip"
   ]
  },
  {
   "cell_type": "code",
   "execution_count": null,
   "metadata": {
    "pycharm": {
     "name": "#%%\n"
    }
   },
   "outputs": [],
   "source": [
    "# I create a synth but i don't connect it to the destination. \n",
    "synth = ipytone.Synth(volume=-10)\n",
    "\n",
    "# I create a channel and connect it to the destination:\n",
    "chan = ipytone.Channel(pan=-0.5).to_destination()\n",
    "\n",
    "# I connect the synth to the channel:\n",
    "synth.connect(chan)\n",
    "\n",
    "# I can hear the synth through the channel:\n",
    "synth.trigger_attack_release('A4', 4)"
   ]
  },
  {
   "cell_type": "code",
   "execution_count": null,
   "metadata": {},
   "outputs": [],
   "source": [
    "synth.volume.value = 0"
   ]
  },
  {
   "cell_type": "code",
   "execution_count": null,
   "metadata": {
    "pycharm": {
     "name": "#%%\n"
    }
   },
   "outputs": [],
   "source": [
    "# I can also modify the channel's params on the fly:\n",
    "\n",
    "import time\n",
    "\n",
    "synth.trigger_attack_release('A4', 4)\n",
    "\n",
    "time.sleep(1.4)\n",
    "\n",
    "print(\"Now changing the pan of the channel\")\n",
    "chan.pan.value = 0"
   ]
  },
  {
   "cell_type": "code",
   "execution_count": null,
   "metadata": {
    "pycharm": {
     "name": "#%%\n"
    }
   },
   "outputs": [],
   "source": [
    "synth.dispose()\n",
    "chan.dispose()"
   ]
  },
  {
   "cell_type": "markdown",
   "metadata": {
    "pycharm": {
     "name": "#%% md\n"
    }
   },
   "source": [
    "### We now create two synths:\n",
    "____\n",
    "we can also test how the [PingPongDelay](https://ipytone.readthedocs.io/en/latest/search.html?q=PingPongDelay) effect affect the synth...."
   ]
  },
  {
   "cell_type": "code",
   "execution_count": 26,
   "metadata": {
    "pycharm": {
     "name": "#%%\n"
    }
   },
   "outputs": [],
   "source": [
    "channel1 = ipytone.Channel(pan=-0.5)\n",
    "\n",
    "channel1.to_destination()\n",
    "\n",
    "filtr = ipytone.Filter(frequency=100)\n",
    "\n",
    "synth = ipytone.MonoSynth(volume=-7)\n",
    "\n",
    "synth.chain(filtr, channel1)\n",
    "\n",
    "\n",
    "\n",
    "channel2 = ipytone.Channel(pan=0.2, channel_count=2).to_destination()\n",
    "\n",
    "delay = ipytone.PingPongDelay(delay_time=\"16n\", feedback=0.2)\n",
    "\n",
    "perc_synth = ipytone.MembraneSynth(volume=-10).chain(delay, channel2)"
   ]
  },
  {
   "cell_type": "markdown",
   "metadata": {
    "pycharm": {
     "name": "#%% md\n"
    }
   },
   "source": [
    "We are now going to create other effects, like the [LFO](https://ipytone.readthedocs.io/en/latest/_api_generated/ipytone.LFO.html?highlight=LFO)"
   ]
  },
  {
   "cell_type": "code",
   "execution_count": 27,
   "metadata": {
    "pycharm": {
     "name": "#%%\n"
    }
   },
   "outputs": [],
   "source": [
    "lfo = ipytone.LFO(frequency=\"4m\", min=100, max=10_000)\n",
    "\n",
    "\n",
    "lfo.connect(filtr.frequency).start()\n",
    "\n",
    "\n",
    "\n",
    "# lfo2 = ipytone.LFO(frequency=\"8n\", min=-200, max=200, type=\"triangle\")\n",
    "# lfo2.connect(perc_synth.detune).start()\n",
    "\n",
    "\n",
    "perc_synth.pitch_decay = 0.02\n",
    "delay.wet.value = 0.1\n",
    "# lfo2.amplitude.value = 0.6"
   ]
  },
  {
   "cell_type": "code",
   "execution_count": 28,
   "metadata": {
    "pycharm": {
     "name": "#%%\n"
    }
   },
   "outputs": [],
   "source": [
    "def clb(time, note):\n",
    "    synth.trigger_attack_release(note, 0.2, time=time)\n",
    "    perc_synth.trigger_attack_release(note, 0.05, time=time)\n",
    "\n",
    "    \n",
    "sequence = ipytone.Sequence(\n",
    "    callback=clb,\n",
    "    events=[\"A0\", \"A1\", \"A0\", None, \"F#2\", \"G2\", \"G#2\", \"A2\"],\n",
    "    subdivision=\"16n\",\n",
    ")"
   ]
  },
  {
   "cell_type": "code",
   "execution_count": 29,
   "metadata": {
    "pycharm": {
     "name": "#%%\n"
    }
   },
   "outputs": [
    {
     "data": {
      "text/plain": [
       "Sequence(loop=True, loop_start=0.0, loop_end=0.0)"
      ]
     },
     "execution_count": 29,
     "metadata": {},
     "output_type": "execute_result"
    }
   ],
   "source": [
    "ipytone.transport.start()\n",
    "sequence.start()"
   ]
  },
  {
   "cell_type": "code",
   "execution_count": null,
   "metadata": {},
   "outputs": [],
   "source": [
    "lfo.stop()"
   ]
  },
  {
   "cell_type": "code",
   "execution_count": null,
   "metadata": {},
   "outputs": [],
   "source": [
    "lfo.start()"
   ]
  },
  {
   "cell_type": "markdown",
   "metadata": {
    "pycharm": {
     "name": "#%% md\n"
    }
   },
   "source": [
    "Let's modify some values on the fly:"
   ]
  },
  {
   "cell_type": "code",
   "execution_count": null,
   "metadata": {
    "pycharm": {
     "name": "#%%\n"
    }
   },
   "outputs": [],
   "source": [
    "# let's concentrate in the perc_synth then!\n",
    "\n",
    "def clb2(time, note):\n",
    "    perc_synth.trigger_attack_release(note, 0.05, time=time)\n",
    "    \n",
    "    \n",
    "sequence.callback = clb2"
   ]
  },
  {
   "cell_type": "code",
   "execution_count": null,
   "metadata": {
    "pycharm": {
     "name": "#%%\n"
    }
   },
   "outputs": [],
   "source": [
    "# Restore\n",
    "sequence.callback = clb"
   ]
  },
  {
   "cell_type": "code",
   "execution_count": null,
   "metadata": {
    "pycharm": {
     "name": "#%%\n"
    }
   },
   "outputs": [],
   "source": [
    "lfo.stop()"
   ]
  },
  {
   "cell_type": "code",
   "execution_count": null,
   "metadata": {
    "pycharm": {
     "name": "#%%\n"
    }
   },
   "outputs": [],
   "source": [
    "lfo.start()"
   ]
  },
  {
   "cell_type": "code",
   "execution_count": 23,
   "metadata": {
    "pycharm": {
     "name": "#%%\n"
    }
   },
   "outputs": [
    {
     "data": {
      "text/plain": [
       "Transport()"
      ]
     },
     "execution_count": 23,
     "metadata": {},
     "output_type": "execute_result"
    }
   ],
   "source": [
    "ipytone.transport.pause()"
   ]
  },
  {
   "cell_type": "markdown",
   "metadata": {
    "pycharm": {
     "name": "#%% md\n"
    }
   },
   "source": [
    "#### Doing some more stuff:"
   ]
  },
  {
   "cell_type": "code",
   "execution_count": 8,
   "metadata": {
    "pycharm": {
     "name": "#%%\n"
    }
   },
   "outputs": [],
   "source": [
    "import asyncio"
   ]
  },
  {
   "cell_type": "code",
   "execution_count": 36,
   "metadata": {},
   "outputs": [
    {
     "data": {
      "text/plain": [
       "Transport()"
      ]
     },
     "execution_count": 36,
     "metadata": {},
     "output_type": "execute_result"
    }
   ],
   "source": [
    "ipytone.transport.start()\n"
   ]
  },
  {
   "cell_type": "code",
   "execution_count": 9,
   "metadata": {
    "pycharm": {
     "name": "#%%\n"
    }
   },
   "outputs": [],
   "source": [
    "# secs per minute / bits per minute = secs per bit.\n",
    "secs_per_bit = 60 / ipytone.transport.bpm.value\n",
    "\n",
    "bits_per_sec = ipytone.transport.bpm.value / 60\n",
    "\n",
    "'''\n",
    "In our sequence we have a loop interval of 16n, and in our sequence events we have 8 events.\n",
    "So for each measure we loop twice around the sequence events. \n",
    "\n",
    "We now that a measure takes 4 secs when bpm is 120. \n",
    "This means that a measure corresponds to 8 bits in this configuration, (and maybe always)\n",
    "So we multiply secs_per_bit * bits_per_measure to get secs_per_measure:\n",
    "'''\n",
    "\n",
    "bits_per_measure = 8\n",
    "\n",
    "secs_per_measure =  bits_per_measure / bits_per_sec\n",
    "\n",
    "m2 = secs_per_measure"
   ]
  },
  {
   "cell_type": "code",
   "execution_count": 10,
   "metadata": {
    "pycharm": {
     "name": "#%%\n"
    }
   },
   "outputs": [
    {
     "data": {
      "text/plain": [
       "4.0"
      ]
     },
     "execution_count": 10,
     "metadata": {},
     "output_type": "execute_result"
    }
   ],
   "source": [
    "m2"
   ]
  },
  {
   "cell_type": "markdown",
   "metadata": {
    "pycharm": {
     "name": "#%% md\n"
    }
   },
   "source": [
    "The following asynchornous function starts a new thread and inside that thread modifies the events array of the sequence and some other params with some delays that are synchronized with the secs_per_measure time:"
   ]
  },
  {
   "cell_type": "code",
   "execution_count": 11,
   "metadata": {},
   "outputs": [],
   "source": [
    "import time"
   ]
  },
  {
   "cell_type": "code",
   "execution_count": 30,
   "metadata": {
    "pycharm": {
     "name": "#%%\n"
    }
   },
   "outputs": [],
   "source": [
    "async def melody():\n",
    "    \"\"\"8x2 measures melody\"\"\"\n",
    "    \n",
    "    \n",
    "    # 1 ---\n",
    "    print('step 1', time.time())\n",
    "    sequence.events = [\"A1\", \"A2\", \"A0\", None, \"E4\", \"A3\", \"E4\", \"A4\"]\n",
    "    await asyncio.sleep(m2)\n",
    "    \n",
    "    \n",
    "    # 2 ---\n",
    "    print('step 2', time.time())\n",
    "    # the following line of code could be replaced by sequence.events[-1] = 'B4' and it would be equivalent. \n",
    "    sequence.events = [\"A1\", \"A2\", \"A0\", None, \"E4\", \"A3\", \"E4\", \"B4\"]\n",
    "    await asyncio.sleep(m2)\n",
    "    \n",
    "    \n",
    "    \n",
    "    # 3 ---\n",
    "    print('step 3', time.time())\n",
    "    sequence.events = [\"A1\", \"A2\", \"A0\", None, \"E4\", \"A3\", \"E4\", \"C4\"]\n",
    "    await asyncio.sleep(m2)\n",
    "    \n",
    "    \n",
    "    # 4 ---\n",
    "    print('step 4', time.time())\n",
    "    sequence.events = [\"A1\", \"A2\", None, \"A0\", \"E5\", None, \"E4\", \"A4\"]\n",
    "    await asyncio.sleep(m2)\n",
    "    \n",
    "    \n",
    "    \n",
    "    # 5 ---\n",
    "    print('step 5', time.time())\n",
    "    sequence.events = [\"A1\", None, None, \"A0\", \"E5\", None, None, None]\n",
    "    await asyncio.sleep(m2)\n",
    "    \n",
    "    \n",
    "    \n",
    "    # 6 ---\n",
    "    print('step 6', time.time())\n",
    "    synth.portamento = 0.08\n",
    "    filtr.q.ramp_to(6, \"4m\")\n",
    "    #lfo2.amplitude.ramp_to(1, \"4m\")\n",
    "    await asyncio.sleep(m2)\n",
    "    \n",
    "    \n",
    "    \n",
    "    # 7 ---\n",
    "    print('step 7', time.time())\n",
    "    sequence.events = [\"A1\", \"A2\", None, \"A0\", \"E5\", None, \"G5\", \"A4\"]\n",
    "    await asyncio.sleep(m2)\n",
    "    \n",
    "    \n",
    "    # 8 ---\n",
    "    print('step 8', time.time())\n",
    "    delay.wet.ramp_to(0.8, \"2m\")\n",
    "    synth.portamento = 0.1\n",
    "    await asyncio.sleep(m2)\n",
    "    \n",
    "    \n",
    "    # 1 --- Go back to original values (quicker)\n",
    "    print('Restoring params', ipytone.transport.position)\n",
    "    synth.portamento = 0\n",
    "    filtr.q.ramp_to(1, \"4n\")\n",
    "    delay.wet.ramp_to(0.1, \"4n\")\n",
    "    # This is an esception because the original value of the amplitude was 1.0\n",
    "    lfo.amplitude.ramp_to(0.1, \"4n\")\n",
    "    sequence.events = [\"A0\", \"A1\", \"A0\", None, \"F#2\", \"G2\", \"G#2\", \"A2\"]\n"
   ]
  },
  {
   "cell_type": "code",
   "execution_count": 31,
   "metadata": {
    "pycharm": {
     "name": "#%%\n"
    }
   },
   "outputs": [],
   "source": [
    "loop = asyncio.get_event_loop()"
   ]
  },
  {
   "cell_type": "code",
   "execution_count": 37,
   "metadata": {
    "pycharm": {
     "name": "#%%\n"
    }
   },
   "outputs": [
    {
     "name": "stdout",
     "output_type": "stream",
     "text": [
      "step 1 1671811290.015097\n",
      "step 2 1671811294.016622\n",
      "step 3 1671811298.0257375\n"
     ]
    }
   ],
   "source": [
    "loop.create_task(melody());"
   ]
  },
  {
   "cell_type": "code",
   "execution_count": 38,
   "metadata": {},
   "outputs": [
    {
     "name": "stdout",
     "output_type": "stream",
     "text": [
      "hello\n",
      "step 4 1671811302.0365002\n",
      "step 5 1671811306.0391548\n",
      "step 6 1671811310.046606\n",
      "step 7 1671811314.049729\n",
      "step 8 1671811318.051944\n",
      "Restoring params 75:2:1.92\n"
     ]
    }
   ],
   "source": [
    "print('hello')"
   ]
  },
  {
   "cell_type": "code",
   "execution_count": 35,
   "metadata": {
    "pycharm": {
     "name": "#%%\n"
    }
   },
   "outputs": [],
   "source": [
    "def sync_melody():\n",
    "    \"\"\"8x2 measures melody\"\"\"\n",
    "    # 1 ---\n",
    "    sequence.events = [\"A1\", \"A2\", \"A0\", None, \"E4\", \"A3\", \"E4\", \"A4\"]\n",
    "    time.sleep(m2)\n",
    "    \n",
    "    \n",
    "    # 2 ---\n",
    "    # the following line of code could be replaced by sequence.events[-1] = 'B4' and it would be equivalent. \n",
    "    sequence.events = [\"A1\", \"A2\", \"A0\", None, \"E4\", \"A3\", \"E4\", \"B4\"]\n",
    "    time.sleep(m2)\n",
    "    \n",
    "    \n",
    "    \n",
    "    # 3 ---\n",
    "    sequence.events = [\"A1\", \"A2\", \"A0\", None, \"E4\", \"A3\", \"E4\", \"C4\"]\n",
    "    time.sleep(m2)\n",
    "    \n",
    "    \n",
    "    # 4 ---\n",
    "    sequence.events = [\"A1\", \"A2\", None, \"A0\", \"E5\", None, \"E4\", \"A4\"]\n",
    "    time.sleep(m2)\n",
    "    \n",
    "    \n",
    "    \n",
    "    # 5 ---\n",
    "    sequence.events = [\"A1\", None, None, \"A0\", \"E5\", None, None, None]\n",
    "    time.sleep(m2)\n",
    "    \n",
    "    \n",
    "    \n",
    "    # 6 ---\n",
    "    synth.portamento = 0.08\n",
    "    filtr.q.ramp_to(6, \"4m\")\n",
    "    #lfo2.amplitude.ramp_to(1, \"4m\")\n",
    "    time.sleep(m2)\n",
    "    \n",
    "    \n",
    "    \n",
    "    # 7 ---\n",
    "    sequence.events = [\"A1\", \"A2\", None, \"A0\", \"E5\", None, \"G5\", \"A4\"]\n",
    "    time.sleep(m2)\n",
    "    \n",
    "    \n",
    "    # 8 ---\n",
    "    delay.wet.ramp_to(0.8, \"2m\")\n",
    "    synth.portamento = 0.1\n",
    "    time.sleep(m2)\n",
    "    \n",
    "    \n",
    "    # 1 --- Go back to original values (quicker)\n",
    "    synth.portamento = 0\n",
    "    filtr.q.ramp_to(1, \"4n\")\n",
    "    delay.wet.ramp_to(0.1, \"4n\")\n",
    "    # This is an esception because the original value of the amplitude was 1.0\n",
    "    lfo.amplitude.ramp_to(0.1, \"4n\")\n",
    "    sequence.events = [\"A0\", \"A1\", \"A0\", None, \"F#2\", \"G2\", \"G#2\", \"A2\"]\n"
   ]
  },
  {
   "cell_type": "code",
   "execution_count": 39,
   "metadata": {
    "pycharm": {
     "name": "#%%\n"
    }
   },
   "outputs": [],
   "source": [
    "sync_melody()"
   ]
  },
  {
   "cell_type": "code",
   "execution_count": 25,
   "metadata": {
    "pycharm": {
     "name": "#%%\n"
    }
   },
   "outputs": [
    {
     "data": {
      "text/plain": [
       "Sequence(disposed=True, loop=True, loop_start=0.0, loop_end=0.0)"
      ]
     },
     "execution_count": 25,
     "metadata": {},
     "output_type": "execute_result"
    }
   ],
   "source": [
    "synth.dispose()\n",
    "filtr.dispose()\n",
    "lfo.dispose()\n",
    "#lfo2.dispose()\n",
    "channel1.dispose()\n",
    "perc_synth.dispose()\n",
    "delay.dispose()\n",
    "channel2.dispose()\n",
    "\n",
    "sequence.dispose()"
   ]
  },
  {
   "cell_type": "markdown",
   "metadata": {
    "pycharm": {
     "name": "#%% md\n"
    }
   },
   "source": [
    "# Widgets: "
   ]
  },
  {
   "cell_type": "code",
   "execution_count": 33,
   "metadata": {
    "pycharm": {
     "name": "#%%\n"
    }
   },
   "outputs": [
    {
     "data": {
      "text/plain": [
       "Transport()"
      ]
     },
     "execution_count": 33,
     "metadata": {},
     "output_type": "execute_result"
    }
   ],
   "source": [
    "ipytone.transport.pause()"
   ]
  },
  {
   "cell_type": "code",
   "execution_count": null,
   "metadata": {
    "pycharm": {
     "name": "#%%\n"
    }
   },
   "outputs": [],
   "source": [
    "ipytone.transport.start()"
   ]
  },
  {
   "cell_type": "code",
   "execution_count": 40,
   "metadata": {
    "pycharm": {
     "name": "#%%\n"
    }
   },
   "outputs": [
    {
     "data": {
      "text/plain": [
       "Link(source=(FloatSlider(value=-0.5, layout=Layout(width='200px'), max=1.0, min=-1.0), 'value'), target=(Param(value=-0.5, units='audioRange'), 'value'))"
      ]
     },
     "execution_count": 40,
     "metadata": {},
     "output_type": "execute_result"
    }
   ],
   "source": [
    "pan = widgets.FloatSlider(\n",
    "        value=channel1.pan.value, min=-1, max=1,\n",
    "        layout=widgets.Layout(width=\"200px\")\n",
    "    )\n",
    "\n",
    "widgets.jslink((pan, \"value\"), (channel1.pan, \"value\"))"
   ]
  },
  {
   "cell_type": "code",
   "execution_count": 41,
   "metadata": {},
   "outputs": [
    {
     "data": {
      "application/vnd.jupyter.widget-view+json": {
       "model_id": "a08e4f80f9e94650a891b3709f8edf32",
       "version_major": 2,
       "version_minor": 0
      },
      "text/plain": [
       "FloatSlider(value=-0.5, layout=Layout(width='200px'), max=1.0, min=-1.0)"
      ]
     },
     "execution_count": 41,
     "metadata": {},
     "output_type": "execute_result"
    }
   ],
   "source": [
    "pan"
   ]
  },
  {
   "cell_type": "code",
   "execution_count": 43,
   "metadata": {
    "pycharm": {
     "name": "#%%\n"
    }
   },
   "outputs": [
    {
     "data": {
      "application/vnd.jupyter.widget-view+json": {
       "model_id": "5b9cc657180144139c37a48f82788f07",
       "version_major": 2,
       "version_minor": 0
      },
      "text/plain": [
       "HBox(children=(VBox(children=(FloatSlider(value=-0.7, layout=Layout(width='200px'), max=1.0, min=-1.0), Toggle…"
      ]
     },
     "execution_count": 43,
     "metadata": {},
     "output_type": "execute_result"
    }
   ],
   "source": [
    "def create_channel(node):\n",
    "    # panner\n",
    "    pan = widgets.FloatSlider(\n",
    "        value=node.pan.value, min=-1, max=1,\n",
    "        layout=widgets.Layout(width=\"200px\")\n",
    "    )\n",
    "    widgets.jslink((pan, \"value\"), (node.pan, \"value\"))\n",
    "    \n",
    "    # solo / mute buttons\n",
    "    solo = widgets.ToggleButton(value=False, description=\"Solo\")\n",
    "    mute = widgets.ToggleButton(value=False, description=\"Mute\")\n",
    "\n",
    "    def node_solo(change):\n",
    "        node.solo = change['new']\n",
    "        \n",
    "    def node_mute(change):\n",
    "        node.mute = change[\"new\"]\n",
    "        \n",
    "    solo.observe(node_solo, names='value')\n",
    "    mute.observe(node_mute, names='value')\n",
    "    \n",
    "    # fader\n",
    "    fader = widgets.FloatSlider(\n",
    "        value=0, min=-30, max=4, orientation=\"vertical\"\n",
    "    )\n",
    "    widgets.jslink((fader, \"value\"), (node.volume, \"value\"))\n",
    "\n",
    "    # L/R VU meters\n",
    "    vu_left = widgets.FloatProgress(\n",
    "        min=0, max=0.4, orientation=\"vertical\"\n",
    "    )\n",
    "    vu_right = widgets.FloatProgress(\n",
    "        min=0, max=0.4, orientation=\"vertical\"\n",
    "    )\n",
    "    split = ipytone.Split()\n",
    "    node.connect(split)\n",
    "    \n",
    "    meter_left = ipytone.Meter(normal_range=True)\n",
    "    split.connect(meter_left, 0, 0)\n",
    "    meter_left.schedule_jsdlink((vu_left, \"value\"), transport=True)\n",
    "    meter_right = ipytone.Meter(normal_range=True)\n",
    "    split.connect(meter_right, 1, 0)\n",
    "    meter_right.schedule_jsdlink((vu_right, \"value\"), transport=True)\n",
    "    \n",
    "    # layout\n",
    "    fader_vus = widgets.HBox([fader, vu_left, vu_right])\n",
    "    return widgets.VBox([pan, solo, mute, fader_vus])\n",
    "\n",
    "widgets.HBox([create_channel(channel1), create_channel(channel2)])"
   ]
  },
  {
   "cell_type": "code",
   "execution_count": null,
   "metadata": {},
   "outputs": [],
   "source": []
  }
 ],
 "metadata": {
  "kernelspec": {
   "display_name": "MyNewVenv",
   "language": "python",
   "name": "mynewvenv"
  },
  "language_info": {
   "codemirror_mode": {
    "name": "ipython",
    "version": 3
   },
   "file_extension": ".py",
   "mimetype": "text/x-python",
   "name": "python",
   "nbconvert_exporter": "python",
   "pygments_lexer": "ipython3",
   "version": "3.9.10"
  }
 },
 "nbformat": 4,
 "nbformat_minor": 1
}
