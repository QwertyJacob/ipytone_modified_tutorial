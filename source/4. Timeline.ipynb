{
 "cells": [
  {
   "cell_type": "code",
   "execution_count": 3,
   "id": "ea01c19c",
   "metadata": {
    "pycharm": {
     "name": "#%%\n"
    }
   },
   "outputs": [],
   "source": [
    "import ipytone"
   ]
  },
  {
   "cell_type": "markdown",
   "id": "c20f3236",
   "metadata": {
    "pycharm": {
     "name": "#%% md\n"
    }
   },
   "source": [
    "## Transport\n",
    "\n",
    "The Tone.js global timeline is exposed in Python with the\n",
    "`transport.Transport` singleton class, which may be accessed via\n",
    "`ipytone.transport`:"
   ]
  },
  {
   "cell_type": "code",
   "execution_count": 4,
   "id": "b03d3283",
   "metadata": {
    "pycharm": {
     "name": "#%%\n"
    }
   },
   "outputs": [],
   "source": [
    "t = ipytone.transport"
   ]
  },
  {
   "cell_type": "markdown",
   "id": "e6f9dbe6",
   "metadata": {
    "pycharm": {
     "name": "#%% md\n"
    }
   },
   "source": [
    "> important\n",
    "Like the audio context used by ipytone and Tone.js, the\n",
    "`Transport` timeline\n",
    "is exposed globally in the front-end. Consequently, if two or more notebooks\n",
    "with independent kernels are open in the same JupyterLab tab, they\n",
    "will all act on the same timeline. \n",
    "\n",
    "\n",
    "### Playback state, position, bpm, time signature..."
   ]
  },
  {
   "cell_type": "markdown",
   "id": "4e8870b4",
   "metadata": {
    "pycharm": {
     "name": "#%% md\n"
    }
   },
   "source": [
    "The playback state of the timeline is controlled by the\n",
    "`Transport.start`,\n",
    "`Transport.pause` and\n",
    "`Transport.stop` methods."
   ]
  },
  {
   "cell_type": "code",
   "execution_count": 5,
   "id": "7eacdd1c",
   "metadata": {
    "pycharm": {
     "name": "#%%\n"
    }
   },
   "outputs": [
    {
     "data": {
      "text/plain": [
       "Transport()"
      ]
     },
     "execution_count": 5,
     "metadata": {},
     "output_type": "execute_result"
    }
   ],
   "source": [
    "t.start().stop(\"+1\")"
   ]
  },
  {
   "cell_type": "markdown",
   "id": "69364a38",
   "metadata": {
    "pycharm": {
     "name": "#%% md\n"
    }
   },
   "source": [
    "The `position` property can be used to move the current \"cursor\" along the\n",
    "timeline. It accepts different kinds of values, e.g.,\n",
    "\n",
    "- a string in the form of `\"Bars:Beats:Sixteenths\"`\n",
    "- a string like `\"4m\"` (four measures from the beginning of the timeline) or \"8n\" (8-notes)\n",
    "- a float (number of seconds from the beginning of the timeline)\n",
    "\n",
    "See the [Tone.js Wiki](https://github.com/Tonejs/Tone.js/wiki/Time) for more details."
   ]
  },
  {
   "cell_type": "code",
   "execution_count": 6,
   "id": "832fd803",
   "metadata": {
    "pycharm": {
     "name": "#%%\n"
    }
   },
   "outputs": [
    {
     "data": {
      "text/plain": [
       "'0:0:0'"
      ]
     },
     "execution_count": 6,
     "metadata": {},
     "output_type": "execute_result"
    }
   ],
   "source": [
    "t.position"
   ]
  },
  {
   "cell_type": "markdown",
   "id": "0d72ee3e",
   "metadata": {
    "pycharm": {
     "name": "#%% md\n"
    }
   },
   "source": [
    "It is possible to define a limited segment along the timeline that will be played in loop:"
   ]
  },
  {
   "cell_type": "code",
   "execution_count": 15,
   "id": "2c90d4a6",
   "metadata": {
    "pycharm": {
     "name": "#%%\n"
    }
   },
   "outputs": [],
   "source": [
    "t.loop = True\n",
    "t.loop_start = \"4:0:0\"\n",
    "t.loop_end = \"8:0:0\""
   ]
  },
  {
   "cell_type": "markdown",
   "id": "aa41745a",
   "metadata": {
    "pycharm": {
     "name": "#%% md\n"
    }
   },
   "source": [
    "`Transport` has also properties for setting the BPM or\n",
    "the time signature:"
   ]
  },
  {
   "cell_type": "code",
   "execution_count": 10,
   "id": "f2f9178f",
   "metadata": {
    "pycharm": {
     "name": "#%%\n"
    }
   },
   "outputs": [
    {
     "data": {
      "text/plain": [
       "Param(value=120.0, units='bpm')"
      ]
     },
     "execution_count": 10,
     "metadata": {},
     "output_type": "execute_result"
    }
   ],
   "source": [
    "t.bpm"
   ]
  },
  {
   "cell_type": "code",
   "execution_count": 11,
   "id": "6fe80b2a",
   "metadata": {
    "pycharm": {
     "name": "#%%\n"
    }
   },
   "outputs": [
    {
     "data": {
      "text/plain": [
       "4"
      ]
     },
     "execution_count": 11,
     "metadata": {},
     "output_type": "execute_result"
    }
   ],
   "source": [
    "t.time_signature"
   ]
  },
  {
   "cell_type": "markdown",
   "id": "28460f18",
   "metadata": {
    "pycharm": {
     "name": "#%% md\n"
    }
   },
   "source": [
    "## Basic scheduling\n",
    "\n",
    "Basic event scheduling can be done either using\n",
    "`Transport` with callbacks or using context managers\n",
    "provided by ipytone.\n",
    "\n",
    "Let's first create an instrument"
   ]
  },
  {
   "cell_type": "code",
   "execution_count": 12,
   "id": "d4af879f",
   "metadata": {
    "pycharm": {
     "name": "#%%\n"
    }
   },
   "outputs": [],
   "source": [
    "synth = ipytone.Synth(volume=-5).to_destination()"
   ]
  },
  {
   "cell_type": "code",
   "execution_count": 13,
   "id": "e3f3b662",
   "metadata": {
    "pycharm": {
     "name": "#%%\n"
    }
   },
   "outputs": [
    {
     "data": {
      "text/plain": [
       "Synth()"
      ]
     },
     "execution_count": 13,
     "metadata": {},
     "output_type": "execute_result"
    }
   ],
   "source": [
    "synth.trigger_attack_release(\"C4\", \"16n\")"
   ]
  },
  {
   "cell_type": "markdown",
   "id": "fc6438d4",
   "metadata": {
    "pycharm": {
     "name": "#%% md\n"
    }
   },
   "source": [
    "### Using callbacks\n",
    "\n",
    "Callbacks must accept one `time` argument (in seconds) and usually implement in\n",
    "their body all the events that we want be triggered at that time (e.g.,\n",
    "instrument note, parameter automation, etc.)."
   ]
  },
  {
   "cell_type": "code",
   "execution_count": 23,
   "id": "28f3bf1d",
   "metadata": {
    "pycharm": {
     "name": "#%%\n"
    }
   },
   "outputs": [],
   "source": [
    "def callback(time):\n",
    "    synth.trigger_attack_release(\"C4\", \"16n\", time=time)"
   ]
  },
  {
   "cell_type": "markdown",
   "id": "f5713b52",
   "metadata": {
    "pycharm": {
     "name": "#%% md\n"
    }
   },
   "source": [
    "Then we can pass it to one of the `Transport.schedule`,\n",
    "`Transport.schedule_repeat` and\n",
    "`Transport.schedule_once` methods of\n",
    "`Transport`, e.g.,"
   ]
  },
  {
   "cell_type": "code",
   "execution_count": 24,
   "id": "e829e62d",
   "metadata": {
    "pycharm": {
     "name": "#%%\n"
    }
   },
   "outputs": [],
   "source": [
    "# schedule the call repeatedly at every 4th bar note\n",
    "event_id = t.schedule_repeat(callback, \"4n\")"
   ]
  },
  {
   "cell_type": "code",
   "execution_count": 25,
   "id": "6846a284",
   "metadata": {
    "pycharm": {
     "name": "#%%\n"
    }
   },
   "outputs": [
    {
     "data": {
      "text/plain": [
       "Transport()"
      ]
     },
     "execution_count": 25,
     "metadata": {},
     "output_type": "execute_result"
    }
   ],
   "source": [
    "t.start().stop(\"+2m\")"
   ]
  },
  {
   "cell_type": "markdown",
   "id": "98a593db",
   "metadata": {
    "pycharm": {
     "name": "#%% md\n"
    }
   },
   "source": [
    "Those schedule methods return an event id that can be used later to remove it\n",
    "from the transport timeline with the `Transport.clear`,\n",
    "method, e.g.,"
   ]
  },
  {
   "cell_type": "code",
   "execution_count": 27,
   "id": "03b7715c",
   "metadata": {
    "pycharm": {
     "name": "#%%\n"
    }
   },
   "outputs": [
    {
     "data": {
      "text/plain": [
       "Transport()"
      ]
     },
     "execution_count": 27,
     "metadata": {},
     "output_type": "execute_result"
    }
   ],
   "source": [
    "t.clear(event_id)"
   ]
  },
  {
   "cell_type": "code",
   "execution_count": 28,
   "id": "f4e0b18d",
   "metadata": {
    "pycharm": {
     "name": "#%%\n"
    }
   },
   "outputs": [
    {
     "data": {
      "text/plain": [
       "Transport()"
      ]
     },
     "execution_count": 28,
     "metadata": {},
     "output_type": "execute_result"
    }
   ],
   "source": [
    "# no scheduled event, no sound\n",
    "t.start().stop(\"+2m\")"
   ]
  },
  {
   "cell_type": "markdown",
   "id": "88e690c1",
   "metadata": {
    "pycharm": {
     "name": "#%% md\n"
    }
   },
   "source": [
    "> important:\n",
    "Ipytone doesn't handle those callbacks like you might expect,\n",
    "i.e., like functions called at each of the scheduled times. Instead, ipytone\n",
    "uses some tricks internally to reconstruct (more-or-less) equivalent callbacks\n",
    "in the front-end before passing it to Tone.js scheduling functions.\n",
    "\n",
    "As a consequence, Python callbacks have some limitations compared to Tone.js /\n",
    "JS callbacks. More specifically, the Python code inside a callback will be\n",
    "executed only once. Here is a bad example that won't behave as we'd like:\n",
    "\n",
    "```python\n",
    "import random\n",
    "\n",
    "def callback(time):\n",
    "    # This will randomly choose one note once for all repeated events!! \n",
    "    note = random.choice([\"C4\", \"G4\", \"A4\"]) \n",
    "    synth.trigger_attack_release(note, \"16n\", time=time)\n",
    "```\n",
    "\n",
    "There's also very limited support for making operations with the `time` argument\n",
    "(currently, only addition is supported).\n",
    "````"
   ]
  },
  {
   "cell_type": "markdown",
   "id": "c3b790b7",
   "metadata": {
    "pycharm": {
     "name": "#%% md\n"
    }
   },
   "source": [
    "### Using contexts\n",
    "\n",
    "For convenience, the same scheduling operations can be achieved using context\n",
    "managers. For example:"
   ]
  },
  {
   "cell_type": "code",
   "execution_count": 29,
   "id": "adb550e4",
   "metadata": {
    "pycharm": {
     "name": "#%%\n"
    }
   },
   "outputs": [],
   "source": [
    "with ipytone.schedule_once(\"4n\") as (time, event_id):\n",
    "    synth.trigger_attack_release(\"A4\", \"16n\", time=time)\n",
    "    synth.trigger_attack_release(\"A5\", \"16n\", time=time + \"16n\")"
   ]
  },
  {
   "cell_type": "code",
   "execution_count": 30,
   "id": "cd528a0d",
   "metadata": {
    "pycharm": {
     "name": "#%%\n"
    }
   },
   "outputs": [
    {
     "data": {
      "text/plain": [
       "Transport()"
      ]
     },
     "execution_count": 30,
     "metadata": {},
     "output_type": "execute_result"
    }
   ],
   "source": [
    "t.start().stop(\"+2m\")"
   ]
  },
  {
   "cell_type": "markdown",
   "id": "80a8b5fe",
   "metadata": {
    "pycharm": {
     "name": "#%% md\n"
    }
   },
   "source": [
    "Note that unlike the example above, the two note triggers here are scheduled\n",
    "only once so they won't be re-triggered after stopping and restarting the\n",
    "transport"
   ]
  },
  {
   "cell_type": "code",
   "execution_count": 31,
   "id": "62265869",
   "metadata": {
    "pycharm": {
     "name": "#%%\n"
    }
   },
   "outputs": [
    {
     "data": {
      "text/plain": [
       "Transport()"
      ]
     },
     "execution_count": 31,
     "metadata": {},
     "output_type": "execute_result"
    }
   ],
   "source": [
    "# no scheduled event, no sound\n",
    "t.start().stop(\"+2m\")"
   ]
  },
  {
   "cell_type": "markdown",
   "id": "e0038264",
   "metadata": {
    "pycharm": {
     "name": "#%% md\n"
    }
   },
   "source": [
    "## Advanced scheduling\n",
    "\n",
    "Ipytone also exposes Tone.js event classes for more advanced and handy\n",
    "scheduling."
   ]
  },
  {
   "cell_type": "markdown",
   "source": [
    "### Loop\n",
    "\n",
    "`Loop` is a simplified event that is looped by default at a\n",
    "user-defined interval. Like in basic scheduling, it accepts a callback with one\n",
    "`time` argument."
   ],
   "metadata": {
    "collapsed": false,
    "pycharm": {
     "name": "#%% md\n"
    }
   }
  },
  {
   "cell_type": "code",
   "execution_count": null,
   "outputs": [],
   "source": [
    "loop = ipytone.Loop(callback=callback, interval=\"8n\")"
   ],
   "metadata": {
    "collapsed": false,
    "pycharm": {
     "name": "#%%\n"
    }
   }
  },
  {
   "cell_type": "code",
   "execution_count": null,
   "outputs": [],
   "source": [
    "loop.start()"
   ],
   "metadata": {
    "collapsed": false,
    "pycharm": {
     "name": "#%%\n"
    }
   }
  },
  {
   "cell_type": "code",
   "execution_count": null,
   "outputs": [],
   "source": [
    "loop.stop()"
   ],
   "metadata": {
    "collapsed": false,
    "pycharm": {
     "name": "#%%\n"
    }
   }
  },
  {
   "cell_type": "code",
   "execution_count": null,
   "outputs": [],
   "source": [
    "loop.cancel()"
   ],
   "metadata": {
    "collapsed": false,
    "pycharm": {
     "name": "#%%\n"
    }
   }
  },
  {
   "cell_type": "markdown",
   "source": [
    "### Sequence\n",
    "\n",
    "`Sequence` is an alternative to `Part` where the\n",
    "note events are evenly spaced at a given subdivision."
   ],
   "metadata": {
    "collapsed": false,
    "pycharm": {
     "name": "#%% md\n"
    }
   }
  },
  {
   "cell_type": "code",
   "execution_count": null,
   "outputs": [],
   "source": [
    "seq = ipytone.Sequence(\n",
    "    callback=event_clb,\n",
    "    events=[\"A4\", \"C4\", \"B4\", \"A5\"],\n",
    "    subdivision=\"8n\",\n",
    ")"
   ],
   "metadata": {
    "collapsed": false,
    "pycharm": {
     "name": "#%%\n"
    }
   }
  },
  {
   "cell_type": "markdown",
   "source": [
    "A sequence is looped by default."
   ],
   "metadata": {
    "collapsed": false,
    "pycharm": {
     "name": "#%% md\n"
    }
   }
  },
  {
   "cell_type": "code",
   "execution_count": null,
   "outputs": [],
   "source": [
    "seq.start()"
   ],
   "metadata": {
    "collapsed": false,
    "pycharm": {
     "name": "#%%\n"
    }
   }
  },
  {
   "cell_type": "markdown",
   "source": [
    "Events may be nested (the interval within a nested array corresponds to the\n",
    "parent subdivision divided by the length of the nested array)."
   ],
   "metadata": {
    "collapsed": false,
    "pycharm": {
     "name": "#%% md\n"
    }
   }
  },
  {
   "cell_type": "code",
   "execution_count": null,
   "outputs": [],
   "source": [
    "seq.events = [\"A4\", [\"C4\", \"E4\", \"D4\"], \"B4\", \"A5\"]"
   ],
   "metadata": {
    "collapsed": false,
    "pycharm": {
     "name": "#%%\n"
    }
   }
  },
  {
   "cell_type": "markdown",
   "source": [
    "Blank intervals may be defined by `None` array elements:"
   ],
   "metadata": {
    "collapsed": false,
    "pycharm": {
     "name": "#%% md\n"
    }
   }
  },
  {
   "cell_type": "code",
   "execution_count": null,
   "outputs": [],
   "source": [
    "seq.events = [\"A4\", [\"C4\", \"E4\", \"D4\"], \"B4\", None]"
   ],
   "metadata": {
    "collapsed": false,
    "pycharm": {
     "name": "#%%\n"
    }
   }
  },
  {
   "cell_type": "code",
   "execution_count": null,
   "outputs": [],
   "source": [
    "seq.stop()"
   ],
   "metadata": {
    "collapsed": false,
    "pycharm": {
     "name": "#%%\n"
    }
   }
  },
  {
   "cell_type": "markdown",
   "source": [
    "### Pattern\n",
    "\n",
    "`Pattern` is like an arpeggiator, it cycles trough an sequence\n",
    "of notes with a given pattern."
   ],
   "metadata": {
    "collapsed": false,
    "pycharm": {
     "name": "#%% md\n"
    }
   }
  },
  {
   "cell_type": "code",
   "execution_count": null,
   "outputs": [],
   "source": [
    "pat = ipytone.Pattern(\n",
    "    callback=event_clb,\n",
    "    values=[\"C3\", \"E3\", \"G3\"],\n",
    "    pattern=\"upDown\",\n",
    ")"
   ],
   "metadata": {
    "collapsed": false,
    "pycharm": {
     "name": "#%%\n"
    }
   }
  },
  {
   "cell_type": "code",
   "execution_count": null,
   "outputs": [],
   "source": [
    "pat.start()"
   ],
   "metadata": {
    "collapsed": false,
    "pycharm": {
     "name": "#%%\n"
    }
   }
  },
  {
   "cell_type": "code",
   "execution_count": null,
   "outputs": [],
   "source": [
    "pat.pattern=\"up\""
   ],
   "metadata": {
    "collapsed": false,
    "pycharm": {
     "name": "#%%\n"
    }
   }
  },
  {
   "cell_type": "code",
   "execution_count": null,
   "outputs": [],
   "source": [
    "pat.stop()"
   ],
   "metadata": {
    "collapsed": false,
    "pycharm": {
     "name": "#%%\n"
    }
   }
  },
  {
   "cell_type": "markdown",
   "source": [
    "### Dispose events\n",
    "\n",
    "Like audio nodes, events may also be disposed."
   ],
   "metadata": {
    "collapsed": false,
    "pycharm": {
     "name": "#%% md\n"
    }
   }
  },
  {
   "cell_type": "code",
   "execution_count": null,
   "outputs": [],
   "source": [
    "event.dispose()\n",
    "loop.dispose()\n",
    "seq.dispose()\n",
    "pat.dispose()"
   ],
   "metadata": {
    "collapsed": false,
    "pycharm": {
     "name": "#%%\n"
    }
   }
  }
 ],
 "metadata": {
  "jupytext": {
   "text_representation": {
    "extension": ".md",
    "format_name": "myst",
    "format_version": 0.13,
    "jupytext_version": "1.13.8"
   }
  },
  "kernelspec": {
   "display_name": "venv",
   "language": "python",
   "name": "venv"
  },
  "language_info": {
   "codemirror_mode": {
    "name": "ipython",
    "version": 3
   },
   "file_extension": ".py",
   "mimetype": "text/x-python",
   "name": "python",
   "nbconvert_exporter": "python",
   "pygments_lexer": "ipython3",
   "version": "3.9.10"
  },
  "source_map": [
   12,
   31,
   33,
   41,
   43,
   55,
   62,
   64,
   75,
   77,
   81,
   85,
   90,
   94,
   96,
   106,
   108,
   116,
   119,
   126,
   131,
   133,
   139,
   143,
   146,
   171,
   178,
   184,
   186,
   192,
   195,
   202,
   209,
   214,
   216,
   221,
   227,
   229,
   235,
   237,
   242,
   247,
   252,
   255,
   259,
   262,
   270,
   274,
   278,
   282,
   284,
   298,
   303,
   309,
   320,
   322,
   329,
   333,
   337,
   341,
   343,
   350,
   356,
   360,
   362,
   367,
   369,
   373,
   377,
   379,
   386,
   394,
   398,
   402,
   404,
   410,
   416,
   421
  ],
  "widgets": {
   "application/vnd.jupyter.widget-state+json": {
    "state": {
     "00f9e255a3664677979f7207b51b5b8e": {
      "model_module": "ipytone",
      "model_module_version": "^0.4.1",
      "model_name": "InternalAudioNodeModel",
      "state": {
       "_create_node": false,
       "_disposed": false,
       "_input": null,
       "_model_module": "ipytone",
       "_model_module_version": "^0.4.1",
       "_model_name": "InternalAudioNodeModel",
       "_n_inputs": 1,
       "_n_outputs": 1,
       "_output": null,
       "_set_node_channels": true,
       "_view_count": null,
       "_view_module": null,
       "_view_module_version": "",
       "_view_name": null,
       "channel_count": 2,
       "channel_count_mode": "max",
       "channel_interpretation": "speakers",
       "name": "",
       "type": "ToneConstantSource"
      }
     },
     "0fdba40eb6d64868b2ecb4d93fd2be44": {
      "model_module": "ipytone",
      "model_module_version": "^0.4.1",
      "model_name": "DestinationModel",
      "state": {
       "_create_node": true,
       "_disposed": false,
       "_input": "IPY_MODEL_9502014bc2ab400b9d47d9b0052c3233",
       "_model_module": "ipytone",
       "_model_module_version": "^0.4.1",
       "_model_name": "DestinationModel",
       "_output": "IPY_MODEL_d7692e6aa1c04636a02eb3c747cf708d",
       "_set_node_channels": true,
       "_view_count": null,
       "_view_module": null,
       "_view_module_version": "",
       "_view_name": null,
       "_volume": "IPY_MODEL_39a15191be224cd488414208a6bd14b2",
       "channel_count": 2,
       "channel_count_mode": "max",
       "channel_interpretation": "speakers",
       "mute": false,
       "name": "main output"
      }
     },
     "0fedbd81534143a09f503db501b981b2": {
      "model_module": "ipytone",
      "model_module_version": "^0.4.1",
      "model_name": "ParamModel",
      "state": {
       "_create_node": false,
       "_disposed": false,
       "_input": "IPY_MODEL_a1bdb1dc51344a0dbda1ce44b87b3697",
       "_max_value": null,
       "_min_value": null,
       "_model_module": "ipytone",
       "_model_module_version": "^0.4.1",
       "_model_name": "ParamModel",
       "_swappable": false,
       "_units": "number",
       "_view_count": null,
       "_view_module": null,
       "_view_module_version": "",
       "_view_name": null,
       "convert": true,
       "name": "",
       "overridden": false,
       "value": 1
      }
     },
     "114c81c46fdc493cb14b8f96fb1a36dd": {
      "model_module": "ipytone",
      "model_module_version": "^0.4.1",
      "model_name": "EventModel",
      "state": {
       "_disposed": true,
       "_model_module": "ipytone",
       "_model_module_version": "^0.4.1",
       "_model_name": "EventModel",
       "_view_count": null,
       "_view_module": null,
       "_view_module_version": "",
       "_view_name": null,
       "humanize": 0.2,
       "loop": true,
       "loop_end": "8:0:0",
       "loop_start": "4:0:0",
       "mute": false,
       "name": "",
       "playback_rate": 4,
       "probability": 0.8,
       "start_offset": 0,
       "value": "A4"
      }
     },
     "11b64a6e5adf4825a4b69d09da0c7c2a": {
      "model_module": "ipytone",
      "model_module_version": "^0.4.1",
      "model_name": "SignalModel",
      "state": {
       "_create_node": false,
       "_disposed": true,
       "_input": "IPY_MODEL_822baeef6d314d23ab4252a4fbdaed95",
       "_model_module": "ipytone",
       "_model_module_version": "^0.4.1",
       "_model_name": "SignalModel",
       "_output": "IPY_MODEL_38336c410ef5481881ed546a44f7ee17",
       "_override": true,
       "_set_node_channels": true,
       "_view_count": null,
       "_view_module": null,
       "_view_module_version": "",
       "_view_name": null,
       "channel_count": 2,
       "channel_count_mode": "max",
       "channel_interpretation": "speakers",
       "name": "",
       "value": 0
      }
     },
     "175d75312d884e9b8e0046af4b410e73": {
      "model_module": "ipytone",
      "model_module_version": "^0.4.1",
      "model_name": "SequenceModel",
      "state": {
       "_disposed": true,
       "_model_module": "ipytone",
       "_model_module_version": "^0.4.1",
       "_model_name": "SequenceModel",
       "_subdivision": "8n",
       "_view_count": null,
       "_view_module": null,
       "_view_module_version": "",
       "_view_name": null,
       "events": [
        "A4",
        [
         "C4",
         "E4",
         "D4"
        ],
        "B4",
        null
       ],
       "humanize": false,
       "length": 0,
       "loop": true,
       "loop_end": 0,
       "loop_start": 0,
       "mute": false,
       "name": "",
       "playback_rate": 1,
       "probability": 1,
       "start_offset": 0,
       "value": null
      }
     },
     "1b4aa8ad8b4c41b19f200dcbf2bca221": {
      "model_module": "ipytone",
      "model_module_version": "^0.4.1",
      "model_name": "ParamModel",
      "state": {
       "_create_node": false,
       "_disposed": false,
       "_input": "IPY_MODEL_90ef81caf1b740ff9e1f19dbdccdd216",
       "_max_value": null,
       "_min_value": null,
       "_model_module": "ipytone",
       "_model_module_version": "^0.4.1",
       "_model_name": "ParamModel",
       "_swappable": false,
       "_units": "number",
       "_view_count": null,
       "_view_module": null,
       "_view_module_version": "",
       "_view_name": null,
       "convert": true,
       "name": "",
       "overridden": false,
       "value": 1
      }
     },
     "1bae2a369bdb42d3870d7ebe3b12b07a": {
      "model_module": "ipytone",
      "model_module_version": "^0.4.1",
      "model_name": "MultiplyModel",
      "state": {
       "_create_node": false,
       "_disposed": false,
       "_factor": "IPY_MODEL_0fedbd81534143a09f503db501b981b2",
       "_input": "IPY_MODEL_faae981d621448d8862788d6945df7c0",
       "_model_module": "ipytone",
       "_model_module_version": "^0.4.1",
       "_model_name": "MultiplyModel",
       "_output": "IPY_MODEL_faae981d621448d8862788d6945df7c0",
       "_override": false,
       "_set_node_channels": true,
       "_view_count": null,
       "_view_module": null,
       "_view_module_version": "",
       "_view_name": null,
       "channel_count": 2,
       "channel_count_mode": "max",
       "channel_interpretation": "speakers",
       "name": "",
       "value": 1
      }
     },
     "1bdfce82d614405593dac1d38820e220": {
      "model_module": "ipytone",
      "model_module_version": "^0.4.1",
      "model_name": "ParamModel",
      "state": {
       "_create_node": false,
       "_disposed": false,
       "_input": "IPY_MODEL_86285eb79f2c4535903271e3fc18c2f6",
       "_max_value": null,
       "_min_value": null,
       "_model_module": "ipytone",
       "_model_module_version": "^0.4.1",
       "_model_name": "ParamModel",
       "_swappable": false,
       "_units": "frequency",
       "_view_count": null,
       "_view_module": null,
       "_view_module_version": "",
       "_view_name": null,
       "convert": true,
       "name": "",
       "overridden": false,
       "value": 0.4
      }
     },
     "1d0a10aa76184f2e9daf3f51d1a91185": {
      "model_module": "ipytone",
      "model_module_version": "^0.4.1",
      "model_name": "ParamModel",
      "state": {
       "_create_node": false,
       "_disposed": false,
       "_input": "IPY_MODEL_4d49d5b28f944f86822687df50703fdd",
       "_max_value": null,
       "_min_value": null,
       "_model_module": "ipytone",
       "_model_module_version": "^0.4.1",
       "_model_name": "ParamModel",
       "_swappable": false,
       "_units": "bpm",
       "_view_count": null,
       "_view_module": null,
       "_view_module_version": "",
       "_view_name": null,
       "convert": true,
       "name": "",
       "overridden": false,
       "value": 120
      }
     },
     "2252cf8ed9774ebc8d6002203413d15b": {
      "model_module": "ipytone",
      "model_module_version": "^0.4.1",
      "model_name": "ParamModel",
      "state": {
       "_create_node": false,
       "_disposed": true,
       "_input": "IPY_MODEL_eb08571b1e6d472f9419837b70206686",
       "_max_value": null,
       "_min_value": null,
       "_model_module": "ipytone",
       "_model_module_version": "^0.4.1",
       "_model_name": "ParamModel",
       "_swappable": false,
       "_units": "gain",
       "_view_count": null,
       "_view_module": null,
       "_view_module_version": "",
       "_view_name": null,
       "convert": true,
       "name": "",
       "overridden": false,
       "value": 0
      }
     },
     "38336c410ef5481881ed546a44f7ee17": {
      "model_module": "ipytone",
      "model_module_version": "^0.4.1",
      "model_name": "InternalAudioNodeModel",
      "state": {
       "_create_node": false,
       "_disposed": true,
       "_input": null,
       "_model_module": "ipytone",
       "_model_module_version": "^0.4.1",
       "_model_name": "InternalAudioNodeModel",
       "_n_inputs": 1,
       "_n_outputs": 1,
       "_output": null,
       "_set_node_channels": true,
       "_view_count": null,
       "_view_module": null,
       "_view_module_version": "",
       "_view_name": null,
       "channel_count": 2,
       "channel_count_mode": "max",
       "channel_interpretation": "speakers",
       "name": "",
       "type": "ToneConstantSource"
      }
     },
     "39a15191be224cd488414208a6bd14b2": {
      "model_module": "ipytone",
      "model_module_version": "^0.4.1",
      "model_name": "ParamModel",
      "state": {
       "_create_node": false,
       "_disposed": false,
       "_input": "IPY_MODEL_7a627d83773f466bafa0baffc10941a7",
       "_max_value": null,
       "_min_value": null,
       "_model_module": "ipytone",
       "_model_module_version": "^0.4.1",
       "_model_name": "ParamModel",
       "_swappable": false,
       "_units": "decibels",
       "_view_count": null,
       "_view_module": null,
       "_view_module_version": "",
       "_view_name": null,
       "convert": true,
       "name": "",
       "overridden": false,
       "value": 0
      }
     },
     "489c7612783443869dcefa8aa5342f72": {
      "model_module": "ipytone",
      "model_module_version": "^0.4.1",
      "model_name": "NativeAudioParamModel",
      "state": {
       "_model_module": "ipytone",
       "_model_module_version": "^0.4.1",
       "_model_name": "NativeAudioParamModel",
       "_view_count": null,
       "_view_module": null,
       "_view_module_version": "",
       "_view_name": null,
       "type": ""
      }
     },
     "4d49d5b28f944f86822687df50703fdd": {
      "model_module": "ipytone",
      "model_module_version": "^0.4.1",
      "model_name": "NativeAudioParamModel",
      "state": {
       "_model_module": "ipytone",
       "_model_module_version": "^0.4.1",
       "_model_name": "NativeAudioParamModel",
       "_view_count": null,
       "_view_module": null,
       "_view_module_version": "",
       "_view_name": null,
       "type": ""
      }
     },
     "4d86806140834a4b8a328f0c5830c852": {
      "model_module": "ipytone",
      "model_module_version": "^0.4.1",
      "model_name": "GainModel",
      "state": {
       "_create_node": false,
       "_disposed": true,
       "_gain": "IPY_MODEL_2252cf8ed9774ebc8d6002203413d15b",
       "_input": "IPY_MODEL_8b0407140ca24c4688eee71d3306bec8",
       "_model_module": "ipytone",
       "_model_module_version": "^0.4.1",
       "_model_name": "GainModel",
       "_output": "IPY_MODEL_8b0407140ca24c4688eee71d3306bec8",
       "_set_node_channels": true,
       "_view_count": null,
       "_view_module": null,
       "_view_module_version": "",
       "_view_name": null,
       "channel_count": 2,
       "channel_count_mode": "max",
       "channel_interpretation": "speakers",
       "name": ""
      }
     },
     "548b3e96fe81463cb4f547e873dbd284": {
      "model_module": "ipytone",
      "model_module_version": "^0.4.1",
      "model_name": "SignalModel",
      "state": {
       "_create_node": false,
       "_disposed": false,
       "_input": "IPY_MODEL_9c23639223fe4689b57fc12cc85a0921",
       "_model_module": "ipytone",
       "_model_module_version": "^0.4.1",
       "_model_name": "SignalModel",
       "_output": "IPY_MODEL_67dbe1a4bcc444929144fa4b479ebbb4",
       "_override": true,
       "_set_node_channels": true,
       "_view_count": null,
       "_view_module": null,
       "_view_module_version": "",
       "_view_name": null,
       "channel_count": 2,
       "channel_count_mode": "max",
       "channel_interpretation": "speakers",
       "name": "",
       "value": 0.2
      }
     },
     "5519354748e1410cb0367e5685c7ffca": {
      "model_module": "ipytone",
      "model_module_version": "^0.4.1",
      "model_name": "NativeAudioParamModel",
      "state": {
       "_model_module": "ipytone",
       "_model_module_version": "^0.4.1",
       "_model_name": "NativeAudioParamModel",
       "_view_count": null,
       "_view_module": null,
       "_view_module_version": "",
       "_view_name": null,
       "type": ""
      }
     },
     "61d53f3183e74af1a185824cca32b7b0": {
      "model_module": "ipytone",
      "model_module_version": "^0.4.1",
      "model_name": "SignalModel",
      "state": {
       "_create_node": false,
       "_disposed": true,
       "_input": "IPY_MODEL_929c3f5eb0d245058c19f769b162cbce",
       "_model_module": "ipytone",
       "_model_module_version": "^0.4.1",
       "_model_name": "SignalModel",
       "_output": "IPY_MODEL_9ed2e7dceb1a49e0a899361b76ff42a5",
       "_override": true,
       "_set_node_channels": true,
       "_view_count": null,
       "_view_module": null,
       "_view_module_version": "",
       "_view_name": null,
       "channel_count": 2,
       "channel_count_mode": "max",
       "channel_interpretation": "speakers",
       "name": "",
       "value": 440
      }
     },
     "650e8c167dfc4589a21cd7c73f39785d": {
      "model_module": "ipytone",
      "model_module_version": "^0.4.1",
      "model_name": "PartModel",
      "state": {
       "_disposed": true,
       "_events": [
        {
         "duration": "16n",
         "note": "A4",
         "time": 0,
         "velocity": 1
        },
        {
         "duration": "8n",
         "note": "B4",
         "time": "8n",
         "velocity": 0.5
        },
        {
         "duration": "16n",
         "note": "E4",
         "time": "2n",
         "velocity": 1
        }
       ],
       "_model_module": "ipytone",
       "_model_module_version": "^0.4.1",
       "_model_name": "PartModel",
       "_view_count": null,
       "_view_module": null,
       "_view_module_version": "",
       "_view_name": null,
       "humanize": false,
       "length": 0,
       "loop": false,
       "loop_end": "1m",
       "loop_start": 0,
       "mute": false,
       "name": "",
       "playback_rate": 1,
       "probability": 1,
       "start_offset": 0,
       "value": null
      }
     },
     "67dbe1a4bcc444929144fa4b479ebbb4": {
      "model_module": "ipytone",
      "model_module_version": "^0.4.1",
      "model_name": "InternalAudioNodeModel",
      "state": {
       "_create_node": false,
       "_disposed": false,
       "_input": null,
       "_model_module": "ipytone",
       "_model_module_version": "^0.4.1",
       "_model_name": "InternalAudioNodeModel",
       "_n_inputs": 1,
       "_n_outputs": 1,
       "_output": null,
       "_set_node_channels": true,
       "_view_count": null,
       "_view_module": null,
       "_view_module_version": "",
       "_view_name": null,
       "channel_count": 2,
       "channel_count_mode": "max",
       "channel_interpretation": "speakers",
       "name": "",
       "type": "ToneConstantSource"
      }
     },
     "68440e1e8873464297412f0386818b7c": {
      "model_module": "ipytone",
      "model_module_version": "^0.4.1",
      "model_name": "PatternModel",
      "state": {
       "_disposed": true,
       "_model_module": "ipytone",
       "_model_module_version": "^0.4.1",
       "_model_name": "PatternModel",
       "_view_count": null,
       "_view_module": null,
       "_view_module_version": "",
       "_view_name": null,
       "humanize": false,
       "interval": "8n",
       "iterations": null,
       "loop": true,
       "loop_end": 0,
       "loop_start": 0,
       "mute": false,
       "name": "",
       "pattern": "up",
       "playback_rate": 1,
       "probability": 1,
       "start_offset": 0,
       "value": null,
       "values": [
        "C3",
        "E3",
        "G3"
       ]
      }
     },
     "6ea0e1926f5d496ca82edfaa28d0aa51": {
      "model_module": "ipytone",
      "model_module_version": "^0.4.1",
      "model_name": "NativeAudioNodeModel",
      "state": {
       "_model_module": "ipytone",
       "_model_module_version": "^0.4.1",
       "_model_name": "NativeAudioNodeModel",
       "_n_inputs": 1,
       "_n_outputs": 1,
       "_view_count": null,
       "_view_module": null,
       "_view_module_version": "",
       "_view_name": null,
       "type": "GainNode"
      }
     },
     "70d0d8d75b2b4655b27274b660fa3d8e": {
      "model_module": "ipytone",
      "model_module_version": "^0.4.1",
      "model_name": "AmplitudeEnvelopeModel",
      "state": {
       "_create_node": true,
       "_disposed": true,
       "_input": "IPY_MODEL_4d86806140834a4b8a328f0c5830c852",
       "_model_module": "ipytone",
       "_model_module_version": "^0.4.1",
       "_model_name": "AmplitudeEnvelopeModel",
       "_output": "IPY_MODEL_4d86806140834a4b8a328f0c5830c852",
       "_set_node_channels": true,
       "_view_count": null,
       "_view_module": null,
       "_view_module_version": "",
       "_view_name": null,
       "array": null,
       "array_length": 1024,
       "attack": 0.005,
       "attack_curve": "linear",
       "channel_count": 2,
       "channel_count_mode": "max",
       "channel_interpretation": "speakers",
       "decay": 0.1,
       "decay_curve": "exponential",
       "name": "",
       "release": 1,
       "release_curve": "exponential",
       "sustain": 0.3,
       "sync_array": false
      }
     },
     "7a627d83773f466bafa0baffc10941a7": {
      "model_module": "ipytone",
      "model_module_version": "^0.4.1",
      "model_name": "NativeAudioParamModel",
      "state": {
       "_model_module": "ipytone",
       "_model_module_version": "^0.4.1",
       "_model_name": "NativeAudioParamModel",
       "_view_count": null,
       "_view_module": null,
       "_view_module_version": "",
       "_view_name": null,
       "type": ""
      }
     },
     "822baeef6d314d23ab4252a4fbdaed95": {
      "model_module": "ipytone",
      "model_module_version": "^0.4.1",
      "model_name": "ParamModel",
      "state": {
       "_create_node": false,
       "_disposed": true,
       "_input": "IPY_MODEL_ab44c34d60f8450c8902e706b9417f35",
       "_max_value": null,
       "_min_value": null,
       "_model_module": "ipytone",
       "_model_module_version": "^0.4.1",
       "_model_name": "ParamModel",
       "_swappable": false,
       "_units": "cents",
       "_view_count": null,
       "_view_module": null,
       "_view_module_version": "",
       "_view_name": null,
       "convert": true,
       "name": "",
       "overridden": false,
       "value": 0
      }
     },
     "86285eb79f2c4535903271e3fc18c2f6": {
      "model_module": "ipytone",
      "model_module_version": "^0.4.1",
      "model_name": "NativeAudioParamModel",
      "state": {
       "_model_module": "ipytone",
       "_model_module_version": "^0.4.1",
       "_model_name": "NativeAudioParamModel",
       "_view_count": null,
       "_view_module": null,
       "_view_module_version": "",
       "_view_name": null,
       "type": ""
      }
     },
     "87cc9da0bf14442e8befc7e8b334159f": {
      "model_module": "ipytone",
      "model_module_version": "^0.4.1",
      "model_name": "GainModel",
      "state": {
       "_create_node": false,
       "_disposed": true,
       "_gain": "IPY_MODEL_e6e147ac0c0244ca9bc6a15bf12e5616",
       "_input": "IPY_MODEL_cba992911c9e47ab99f47906d3a25fdb",
       "_model_module": "ipytone",
       "_model_module_version": "^0.4.1",
       "_model_name": "GainModel",
       "_output": "IPY_MODEL_cba992911c9e47ab99f47906d3a25fdb",
       "_set_node_channels": true,
       "_view_count": null,
       "_view_module": null,
       "_view_module_version": "",
       "_view_name": null,
       "channel_count": 2,
       "channel_count_mode": "max",
       "channel_interpretation": "speakers",
       "name": ""
      }
     },
     "8b0407140ca24c4688eee71d3306bec8": {
      "model_module": "ipytone",
      "model_module_version": "^0.4.1",
      "model_name": "NativeAudioNodeModel",
      "state": {
       "_model_module": "ipytone",
       "_model_module_version": "^0.4.1",
       "_model_name": "NativeAudioNodeModel",
       "_n_inputs": 1,
       "_n_outputs": 1,
       "_view_count": null,
       "_view_module": null,
       "_view_module_version": "",
       "_view_name": null,
       "type": "GainNode"
      }
     },
     "8c38e67824af4946aead5ac9d122bdd6": {
      "model_module": "ipytone",
      "model_module_version": "^0.4.1",
      "model_name": "VolumeModel",
      "state": {
       "_create_node": false,
       "_disposed": true,
       "_input": "IPY_MODEL_d0e2923404344a11ae67634dd37b50a8",
       "_model_module": "ipytone",
       "_model_module_version": "^0.4.1",
       "_model_name": "VolumeModel",
       "_output": "IPY_MODEL_d0e2923404344a11ae67634dd37b50a8",
       "_set_node_channels": true,
       "_view_count": null,
       "_view_module": null,
       "_view_module_version": "",
       "_view_name": null,
       "_volume": "IPY_MODEL_8fde573458b74bd59da75ab572f3b85a",
       "channel_count": 2,
       "channel_count_mode": "max",
       "channel_interpretation": "speakers",
       "mute": false,
       "name": ""
      }
     },
     "8fde573458b74bd59da75ab572f3b85a": {
      "model_module": "ipytone",
      "model_module_version": "^0.4.1",
      "model_name": "ParamModel",
      "state": {
       "_create_node": false,
       "_disposed": true,
       "_input": "IPY_MODEL_a03253fb07fe476eb8d730406b01ede3",
       "_max_value": null,
       "_min_value": null,
       "_model_module": "ipytone",
       "_model_module_version": "^0.4.1",
       "_model_name": "ParamModel",
       "_swappable": false,
       "_units": "decibels",
       "_view_count": null,
       "_view_module": null,
       "_view_module_version": "",
       "_view_name": null,
       "convert": true,
       "name": "",
       "overridden": false,
       "value": -5
      }
     },
     "902681eb4bef4136b6fdaf771e377733": {
      "model_module": "ipytone",
      "model_module_version": "^0.4.1",
      "model_name": "NativeAudioParamModel",
      "state": {
       "_model_module": "ipytone",
       "_model_module_version": "^0.4.1",
       "_model_name": "NativeAudioParamModel",
       "_view_count": null,
       "_view_module": null,
       "_view_module_version": "",
       "_view_name": null,
       "type": ""
      }
     },
     "90ef81caf1b740ff9e1f19dbdccdd216": {
      "model_module": "ipytone",
      "model_module_version": "^0.4.1",
      "model_name": "NativeAudioParamModel",
      "state": {
       "_model_module": "ipytone",
       "_model_module_version": "^0.4.1",
       "_model_name": "NativeAudioParamModel",
       "_view_count": null,
       "_view_module": null,
       "_view_module_version": "",
       "_view_name": null,
       "type": ""
      }
     },
     "929c3f5eb0d245058c19f769b162cbce": {
      "model_module": "ipytone",
      "model_module_version": "^0.4.1",
      "model_name": "ParamModel",
      "state": {
       "_create_node": false,
       "_disposed": true,
       "_input": "IPY_MODEL_902681eb4bef4136b6fdaf771e377733",
       "_max_value": null,
       "_min_value": null,
       "_model_module": "ipytone",
       "_model_module_version": "^0.4.1",
       "_model_name": "ParamModel",
       "_swappable": false,
       "_units": "frequency",
       "_view_count": null,
       "_view_module": null,
       "_view_module_version": "",
       "_view_name": null,
       "convert": true,
       "name": "",
       "overridden": false,
       "value": 440
      }
     },
     "9502014bc2ab400b9d47d9b0052c3233": {
      "model_module": "ipytone",
      "model_module_version": "^0.4.1",
      "model_name": "VolumeModel",
      "state": {
       "_create_node": false,
       "_disposed": false,
       "_input": "IPY_MODEL_f9186d53e1d84e6eb2b07b8a73b0a383",
       "_model_module": "ipytone",
       "_model_module_version": "^0.4.1",
       "_model_name": "VolumeModel",
       "_output": "IPY_MODEL_f9186d53e1d84e6eb2b07b8a73b0a383",
       "_set_node_channels": true,
       "_view_count": null,
       "_view_module": null,
       "_view_module_version": "",
       "_view_name": null,
       "_volume": "IPY_MODEL_39a15191be224cd488414208a6bd14b2",
       "channel_count": 2,
       "channel_count_mode": "max",
       "channel_interpretation": "speakers",
       "mute": false,
       "name": ""
      }
     },
     "9ae1053269154abc9a0b47278aac25a3": {
      "model_module": "ipytone",
      "model_module_version": "^0.4.1",
      "model_name": "LoopModel",
      "state": {
       "_disposed": true,
       "_model_module": "ipytone",
       "_model_module_version": "^0.4.1",
       "_model_name": "LoopModel",
       "_view_count": null,
       "_view_module": null,
       "_view_module_version": "",
       "_view_name": null,
       "humanize": false,
       "interval": "8n",
       "iterations": null,
       "loop": true,
       "loop_end": 0,
       "loop_start": 0,
       "mute": false,
       "name": "",
       "playback_rate": 1,
       "probability": 1,
       "start_offset": 0,
       "value": null
      }
     },
     "9c23639223fe4689b57fc12cc85a0921": {
      "model_module": "ipytone",
      "model_module_version": "^0.4.1",
      "model_name": "ParamModel",
      "state": {
       "_create_node": false,
       "_disposed": false,
       "_input": "IPY_MODEL_5519354748e1410cb0367e5685c7ffca",
       "_max_value": null,
       "_min_value": null,
       "_model_module": "ipytone",
       "_model_module_version": "^0.4.1",
       "_model_name": "ParamModel",
       "_swappable": false,
       "_units": "audioRange",
       "_view_count": null,
       "_view_module": null,
       "_view_module_version": "",
       "_view_name": null,
       "convert": true,
       "name": "",
       "overridden": false,
       "value": 0.2
      }
     },
     "9cd15c1e07b04011aa5a3fa2ad82e52b": {
      "model_module": "ipytone",
      "model_module_version": "^0.4.1",
      "model_name": "SignalModel",
      "state": {
       "_create_node": false,
       "_disposed": false,
       "_input": "IPY_MODEL_1bdfce82d614405593dac1d38820e220",
       "_model_module": "ipytone",
       "_model_module_version": "^0.4.1",
       "_model_name": "SignalModel",
       "_output": "IPY_MODEL_00f9e255a3664677979f7207b51b5b8e",
       "_override": true,
       "_set_node_channels": true,
       "_view_count": null,
       "_view_module": null,
       "_view_module_version": "",
       "_view_name": null,
       "channel_count": 2,
       "channel_count_mode": "max",
       "channel_interpretation": "speakers",
       "name": "",
       "value": 0.4
      }
     },
     "9ed2e7dceb1a49e0a899361b76ff42a5": {
      "model_module": "ipytone",
      "model_module_version": "^0.4.1",
      "model_name": "InternalAudioNodeModel",
      "state": {
       "_create_node": false,
       "_disposed": true,
       "_input": null,
       "_model_module": "ipytone",
       "_model_module_version": "^0.4.1",
       "_model_name": "InternalAudioNodeModel",
       "_n_inputs": 1,
       "_n_outputs": 1,
       "_output": null,
       "_set_node_channels": true,
       "_view_count": null,
       "_view_module": null,
       "_view_module_version": "",
       "_view_name": null,
       "channel_count": 2,
       "channel_count_mode": "max",
       "channel_interpretation": "speakers",
       "name": "",
       "type": "ToneConstantSource"
      }
     },
     "a03253fb07fe476eb8d730406b01ede3": {
      "model_module": "ipytone",
      "model_module_version": "^0.4.1",
      "model_name": "NativeAudioParamModel",
      "state": {
       "_model_module": "ipytone",
       "_model_module_version": "^0.4.1",
       "_model_name": "NativeAudioParamModel",
       "_view_count": null,
       "_view_module": null,
       "_view_module_version": "",
       "_view_name": null,
       "type": ""
      }
     },
     "a0ff577e518b47b9bc82011e0f5f97c4": {
      "model_module": "ipytone",
      "model_module_version": "^0.4.1",
      "model_name": "AudioGraphModel",
      "state": {
       "_connections": [],
       "_model_module": "ipytone",
       "_model_module_version": "^0.4.1",
       "_model_name": "AudioGraphModel",
       "_view_count": null,
       "_view_module": null,
       "_view_module_version": "",
       "_view_name": null
      }
     },
     "a1bdb1dc51344a0dbda1ce44b87b3697": {
      "model_module": "ipytone",
      "model_module_version": "^0.4.1",
      "model_name": "NativeAudioParamModel",
      "state": {
       "_model_module": "ipytone",
       "_model_module_version": "^0.4.1",
       "_model_name": "NativeAudioParamModel",
       "_view_count": null,
       "_view_module": null,
       "_view_module_version": "",
       "_view_name": null,
       "type": ""
      }
     },
     "a242d85b931b4507a590dcf072e14fa3": {
      "model_module": "ipytone",
      "model_module_version": "^0.4.1",
      "model_name": "NativeAudioNodeModel",
      "state": {
       "_model_module": "ipytone",
       "_model_module_version": "^0.4.1",
       "_model_name": "NativeAudioNodeModel",
       "_n_inputs": 1,
       "_n_outputs": 1,
       "_view_count": null,
       "_view_module": null,
       "_view_module_version": "",
       "_view_name": null,
       "type": "GainNode"
      }
     },
     "ab44c34d60f8450c8902e706b9417f35": {
      "model_module": "ipytone",
      "model_module_version": "^0.4.1",
      "model_name": "NativeAudioParamModel",
      "state": {
       "_model_module": "ipytone",
       "_model_module_version": "^0.4.1",
       "_model_name": "NativeAudioParamModel",
       "_view_count": null,
       "_view_module": null,
       "_view_module_version": "",
       "_view_name": null,
       "type": ""
      }
     },
     "b33e54cacbb8442ba600a163851d2a6c": {
      "model_module": "ipytone",
      "model_module_version": "^0.4.1",
      "model_name": "MultiplyModel",
      "state": {
       "_create_node": false,
       "_disposed": false,
       "_factor": "IPY_MODEL_1b4aa8ad8b4c41b19f200dcbf2bca221",
       "_input": "IPY_MODEL_bb85ca63115640dfa5fca4fa42e990bd",
       "_model_module": "ipytone",
       "_model_module_version": "^0.4.1",
       "_model_name": "MultiplyModel",
       "_output": "IPY_MODEL_bb85ca63115640dfa5fca4fa42e990bd",
       "_override": false,
       "_set_node_channels": true,
       "_view_count": null,
       "_view_module": null,
       "_view_module_version": "",
       "_view_name": null,
       "channel_count": 2,
       "channel_count_mode": "max",
       "channel_interpretation": "speakers",
       "name": "",
       "value": 2
      }
     },
     "bb85ca63115640dfa5fca4fa42e990bd": {
      "model_module": "ipytone",
      "model_module_version": "^0.4.1",
      "model_name": "GainModel",
      "state": {
       "_create_node": false,
       "_disposed": false,
       "_gain": "IPY_MODEL_1b4aa8ad8b4c41b19f200dcbf2bca221",
       "_input": "IPY_MODEL_6ea0e1926f5d496ca82edfaa28d0aa51",
       "_model_module": "ipytone",
       "_model_module_version": "^0.4.1",
       "_model_name": "GainModel",
       "_output": "IPY_MODEL_6ea0e1926f5d496ca82edfaa28d0aa51",
       "_set_node_channels": true,
       "_view_count": null,
       "_view_module": null,
       "_view_module_version": "",
       "_view_name": null,
       "channel_count": 2,
       "channel_count_mode": "max",
       "channel_interpretation": "speakers",
       "name": ""
      }
     },
     "bdfdc5949dba407598a64996075ebb6e": {
      "model_module": "ipytone",
      "model_module_version": "^0.4.1",
      "model_name": "OmniOscillatorModel",
      "state": {
       "_create_node": true,
       "_detune": "IPY_MODEL_11b64a6e5adf4825a4b69d09da0c7c2a",
       "_disposed": true,
       "_frequency": "IPY_MODEL_61d53f3183e74af1a185824cca32b7b0",
       "_harmonicity": "IPY_MODEL_1bae2a369bdb42d3870d7ebe3b12b07a",
       "_input": null,
       "_model_module": "ipytone",
       "_model_module_version": "^0.4.1",
       "_model_name": "OmniOscillatorModel",
       "_modulation_frequency": "IPY_MODEL_9cd15c1e07b04011aa5a3fa2ad82e52b",
       "_modulation_index": "IPY_MODEL_b33e54cacbb8442ba600a163851d2a6c",
       "_output": "IPY_MODEL_d4e590084777476bab1f9357c5210e21",
       "_partials": [],
       "_set_node_channels": true,
       "_view_count": null,
       "_view_module": null,
       "_view_module_version": "",
       "_view_name": null,
       "_volume": "IPY_MODEL_e6e147ac0c0244ca9bc6a15bf12e5616",
       "_width": "IPY_MODEL_548b3e96fe81463cb4f547e873dbd284",
       "array": null,
       "array_length": 1024,
       "channel_count": 2,
       "channel_count_mode": "max",
       "channel_interpretation": "speakers",
       "count": 3,
       "modulation_type": "square",
       "mute": false,
       "name": "",
       "phase": 0,
       "spread": 20,
       "sync_array": false,
       "type": "triangle"
      }
     },
     "c2f7de2df29d4eaaa7df7b87b10df777": {
      "model_module": "ipytone",
      "model_module_version": "^0.4.1",
      "model_name": "NativeAudioParamModel",
      "state": {
       "_model_module": "ipytone",
       "_model_module_version": "^0.4.1",
       "_model_name": "NativeAudioParamModel",
       "_view_count": null,
       "_view_module": null,
       "_view_module_version": "",
       "_view_name": null,
       "type": ""
      }
     },
     "ca8da58a6af4416796fbfd97a25fc5a7": {
      "model_module": "ipytone",
      "model_module_version": "^0.4.1",
      "model_name": "NativeAudioNodeModel",
      "state": {
       "_model_module": "ipytone",
       "_model_module_version": "^0.4.1",
       "_model_name": "NativeAudioNodeModel",
       "_n_inputs": 1,
       "_n_outputs": 1,
       "_view_count": null,
       "_view_module": null,
       "_view_module_version": "",
       "_view_name": null,
       "type": "GainNode"
      }
     },
     "cba992911c9e47ab99f47906d3a25fdb": {
      "model_module": "ipytone",
      "model_module_version": "^0.4.1",
      "model_name": "NativeAudioNodeModel",
      "state": {
       "_model_module": "ipytone",
       "_model_module_version": "^0.4.1",
       "_model_name": "NativeAudioNodeModel",
       "_n_inputs": 1,
       "_n_outputs": 1,
       "_view_count": null,
       "_view_module": null,
       "_view_module_version": "",
       "_view_name": null,
       "type": "GainNode"
      }
     },
     "d0e2923404344a11ae67634dd37b50a8": {
      "model_module": "ipytone",
      "model_module_version": "^0.4.1",
      "model_name": "GainModel",
      "state": {
       "_create_node": false,
       "_disposed": true,
       "_gain": "IPY_MODEL_8fde573458b74bd59da75ab572f3b85a",
       "_input": "IPY_MODEL_fb0a57d168654a3d965f7f854343654e",
       "_model_module": "ipytone",
       "_model_module_version": "^0.4.1",
       "_model_name": "GainModel",
       "_output": "IPY_MODEL_fb0a57d168654a3d965f7f854343654e",
       "_set_node_channels": true,
       "_view_count": null,
       "_view_module": null,
       "_view_module_version": "",
       "_view_name": null,
       "channel_count": 2,
       "channel_count_mode": "max",
       "channel_interpretation": "speakers",
       "name": ""
      }
     },
     "d19252d901bf4970b5edefca0b523e73": {
      "model_module": "ipytone",
      "model_module_version": "^0.4.1",
      "model_name": "MonophonicModel",
      "state": {
       "_after_init": "this.getNode('oscillator').onstop = () => this.onsilence(this);this.getNode('oscillator').chain(this.getNode('envelope'), this.output);",
       "_create_node": true,
       "_disposed": true,
       "_get_level_at_time": "time = this.toSeconds(time);return this.getNode('envelope').getValueAtTime(time);",
       "_input": null,
       "_internal_nodes": {
        "envelope": "IPY_MODEL_70d0d8d75b2b4655b27274b660fa3d8e",
        "oscillator": "IPY_MODEL_bdfdc5949dba407598a64996075ebb6e"
       },
       "_model_module": "ipytone",
       "_model_module_version": "^0.4.1",
       "_model_name": "MonophonicModel",
       "_output": "IPY_MODEL_8c38e67824af4946aead5ac9d122bdd6",
       "_set_node_channels": true,
       "_set_note": "",
       "_settings": {
        "envelope": [
         "attack",
         "decay",
         "sustain",
         "release"
        ],
        "oscillator": [
         "type"
        ]
       },
       "_trigger_attack": "const envelope = this.getNode('envelope');const oscillator = this.getNode('oscillator');envelope.triggerAttack(time, velocity);oscillator.start(time);if (envelope.sustain === 0) {    const computedAttack = this.toSeconds(envelope.attack);    const computedDecay = this.toSeconds(envelope.decay);    oscillator.stop(time + computedAttack + computedDecay);}",
       "_trigger_release": "const envelope = this.getNode('envelope');const oscillator = this.getNode('oscillator');envelope.triggerRelease(time);oscillator.stop(time + this.toSeconds(envelope.release));",
       "_view_count": null,
       "_view_module": null,
       "_view_module_version": "",
       "_view_name": null,
       "channel_count": 2,
       "channel_count_mode": "max",
       "channel_interpretation": "speakers",
       "name": "",
       "portamento": 0
      }
     },
     "d4b62435548047419a918070aa37cff5": {
      "model_module": "ipytone",
      "model_module_version": "^0.4.1",
      "model_name": "NativeAudioNodeModel",
      "state": {
       "_model_module": "ipytone",
       "_model_module_version": "^0.4.1",
       "_model_name": "NativeAudioNodeModel",
       "_n_inputs": 1,
       "_n_outputs": 1,
       "_view_count": null,
       "_view_module": null,
       "_view_module_version": "",
       "_view_name": null,
       "type": "GainNode"
      }
     },
     "d4e590084777476bab1f9357c5210e21": {
      "model_module": "ipytone",
      "model_module_version": "^0.4.1",
      "model_name": "VolumeModel",
      "state": {
       "_create_node": false,
       "_disposed": true,
       "_input": "IPY_MODEL_87cc9da0bf14442e8befc7e8b334159f",
       "_model_module": "ipytone",
       "_model_module_version": "^0.4.1",
       "_model_name": "VolumeModel",
       "_output": "IPY_MODEL_87cc9da0bf14442e8befc7e8b334159f",
       "_set_node_channels": true,
       "_view_count": null,
       "_view_module": null,
       "_view_module_version": "",
       "_view_name": null,
       "_volume": "IPY_MODEL_e6e147ac0c0244ca9bc6a15bf12e5616",
       "channel_count": 2,
       "channel_count_mode": "max",
       "channel_interpretation": "speakers",
       "mute": false,
       "name": ""
      }
     },
     "d7692e6aa1c04636a02eb3c747cf708d": {
      "model_module": "ipytone",
      "model_module_version": "^0.4.1",
      "model_name": "GainModel",
      "state": {
       "_create_node": false,
       "_disposed": false,
       "_gain": "IPY_MODEL_f42dbd709dc24508abed05bfa4023c9a",
       "_input": "IPY_MODEL_d4b62435548047419a918070aa37cff5",
       "_model_module": "ipytone",
       "_model_module_version": "^0.4.1",
       "_model_name": "GainModel",
       "_output": "IPY_MODEL_d4b62435548047419a918070aa37cff5",
       "_set_node_channels": true,
       "_view_count": null,
       "_view_module": null,
       "_view_module_version": "",
       "_view_name": null,
       "channel_count": 2,
       "channel_count_mode": "max",
       "channel_interpretation": "speakers",
       "name": ""
      }
     },
     "e6e147ac0c0244ca9bc6a15bf12e5616": {
      "model_module": "ipytone",
      "model_module_version": "^0.4.1",
      "model_name": "ParamModel",
      "state": {
       "_create_node": false,
       "_disposed": true,
       "_input": "IPY_MODEL_c2f7de2df29d4eaaa7df7b87b10df777",
       "_max_value": null,
       "_min_value": null,
       "_model_module": "ipytone",
       "_model_module_version": "^0.4.1",
       "_model_name": "ParamModel",
       "_swappable": false,
       "_units": "decibels",
       "_view_count": null,
       "_view_module": null,
       "_view_module_version": "",
       "_view_name": null,
       "convert": true,
       "name": "",
       "overridden": false,
       "value": 0
      }
     },
     "e76eb67b140347e3838e86bea707dc6f": {
      "model_module": "ipytone",
      "model_module_version": "^0.4.1",
      "model_name": "TransportModel",
      "state": {
       "_bpm": "IPY_MODEL_1d0a10aa76184f2e9daf3f51d1a91185",
       "_disposed": false,
       "_model_module": "ipytone",
       "_model_module_version": "^0.4.1",
       "_model_name": "TransportModel",
       "_view_count": null,
       "_view_module": null,
       "_view_module_version": "",
       "_view_name": null,
       "loop": true,
       "loop_end": "8:0:0",
       "loop_start": "4:0:0",
       "position": 0,
       "progress": 0,
       "seconds": 0,
       "swing": 0,
       "swing_subdivision": "8n",
       "ticks": 0,
       "time_signature": 4
      }
     },
     "eb08571b1e6d472f9419837b70206686": {
      "model_module": "ipytone",
      "model_module_version": "^0.4.1",
      "model_name": "NativeAudioParamModel",
      "state": {
       "_model_module": "ipytone",
       "_model_module_version": "^0.4.1",
       "_model_name": "NativeAudioParamModel",
       "_view_count": null,
       "_view_module": null,
       "_view_module_version": "",
       "_view_name": null,
       "type": ""
      }
     },
     "f42dbd709dc24508abed05bfa4023c9a": {
      "model_module": "ipytone",
      "model_module_version": "^0.4.1",
      "model_name": "ParamModel",
      "state": {
       "_create_node": false,
       "_disposed": false,
       "_input": "IPY_MODEL_489c7612783443869dcefa8aa5342f72",
       "_max_value": null,
       "_min_value": null,
       "_model_module": "ipytone",
       "_model_module_version": "^0.4.1",
       "_model_name": "ParamModel",
       "_swappable": false,
       "_units": "gain",
       "_view_count": null,
       "_view_module": null,
       "_view_module_version": "",
       "_view_name": null,
       "convert": true,
       "name": "",
       "overridden": false,
       "value": 1
      }
     },
     "f9186d53e1d84e6eb2b07b8a73b0a383": {
      "model_module": "ipytone",
      "model_module_version": "^0.4.1",
      "model_name": "GainModel",
      "state": {
       "_create_node": false,
       "_disposed": false,
       "_gain": "IPY_MODEL_39a15191be224cd488414208a6bd14b2",
       "_input": "IPY_MODEL_a242d85b931b4507a590dcf072e14fa3",
       "_model_module": "ipytone",
       "_model_module_version": "^0.4.1",
       "_model_name": "GainModel",
       "_output": "IPY_MODEL_a242d85b931b4507a590dcf072e14fa3",
       "_set_node_channels": true,
       "_view_count": null,
       "_view_module": null,
       "_view_module_version": "",
       "_view_name": null,
       "channel_count": 2,
       "channel_count_mode": "max",
       "channel_interpretation": "speakers",
       "name": ""
      }
     },
     "faae981d621448d8862788d6945df7c0": {
      "model_module": "ipytone",
      "model_module_version": "^0.4.1",
      "model_name": "GainModel",
      "state": {
       "_create_node": false,
       "_disposed": false,
       "_gain": "IPY_MODEL_0fedbd81534143a09f503db501b981b2",
       "_input": "IPY_MODEL_ca8da58a6af4416796fbfd97a25fc5a7",
       "_model_module": "ipytone",
       "_model_module_version": "^0.4.1",
       "_model_name": "GainModel",
       "_output": "IPY_MODEL_ca8da58a6af4416796fbfd97a25fc5a7",
       "_set_node_channels": true,
       "_view_count": null,
       "_view_module": null,
       "_view_module_version": "",
       "_view_name": null,
       "channel_count": 2,
       "channel_count_mode": "max",
       "channel_interpretation": "speakers",
       "name": ""
      }
     },
     "fb0a57d168654a3d965f7f854343654e": {
      "model_module": "ipytone",
      "model_module_version": "^0.4.1",
      "model_name": "NativeAudioNodeModel",
      "state": {
       "_model_module": "ipytone",
       "_model_module_version": "^0.4.1",
       "_model_name": "NativeAudioNodeModel",
       "_n_inputs": 1,
       "_n_outputs": 1,
       "_view_count": null,
       "_view_module": null,
       "_view_module_version": "",
       "_view_name": null,
       "type": "GainNode"
      }
     }
    },
    "version_major": 2,
    "version_minor": 0
   }
  }
 },
 "nbformat": 4,
 "nbformat_minor": 5
}