{
 "cells": [
  {
   "cell_type": "markdown",
   "id": "8a75b928",
   "metadata": {
    "pycharm": {
     "name": "#%% md\n"
    }
   },
   "source": [
    "# Getting Started\n",
    "\n",
    "\n",
    "In this tutorial, we'll see how to:\n",
    "\n",
    "- generate and shape sounds by creating audio nodes and connecting them together\n",
    "- control audio node attributes or parameters with Python code\n",
    "- link audio node attributes or parameters with other widgets\n"
   ]
  },
  {
   "cell_type": "code",
   "execution_count": 1,
   "id": "5eabeaf9",
   "metadata": {
    "pycharm": {
     "name": "#%%\n"
    }
   },
   "outputs": [],
   "source": [
    "import ipytone as t"
   ]
  },
  {
   "cell_type": "markdown",
   "id": "2f74bb2d",
   "metadata": {
    "pycharm": {
     "name": "#%% md\n"
    }
   },
   "source": [
    "First, let's create a simple oscillator (i.e., a source audio node that\n",
    "generates an audio signal using a basic waveform)."
   ]
  },
  {
   "cell_type": "code",
   "execution_count": 23,
   "id": "d356d84e",
   "metadata": {
    "pycharm": {
     "name": "#%%\n"
    }
   },
   "outputs": [],
   "source": [
    "osc = t.Oscillator(volume=-5)"
   ]
  },
  {
   "cell_type": "markdown",
   "id": "e67927f7",
   "metadata": {
    "pycharm": {
     "name": "#%% md\n"
    }
   },
   "source": [
    "Like every other ipytone widget, an `Oscillator` has no visible output."
   ]
  },
  {
   "cell_type": "code",
   "execution_count": 3,
   "id": "49206bac",
   "metadata": {
    "pycharm": {
     "name": "#%%\n"
    }
   },
   "outputs": [
    {
     "data": {
      "text/plain": [
       "Oscillator()"
      ]
     },
     "execution_count": 3,
     "metadata": {},
     "output_type": "execute_result"
    }
   ],
   "source": [
    "osc"
   ]
  },
  {
   "cell_type": "markdown",
   "id": "ef9fe628",
   "metadata": {
    "pycharm": {
     "name": "#%% md\n"
    },
    "tags": []
   },
   "source": [
    "## Audio nodes\n",
    "\n",
    "Like many other audio processing software, Tone.js and ipytone are built around\n",
    "the concept of audio nodes. These consist of logical audio processing units that\n",
    "can be connected to each other via their input / output anchors, letting the\n",
    "audio signal flow from source nodes to the destination node (i.e., the\n",
    "\"speakers\").\n",
    "\n",
    "Ipytone audio nodes input / output may be accessed via their `input` / `output`\n",
    "properties, which each either return another audio node object or `None`. For\n",
    "example, an `Oscillator` has no input (source node) and has a\n",
    "`Volume` node as output:"
   ]
  },
  {
   "cell_type": "code",
   "execution_count": 7,
   "id": "2c4b3585",
   "metadata": {
    "pycharm": {
     "name": "#%%\n"
    }
   },
   "outputs": [
    {
     "name": "stdout",
     "output_type": "stream",
     "text": [
      "oscillator has no input\n"
     ]
    }
   ],
   "source": [
    "if osc.input is None:\n",
    "    print('oscillator has no input')"
   ]
  },
  {
   "cell_type": "code",
   "execution_count": 8,
   "id": "75a41216",
   "metadata": {
    "pycharm": {
     "name": "#%%\n"
    }
   },
   "outputs": [
    {
     "data": {
      "text/plain": [
       "Volume(volume=Param(value=-5.0, units='decibels'), mute=False)"
      ]
     },
     "execution_count": 8,
     "metadata": {},
     "output_type": "execute_result"
    }
   ],
   "source": [
    "osc.output"
   ]
  },
  {
   "cell_type": "markdown",
   "id": "a9ef01bb",
   "metadata": {
    "pycharm": {
     "name": "#%% md\n"
    }
   },
   "source": [
    "### Connecting audio nodes\n",
    "\n",
    "The `Oscillator` object created above won't make any sound until\n",
    "it is connected to the destination. To connect it directly to the destination,\n",
    "you can use the `connect` method like below or the more convenient\n",
    "`to_destination` method.\n",
    "\n",
    "Style note: \n",
    "\n",
    "- in javascript, the default is camelCase (each time we start a word, we put a capital letter)\n",
    "- in python instead, we use underscores to separate words"
   ]
  },
  {
   "cell_type": "code",
   "execution_count": 19,
   "id": "fbc35d60",
   "metadata": {
    "pycharm": {
     "name": "#%%\n"
    }
   },
   "outputs": [
    {
     "data": {
      "text/plain": [
       "Oscillator(disposed=True)"
      ]
     },
     "execution_count": 19,
     "metadata": {},
     "output_type": "execute_result"
    }
   ],
   "source": [
    "# connects the oscillator (output) to the destination (input)\n",
    "osc.connect(t.destination)"
   ]
  },
  {
   "cell_type": "markdown",
   "id": "be37fbfc",
   "metadata": {
    "pycharm": {
     "name": "#%% md\n"
    }
   },
   "source": [
    "Note that the oscillator still won't make any sound. You need to start / stop it\n",
    "explicitly (all source nodes have `start` and `stop` methods):"
   ]
  },
  {
   "cell_type": "code",
   "execution_count": 13,
   "id": "0f97a506",
   "metadata": {
    "pycharm": {
     "name": "#%%\n"
    }
   },
   "outputs": [
    {
     "data": {
      "text/plain": [
       "Oscillator()"
      ]
     },
     "execution_count": 13,
     "metadata": {},
     "output_type": "execute_result"
    }
   ],
   "source": [
    "osc.start()"
   ]
  },
  {
   "cell_type": "code",
   "execution_count": 15,
   "id": "9654a3f8",
   "metadata": {
    "pycharm": {
     "name": "#%%\n"
    }
   },
   "outputs": [
    {
     "data": {
      "text/plain": [
       "Oscillator()"
      ]
     },
     "execution_count": 15,
     "metadata": {},
     "output_type": "execute_result"
    }
   ],
   "source": [
    "osc.stop()"
   ]
  },
  {
   "cell_type": "markdown",
   "id": "541653b1",
   "metadata": {
    "pycharm": {
     "name": "#%% md\n"
    }
   },
   "source": [
    "To disconnect the oscillator from the destination, you can use `disconnect`:"
   ]
  },
  {
   "cell_type": "code",
   "execution_count": 12,
   "id": "d613ec19",
   "metadata": {
    "pycharm": {
     "name": "#%%\n"
    }
   },
   "outputs": [
    {
     "data": {
      "text/plain": [
       "Oscillator()"
      ]
     },
     "execution_count": 12,
     "metadata": {},
     "output_type": "execute_result"
    }
   ],
   "source": [
    "osc.disconnect(t.destination)"
   ]
  },
  {
   "cell_type": "code",
   "execution_count": 16,
   "id": "915199a2",
   "metadata": {},
   "outputs": [
    {
     "data": {
      "text/plain": [
       "Oscillator(disposed=True)"
      ]
     },
     "execution_count": 16,
     "metadata": {},
     "output_type": "execute_result"
    }
   ],
   "source": [
    "osc.dispose()"
   ]
  },
  {
   "cell_type": "markdown",
   "id": "7c7c3678",
   "metadata": {
    "pycharm": {
     "name": "#%% md\n"
    }
   },
   "source": [
    "More advanced connections are possible. In addition to `connect`, the `chain`\n",
    "and `fan` convenience methods can be used to make multiple connections at once\n",
    "(resp. in serial and in parallel).\n",
    "\n",
    "An example with a `Filter` node inserted between the oscillator\n",
    "and the destination:"
   ]
  },
  {
   "cell_type": "code",
   "execution_count": 18,
   "id": "634ff7b2",
   "metadata": {
    "pycharm": {
     "name": "#%%\n"
    }
   },
   "outputs": [],
   "source": [
    "filtr = t.Filter(type=\"highpass\", frequency=1000)"
   ]
  },
  {
   "cell_type": "code",
   "execution_count": 24,
   "id": "cf361850",
   "metadata": {
    "pycharm": {
     "name": "#%%\n"
    }
   },
   "outputs": [
    {
     "data": {
      "text/plain": [
       "Oscillator()"
      ]
     },
     "execution_count": 24,
     "metadata": {},
     "output_type": "execute_result"
    }
   ],
   "source": [
    "# connects in chain oscillator -> filter -> destination\n",
    "osc.chain(filtr, t.destination)"
   ]
  },
  {
   "cell_type": "markdown",
   "id": "823d3136",
   "metadata": {
    "pycharm": {
     "name": "#%% md\n"
    }
   },
   "source": [
    "### Method chaining\n",
    "\n",
    "Most audio node methods return the node object itself, which allows chaining\n",
    "them for convenience, e.g.,"
   ]
  },
  {
   "cell_type": "code",
   "execution_count": 27,
   "id": "ca062166",
   "metadata": {
    "pycharm": {
     "name": "#%%\n"
    }
   },
   "outputs": [
    {
     "data": {
      "text/plain": [
       "Oscillator()"
      ]
     },
     "execution_count": 27,
     "metadata": {},
     "output_type": "execute_result"
    }
   ],
   "source": [
    "# start the oscillator now and stop it after 1 second\n",
    "osc.start().stop(\"+0.5\")"
   ]
  },
  {
   "cell_type": "markdown",
   "id": "012b3eb7",
   "metadata": {
    "pycharm": {
     "name": "#%% md\n"
    }
   },
   "source": [
    "## Audio node controls\n",
    "\n",
    "An ipytone audio node may have several properties that are synchronized with the\n",
    "front-end and that can be used for a fine-grained control on the generated or\n",
    "processed audio.\n",
    "\n",
    "The value of those properties generally corresponds to either:\n",
    "\n",
    "- a \"simple\" value of `int`, `float` or `str`, etc. basic type\n",
    "\n",
    "- an instance of `Param` or `Signal`, which\n",
    "  holds some metadata in addition to the actual value (e.g., units) and provides\n",
    "  convenient methods that can be used to schedule value changes (see below)."
   ]
  },
  {
   "cell_type": "markdown",
   "id": "aa33085a",
   "metadata": {
    "pycharm": {
     "name": "#%% md\n"
    }
   },
   "source": [
    "### Basic node properties\n",
    "\n",
    "Basic audio node property values can be read/written directly with Python.\n",
    "\n",
    "An example with the oscillator `type` (i.e., its waveform shape):"
   ]
  },
  {
   "cell_type": "code",
   "execution_count": 28,
   "id": "c369ffcb",
   "metadata": {
    "pycharm": {
     "name": "#%%\n"
    }
   },
   "outputs": [
    {
     "data": {
      "text/plain": [
       "'sine'"
      ]
     },
     "execution_count": 28,
     "metadata": {},
     "output_type": "execute_result"
    }
   ],
   "source": [
    "osc.type"
   ]
  },
  {
   "cell_type": "code",
   "execution_count": 29,
   "id": "92ca1ff0",
   "metadata": {
    "pycharm": {
     "name": "#%%\n"
    }
   },
   "outputs": [
    {
     "data": {
      "text/plain": [
       "Oscillator()"
      ]
     },
     "execution_count": 29,
     "metadata": {},
     "output_type": "execute_result"
    }
   ],
   "source": [
    "osc.type = \"triangle\"\n",
    "\n",
    "osc.start().stop(\"+1\")"
   ]
  },
  {
   "cell_type": "markdown",
   "id": "2771fa86",
   "metadata": {
    "pycharm": {
     "name": "#%% md\n"
    }
   },
   "source": [
    "### Param and Signal\n",
    "\n",
    "When an audio node property is a `Param` or\n",
    "`Signal` instance, the actual value can be read / written via\n",
    "the `value` property of that instance.\n",
    "\n",
    "An example with the oscillator `frequency`:"
   ]
  },
  {
   "cell_type": "code",
   "execution_count": 17,
   "id": "8f2b1831",
   "metadata": {
    "pycharm": {
     "name": "#%%\n"
    }
   },
   "outputs": [
    {
     "data": {
      "text/plain": [
       "Signal(value=440.0, units='frequency')"
      ]
     },
     "execution_count": 17,
     "metadata": {},
     "output_type": "execute_result"
    }
   ],
   "source": [
    "osc.frequency"
   ]
  },
  {
   "cell_type": "code",
   "execution_count": 18,
   "id": "5295835c",
   "metadata": {
    "pycharm": {
     "name": "#%%\n"
    }
   },
   "outputs": [
    {
     "data": {
      "text/plain": [
       "440.0"
      ]
     },
     "execution_count": 18,
     "metadata": {},
     "output_type": "execute_result"
    }
   ],
   "source": [
    "osc.frequency.value"
   ]
  },
  {
   "cell_type": "code",
   "execution_count": 30,
   "id": "e411f9c2",
   "metadata": {
    "pycharm": {
     "name": "#%%\n"
    }
   },
   "outputs": [
    {
     "data": {
      "text/plain": [
       "Oscillator()"
      ]
     },
     "execution_count": 30,
     "metadata": {},
     "output_type": "execute_result"
    }
   ],
   "source": [
    "osc.frequency.value = 800\n",
    "\n",
    "osc.start().stop(\"+1\")"
   ]
  },
  {
   "cell_type": "markdown",
   "id": "eeb94609",
   "metadata": {
    "pycharm": {
     "name": "#%% md\n"
    }
   },
   "source": [
    "### Controlling audio nodes with Python\n",
    "\n",
    "#### \"Pure-Python\" example\n",
    "\n",
    "In the example below the frequency of the oscillator is gradually increased by\n",
    "directly setting the frequency value within a Python function."
   ]
  },
  {
   "cell_type": "code",
   "execution_count": 31,
   "id": "e237782a",
   "metadata": {
    "pycharm": {
     "name": "#%%\n"
    }
   },
   "outputs": [],
   "source": [
    "import time\n",
    "\n",
    "\n",
    "def linear_ramp_to(value, ramp_time):\n",
    "    \n",
    "    n = 100\n",
    "    \n",
    "    time_step = ramp_time / n\n",
    "    \n",
    "    freq_step = (value - osc.frequency.value) / n\n",
    "    \n",
    "    for i in range(n):\n",
    "        \n",
    "        time.sleep(time_step)\n",
    "        \n",
    "        osc.frequency.value += freq_step"
   ]
  },
  {
   "cell_type": "code",
   "execution_count": 32,
   "id": "7371549a",
   "metadata": {
    "pycharm": {
     "name": "#%%\n"
    }
   },
   "outputs": [
    {
     "data": {
      "text/plain": [
       "Oscillator()"
      ]
     },
     "execution_count": 32,
     "metadata": {},
     "output_type": "execute_result"
    }
   ],
   "source": [
    "osc.frequency.value = 440\n",
    "\n",
    "osc.start()\n",
    "\n",
    "linear_ramp_to(800, 3)\n",
    "\n",
    "osc.stop()"
   ]
  },
  {
   "cell_type": "markdown",
   "id": "53bbc565",
   "metadata": {
    "pycharm": {
     "name": "#%% md\n"
    }
   },
   "source": [
    "Although it is working, this solution is not optimal:\n",
    "\n",
    "- the Python interpreter is blocked while the frequency of the oscillator is\n",
    "  updated (although there might be ways to make it non-blocking)\n",
    "\n",
    "- the actual frequency update steps in the front-end may not happen at an\n",
    "  \"audio-friendly\" accuracy (slow data transfer between the Python kernel and\n",
    "  the front-end can make things even worse)"
   ]
  },
  {
   "cell_type": "markdown",
   "id": "0ec2a0a8",
   "metadata": {
    "pycharm": {
     "name": "#%% md\n"
    }
   },
   "source": [
    "#### Using ipytone (Tone.js) scheduling\n",
    "\n",
    "The same effect than in the example above can be achieved with ipytone method calls. \n",
    "\n",
    "Those calls send a few messages in the front-end, which are then processed\n",
    "right-away to schedule a few events at specific times (via Tone.js and\n",
    "utlimately via the Web Audio API). This approach overcomes the limitations of\n",
    "the \"pure-Python\" solution above (i.e., non-blocking and more accurate\n",
    "scheduling)."
   ]
  },
  {
   "cell_type": "code",
   "execution_count": 33,
   "id": "659f566a",
   "metadata": {
    "pycharm": {
     "name": "#%%\n"
    }
   },
   "outputs": [
    {
     "data": {
      "text/plain": [
       "Signal(value=440.0, units='frequency')"
      ]
     },
     "execution_count": 33,
     "metadata": {},
     "output_type": "execute_result"
    }
   ],
   "source": [
    "osc.frequency.value = 440\n",
    "osc.start().stop(\"+3\")\n",
    "osc.frequency.linear_ramp_to(800, 3)\n",
    "osc.frequency.set_value_at_time(440, \"+3\")"
   ]
  },
  {
   "cell_type": "markdown",
   "id": "8056a48b",
   "metadata": {
    "pycharm": {
     "name": "#%% md\n"
    }
   },
   "source": [
    "\n",
    "> When triggered in the front-end, scheduled events will not update and/or\n",
    "synchronize the `value` property of a `Param` or\n",
    "`Signal` in Python. This property thus won't always\n",
    "return the current, actual value.\n",
    "\n",
    "Ipytone provides other ways to track value updates from Python. See the\n",
    "[Synchronizing Audio State](synchronizing) tutorial.\n",
    "```\n",
    "\n",
    "### Controling audio nodes with (ipy)widgets\n",
    "\n",
    "Ipytone audio nodes are widgets and can thus be integrated with other widgets\n",
    "for more interactive control, e.g., via widget events (i.e., `observe`, `link`,\n",
    "`jslink`).\n",
    "\n",
    "Here is a basic example with a few UI widgets to control the oscillator type,\n",
    "frequency and playback state."
   ]
  },
  {
   "cell_type": "code",
   "execution_count": 34,
   "id": "258b534e",
   "metadata": {
    "pycharm": {
     "name": "#%%\n"
    }
   },
   "outputs": [
    {
     "data": {
      "application/vnd.jupyter.widget-view+json": {
       "model_id": "203f2140e0c1487f964389c2dee772ed",
       "version_major": 2,
       "version_minor": 0
      },
      "text/plain": [
       "VBox(children=(FloatSlider(value=440.0, max=1000.0, min=100.0, step=1.0), Dropdown(options=('sine', 'square', …"
      ]
     },
     "execution_count": 34,
     "metadata": {},
     "output_type": "execute_result"
    }
   ],
   "source": [
    "import ipywidgets\n",
    "\n",
    "freq_slider = ipywidgets.FloatSlider(\n",
    "    value=440,\n",
    "    min=100,\n",
    "    max=1000,\n",
    "    step=1,\n",
    ")\n",
    "\n",
    "type_dropdown = ipywidgets.Dropdown(\n",
    "    options=['sine', 'square', 'sawtooth', 'triangle'],\n",
    "    value='sine',\n",
    ")\n",
    "\n",
    "toggle_play_button = ipywidgets.ToggleButton(\n",
    "    value=False,\n",
    "    description=\"Start/Stop\"\n",
    ")\n",
    "\n",
    "\n",
    "ipywidgets.jslink((freq_slider, 'value'), (osc.frequency, 'value'))\n",
    "\n",
    "ipywidgets.link((type_dropdown, 'value'), (osc, 'type'))\n",
    "\n",
    "\n",
    "def start_stop_osc(change):\n",
    "    if change['new']:\n",
    "        osc.start()\n",
    "    else:\n",
    "        osc.stop()\n",
    "\n",
    "toggle_play_button.observe(start_stop_osc, names='value')\n",
    "\n",
    "ipywidgets.VBox([freq_slider, type_dropdown, toggle_play_button])"
   ]
  },
  {
   "cell_type": "markdown",
   "id": "4e64c25f",
   "metadata": {
    "pycharm": {
     "name": "#%% md\n"
    }
   },
   "source": [
    "## Dispose audio nodes\n",
    "\n",
    "If audio nodes are not used anymore, it is recommended to dispose it. Disposing a\n",
    "node instance means that all of its underlying Web Audio nodes are disconnected\n",
    "and freed for garbage collection in the front-end."
   ]
  },
  {
   "cell_type": "code",
   "execution_count": 35,
   "id": "3d78be70",
   "metadata": {
    "pycharm": {
     "name": "#%%\n"
    }
   },
   "outputs": [
    {
     "data": {
      "text/plain": [
       "Oscillator(disposed=True)"
      ]
     },
     "execution_count": 35,
     "metadata": {},
     "output_type": "execute_result"
    }
   ],
   "source": [
    "osc.dispose()"
   ]
  },
  {
   "cell_type": "code",
   "execution_count": 36,
   "id": "b092f580",
   "metadata": {
    "pycharm": {
     "name": "#%%\n"
    }
   },
   "outputs": [
    {
     "data": {
      "text/plain": [
       "True"
      ]
     },
     "execution_count": 36,
     "metadata": {},
     "output_type": "execute_result"
    }
   ],
   "source": [
    "osc.disposed"
   ]
  },
  {
   "cell_type": "code",
   "execution_count": 37,
   "id": "0225c310",
   "metadata": {
    "pycharm": {
     "name": "#%%\n"
    }
   },
   "outputs": [
    {
     "data": {
      "text/plain": [
       "Filter(disposed=True, type='highpass', frequency=Signal(disposed=True, value=1000.0, units='frequency'), q=Signal(disposed=True, value=1.0, units='positive'))"
      ]
     },
     "execution_count": 37,
     "metadata": {},
     "output_type": "execute_result"
    }
   ],
   "source": [
    "filtr.dispose()"
   ]
  },
  {
   "cell_type": "markdown",
   "id": "0da5700f",
   "metadata": {
    "pycharm": {
     "name": "#%% md\n"
    }
   },
   "source": [
    "### Note:\n",
    "\n",
    "> When the `close()` method of an ipytone node widget is called, the node is\n",
    "automatically disposed."
   ]
  }
 ],
 "metadata": {
  "jupytext": {
   "text_representation": {
    "extension": ".md",
    "format_name": "myst",
    "format_version": 0.13,
    "jupytext_version": "1.13.8"
   }
  },
  "kernelspec": {
   "display_name": "MyNewVenv",
   "language": "python",
   "name": "mynewvenv"
  },
  "language_info": {
   "codemirror_mode": {
    "name": "ipython",
    "version": 3
   },
   "file_extension": ".py",
   "mimetype": "text/x-python",
   "name": "python",
   "nbconvert_exporter": "python",
   "pygments_lexer": "ipython3",
   "version": "3.9.10"
  },
  "source_map": [
   12,
   29,
   31,
   36,
   38,
   42,
   46,
   61,
   65,
   67,
   76,
   79,
   84,
   88,
   90,
   94,
   96,
   105,
   109,
   112,
   119,
   122,
   138,
   146,
   150,
   154,
   164,
   168,
   172,
   176,
   185,
   197,
   203,
   214,
   226,
   231,
   252,
   284,
   292,
   296,
   300,
   302
  ],
  "widgets": {
   "application/vnd.jupyter.widget-state+json": {
    "state": {
     "0ee3085dd23742ecb6935ed0de2638c9": {
      "model_module": "ipytone",
      "model_module_version": "^0.4.1",
      "model_name": "SignalModel",
      "state": {
       "_create_node": false,
       "_disposed": true,
       "_input": "IPY_MODEL_7b5e919a7eaf4c689a1075c8462ee420",
       "_model_module": "ipytone",
       "_model_module_version": "^0.4.1",
       "_model_name": "SignalModel",
       "_output": "IPY_MODEL_fd29270946b440159a0ca1ab0be4c1ed",
       "_override": true,
       "_set_node_channels": true,
       "_view_count": null,
       "_view_module": null,
       "_view_module_version": "",
       "_view_name": null,
       "channel_count": 2,
       "channel_count_mode": "max",
       "channel_interpretation": "speakers",
       "name": "",
       "value": 0
      }
     },
     "1070aa7db62b4976bcfe9e5c738fa316": {
      "model_module": "ipytone",
      "model_module_version": "^0.4.1",
      "model_name": "NativeAudioParamModel",
      "state": {
       "_model_module": "ipytone",
       "_model_module_version": "^0.4.1",
       "_model_name": "NativeAudioParamModel",
       "_view_count": null,
       "_view_module": null,
       "_view_module_version": "",
       "_view_name": null,
       "type": ""
      }
     },
     "12559b83dfe842728ea04aaf8ade4116": {
      "model_module": "ipytone",
      "model_module_version": "^0.4.1",
      "model_name": "ParamModel",
      "state": {
       "_create_node": false,
       "_disposed": false,
       "_input": "IPY_MODEL_907cf90e7c594226a1210ec5f39f5e13",
       "_max_value": null,
       "_min_value": null,
       "_model_module": "ipytone",
       "_model_module_version": "^0.4.1",
       "_model_name": "ParamModel",
       "_swappable": false,
       "_units": "bpm",
       "_view_count": null,
       "_view_module": null,
       "_view_module_version": "",
       "_view_name": null,
       "convert": true,
       "name": "",
       "overridden": false,
       "value": 120
      }
     },
     "1785d8e508384dd88854f9fde9322801": {
      "model_module": "ipytone",
      "model_module_version": "^0.4.1",
      "model_name": "ParamModel",
      "state": {
       "_create_node": false,
       "_disposed": true,
       "_input": "IPY_MODEL_4221dec780b84543a8355a301d90b192",
       "_max_value": null,
       "_min_value": null,
       "_model_module": "ipytone",
       "_model_module_version": "^0.4.1",
       "_model_name": "ParamModel",
       "_swappable": false,
       "_units": "decibels",
       "_view_count": null,
       "_view_module": null,
       "_view_module_version": "",
       "_view_name": null,
       "convert": true,
       "name": "",
       "overridden": false,
       "value": -5
      }
     },
     "2548049cc2c64b60816c9b6c66de3ec8": {
      "model_module": "ipytone",
      "model_module_version": "^0.4.1",
      "model_name": "NativeAudioNodeModel",
      "state": {
       "_model_module": "ipytone",
       "_model_module_version": "^0.4.1",
       "_model_name": "NativeAudioNodeModel",
       "_n_inputs": 1,
       "_n_outputs": 1,
       "_view_count": null,
       "_view_module": null,
       "_view_module_version": "",
       "_view_name": null,
       "type": "GainNode"
      }
     },
     "2833b6f7f53644fa93c32cd39c193cad": {
      "model_module": "ipytone",
      "model_module_version": "^0.4.1",
      "model_name": "NativeAudioParamModel",
      "state": {
       "_model_module": "ipytone",
       "_model_module_version": "^0.4.1",
       "_model_name": "NativeAudioParamModel",
       "_view_count": null,
       "_view_module": null,
       "_view_module_version": "",
       "_view_name": null,
       "type": ""
      }
     },
     "2935929af7724fe59f9e84f498df489c": {
      "model_module": "ipytone",
      "model_module_version": "^0.4.1",
      "model_name": "NativeAudioParamModel",
      "state": {
       "_model_module": "ipytone",
       "_model_module_version": "^0.4.1",
       "_model_name": "NativeAudioParamModel",
       "_view_count": null,
       "_view_module": null,
       "_view_module_version": "",
       "_view_name": null,
       "type": ""
      }
     },
     "2a9a1e6a6fdb4cc4ad76b08a2cade902": {
      "model_module": "ipytone",
      "model_module_version": "^0.4.1",
      "model_name": "NativeAudioNodeModel",
      "state": {
       "_model_module": "ipytone",
       "_model_module_version": "^0.4.1",
       "_model_name": "NativeAudioNodeModel",
       "_n_inputs": 1,
       "_n_outputs": 1,
       "_view_count": null,
       "_view_module": null,
       "_view_module_version": "",
       "_view_name": null,
       "type": "GainNode"
      }
     },
     "3554e83a75e3450a9825aba1fc44db34": {
      "model_module": "ipytone",
      "model_module_version": "^0.4.1",
      "model_name": "NativeAudioNodeModel",
      "state": {
       "_model_module": "ipytone",
       "_model_module_version": "^0.4.1",
       "_model_name": "NativeAudioNodeModel",
       "_n_inputs": 1,
       "_n_outputs": 1,
       "_view_count": null,
       "_view_module": null,
       "_view_module_version": "",
       "_view_name": null,
       "type": "GainNode"
      }
     },
     "3665d3cf0aa5478084bd73c0f409f31b": {
      "model_module": "ipytone",
      "model_module_version": "^0.4.1",
      "model_name": "InternalAudioNodeModel",
      "state": {
       "_create_node": false,
       "_disposed": true,
       "_input": null,
       "_model_module": "ipytone",
       "_model_module_version": "^0.4.1",
       "_model_name": "InternalAudioNodeModel",
       "_n_inputs": 1,
       "_n_outputs": 1,
       "_output": null,
       "_set_node_channels": true,
       "_view_count": null,
       "_view_module": null,
       "_view_module_version": "",
       "_view_name": null,
       "channel_count": 2,
       "channel_count_mode": "max",
       "channel_interpretation": "speakers",
       "name": "",
       "type": "ToneConstantSource"
      }
     },
     "373fd58ab91344f3ab7b01b8db107aa0": {
      "model_module": "@jupyter-widgets/controls",
      "model_module_version": "1.5.0",
      "model_name": "DescriptionStyleModel",
      "state": {
       "_model_module": "@jupyter-widgets/controls",
       "_model_module_version": "1.5.0",
       "_model_name": "DescriptionStyleModel",
       "_view_count": null,
       "_view_module": "@jupyter-widgets/base",
       "_view_module_version": "1.2.0",
       "_view_name": "StyleView",
       "description_width": ""
      }
     },
     "38c63895dc794cf6ad982c6963c36799": {
      "model_module": "ipytone",
      "model_module_version": "^0.4.1",
      "model_name": "GainModel",
      "state": {
       "_create_node": false,
       "_disposed": false,
       "_gain": "IPY_MODEL_daca603dadad4830beee006636e35ded",
       "_input": "IPY_MODEL_4b14a80512a1494299b7c5b7c68a1f46",
       "_model_module": "ipytone",
       "_model_module_version": "^0.4.1",
       "_model_name": "GainModel",
       "_output": "IPY_MODEL_4b14a80512a1494299b7c5b7c68a1f46",
       "_set_node_channels": true,
       "_view_count": null,
       "_view_module": null,
       "_view_module_version": "",
       "_view_name": null,
       "channel_count": 2,
       "channel_count_mode": "max",
       "channel_interpretation": "speakers",
       "name": ""
      }
     },
     "38e277e4923148ffa3160fbab058c112": {
      "model_module": "ipytone",
      "model_module_version": "^0.4.1",
      "model_name": "GainModel",
      "state": {
       "_create_node": false,
       "_disposed": false,
       "_gain": "IPY_MODEL_991fc6d190d842099df98abeb4795054",
       "_input": "IPY_MODEL_50da8d54427445fba246b204f07503f7",
       "_model_module": "ipytone",
       "_model_module_version": "^0.4.1",
       "_model_name": "GainModel",
       "_output": "IPY_MODEL_50da8d54427445fba246b204f07503f7",
       "_set_node_channels": true,
       "_view_count": null,
       "_view_module": null,
       "_view_module_version": "",
       "_view_name": null,
       "channel_count": 2,
       "channel_count_mode": "max",
       "channel_interpretation": "speakers",
       "name": ""
      }
     },
     "4221dec780b84543a8355a301d90b192": {
      "model_module": "ipytone",
      "model_module_version": "^0.4.1",
      "model_name": "NativeAudioParamModel",
      "state": {
       "_model_module": "ipytone",
       "_model_module_version": "^0.4.1",
       "_model_name": "NativeAudioParamModel",
       "_view_count": null,
       "_view_module": null,
       "_view_module_version": "",
       "_view_name": null,
       "type": ""
      }
     },
     "435ec79ee82f462a8ca6cc94e0bb5fe8": {
      "model_module": "ipytone",
      "model_module_version": "^0.4.1",
      "model_name": "InternalAudioNodeModel",
      "state": {
       "_create_node": false,
       "_disposed": true,
       "_input": null,
       "_model_module": "ipytone",
       "_model_module_version": "^0.4.1",
       "_model_name": "InternalAudioNodeModel",
       "_n_inputs": 1,
       "_n_outputs": 1,
       "_output": null,
       "_set_node_channels": true,
       "_view_count": null,
       "_view_module": null,
       "_view_module_version": "",
       "_view_name": null,
       "channel_count": 2,
       "channel_count_mode": "max",
       "channel_interpretation": "speakers",
       "name": "",
       "type": "ToneConstantSource"
      }
     },
     "49bdf43f1217421b893a535341e25485": {
      "model_module": "@jupyter-widgets/controls",
      "model_module_version": "1.5.0",
      "model_name": "VBoxModel",
      "state": {
       "_dom_classes": [],
       "_model_module": "@jupyter-widgets/controls",
       "_model_module_version": "1.5.0",
       "_model_name": "VBoxModel",
       "_view_count": null,
       "_view_module": "@jupyter-widgets/controls",
       "_view_module_version": "1.5.0",
       "_view_name": "VBoxView",
       "box_style": "",
       "children": [
        "IPY_MODEL_5e06251f4f9f4c1b88bd22ffcf4fb972",
        "IPY_MODEL_87399dd62c5e4001b7ab8df6e461c3a1",
        "IPY_MODEL_7c4da6f4202e4e76818eff946242b27d"
       ],
       "layout": "IPY_MODEL_a4007dd4e08d4895bfced41f1ebbb5ef"
      }
     },
     "4b14a80512a1494299b7c5b7c68a1f46": {
      "model_module": "ipytone",
      "model_module_version": "^0.4.1",
      "model_name": "NativeAudioNodeModel",
      "state": {
       "_model_module": "ipytone",
       "_model_module_version": "^0.4.1",
       "_model_name": "NativeAudioNodeModel",
       "_n_inputs": 1,
       "_n_outputs": 1,
       "_view_count": null,
       "_view_module": null,
       "_view_module_version": "",
       "_view_name": null,
       "type": "GainNode"
      }
     },
     "50da8d54427445fba246b204f07503f7": {
      "model_module": "ipytone",
      "model_module_version": "^0.4.1",
      "model_name": "NativeAudioNodeModel",
      "state": {
       "_model_module": "ipytone",
       "_model_module_version": "^0.4.1",
       "_model_name": "NativeAudioNodeModel",
       "_n_inputs": 1,
       "_n_outputs": 1,
       "_view_count": null,
       "_view_module": null,
       "_view_module_version": "",
       "_view_name": null,
       "type": "GainNode"
      }
     },
     "566519a8445641d88f8f5511f74d6402": {
      "model_module": "ipytone",
      "model_module_version": "^0.4.1",
      "model_name": "NativeAudioParamModel",
      "state": {
       "_model_module": "ipytone",
       "_model_module_version": "^0.4.1",
       "_model_name": "NativeAudioParamModel",
       "_view_count": null,
       "_view_module": null,
       "_view_module_version": "",
       "_view_name": null,
       "type": ""
      }
     },
     "58be0f63a6364e77826352fed7aceeae": {
      "model_module": "ipytone",
      "model_module_version": "^0.4.1",
      "model_name": "ParamModel",
      "state": {
       "_create_node": false,
       "_disposed": true,
       "_input": "IPY_MODEL_ef429355ca4c4fc4894b11d68ce3c838",
       "_max_value": null,
       "_min_value": null,
       "_model_module": "ipytone",
       "_model_module_version": "^0.4.1",
       "_model_name": "ParamModel",
       "_swappable": false,
       "_units": "gain",
       "_view_count": null,
       "_view_module": null,
       "_view_module_version": "",
       "_view_name": null,
       "convert": true,
       "name": "",
       "overridden": false,
       "value": 1
      }
     },
     "5a561b4436c944ad8e297ac27171ef74": {
      "model_module": "ipytone",
      "model_module_version": "^0.4.1",
      "model_name": "SignalModel",
      "state": {
       "_create_node": false,
       "_disposed": true,
       "_input": "IPY_MODEL_adea77bb1f6b46dc9d8e5c604549ed25",
       "_model_module": "ipytone",
       "_model_module_version": "^0.4.1",
       "_model_name": "SignalModel",
       "_output": "IPY_MODEL_435ec79ee82f462a8ca6cc94e0bb5fe8",
       "_override": true,
       "_set_node_channels": true,
       "_view_count": null,
       "_view_module": null,
       "_view_module_version": "",
       "_view_name": null,
       "channel_count": 2,
       "channel_count_mode": "max",
       "channel_interpretation": "speakers",
       "name": "",
       "value": 440
      }
     },
     "5e06251f4f9f4c1b88bd22ffcf4fb972": {
      "model_module": "@jupyter-widgets/controls",
      "model_module_version": "1.5.0",
      "model_name": "FloatSliderModel",
      "state": {
       "_dom_classes": [],
       "_model_module": "@jupyter-widgets/controls",
       "_model_module_version": "1.5.0",
       "_model_name": "FloatSliderModel",
       "_view_count": null,
       "_view_module": "@jupyter-widgets/controls",
       "_view_module_version": "1.5.0",
       "_view_name": "FloatSliderView",
       "continuous_update": true,
       "description": "",
       "description_tooltip": null,
       "disabled": false,
       "layout": "IPY_MODEL_7aa1c4e1c6c847bb9cf1c263e5cbeff7",
       "max": 1000,
       "min": 100,
       "orientation": "horizontal",
       "readout": true,
       "readout_format": ".2f",
       "step": 1,
       "style": "IPY_MODEL_b55c2f5c533346ac8356109187288b13",
       "value": 440
      }
     },
     "5e3dce956b434a06b5d18d41296c38e8": {
      "model_module": "ipytone",
      "model_module_version": "^0.4.1",
      "model_name": "SignalModel",
      "state": {
       "_create_node": false,
       "_disposed": true,
       "_input": "IPY_MODEL_c5bcff033fa64c87b61be60de9a1148e",
       "_model_module": "ipytone",
       "_model_module_version": "^0.4.1",
       "_model_name": "SignalModel",
       "_output": "IPY_MODEL_3665d3cf0aa5478084bd73c0f409f31b",
       "_override": true,
       "_set_node_channels": true,
       "_view_count": null,
       "_view_module": null,
       "_view_module_version": "",
       "_view_name": null,
       "channel_count": 2,
       "channel_count_mode": "max",
       "channel_interpretation": "speakers",
       "name": "",
       "value": 0
      }
     },
     "63715180450f444691121f52d636cb21": {
      "model_module": "ipytone",
      "model_module_version": "^0.4.1",
      "model_name": "ParamModel",
      "state": {
       "_create_node": false,
       "_disposed": true,
       "_input": "IPY_MODEL_2833b6f7f53644fa93c32cd39c193cad",
       "_max_value": null,
       "_min_value": null,
       "_model_module": "ipytone",
       "_model_module_version": "^0.4.1",
       "_model_name": "ParamModel",
       "_swappable": false,
       "_units": "gain",
       "_view_count": null,
       "_view_module": null,
       "_view_module_version": "",
       "_view_name": null,
       "convert": true,
       "name": "",
       "overridden": false,
       "value": 1
      }
     },
     "690dd07548224348b33c8f942abd7437": {
      "model_module": "ipytone",
      "model_module_version": "^0.4.1",
      "model_name": "NativeAudioParamModel",
      "state": {
       "_model_module": "ipytone",
       "_model_module_version": "^0.4.1",
       "_model_name": "NativeAudioParamModel",
       "_view_count": null,
       "_view_module": null,
       "_view_module_version": "",
       "_view_name": null,
       "type": ""
      }
     },
     "70befa01c1154d01957c520357e85040": {
      "model_module": "ipytone",
      "model_module_version": "^0.4.1",
      "model_name": "InternalAudioNodeModel",
      "state": {
       "_create_node": false,
       "_disposed": true,
       "_input": null,
       "_model_module": "ipytone",
       "_model_module_version": "^0.4.1",
       "_model_name": "InternalAudioNodeModel",
       "_n_inputs": 1,
       "_n_outputs": 1,
       "_output": null,
       "_set_node_channels": true,
       "_view_count": null,
       "_view_module": null,
       "_view_module_version": "",
       "_view_name": null,
       "channel_count": 2,
       "channel_count_mode": "max",
       "channel_interpretation": "speakers",
       "name": "",
       "type": "ToneConstantSource"
      }
     },
     "75ff86ed873d432fbef4c7fb32540538": {
      "model_module": "ipytone",
      "model_module_version": "^0.4.1",
      "model_name": "NativeAudioParamModel",
      "state": {
       "_model_module": "ipytone",
       "_model_module_version": "^0.4.1",
       "_model_name": "NativeAudioParamModel",
       "_view_count": null,
       "_view_module": null,
       "_view_module_version": "",
       "_view_name": null,
       "type": ""
      }
     },
     "778187442cee44f695c5cdc3617b2f64": {
      "model_module": "@jupyter-widgets/base",
      "model_module_version": "1.2.0",
      "model_name": "LayoutModel",
      "state": {
       "_model_module": "@jupyter-widgets/base",
       "_model_module_version": "1.2.0",
       "_model_name": "LayoutModel",
       "_view_count": null,
       "_view_module": "@jupyter-widgets/base",
       "_view_module_version": "1.2.0",
       "_view_name": "LayoutView",
       "align_content": null,
       "align_items": null,
       "align_self": null,
       "border": null,
       "bottom": null,
       "display": null,
       "flex": null,
       "flex_flow": null,
       "grid_area": null,
       "grid_auto_columns": null,
       "grid_auto_flow": null,
       "grid_auto_rows": null,
       "grid_column": null,
       "grid_gap": null,
       "grid_row": null,
       "grid_template_areas": null,
       "grid_template_columns": null,
       "grid_template_rows": null,
       "height": null,
       "justify_content": null,
       "justify_items": null,
       "left": null,
       "margin": null,
       "max_height": null,
       "max_width": null,
       "min_height": null,
       "min_width": null,
       "object_fit": null,
       "object_position": null,
       "order": null,
       "overflow": null,
       "overflow_x": null,
       "overflow_y": null,
       "padding": null,
       "right": null,
       "top": null,
       "visibility": null,
       "width": null
      }
     },
     "7aa1c4e1c6c847bb9cf1c263e5cbeff7": {
      "model_module": "@jupyter-widgets/base",
      "model_module_version": "1.2.0",
      "model_name": "LayoutModel",
      "state": {
       "_model_module": "@jupyter-widgets/base",
       "_model_module_version": "1.2.0",
       "_model_name": "LayoutModel",
       "_view_count": null,
       "_view_module": "@jupyter-widgets/base",
       "_view_module_version": "1.2.0",
       "_view_name": "LayoutView",
       "align_content": null,
       "align_items": null,
       "align_self": null,
       "border": null,
       "bottom": null,
       "display": null,
       "flex": null,
       "flex_flow": null,
       "grid_area": null,
       "grid_auto_columns": null,
       "grid_auto_flow": null,
       "grid_auto_rows": null,
       "grid_column": null,
       "grid_gap": null,
       "grid_row": null,
       "grid_template_areas": null,
       "grid_template_columns": null,
       "grid_template_rows": null,
       "height": null,
       "justify_content": null,
       "justify_items": null,
       "left": null,
       "margin": null,
       "max_height": null,
       "max_width": null,
       "min_height": null,
       "min_width": null,
       "object_fit": null,
       "object_position": null,
       "order": null,
       "overflow": null,
       "overflow_x": null,
       "overflow_y": null,
       "padding": null,
       "right": null,
       "top": null,
       "visibility": null,
       "width": null
      }
     },
     "7b5e919a7eaf4c689a1075c8462ee420": {
      "model_module": "ipytone",
      "model_module_version": "^0.4.1",
      "model_name": "ParamModel",
      "state": {
       "_create_node": false,
       "_disposed": true,
       "_input": "IPY_MODEL_75ff86ed873d432fbef4c7fb32540538",
       "_max_value": null,
       "_min_value": null,
       "_model_module": "ipytone",
       "_model_module_version": "^0.4.1",
       "_model_name": "ParamModel",
       "_swappable": false,
       "_units": "cents",
       "_view_count": null,
       "_view_module": null,
       "_view_module_version": "",
       "_view_name": null,
       "convert": true,
       "name": "",
       "overridden": false,
       "value": 0
      }
     },
     "7c4da6f4202e4e76818eff946242b27d": {
      "model_module": "@jupyter-widgets/controls",
      "model_module_version": "1.5.0",
      "model_name": "ToggleButtonModel",
      "state": {
       "_dom_classes": [],
       "_model_module": "@jupyter-widgets/controls",
       "_model_module_version": "1.5.0",
       "_model_name": "ToggleButtonModel",
       "_view_count": null,
       "_view_module": "@jupyter-widgets/controls",
       "_view_module_version": "1.5.0",
       "_view_name": "ToggleButtonView",
       "button_style": "",
       "description": "Start/Stop",
       "description_tooltip": null,
       "disabled": false,
       "icon": "",
       "layout": "IPY_MODEL_778187442cee44f695c5cdc3617b2f64",
       "style": "IPY_MODEL_bdea269109e7475585b03e25d045c531",
       "tooltip": "",
       "value": false
      }
     },
     "85ecd12c93b442b0b1e8ef343dc9a687": {
      "model_module": "ipytone",
      "model_module_version": "^0.4.1",
      "model_name": "VolumeModel",
      "state": {
       "_create_node": false,
       "_disposed": false,
       "_input": "IPY_MODEL_38e277e4923148ffa3160fbab058c112",
       "_model_module": "ipytone",
       "_model_module_version": "^0.4.1",
       "_model_name": "VolumeModel",
       "_output": "IPY_MODEL_38e277e4923148ffa3160fbab058c112",
       "_set_node_channels": true,
       "_view_count": null,
       "_view_module": null,
       "_view_module_version": "",
       "_view_name": null,
       "_volume": "IPY_MODEL_991fc6d190d842099df98abeb4795054",
       "channel_count": 2,
       "channel_count_mode": "max",
       "channel_interpretation": "speakers",
       "mute": false,
       "name": ""
      }
     },
     "87399dd62c5e4001b7ab8df6e461c3a1": {
      "model_module": "@jupyter-widgets/controls",
      "model_module_version": "1.5.0",
      "model_name": "DropdownModel",
      "state": {
       "_dom_classes": [],
       "_model_module": "@jupyter-widgets/controls",
       "_model_module_version": "1.5.0",
       "_model_name": "DropdownModel",
       "_options_labels": [
        "sine",
        "square",
        "sawtooth",
        "triangle"
       ],
       "_view_count": null,
       "_view_module": "@jupyter-widgets/controls",
       "_view_module_version": "1.5.0",
       "_view_name": "DropdownView",
       "description": "",
       "description_tooltip": null,
       "disabled": false,
       "index": 0,
       "layout": "IPY_MODEL_aa3fd1e2de4e4f7da4c1486631cc2ab3",
       "style": "IPY_MODEL_373fd58ab91344f3ab7b01b8db107aa0"
      }
     },
     "87ecbe3c214f48889f6da2d236d63fb0": {
      "model_module": "ipytone",
      "model_module_version": "^0.4.1",
      "model_name": "ParamModel",
      "state": {
       "_create_node": false,
       "_disposed": true,
       "_input": "IPY_MODEL_1070aa7db62b4976bcfe9e5c738fa316",
       "_max_value": null,
       "_min_value": null,
       "_model_module": "ipytone",
       "_model_module_version": "^0.4.1",
       "_model_name": "ParamModel",
       "_swappable": false,
       "_units": "decibels",
       "_view_count": null,
       "_view_module": null,
       "_view_module_version": "",
       "_view_name": null,
       "convert": true,
       "name": "",
       "overridden": false,
       "value": 0
      }
     },
     "8df8ed5595b24ba4a8c2fd651692c2a5": {
      "model_module": "ipytone",
      "model_module_version": "^0.4.1",
      "model_name": "DestinationModel",
      "state": {
       "_create_node": true,
       "_disposed": false,
       "_input": "IPY_MODEL_85ecd12c93b442b0b1e8ef343dc9a687",
       "_model_module": "ipytone",
       "_model_module_version": "^0.4.1",
       "_model_name": "DestinationModel",
       "_output": "IPY_MODEL_38c63895dc794cf6ad982c6963c36799",
       "_set_node_channels": true,
       "_view_count": null,
       "_view_module": null,
       "_view_module_version": "",
       "_view_name": null,
       "_volume": "IPY_MODEL_991fc6d190d842099df98abeb4795054",
       "channel_count": 2,
       "channel_count_mode": "max",
       "channel_interpretation": "speakers",
       "mute": false,
       "name": "main output"
      }
     },
     "9015ae8d398349b2a4a675191eb2022b": {
      "model_module": "ipytone",
      "model_module_version": "^0.4.1",
      "model_name": "SignalModel",
      "state": {
       "_create_node": false,
       "_disposed": true,
       "_input": "IPY_MODEL_87ecbe3c214f48889f6da2d236d63fb0",
       "_model_module": "ipytone",
       "_model_module_version": "^0.4.1",
       "_model_name": "SignalModel",
       "_output": "IPY_MODEL_e98e47557cd54b77862b811092499651",
       "_override": true,
       "_set_node_channels": true,
       "_view_count": null,
       "_view_module": null,
       "_view_module_version": "",
       "_view_name": null,
       "channel_count": 2,
       "channel_count_mode": "max",
       "channel_interpretation": "speakers",
       "name": "",
       "value": 0
      }
     },
     "907cf90e7c594226a1210ec5f39f5e13": {
      "model_module": "ipytone",
      "model_module_version": "^0.4.1",
      "model_name": "NativeAudioParamModel",
      "state": {
       "_model_module": "ipytone",
       "_model_module_version": "^0.4.1",
       "_model_name": "NativeAudioParamModel",
       "_view_count": null,
       "_view_module": null,
       "_view_module_version": "",
       "_view_name": null,
       "type": ""
      }
     },
     "96623102bab74c67a01d7e0a3dc6ca9a": {
      "model_module": "ipytone",
      "model_module_version": "^0.4.1",
      "model_name": "OscillatorModel",
      "state": {
       "_create_node": true,
       "_detune": "IPY_MODEL_0ee3085dd23742ecb6935ed0de2638c9",
       "_disposed": true,
       "_frequency": "IPY_MODEL_5a561b4436c944ad8e297ac27171ef74",
       "_input": null,
       "_model_module": "ipytone",
       "_model_module_version": "^0.4.1",
       "_model_name": "OscillatorModel",
       "_output": "IPY_MODEL_cacc51d237f24bc08a2b50df3cde2f04",
       "_partials": [],
       "_set_node_channels": true,
       "_view_count": null,
       "_view_module": null,
       "_view_module_version": "",
       "_view_name": null,
       "_volume": "IPY_MODEL_1785d8e508384dd88854f9fde9322801",
       "array": null,
       "array_length": 1024,
       "channel_count": 2,
       "channel_count_mode": "max",
       "channel_interpretation": "speakers",
       "mute": false,
       "name": "",
       "phase": 0,
       "sync_array": false,
       "type": "sine"
      }
     },
     "9789833386bc4baf8dae509fa7c8c885": {
      "model_module": "ipytone",
      "model_module_version": "^0.4.1",
      "model_name": "InternalAudioNodeModel",
      "state": {
       "_create_node": false,
       "_disposed": true,
       "_input": null,
       "_model_module": "ipytone",
       "_model_module_version": "^0.4.1",
       "_model_name": "InternalAudioNodeModel",
       "_n_inputs": 1,
       "_n_outputs": 1,
       "_output": null,
       "_set_node_channels": true,
       "_view_count": null,
       "_view_module": null,
       "_view_module_version": "",
       "_view_name": null,
       "channel_count": 2,
       "channel_count_mode": "max",
       "channel_interpretation": "speakers",
       "name": "",
       "type": "ToneConstantSource"
      }
     },
     "991fc6d190d842099df98abeb4795054": {
      "model_module": "ipytone",
      "model_module_version": "^0.4.1",
      "model_name": "ParamModel",
      "state": {
       "_create_node": false,
       "_disposed": false,
       "_input": "IPY_MODEL_f8093872b1094ca9ac57e2017df53fbb",
       "_max_value": null,
       "_min_value": null,
       "_model_module": "ipytone",
       "_model_module_version": "^0.4.1",
       "_model_name": "ParamModel",
       "_swappable": false,
       "_units": "decibels",
       "_view_count": null,
       "_view_module": null,
       "_view_module_version": "",
       "_view_name": null,
       "convert": true,
       "name": "",
       "overridden": false,
       "value": 0
      }
     },
     "9a1b5dba08b6401da3503df3409ac4b8": {
      "model_module": "ipytone",
      "model_module_version": "^0.4.1",
      "model_name": "FilterModel",
      "state": {
       "_create_node": true,
       "_detune": "IPY_MODEL_5e3dce956b434a06b5d18d41296c38e8",
       "_disposed": true,
       "_frequency": "IPY_MODEL_eeeb5249b8b84d84ab7fa1b108e238a9",
       "_gain": "IPY_MODEL_9015ae8d398349b2a4a675191eb2022b",
       "_input": "IPY_MODEL_cc6ee89a931744d0b1876a06f6bf68c0",
       "_model_module": "ipytone",
       "_model_module_version": "^0.4.1",
       "_model_name": "FilterModel",
       "_output": "IPY_MODEL_cf5601b0b5bf43159ebd00ce9d9bb4ae",
       "_q": "IPY_MODEL_ba6d132a135c43ac895687f7791f7af2",
       "_set_node_channels": true,
       "_view_count": null,
       "_view_module": null,
       "_view_module_version": "",
       "_view_name": null,
       "array": null,
       "array_length": 128,
       "channel_count": 2,
       "channel_count_mode": "max",
       "channel_interpretation": "speakers",
       "name": "",
       "rolloff": -12,
       "sync_array": false,
       "type": "highpass"
      }
     },
     "9d500c63ada94142bfa80f86a7d5544c": {
      "model_module": "ipytone",
      "model_module_version": "^0.4.1",
      "model_name": "NativeAudioParamModel",
      "state": {
       "_model_module": "ipytone",
       "_model_module_version": "^0.4.1",
       "_model_name": "NativeAudioParamModel",
       "_view_count": null,
       "_view_module": null,
       "_view_module_version": "",
       "_view_name": null,
       "type": ""
      }
     },
     "a4007dd4e08d4895bfced41f1ebbb5ef": {
      "model_module": "@jupyter-widgets/base",
      "model_module_version": "1.2.0",
      "model_name": "LayoutModel",
      "state": {
       "_model_module": "@jupyter-widgets/base",
       "_model_module_version": "1.2.0",
       "_model_name": "LayoutModel",
       "_view_count": null,
       "_view_module": "@jupyter-widgets/base",
       "_view_module_version": "1.2.0",
       "_view_name": "LayoutView",
       "align_content": null,
       "align_items": null,
       "align_self": null,
       "border": null,
       "bottom": null,
       "display": null,
       "flex": null,
       "flex_flow": null,
       "grid_area": null,
       "grid_auto_columns": null,
       "grid_auto_flow": null,
       "grid_auto_rows": null,
       "grid_column": null,
       "grid_gap": null,
       "grid_row": null,
       "grid_template_areas": null,
       "grid_template_columns": null,
       "grid_template_rows": null,
       "height": null,
       "justify_content": null,
       "justify_items": null,
       "left": null,
       "margin": null,
       "max_height": null,
       "max_width": null,
       "min_height": null,
       "min_width": null,
       "object_fit": null,
       "object_position": null,
       "order": null,
       "overflow": null,
       "overflow_x": null,
       "overflow_y": null,
       "padding": null,
       "right": null,
       "top": null,
       "visibility": null,
       "width": null
      }
     },
     "a70002b0edfc47f3921b05cc71929a51": {
      "model_module": "@jupyter-widgets/controls",
      "model_module_version": "1.5.0",
      "model_name": "LinkModel",
      "state": {
       "_model_module": "@jupyter-widgets/controls",
       "_model_module_version": "1.5.0",
       "_model_name": "LinkModel",
       "_view_count": null,
       "_view_module": "@jupyter-widgets/controls",
       "_view_module_version": "1.5.0",
       "_view_name": null,
       "source": [
        "IPY_MODEL_5e06251f4f9f4c1b88bd22ffcf4fb972",
        "value"
       ],
       "target": [
        "IPY_MODEL_5a561b4436c944ad8e297ac27171ef74",
        "value"
       ]
      }
     },
     "a818b4d8b7fd422592be9d10f0c99728": {
      "model_module": "ipytone",
      "model_module_version": "^0.4.1",
      "model_name": "TransportModel",
      "state": {
       "_bpm": "IPY_MODEL_12559b83dfe842728ea04aaf8ade4116",
       "_disposed": false,
       "_model_module": "ipytone",
       "_model_module_version": "^0.4.1",
       "_model_name": "TransportModel",
       "_view_count": null,
       "_view_module": null,
       "_view_module_version": "",
       "_view_name": null,
       "loop": false,
       "loop_end": "4m",
       "loop_start": 0,
       "position": 0,
       "progress": 0,
       "seconds": 0,
       "swing": 0,
       "swing_subdivision": "8n",
       "ticks": 0,
       "time_signature": 4
      }
     },
     "aa3fd1e2de4e4f7da4c1486631cc2ab3": {
      "model_module": "@jupyter-widgets/base",
      "model_module_version": "1.2.0",
      "model_name": "LayoutModel",
      "state": {
       "_model_module": "@jupyter-widgets/base",
       "_model_module_version": "1.2.0",
       "_model_name": "LayoutModel",
       "_view_count": null,
       "_view_module": "@jupyter-widgets/base",
       "_view_module_version": "1.2.0",
       "_view_name": "LayoutView",
       "align_content": null,
       "align_items": null,
       "align_self": null,
       "border": null,
       "bottom": null,
       "display": null,
       "flex": null,
       "flex_flow": null,
       "grid_area": null,
       "grid_auto_columns": null,
       "grid_auto_flow": null,
       "grid_auto_rows": null,
       "grid_column": null,
       "grid_gap": null,
       "grid_row": null,
       "grid_template_areas": null,
       "grid_template_columns": null,
       "grid_template_rows": null,
       "height": null,
       "justify_content": null,
       "justify_items": null,
       "left": null,
       "margin": null,
       "max_height": null,
       "max_width": null,
       "min_height": null,
       "min_width": null,
       "object_fit": null,
       "object_position": null,
       "order": null,
       "overflow": null,
       "overflow_x": null,
       "overflow_y": null,
       "padding": null,
       "right": null,
       "top": null,
       "visibility": null,
       "width": null
      }
     },
     "adea77bb1f6b46dc9d8e5c604549ed25": {
      "model_module": "ipytone",
      "model_module_version": "^0.4.1",
      "model_name": "ParamModel",
      "state": {
       "_create_node": false,
       "_disposed": true,
       "_input": "IPY_MODEL_2935929af7724fe59f9e84f498df489c",
       "_max_value": null,
       "_min_value": null,
       "_model_module": "ipytone",
       "_model_module_version": "^0.4.1",
       "_model_name": "ParamModel",
       "_swappable": false,
       "_units": "frequency",
       "_view_count": null,
       "_view_module": null,
       "_view_module_version": "",
       "_view_name": null,
       "convert": true,
       "name": "",
       "overridden": false,
       "value": 440
      }
     },
     "b1dd481d91394239b8a9cfe6e6e338b6": {
      "model_module": "ipytone",
      "model_module_version": "^0.4.1",
      "model_name": "NativeAudioParamModel",
      "state": {
       "_model_module": "ipytone",
       "_model_module_version": "^0.4.1",
       "_model_name": "NativeAudioParamModel",
       "_view_count": null,
       "_view_module": null,
       "_view_module_version": "",
       "_view_name": null,
       "type": ""
      }
     },
     "b55c2f5c533346ac8356109187288b13": {
      "model_module": "@jupyter-widgets/controls",
      "model_module_version": "1.5.0",
      "model_name": "SliderStyleModel",
      "state": {
       "_model_module": "@jupyter-widgets/controls",
       "_model_module_version": "1.5.0",
       "_model_name": "SliderStyleModel",
       "_view_count": null,
       "_view_module": "@jupyter-widgets/base",
       "_view_module_version": "1.2.0",
       "_view_name": "StyleView",
       "description_width": "",
       "handle_color": null
      }
     },
     "ba6d132a135c43ac895687f7791f7af2": {
      "model_module": "ipytone",
      "model_module_version": "^0.4.1",
      "model_name": "SignalModel",
      "state": {
       "_create_node": false,
       "_disposed": true,
       "_input": "IPY_MODEL_c15edac322634981afa675b11fe5cf97",
       "_model_module": "ipytone",
       "_model_module_version": "^0.4.1",
       "_model_name": "SignalModel",
       "_output": "IPY_MODEL_70befa01c1154d01957c520357e85040",
       "_override": true,
       "_set_node_channels": true,
       "_view_count": null,
       "_view_module": null,
       "_view_module_version": "",
       "_view_name": null,
       "channel_count": 2,
       "channel_count_mode": "max",
       "channel_interpretation": "speakers",
       "name": "",
       "value": 1
      }
     },
     "bdea269109e7475585b03e25d045c531": {
      "model_module": "@jupyter-widgets/controls",
      "model_module_version": "1.5.0",
      "model_name": "DescriptionStyleModel",
      "state": {
       "_model_module": "@jupyter-widgets/controls",
       "_model_module_version": "1.5.0",
       "_model_name": "DescriptionStyleModel",
       "_view_count": null,
       "_view_module": "@jupyter-widgets/base",
       "_view_module_version": "1.2.0",
       "_view_name": "StyleView",
       "description_width": ""
      }
     },
     "c15edac322634981afa675b11fe5cf97": {
      "model_module": "ipytone",
      "model_module_version": "^0.4.1",
      "model_name": "ParamModel",
      "state": {
       "_create_node": false,
       "_disposed": true,
       "_input": "IPY_MODEL_566519a8445641d88f8f5511f74d6402",
       "_max_value": null,
       "_min_value": null,
       "_model_module": "ipytone",
       "_model_module_version": "^0.4.1",
       "_model_name": "ParamModel",
       "_swappable": false,
       "_units": "positive",
       "_view_count": null,
       "_view_module": null,
       "_view_module_version": "",
       "_view_name": null,
       "convert": true,
       "name": "",
       "overridden": false,
       "value": 1
      }
     },
     "c5bcff033fa64c87b61be60de9a1148e": {
      "model_module": "ipytone",
      "model_module_version": "^0.4.1",
      "model_name": "ParamModel",
      "state": {
       "_create_node": false,
       "_disposed": true,
       "_input": "IPY_MODEL_690dd07548224348b33c8f942abd7437",
       "_max_value": null,
       "_min_value": null,
       "_model_module": "ipytone",
       "_model_module_version": "^0.4.1",
       "_model_name": "ParamModel",
       "_swappable": false,
       "_units": "cents",
       "_view_count": null,
       "_view_module": null,
       "_view_module_version": "",
       "_view_name": null,
       "convert": true,
       "name": "",
       "overridden": false,
       "value": 0
      }
     },
     "cacc51d237f24bc08a2b50df3cde2f04": {
      "model_module": "ipytone",
      "model_module_version": "^0.4.1",
      "model_name": "VolumeModel",
      "state": {
       "_create_node": false,
       "_disposed": true,
       "_input": "IPY_MODEL_fed219fff0004ac18629f4c4db37b06b",
       "_model_module": "ipytone",
       "_model_module_version": "^0.4.1",
       "_model_name": "VolumeModel",
       "_output": "IPY_MODEL_fed219fff0004ac18629f4c4db37b06b",
       "_set_node_channels": true,
       "_view_count": null,
       "_view_module": null,
       "_view_module_version": "",
       "_view_name": null,
       "_volume": "IPY_MODEL_1785d8e508384dd88854f9fde9322801",
       "channel_count": 2,
       "channel_count_mode": "max",
       "channel_interpretation": "speakers",
       "mute": false,
       "name": ""
      }
     },
     "cc6ee89a931744d0b1876a06f6bf68c0": {
      "model_module": "ipytone",
      "model_module_version": "^0.4.1",
      "model_name": "GainModel",
      "state": {
       "_create_node": false,
       "_disposed": true,
       "_gain": "IPY_MODEL_58be0f63a6364e77826352fed7aceeae",
       "_input": "IPY_MODEL_3554e83a75e3450a9825aba1fc44db34",
       "_model_module": "ipytone",
       "_model_module_version": "^0.4.1",
       "_model_name": "GainModel",
       "_output": "IPY_MODEL_3554e83a75e3450a9825aba1fc44db34",
       "_set_node_channels": true,
       "_view_count": null,
       "_view_module": null,
       "_view_module_version": "",
       "_view_name": null,
       "channel_count": 2,
       "channel_count_mode": "max",
       "channel_interpretation": "speakers",
       "name": ""
      }
     },
     "cf5601b0b5bf43159ebd00ce9d9bb4ae": {
      "model_module": "ipytone",
      "model_module_version": "^0.4.1",
      "model_name": "GainModel",
      "state": {
       "_create_node": false,
       "_disposed": true,
       "_gain": "IPY_MODEL_63715180450f444691121f52d636cb21",
       "_input": "IPY_MODEL_2a9a1e6a6fdb4cc4ad76b08a2cade902",
       "_model_module": "ipytone",
       "_model_module_version": "^0.4.1",
       "_model_name": "GainModel",
       "_output": "IPY_MODEL_2a9a1e6a6fdb4cc4ad76b08a2cade902",
       "_set_node_channels": true,
       "_view_count": null,
       "_view_module": null,
       "_view_module_version": "",
       "_view_name": null,
       "channel_count": 2,
       "channel_count_mode": "max",
       "channel_interpretation": "speakers",
       "name": ""
      }
     },
     "daca603dadad4830beee006636e35ded": {
      "model_module": "ipytone",
      "model_module_version": "^0.4.1",
      "model_name": "ParamModel",
      "state": {
       "_create_node": false,
       "_disposed": false,
       "_input": "IPY_MODEL_b1dd481d91394239b8a9cfe6e6e338b6",
       "_max_value": null,
       "_min_value": null,
       "_model_module": "ipytone",
       "_model_module_version": "^0.4.1",
       "_model_name": "ParamModel",
       "_swappable": false,
       "_units": "gain",
       "_view_count": null,
       "_view_module": null,
       "_view_module_version": "",
       "_view_name": null,
       "convert": true,
       "name": "",
       "overridden": false,
       "value": 1
      }
     },
     "e1a62544ed334c128075df3457f4659b": {
      "model_module": "ipytone",
      "model_module_version": "^0.4.1",
      "model_name": "ParamModel",
      "state": {
       "_create_node": false,
       "_disposed": true,
       "_input": "IPY_MODEL_9d500c63ada94142bfa80f86a7d5544c",
       "_max_value": null,
       "_min_value": null,
       "_model_module": "ipytone",
       "_model_module_version": "^0.4.1",
       "_model_name": "ParamModel",
       "_swappable": false,
       "_units": "frequency",
       "_view_count": null,
       "_view_module": null,
       "_view_module_version": "",
       "_view_name": null,
       "convert": true,
       "name": "",
       "overridden": false,
       "value": 1000
      }
     },
     "e98e47557cd54b77862b811092499651": {
      "model_module": "ipytone",
      "model_module_version": "^0.4.1",
      "model_name": "InternalAudioNodeModel",
      "state": {
       "_create_node": false,
       "_disposed": true,
       "_input": null,
       "_model_module": "ipytone",
       "_model_module_version": "^0.4.1",
       "_model_name": "InternalAudioNodeModel",
       "_n_inputs": 1,
       "_n_outputs": 1,
       "_output": null,
       "_set_node_channels": true,
       "_view_count": null,
       "_view_module": null,
       "_view_module_version": "",
       "_view_name": null,
       "channel_count": 2,
       "channel_count_mode": "max",
       "channel_interpretation": "speakers",
       "name": "",
       "type": "ToneConstantSource"
      }
     },
     "ed82ffa0b0ae4ed98ba6d7f84d096c86": {
      "model_module": "ipytone",
      "model_module_version": "^0.4.1",
      "model_name": "AudioGraphModel",
      "state": {
       "_connections": [],
       "_model_module": "ipytone",
       "_model_module_version": "^0.4.1",
       "_model_name": "AudioGraphModel",
       "_view_count": null,
       "_view_module": null,
       "_view_module_version": "",
       "_view_name": null
      }
     },
     "eeeb5249b8b84d84ab7fa1b108e238a9": {
      "model_module": "ipytone",
      "model_module_version": "^0.4.1",
      "model_name": "SignalModel",
      "state": {
       "_create_node": false,
       "_disposed": true,
       "_input": "IPY_MODEL_e1a62544ed334c128075df3457f4659b",
       "_model_module": "ipytone",
       "_model_module_version": "^0.4.1",
       "_model_name": "SignalModel",
       "_output": "IPY_MODEL_9789833386bc4baf8dae509fa7c8c885",
       "_override": true,
       "_set_node_channels": true,
       "_view_count": null,
       "_view_module": null,
       "_view_module_version": "",
       "_view_name": null,
       "channel_count": 2,
       "channel_count_mode": "max",
       "channel_interpretation": "speakers",
       "name": "",
       "value": 1000
      }
     },
     "ef429355ca4c4fc4894b11d68ce3c838": {
      "model_module": "ipytone",
      "model_module_version": "^0.4.1",
      "model_name": "NativeAudioParamModel",
      "state": {
       "_model_module": "ipytone",
       "_model_module_version": "^0.4.1",
       "_model_name": "NativeAudioParamModel",
       "_view_count": null,
       "_view_module": null,
       "_view_module_version": "",
       "_view_name": null,
       "type": ""
      }
     },
     "f8093872b1094ca9ac57e2017df53fbb": {
      "model_module": "ipytone",
      "model_module_version": "^0.4.1",
      "model_name": "NativeAudioParamModel",
      "state": {
       "_model_module": "ipytone",
       "_model_module_version": "^0.4.1",
       "_model_name": "NativeAudioParamModel",
       "_view_count": null,
       "_view_module": null,
       "_view_module_version": "",
       "_view_name": null,
       "type": ""
      }
     },
     "fd29270946b440159a0ca1ab0be4c1ed": {
      "model_module": "ipytone",
      "model_module_version": "^0.4.1",
      "model_name": "InternalAudioNodeModel",
      "state": {
       "_create_node": false,
       "_disposed": true,
       "_input": null,
       "_model_module": "ipytone",
       "_model_module_version": "^0.4.1",
       "_model_name": "InternalAudioNodeModel",
       "_n_inputs": 1,
       "_n_outputs": 1,
       "_output": null,
       "_set_node_channels": true,
       "_view_count": null,
       "_view_module": null,
       "_view_module_version": "",
       "_view_name": null,
       "channel_count": 2,
       "channel_count_mode": "max",
       "channel_interpretation": "speakers",
       "name": "",
       "type": "ToneConstantSource"
      }
     },
     "fed219fff0004ac18629f4c4db37b06b": {
      "model_module": "ipytone",
      "model_module_version": "^0.4.1",
      "model_name": "GainModel",
      "state": {
       "_create_node": false,
       "_disposed": true,
       "_gain": "IPY_MODEL_1785d8e508384dd88854f9fde9322801",
       "_input": "IPY_MODEL_2548049cc2c64b60816c9b6c66de3ec8",
       "_model_module": "ipytone",
       "_model_module_version": "^0.4.1",
       "_model_name": "GainModel",
       "_output": "IPY_MODEL_2548049cc2c64b60816c9b6c66de3ec8",
       "_set_node_channels": true,
       "_view_count": null,
       "_view_module": null,
       "_view_module_version": "",
       "_view_name": null,
       "channel_count": 2,
       "channel_count_mode": "max",
       "channel_interpretation": "speakers",
       "name": ""
      }
     }
    },
    "version_major": 2,
    "version_minor": 0
   }
  }
 },
 "nbformat": 4,
 "nbformat_minor": 5
}
